{
 "cells": [
  {
   "cell_type": "code",
   "execution_count": 1,
   "metadata": {},
   "outputs": [],
   "source": [
    "import pandas as pd\n",
    "import datetime\n",
    "from datetime import timedelta\n",
    "from datetime import datetime"
   ]
  },
  {
   "cell_type": "code",
   "execution_count": 2,
   "metadata": {},
   "outputs": [],
   "source": [
    "df_orig=pd.read_excel(\"master_file_final.xlsx\")\n",
    "# confine the year range 2010-2021\n",
    "df=df_orig[(df_orig['TxStartDt'].dt.year <= 2021)&(df_orig['TxStartDt'].dt.year>=2010)]"
   ]
  },
  {
   "cell_type": "code",
   "execution_count": 3,
   "metadata": {},
   "outputs": [
    {
     "data": {
      "text/plain": [
       "array(['LUNG', 'GENITOURINARY(GU)', 'GI LOWER', 'GYNAE', 'BREAST',\n",
       "       'GI UPPER', 'ENT (HEAD & NECK)', 'Oligomets', 'LYMPHOMA', 'CNS',\n",
       "       'SARCOMA', 'SKIN', 'ENDOCRINE', 'EYE', 'Unknown', 'PAEDIATRIC',\n",
       "       'PAIN', nan], dtype=object)"
      ]
     },
     "execution_count": 3,
     "metadata": {},
     "output_type": "execute_result"
    }
   ],
   "source": [
    "df['SiteGroup'].unique()"
   ]
  },
  {
   "cell_type": "code",
   "execution_count": 5,
   "metadata": {},
   "outputs": [
    {
     "data": {
      "text/html": [
       "<div>\n",
       "<style scoped>\n",
       "    .dataframe tbody tr th:only-of-type {\n",
       "        vertical-align: middle;\n",
       "    }\n",
       "\n",
       "    .dataframe tbody tr th {\n",
       "        vertical-align: top;\n",
       "    }\n",
       "\n",
       "    .dataframe thead th {\n",
       "        text-align: right;\n",
       "    }\n",
       "</style>\n",
       "<table border=\"1\" class=\"dataframe\">\n",
       "  <thead>\n",
       "    <tr style=\"text-align: right;\">\n",
       "      <th></th>\n",
       "      <th>Unnamed: 0</th>\n",
       "      <th>YearMonth</th>\n",
       "      <th>Total</th>\n",
       "      <th>LUNG</th>\n",
       "      <th>GENITOURINARY(GU)</th>\n",
       "      <th>GI LOWER</th>\n",
       "      <th>GYNAE</th>\n",
       "      <th>GI UPPER</th>\n",
       "      <th>BREAST</th>\n",
       "      <th>ENT (HEAD &amp; NECK)</th>\n",
       "      <th>Oligomets</th>\n",
       "      <th>LYMPHOMA</th>\n",
       "      <th>CNS</th>\n",
       "      <th>SARCOMA</th>\n",
       "      <th>SKIN</th>\n",
       "      <th>ENDOCRINE</th>\n",
       "      <th>EYE</th>\n",
       "      <th>Unknown</th>\n",
       "      <th>PAEDIATRIC</th>\n",
       "      <th>PAIN</th>\n",
       "    </tr>\n",
       "  </thead>\n",
       "  <tbody>\n",
       "    <tr>\n",
       "      <th>0</th>\n",
       "      <td>0</td>\n",
       "      <td>2010-01-01</td>\n",
       "      <td>316</td>\n",
       "      <td>60</td>\n",
       "      <td>36</td>\n",
       "      <td>16</td>\n",
       "      <td>19</td>\n",
       "      <td>18</td>\n",
       "      <td>54</td>\n",
       "      <td>30</td>\n",
       "      <td>0.0</td>\n",
       "      <td>24</td>\n",
       "      <td>27</td>\n",
       "      <td>9</td>\n",
       "      <td>9.0</td>\n",
       "      <td>4</td>\n",
       "      <td>5.0</td>\n",
       "      <td>0.0</td>\n",
       "      <td>5</td>\n",
       "      <td>0.0</td>\n",
       "    </tr>\n",
       "    <tr>\n",
       "      <th>1</th>\n",
       "      <td>1</td>\n",
       "      <td>2010-02-01</td>\n",
       "      <td>419</td>\n",
       "      <td>59</td>\n",
       "      <td>64</td>\n",
       "      <td>15</td>\n",
       "      <td>20</td>\n",
       "      <td>21</td>\n",
       "      <td>78</td>\n",
       "      <td>49</td>\n",
       "      <td>0.0</td>\n",
       "      <td>42</td>\n",
       "      <td>34</td>\n",
       "      <td>20</td>\n",
       "      <td>5.0</td>\n",
       "      <td>3</td>\n",
       "      <td>2.0</td>\n",
       "      <td>0.0</td>\n",
       "      <td>7</td>\n",
       "      <td>0.0</td>\n",
       "    </tr>\n",
       "    <tr>\n",
       "      <th>2</th>\n",
       "      <td>2</td>\n",
       "      <td>2010-03-01</td>\n",
       "      <td>456</td>\n",
       "      <td>61</td>\n",
       "      <td>63</td>\n",
       "      <td>23</td>\n",
       "      <td>23</td>\n",
       "      <td>33</td>\n",
       "      <td>82</td>\n",
       "      <td>62</td>\n",
       "      <td>0.0</td>\n",
       "      <td>34</td>\n",
       "      <td>49</td>\n",
       "      <td>9</td>\n",
       "      <td>6.0</td>\n",
       "      <td>7</td>\n",
       "      <td>0.0</td>\n",
       "      <td>0.0</td>\n",
       "      <td>4</td>\n",
       "      <td>0.0</td>\n",
       "    </tr>\n",
       "    <tr>\n",
       "      <th>3</th>\n",
       "      <td>3</td>\n",
       "      <td>2010-04-01</td>\n",
       "      <td>427</td>\n",
       "      <td>69</td>\n",
       "      <td>46</td>\n",
       "      <td>15</td>\n",
       "      <td>18</td>\n",
       "      <td>23</td>\n",
       "      <td>77</td>\n",
       "      <td>58</td>\n",
       "      <td>0.0</td>\n",
       "      <td>50</td>\n",
       "      <td>32</td>\n",
       "      <td>13</td>\n",
       "      <td>8.0</td>\n",
       "      <td>3</td>\n",
       "      <td>4.0</td>\n",
       "      <td>0.0</td>\n",
       "      <td>11</td>\n",
       "      <td>0.0</td>\n",
       "    </tr>\n",
       "    <tr>\n",
       "      <th>4</th>\n",
       "      <td>4</td>\n",
       "      <td>2010-05-01</td>\n",
       "      <td>446</td>\n",
       "      <td>77</td>\n",
       "      <td>67</td>\n",
       "      <td>19</td>\n",
       "      <td>15</td>\n",
       "      <td>26</td>\n",
       "      <td>99</td>\n",
       "      <td>33</td>\n",
       "      <td>0.0</td>\n",
       "      <td>37</td>\n",
       "      <td>31</td>\n",
       "      <td>11</td>\n",
       "      <td>8.0</td>\n",
       "      <td>8</td>\n",
       "      <td>6.0</td>\n",
       "      <td>0.0</td>\n",
       "      <td>9</td>\n",
       "      <td>0.0</td>\n",
       "    </tr>\n",
       "  </tbody>\n",
       "</table>\n",
       "</div>"
      ],
      "text/plain": [
       "   Unnamed: 0  YearMonth  Total  LUNG  GENITOURINARY(GU)  GI LOWER  GYNAE  \\\n",
       "0           0 2010-01-01    316    60                 36        16     19   \n",
       "1           1 2010-02-01    419    59                 64        15     20   \n",
       "2           2 2010-03-01    456    61                 63        23     23   \n",
       "3           3 2010-04-01    427    69                 46        15     18   \n",
       "4           4 2010-05-01    446    77                 67        19     15   \n",
       "\n",
       "   GI UPPER  BREAST  ENT (HEAD & NECK)  Oligomets  LYMPHOMA  CNS  SARCOMA  \\\n",
       "0        18      54                 30        0.0        24   27        9   \n",
       "1        21      78                 49        0.0        42   34       20   \n",
       "2        33      82                 62        0.0        34   49        9   \n",
       "3        23      77                 58        0.0        50   32       13   \n",
       "4        26      99                 33        0.0        37   31       11   \n",
       "\n",
       "   SKIN  ENDOCRINE  EYE  Unknown  PAEDIATRIC  PAIN  \n",
       "0   9.0          4  5.0      0.0           5   0.0  \n",
       "1   5.0          3  2.0      0.0           7   0.0  \n",
       "2   6.0          7  0.0      0.0           4   0.0  \n",
       "3   8.0          3  4.0      0.0          11   0.0  \n",
       "4   8.0          8  6.0      0.0           9   0.0  "
      ]
     },
     "execution_count": 5,
     "metadata": {},
     "output_type": "execute_result"
    }
   ],
   "source": [
    "df_sites = pd.read_excel(\"AllNumArrival.xlsx\")\n",
    "df_sites.fillna(0, inplace=True)\n",
    "df_sites.head()\n"
   ]
  },
  {
   "cell_type": "code",
   "execution_count": null,
   "metadata": {},
   "outputs": [],
   "source": [
    "# percentage of emergency 1 patients per site group, over time\n",
    "\n"
   ]
  },
  {
   "cell_type": "code",
   "execution_count": null,
   "metadata": {},
   "outputs": [],
   "source": [
    "# count total arrivals by months\n",
    "df_count_all = df.groupby([df['TxStartDt'].dt.year.rename('Year'), \n",
    "                           df['TxStartDt'].dt.month.rename('Month')]).count().reset_index()\n",
    "df_count_all = df_count_all[['Year','Month','MRN']]\n",
    "df_count_all['dateInt']= df_count_all['Year'].astype(str) + df_count_all['Month'].astype(str).str.zfill(2)\n",
    "df_count_all['YearMonth'] = pd.to_datetime(df_count_all['dateInt'], format='%Y%m')\n",
    "\n",
    "#df_count_all.set_index('YearMonth', inplace=True)\n",
    "#df_count_all = df_count_all['MRN']\n",
    "df_count_all.rename(columns={'MRN':'Total'}, inplace = True)\n",
    "df_count_all = df_count_all[['YearMonth','Total']]"
   ]
  },
  {
   "cell_type": "code",
   "execution_count": null,
   "metadata": {},
   "outputs": [],
   "source": [
    "df_count = df.groupby([df['TxStartDt'].dt.year.rename('Year').rename('Year'),\n",
    "                      df['TxStartDt'].dt.month.rename('Month')]).count().reset_index()\n"
   ]
  },
  {
   "cell_type": "code",
   "execution_count": null,
   "metadata": {},
   "outputs": [],
   "source": [
    "df_count"
   ]
  },
  {
   "cell_type": "code",
   "execution_count": null,
   "metadata": {},
   "outputs": [],
   "source": [
    "# count by Category and Sitegroup\n",
    "df_count = df.groupby([df['TxStartDt'].dt.year.rename('Year'), \n",
    "                       df['TxStartDt'].dt.month.rename('Month'),\n",
    "                       df['Category_x'].rename('Category')#,\n",
    "                       #df['Sitegroup_y'].rename('Sitegroup')\n",
    "                      ]).count().reset_index()\n",
    "df_count = df_count[['Year','Month','Category','SiteGroup','MRN']]"
   ]
  },
  {
   "cell_type": "code",
   "execution_count": null,
   "metadata": {},
   "outputs": [],
   "source": [
    "# count total number by Sitegroup only\n",
    "df_count_sitegroup = df.groupby([df['TxStartDt'].dt.year.rename('Year'), \n",
    "                       df['TxStartDt'].dt.month.rename('Month'),\n",
    "                       df['Sitegroup_y'].rename('Sitegroup')]).count().reset_index()\n",
    "df_count_sitegroup = df_count_sitegroup[['Year','Month','Sitegroup','MRN']]\n",
    "\n",
    "### reset year-month format and set it as the index\n",
    "df_count_sitegroup['dateInt']= df_count_sitegroup['Year'].astype(str) + df_count_sitegroup['Month'].astype(str).str.zfill(2)\n",
    "df_count_sitegroup['YearMonth'] = pd.to_datetime(df_count_sitegroup['dateInt'], format='%Y%m')\n",
    "#df_count_sitegroup.set_index('YearMonth', inplace=True)"
   ]
  },
  {
   "cell_type": "code",
   "execution_count": null,
   "metadata": {},
   "outputs": [],
   "source": [
    "### BREAST patients\n",
    "site = 'BREAST'\n",
    "df_breast = df_count_sitegroup[df_count_sitegroup['Sitegroup']==site]\n",
    "df_breast = df_breast[['Sitegroup','MRN']]\n",
    "df_breast.rename(columns={\"MRN\":site}, inplace = True)\n",
    "\n",
    "df_test = df_count_all.merge(df_breast, on='YearMonth', how='left')"
   ]
  },
  {
   "cell_type": "code",
   "execution_count": null,
   "metadata": {},
   "outputs": [],
   "source": []
  },
  {
   "cell_type": "code",
   "execution_count": null,
   "metadata": {},
   "outputs": [],
   "source": [
    "### create excel writer\n",
    "writer = pd.ExcelWriter('AllNumArrival.xlsx')\n",
    "# write dataframe to excel sheet named 'marks'\n",
    "result.to_excel(writer, \"all\")\n",
    "# save the excel file\n",
    "writer.save()\n",
    "print('DataFrame is written successfully to Excel Sheet.')"
   ]
  }
 ],
 "metadata": {
  "kernelspec": {
   "display_name": "Python 3",
   "language": "python",
   "name": "python3"
  },
  "language_info": {
   "codemirror_mode": {
    "name": "ipython",
    "version": 3
   },
   "file_extension": ".py",
   "mimetype": "text/x-python",
   "name": "python",
   "nbconvert_exporter": "python",
   "pygments_lexer": "ipython3",
   "version": "3.8.3"
  }
 },
 "nbformat": 4,
 "nbformat_minor": 4
}
