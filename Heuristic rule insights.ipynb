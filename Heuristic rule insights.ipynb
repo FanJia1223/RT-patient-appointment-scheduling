{
 "cells": [
  {
   "cell_type": "code",
   "execution_count": 1,
   "id": "6adf3195",
   "metadata": {},
   "outputs": [],
   "source": [
    "import pandas as pd\n",
    "import matplotlib.pyplot as plt"
   ]
  },
  {
   "cell_type": "code",
   "execution_count": 123,
   "id": "15dc32d1",
   "metadata": {},
   "outputs": [],
   "source": [
    "#df1 = pd.read_excel('record_CT_201912_202003_batching.xlsx')\n",
    "#df2 = pd.read_excel('record_201912_202003_80p_Batching_3d.xlsx')\n",
    "#df3 = pd.read_excel('ins_2020_part3_batching.xlsx')"
   ]
  },
  {
   "cell_type": "code",
   "execution_count": 88,
   "id": "708d77b6",
   "metadata": {},
   "outputs": [],
   "source": [
    "df1=pd.read_excel('record_201912_202003_80p_Batching_3d_singleobj_80p_CT.xlsx')\n",
    "df_site = pd.read_excel('ins_2018_2020_part2_QuantileRules.xlsx')\n"
   ]
  },
  {
   "cell_type": "code",
   "execution_count": 89,
   "id": "73793ddd",
   "metadata": {},
   "outputs": [
    {
     "data": {
      "text/plain": [
       "(1041, 11)"
      ]
     },
     "execution_count": 89,
     "metadata": {},
     "output_type": "execute_result"
    }
   ],
   "source": [
    "df1.shape"
   ]
  },
  {
   "cell_type": "code",
   "execution_count": 90,
   "id": "af3df3b5",
   "metadata": {},
   "outputs": [
    {
     "data": {
      "text/plain": [
       "Index(['Unnamed: 0', 'MRN', 'Category', 'Intent', 'CreatedDate',\n",
       "       'ModelWaitTime', 'CTWait', 'CTUnit', 'LinacUnit', 'TxDuration',\n",
       "       'numFracs', 'SiteGroup', 'Intent1', 'Category_x', 'SimApptDuration',\n",
       "       'TltDose', 'TxFracs', 'TxApptDuration', 'TxUnit', 'Team', 'CT',\n",
       "       'linacs', 'TxStartDt', 'WaitTime', 'WaitTime(weekday)', 'priority',\n",
       "       'targetWait', 'OverTargetWait', 'CreatedDay', 'Contr75p', 'Contr80p',\n",
       "       'Contr90p', 'ContrM', 'Plan75p', 'Plan80p', 'Plan90p', 'PlanM',\n",
       "       'preTxDays_75', 'preTxDays_80', 'preTxDays_90'],\n",
       "      dtype='object')"
      ]
     },
     "execution_count": 90,
     "metadata": {},
     "output_type": "execute_result"
    }
   ],
   "source": [
    "df = df1.merge(df_site, on=['MRN','CreatedDate'], how='left')\n",
    "df.columns"
   ]
  },
  {
   "cell_type": "code",
   "execution_count": 91,
   "id": "efa80075",
   "metadata": {},
   "outputs": [
    {
     "data": {
      "text/plain": [
       "(1041, 40)"
      ]
     },
     "execution_count": 91,
     "metadata": {},
     "output_type": "execute_result"
    }
   ],
   "source": [
    "df.shape"
   ]
  },
  {
   "cell_type": "code",
   "execution_count": null,
   "id": "9f425809",
   "metadata": {},
   "outputs": [],
   "source": []
  },
  {
   "cell_type": "code",
   "execution_count": 125,
   "id": "57888d2f",
   "metadata": {},
   "outputs": [],
   "source": [
    "#df=df.merge(df3, on=['MRN','CreatedDate'])[['MRN', 'SiteGroup', 'Category', 'Intent', 'CreatedDate', 'ModelWaitTime', 'CTUnit',\n",
    "#       'LinacUnit', 'TxDuration', 'numFracs', 'CTWait']]"
   ]
  },
  {
   "cell_type": "code",
   "execution_count": 92,
   "id": "594ec078",
   "metadata": {},
   "outputs": [],
   "source": [
    "sitegroups = df['SiteGroup'].unique()"
   ]
  },
  {
   "cell_type": "code",
   "execution_count": 93,
   "id": "73f8f2af",
   "metadata": {},
   "outputs": [],
   "source": [
    "categories = df['Category'].unique()"
   ]
  },
  {
   "cell_type": "code",
   "execution_count": 94,
   "id": "bfabf1e5",
   "metadata": {},
   "outputs": [],
   "source": [
    "intents = df['Intent'].unique()"
   ]
  },
  {
   "cell_type": "code",
   "execution_count": 61,
   "id": "7cd4404d",
   "metadata": {},
   "outputs": [
    {
     "data": {
      "text/plain": [
       "array(['GENITOURINARY(GU)', 'BREAST', 'SARCOMA', 'ENT (HEAD & NECK)',\n",
       "       'LUNG', 'CNS', 'LYMPHOMA', 'GI LOWER', 'GI UPPER', 'GYNAE',\n",
       "       'ENDOCRINE', 'EYE', 'SKIN', 'PAEDIATRIC'], dtype=object)"
      ]
     },
     "execution_count": 61,
     "metadata": {},
     "output_type": "execute_result"
    }
   ],
   "source": [
    "sitegroups"
   ]
  },
  {
   "cell_type": "code",
   "execution_count": 30,
   "id": "505bab4a",
   "metadata": {},
   "outputs": [
    {
     "data": {
      "image/png": "[encoded data removed]",
      "text/plain": [
       "<Figure size 432x288 with 1 Axes>"
      ]
     },
     "metadata": {
      "needs_background": "light"
     },
     "output_type": "display_data"
    }
   ],
   "source": [
    "site = 'PAEDIATRIC'\n",
    "cate = 'Urgent 2'\n",
    "y = df[(df['SiteGroup']==site)&(df['Category']== cate)&(df['Intent']=='Palliative')]['CTWait']\n",
    "y1 = df[(df['SiteGroup']==site)&(df['Category']==cate)&(df['Intent']=='Radical')]['CTWait']\n",
    "y2 = df[(df['SiteGroup']==site)&(df['Category']==cate)&(df['Intent']=='Complex Palliation')]['CTWait']\n",
    "data = [y, y2, y1]\n",
    "#fig7, ax7 = plt.subplots()\n",
    "#plt.set_title('Urgent Breast Patients with Different Intents')\n",
    "plt.boxplot(data)\n",
    "plt.title('Urgent Breast Patients with Different Intents')\n",
    "plt.xticks([1, 2, 3], ['Palliative', 'Complex Palliation','Radical'])\n",
    "plt.show()"
   ]
  },
  {
   "cell_type": "code",
   "execution_count": 95,
   "id": "25471367",
   "metadata": {},
   "outputs": [
    {
     "data": {
      "text/html": [
       "<div>\n",
       "<style scoped>\n",
       "    .dataframe tbody tr th:only-of-type {\n",
       "        vertical-align: middle;\n",
       "    }\n",
       "\n",
       "    .dataframe tbody tr th {\n",
       "        vertical-align: top;\n",
       "    }\n",
       "\n",
       "    .dataframe thead th {\n",
       "        text-align: right;\n",
       "    }\n",
       "</style>\n",
       "<table border=\"1\" class=\"dataframe\">\n",
       "  <thead>\n",
       "    <tr style=\"text-align: right;\">\n",
       "      <th></th>\n",
       "      <th>sitegroup</th>\n",
       "      <th>category</th>\n",
       "      <th>intent</th>\n",
       "      <th>CTWait</th>\n",
       "    </tr>\n",
       "  </thead>\n",
       "  <tbody>\n",
       "    <tr>\n",
       "      <th>0</th>\n",
       "      <td>GENITOURINARY(GU)</td>\n",
       "      <td>Urgent 2</td>\n",
       "      <td>Palliative</td>\n",
       "      <td>1.985915</td>\n",
       "    </tr>\n",
       "    <tr>\n",
       "      <th>1</th>\n",
       "      <td>GENITOURINARY(GU)</td>\n",
       "      <td>Urgent 2</td>\n",
       "      <td>Radical</td>\n",
       "      <td>4.050000</td>\n",
       "    </tr>\n",
       "    <tr>\n",
       "      <th>2</th>\n",
       "      <td>GENITOURINARY(GU)</td>\n",
       "      <td>Urgent 2</td>\n",
       "      <td>Complex Palliation</td>\n",
       "      <td>2.228571</td>\n",
       "    </tr>\n",
       "    <tr>\n",
       "      <th>3</th>\n",
       "      <td>GENITOURINARY(GU)</td>\n",
       "      <td>Standard 3</td>\n",
       "      <td>Palliative</td>\n",
       "      <td>2.955882</td>\n",
       "    </tr>\n",
       "    <tr>\n",
       "      <th>4</th>\n",
       "      <td>GENITOURINARY(GU)</td>\n",
       "      <td>Standard 3</td>\n",
       "      <td>Radical</td>\n",
       "      <td>3.098456</td>\n",
       "    </tr>\n",
       "    <tr>\n",
       "      <th>...</th>\n",
       "      <td>...</td>\n",
       "      <td>...</td>\n",
       "      <td>...</td>\n",
       "      <td>...</td>\n",
       "    </tr>\n",
       "    <tr>\n",
       "      <th>79</th>\n",
       "      <td>PAEDIATRIC</td>\n",
       "      <td>Urgent 2</td>\n",
       "      <td>Radical</td>\n",
       "      <td>4.050000</td>\n",
       "    </tr>\n",
       "    <tr>\n",
       "      <th>80</th>\n",
       "      <td>PAEDIATRIC</td>\n",
       "      <td>Urgent 2</td>\n",
       "      <td>Complex Palliation</td>\n",
       "      <td>2.228571</td>\n",
       "    </tr>\n",
       "    <tr>\n",
       "      <th>81</th>\n",
       "      <td>PAEDIATRIC</td>\n",
       "      <td>Standard 3</td>\n",
       "      <td>Palliative</td>\n",
       "      <td>2.955882</td>\n",
       "    </tr>\n",
       "    <tr>\n",
       "      <th>82</th>\n",
       "      <td>PAEDIATRIC</td>\n",
       "      <td>Standard 3</td>\n",
       "      <td>Radical</td>\n",
       "      <td>3.098456</td>\n",
       "    </tr>\n",
       "    <tr>\n",
       "      <th>83</th>\n",
       "      <td>PAEDIATRIC</td>\n",
       "      <td>Standard 3</td>\n",
       "      <td>Complex Palliation</td>\n",
       "      <td>2.840336</td>\n",
       "    </tr>\n",
       "  </tbody>\n",
       "</table>\n",
       "<p>84 rows × 4 columns</p>\n",
       "</div>"
      ],
      "text/plain": [
       "            sitegroup    category              intent    CTWait\n",
       "0   GENITOURINARY(GU)    Urgent 2          Palliative  1.985915\n",
       "1   GENITOURINARY(GU)    Urgent 2             Radical  4.050000\n",
       "2   GENITOURINARY(GU)    Urgent 2  Complex Palliation  2.228571\n",
       "3   GENITOURINARY(GU)  Standard 3          Palliative  2.955882\n",
       "4   GENITOURINARY(GU)  Standard 3             Radical  3.098456\n",
       "..                ...         ...                 ...       ...\n",
       "79         PAEDIATRIC    Urgent 2             Radical  4.050000\n",
       "80         PAEDIATRIC    Urgent 2  Complex Palliation  2.228571\n",
       "81         PAEDIATRIC  Standard 3          Palliative  2.955882\n",
       "82         PAEDIATRIC  Standard 3             Radical  3.098456\n",
       "83         PAEDIATRIC  Standard 3  Complex Palliation  2.840336\n",
       "\n",
       "[84 rows x 4 columns]"
      ]
     },
     "execution_count": 95,
     "metadata": {},
     "output_type": "execute_result"
    }
   ],
   "source": [
    "df_CT_all = pd.DataFrame(columns=['sitegroup','category','intent','CTWait'])\n",
    "# fill in df_CT_all with avg of [category, intent] group\n",
    "for s in sitegroups:\n",
    "    for c in categories:\n",
    "        for i in intents:\n",
    "            avg = df[(df['Category']==c)&(df['Intent']==i)]['CTWait'].mean()\n",
    "            series_obj = pd.Series([s, c, i, avg], index=df_CT_all.columns )\n",
    "            df_CT_all = df_CT_all.append(series_obj, ignore_index=True)\n",
    "df_CT_all"
   ]
  },
  {
   "cell_type": "code",
   "execution_count": 96,
   "id": "0de0ebb2",
   "metadata": {},
   "outputs": [],
   "source": [
    "import math\n",
    "#list_CTWait = []\n",
    "df_CT = df_CT_all\n",
    "for s in sitegroups:\n",
    "    for c in categories:\n",
    "        for i in intents:\n",
    "            ctWait = df[(df['SiteGroup']==s)&(df['Category']==c)&(df['Intent']==i)]['CTWait'].mean()\n",
    "            #list_CTWait.append([s,c,i,ctWait])\n",
    "            if math.isnan(ctWait)==False:\n",
    "                df_CT.loc[(df_CT['sitegroup']==s)&(df_CT['category']==c)&(df_CT['intent']==i), \n",
    "                          ['CTWait']] = ctWait\n",
    "df_CT           \n",
    "#df_CT = pd.DataFrame(list_CTWait, columns=['sitegroup','category','intent','ctWait'])\n",
    "df_CT.to_excel('heuristics_CTWait_mean_MIP.xlsx')"
   ]
  },
  {
   "cell_type": "code",
   "execution_count": 97,
   "id": "422b62a7",
   "metadata": {},
   "outputs": [],
   "source": [
    "df_total_all = pd.DataFrame(columns=['sitegroup','category','intent','totalWait'])\n",
    "# fill in df_CT_all with avg of [category, intent] group\n",
    "for s in sitegroups:\n",
    "    for c in categories:\n",
    "        for i in intents:\n",
    "            avg = df[(df['Category']==c)&(df['Intent']==i)]['ModelWaitTime'].mean()\n",
    "            series_obj = pd.Series([s, c, i, avg], index = df_total_all.columns)\n",
    "            df_total_all = df_total_all.append(series_obj, ignore_index=True)"
   ]
  },
  {
   "cell_type": "code",
   "execution_count": 98,
   "id": "35048494",
   "metadata": {},
   "outputs": [],
   "source": [
    "#list_totalWait=[]\n",
    "df_total = df_total_all\n",
    "for s in sitegroups:\n",
    "    for c in categories:\n",
    "        for i in intents:\n",
    "            totalWait = df[(df['SiteGroup']==s)&(df['Category']==c)&(df['Intent']==i)]['ModelWaitTime'].mean()\n",
    "            #list_totalWait.append([s,c,i,totalWait])\n",
    "            if math.isnan(totalWait)==False:\n",
    "                df_total.loc[(df_total['sitegroup']==s)&(df_total['category']==c)&(df_total['intent']==i), \n",
    "                             ['totalWait']] = totalWait\n",
    "                \n",
    "#df_total = pd.DataFrame(list_totalWait, columns=['sitegroup','category','intent','totalWait'])\n",
    "df_total.to_excel('heuristics_totalWait_mean_MIP.xlsx')"
   ]
  },
  {
   "cell_type": "code",
   "execution_count": 79,
   "id": "e25e03a2",
   "metadata": {},
   "outputs": [
    {
     "data": {
      "image/png": "[encoded data removed]",
      "text/plain": [
       "<Figure size 432x288 with 1 Axes>"
      ]
     },
     "metadata": {
      "needs_background": "light"
     },
     "output_type": "display_data"
    }
   ],
   "source": [
    "y = df[(df['SiteGroup']=='BREAST')&(df['Category']=='Urgent 2')&(df['Intent']=='Palliative')]['ModelWaitTime']\n",
    "y1 = df[(df['SiteGroup']=='BREAST')&(df['Category']=='Urgent 2')&(df['Intent']=='Radical')]['ModelWaitTime']\n",
    "y2 = df[(df['SiteGroup']=='BREAST')&(df['Category']=='Urgent 2')&(df['Intent']=='Complex Palliation')]['ModelWaitTime']\n",
    "data = [y, y2, y1]\n",
    "#fig7, ax7 = plt.subplots()\n",
    "#plt.set_title('Urgent Breast Patients with Different Intents')\n",
    "plt.boxplot(data)\n",
    "plt.title('Urgent Breast Patients with Different Intents')\n",
    "plt.xticks([1, 2, 3], ['Palliative', 'Complex Palliation','Radical'])\n",
    "plt.show()"
   ]
  },
  {
   "cell_type": "code",
   "execution_count": 80,
   "id": "f86d2a57",
   "metadata": {},
   "outputs": [
    {
     "data": {
      "image/png": "[encoded data removed]",
      "text/plain": [
       "<Figure size 432x288 with 1 Axes>"
      ]
     },
     "metadata": {
      "needs_background": "light"
     },
     "output_type": "display_data"
    }
   ],
   "source": [
    "y = df[(df['SiteGroup']=='BREAST')&(df['Category']=='Standard 3')&(df['Intent']=='Palliative')]['ModelWaitTime']\n",
    "y1 = df[(df['SiteGroup']=='BREAST')&(df['Category']=='Standard 3')&(df['Intent']=='Radical')]['ModelWaitTime']\n",
    "y2 = df[(df['SiteGroup']=='BREAST')&(df['Category']=='Standard 3')&(df['Intent']=='Complex Palliation')]['ModelWaitTime']\n",
    "data = [y, y2, y1]\n",
    "#fig7, ax7 = plt.subplots()\n",
    "#plt.set_title('Urgent Breast Patients with Different Intents')\n",
    "plt.boxplot(data, showfliers=False)\n",
    "plt.title('Urgent Breast Patients with Different Intents')\n",
    "plt.xticks([1, 2, 3], ['Palliative', 'Complex Palliation','Radical'])\n",
    "plt.show()"
   ]
  },
  {
   "cell_type": "code",
   "execution_count": 81,
   "id": "c8f8085a",
   "metadata": {},
   "outputs": [
    {
     "data": {
      "image/png": "[encoded data removed]",
      "text/plain": [
       "<Figure size 432x288 with 1 Axes>"
      ]
     },
     "metadata": {
      "needs_background": "light"
     },
     "output_type": "display_data"
    }
   ],
   "source": [
    "y = df[(df['SiteGroup']=='ENT (HEAD & NECK)')&(df['Category']=='Urgent 2')&(df['Intent']=='Palliative')]['ModelWaitTime']\n",
    "y1 = df[(df['SiteGroup']=='ENT (HEAD & NECK)')&(df['Category']=='Urgent 2')&(df['Intent']=='Radical')]['ModelWaitTime']\n",
    "y2 = df[(df['SiteGroup']=='ENT (HEAD & NECK)')&(df['Category']=='Urgent 2')&(df['Intent']=='Complex Palliation')]['ModelWaitTime']\n",
    "data = [y, y2, y1]\n",
    "#fig7, ax7 = plt.subplots()\n",
    "#plt.set_title('Urgent Breast Patients with Different Intents')\n",
    "plt.boxplot(data)\n",
    "plt.title('Urgent ENT (HEAD & NECK) Patients with Different Intents')\n",
    "plt.xticks([1, 2, 3], ['Palliative', 'Complex Palliation','Radical'])\n",
    "plt.show()"
   ]
  },
  {
   "cell_type": "code",
   "execution_count": 82,
   "id": "8cc63a25",
   "metadata": {},
   "outputs": [
    {
     "data": {
      "image/png": "[encoded data removed]",
      "text/plain": [
       "<Figure size 432x288 with 1 Axes>"
      ]
     },
     "metadata": {
      "needs_background": "light"
     },
     "output_type": "display_data"
    }
   ],
   "source": [
    "y = df[(df['SiteGroup']=='ENT (HEAD & NECK)')&(df['Category']=='Standard 3')&(df['Intent']=='Palliative')]['ModelWaitTime']\n",
    "y1 = df[(df['SiteGroup']=='ENT (HEAD & NECK)')&(df['Category']=='Standard 3')&(df['Intent']=='Radical')]['ModelWaitTime']\n",
    "y2 = df[(df['SiteGroup']=='ENT (HEAD & NECK)')&(df['Category']=='Standard 3')&(df['Intent']=='Complex Palliation')]['ModelWaitTime']\n",
    "data = [y, y2, y1]\n",
    "#fig7, ax7 = plt.subplots()\n",
    "#plt.set_title('Urgent Breast Patients with Different Intents')\n",
    "plt.boxplot(data, showfliers=False)\n",
    "plt.title('Urgent Breast Patients with Different Intents')\n",
    "plt.xticks([1, 2, 3], ['Palliative', 'Complex Palliation','Radical'])\n",
    "plt.show()"
   ]
  },
  {
   "cell_type": "code",
   "execution_count": 38,
   "id": "c78db316",
   "metadata": {},
   "outputs": [
    {
     "data": {
      "image/png": "[encoded data removed]",
      "text/plain": [
       "<Figure size 432x288 with 1 Axes>"
      ]
     },
     "metadata": {
      "needs_background": "light"
     },
     "output_type": "display_data"
    }
   ],
   "source": [
    "y = df[(df['SiteGroup']=='GI LOWER')&(df['Category']=='Urgent 2')&(df['Intent']=='Palliative')]['ModelWaitTime']\n",
    "y1 = df[(df['SiteGroup']=='GI LOWER')&(df['Category']=='Urgent 2')&(df['Intent']=='Radical')]['ModelWaitTime']\n",
    "y2 = df[(df['SiteGroup']=='GI LOWER')&(df['Category']=='Urgent 2')&(df['Intent']=='Complex Palliation')]['ModelWaitTime']\n",
    "data = [y, y2, y1]\n",
    "#fig7, ax7 = plt.subplots()\n",
    "#plt.set_title('Urgent Breast Patients with Different Intents')\n",
    "plt.boxplot(data)\n",
    "plt.title('Urgent ENT (HEAD & NECK) Patients with Different Intents')\n",
    "plt.xticks([1, 2, 3], ['Palliative', 'Complex Palliation','Radical'])\n",
    "plt.show()"
   ]
  },
  {
   "cell_type": "code",
   "execution_count": 135,
   "id": "4264a9ef",
   "metadata": {},
   "outputs": [
    {
     "data": {
      "image/png": "[encoded data removed]",
      "text/plain": [
       "<Figure size 432x288 with 1 Axes>"
      ]
     },
     "metadata": {
      "needs_background": "light"
     },
     "output_type": "display_data"
    }
   ],
   "source": [
    "y = df[(df['SiteGroup']=='GI LOWER')&(df['Category']=='Standard 3')&(df['Intent']=='Palliative')]['ModelWaitTime']\n",
    "y1 = df[(df['SiteGroup']=='GI LOWER')&(df['Category']=='Standard 3')&(df['Intent']=='Radical')]['ModelWaitTime']\n",
    "y2 = df[(df['SiteGroup']=='GI LOWER')&(df['Category']=='Standard 3')&(df['Intent']=='Complex Palliation')]['ModelWaitTime']\n",
    "data = [y, y2, y1]\n",
    "#fig7, ax7 = plt.subplots()\n",
    "#plt.set_title('Urgent Breast Patients with Different Intents')\n",
    "plt.boxplot(data)\n",
    "plt.title('Urgent ENT (HEAD & NECK) Patients with Different Intents')\n",
    "plt.xticks([1, 2, 3], ['Palliative', 'Complex Palliation','Radical'])\n",
    "plt.show()"
   ]
  },
  {
   "cell_type": "code",
   "execution_count": 83,
   "id": "0ed0653d",
   "metadata": {},
   "outputs": [
    {
     "data": {
      "image/png": "[encoded data removed]",
      "text/plain": [
       "<Figure size 648x360 with 1 Axes>"
      ]
     },
     "metadata": {
      "needs_background": "light"
     },
     "output_type": "display_data"
    }
   ],
   "source": [
    "plt.figure(figsize=[9,5])\n",
    "bins = range(0,24)\n",
    "\n",
    "y = df['CTWait']\n",
    "plt.hist(y, bins = bins, alpha=0.5, edgecolor='black', align='left')\n",
    "\n",
    "plt.xlabel('wait time')\n",
    "plt.ylabel('frequency')\n",
    "plt.title('CT wait time distribution')\n",
    "plt.xticks(fontsize=10)\n",
    "plt.yticks(fontsize=10)\n",
    "\n",
    "plt.show()\n"
   ]
  },
  {
   "cell_type": "code",
   "execution_count": 40,
   "id": "0279996a",
   "metadata": {},
   "outputs": [
    {
     "data": {
      "text/plain": [
       "(array([605.,   0., 204.,   0.,   0.,  87.,   0.,   0.,  42.,   0.,  31.,\n",
       "          0.,   0.,  59.,   0.,  14.]),\n",
       " array([1.   , 1.375, 1.75 , 2.125, 2.5  , 2.875, 3.25 , 3.625, 4.   ,\n",
       "        4.375, 4.75 , 5.125, 5.5  , 5.875, 6.25 , 6.625, 7.   ]),\n",
       " <BarContainer object of 16 artists>)"
      ]
     },
     "execution_count": 40,
     "metadata": {},
     "output_type": "execute_result"
    },
    {
     "data": {
      "image/png": "[encoded data removed]",
      "text/plain": [
       "<Figure size 432x288 with 1 Axes>"
      ]
     },
     "metadata": {
      "needs_background": "light"
     },
     "output_type": "display_data"
    }
   ],
   "source": [
    "plt.hist(df['CTWait'], bins=16)\n"
   ]
  },
  {
   "cell_type": "code",
   "execution_count": null,
   "id": "3026d917",
   "metadata": {},
   "outputs": [],
   "source": []
  }
 ],
 "metadata": {
  "kernelspec": {
   "display_name": "Python 3",
   "language": "python",
   "name": "python3"
  },
  "language_info": {
   "codemirror_mode": {
    "name": "ipython",
    "version": 3
   },
   "file_extension": ".py",
   "mimetype": "text/x-python",
   "name": "python",
   "nbconvert_exporter": "python",
   "pygments_lexer": "ipython3",
   "version": "3.8.3"
  }
 },
 "nbformat": 4,
 "nbformat_minor": 5
}
