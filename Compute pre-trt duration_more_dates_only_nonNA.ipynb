{
 "cells": [
  {
   "cell_type": "code",
   "execution_count": 84,
   "metadata": {},
   "outputs": [],
   "source": [
    "import pandas as pd\n",
    "import datetime\n",
    "from datetime import timedelta\n",
    "from datetime import datetime\n",
    "import matplotlib.pyplot as plt\n",
    "import numpy as np\n",
    "from scipy import stats\n",
    "\n",
    "import seaborn as sns\n",
    "## for statistical tests\n",
    "import scipy\n",
    "import statsmodels.formula.api as smf\n",
    "import statsmodels.api as sm\n",
    "## for machine learning\n",
    "from sklearn import model_selection, preprocessing, feature_selection, ensemble, linear_model, metrics, decomposition\n",
    "## for explainer\n",
    "#from lime import lime_tabular\n",
    "from sklearn.metrics import mean_squared_\n",
    "error"
   ]
  },
  {
   "cell_type": "code",
   "execution_count": 2,
   "metadata": {},
   "outputs": [],
   "source": [
    "import warnings\n",
    "\n",
    "import pandas as pd\n",
    "from pandas.core.common import SettingWithCopyWarning\n",
    "\n",
    "warnings.simplefilter(action=\"ignore\", category=SettingWithCopyWarning)"
   ]
  },
  {
   "cell_type": "code",
   "execution_count": 3,
   "metadata": {},
   "outputs": [],
   "source": [
    "import warnings\n",
    "warnings.filterwarnings(\"ignore\", category=FutureWarning)\n"
   ]
  },
  {
   "cell_type": "code",
   "execution_count": 153,
   "metadata": {},
   "outputs": [
    {
     "data": {
      "text/plain": [
       "(44622, 82)"
      ]
     },
     "execution_count": 153,
     "metadata": {},
     "output_type": "execute_result"
    }
   ],
   "source": [
    "# read in master file\n",
    "df_orig=pd.read_excel(\"master_processed_1.xlsx\")\n",
    "# exclude planned delays & emergency\n",
    "df_orig=df_orig[df_orig['Category_x']!='Planned Delay 3']\n",
    "df_orig=df_orig[df_orig['Category_x']!='Emergency 1']\n",
    "df_orig.shape\n"
   ]
  },
  {
   "cell_type": "code",
   "execution_count": 5,
   "metadata": {},
   "outputs": [
    {
     "data": {
      "text/plain": [
       "array(['LUNG', 'GENITOURINARY(GU)', 'GI LOWER', 'BREAST', 'GI UPPER',\n",
       "       'GYNAE', 'Oligomets', 'LYMPHOMA', 'ENT (HEAD & NECK)', 'CNS',\n",
       "       'SARCOMA', 'SKIN', 'EYE', 'ENDOCRINE', 'Unknown', 'PAEDIATRIC',\n",
       "       'PAIN', nan], dtype=object)"
      ]
     },
     "execution_count": 5,
     "metadata": {},
     "output_type": "execute_result"
    }
   ],
   "source": [
    "df_orig['SiteGroup'].unique()\n"
   ]
  },
  {
   "cell_type": "code",
   "execution_count": 334,
   "metadata": {},
   "outputs": [
    {
     "data": {
      "text/html": [
       "<div>\n",
       "<style scoped>\n",
       "    .dataframe tbody tr th:only-of-type {\n",
       "        vertical-align: middle;\n",
       "    }\n",
       "\n",
       "    .dataframe tbody tr th {\n",
       "        vertical-align: top;\n",
       "    }\n",
       "\n",
       "    .dataframe thead th {\n",
       "        text-align: right;\n",
       "    }\n",
       "</style>\n",
       "<table border=\"1\" class=\"dataframe\">\n",
       "  <thead>\n",
       "    <tr style=\"text-align: right;\">\n",
       "      <th></th>\n",
       "      <th>Unnamed: 0</th>\n",
       "      <th>MRN</th>\n",
       "      <th>CreatedDate</th>\n",
       "      <th>SiteGroup</th>\n",
       "      <th>Intent1</th>\n",
       "      <th>Category_x</th>\n",
       "      <th>SimApptDuration</th>\n",
       "      <th>TltDose</th>\n",
       "      <th>TxFracs</th>\n",
       "      <th>TxApptDuration</th>\n",
       "      <th>TxUnit</th>\n",
       "      <th>Team</th>\n",
       "      <th>CT</th>\n",
       "      <th>linacs</th>\n",
       "      <th>TxStartDt</th>\n",
       "      <th>WaitTime</th>\n",
       "      <th>priority</th>\n",
       "      <th>targetWait</th>\n",
       "      <th>CreatedDay</th>\n",
       "    </tr>\n",
       "  </thead>\n",
       "  <tbody>\n",
       "    <tr>\n",
       "      <th>0</th>\n",
       "      <td>0</td>\n",
       "      <td>7287</td>\n",
       "      <td>2019-02-20</td>\n",
       "      <td>GENITOURINARY(GU)</td>\n",
       "      <td>Palliative</td>\n",
       "      <td>Urgent 2</td>\n",
       "      <td>30</td>\n",
       "      <td>1600</td>\n",
       "      <td>2</td>\n",
       "      <td>30</td>\n",
       "      <td>WV16</td>\n",
       "      <td>3</td>\n",
       "      <td>4</td>\n",
       "      <td>2, 9, 10, 15, 14</td>\n",
       "      <td>2019-02-21</td>\n",
       "      <td>1</td>\n",
       "      <td>10</td>\n",
       "      <td>3</td>\n",
       "      <td>0</td>\n",
       "    </tr>\n",
       "    <tr>\n",
       "      <th>1</th>\n",
       "      <td>1</td>\n",
       "      <td>7287</td>\n",
       "      <td>2019-05-29</td>\n",
       "      <td>GENITOURINARY(GU)</td>\n",
       "      <td>Palliative</td>\n",
       "      <td>Standard 3</td>\n",
       "      <td>30</td>\n",
       "      <td>2400</td>\n",
       "      <td>3</td>\n",
       "      <td>45</td>\n",
       "      <td>WA17</td>\n",
       "      <td>3</td>\n",
       "      <td>4</td>\n",
       "      <td>2, 9, 10, 15, 14</td>\n",
       "      <td>2019-06-05</td>\n",
       "      <td>7</td>\n",
       "      <td>1</td>\n",
       "      <td>10</td>\n",
       "      <td>0</td>\n",
       "    </tr>\n",
       "    <tr>\n",
       "      <th>2</th>\n",
       "      <td>2</td>\n",
       "      <td>7287</td>\n",
       "      <td>2019-07-31</td>\n",
       "      <td>GENITOURINARY(GU)</td>\n",
       "      <td>Palliative</td>\n",
       "      <td>Urgent 2</td>\n",
       "      <td>30</td>\n",
       "      <td>2500</td>\n",
       "      <td>10</td>\n",
       "      <td>30</td>\n",
       "      <td>WA17</td>\n",
       "      <td>3</td>\n",
       "      <td>4</td>\n",
       "      <td>2, 9, 10, 15, 14</td>\n",
       "      <td>2019-08-06</td>\n",
       "      <td>6</td>\n",
       "      <td>10</td>\n",
       "      <td>3</td>\n",
       "      <td>0</td>\n",
       "    </tr>\n",
       "    <tr>\n",
       "      <th>3</th>\n",
       "      <td>3</td>\n",
       "      <td>7287</td>\n",
       "      <td>2019-08-28</td>\n",
       "      <td>GENITOURINARY(GU)</td>\n",
       "      <td>Palliative</td>\n",
       "      <td>Urgent 2</td>\n",
       "      <td>30</td>\n",
       "      <td>1600</td>\n",
       "      <td>2</td>\n",
       "      <td>30</td>\n",
       "      <td>EA08</td>\n",
       "      <td>3</td>\n",
       "      <td>4</td>\n",
       "      <td>2, 9, 10, 15, 14</td>\n",
       "      <td>2019-08-29</td>\n",
       "      <td>1</td>\n",
       "      <td>10</td>\n",
       "      <td>3</td>\n",
       "      <td>0</td>\n",
       "    </tr>\n",
       "    <tr>\n",
       "      <th>4</th>\n",
       "      <td>7</td>\n",
       "      <td>111595</td>\n",
       "      <td>2019-04-23</td>\n",
       "      <td>GENITOURINARY(GU)</td>\n",
       "      <td>Radical</td>\n",
       "      <td>Standard 3</td>\n",
       "      <td>20</td>\n",
       "      <td>300</td>\n",
       "      <td>1</td>\n",
       "      <td>25</td>\n",
       "      <td>SV02</td>\n",
       "      <td>3</td>\n",
       "      <td>4</td>\n",
       "      <td>2, 9, 10, 15, 14</td>\n",
       "      <td>2019-05-08</td>\n",
       "      <td>15</td>\n",
       "      <td>1</td>\n",
       "      <td>10</td>\n",
       "      <td>0</td>\n",
       "    </tr>\n",
       "  </tbody>\n",
       "</table>\n",
       "</div>"
      ],
      "text/plain": [
       "   Unnamed: 0     MRN CreatedDate          SiteGroup     Intent1  Category_x  \\\n",
       "0           0    7287  2019-02-20  GENITOURINARY(GU)  Palliative    Urgent 2   \n",
       "1           1    7287  2019-05-29  GENITOURINARY(GU)  Palliative  Standard 3   \n",
       "2           2    7287  2019-07-31  GENITOURINARY(GU)  Palliative    Urgent 2   \n",
       "3           3    7287  2019-08-28  GENITOURINARY(GU)  Palliative    Urgent 2   \n",
       "4           7  111595  2019-04-23  GENITOURINARY(GU)     Radical  Standard 3   \n",
       "\n",
       "   SimApptDuration  TltDose  TxFracs  TxApptDuration TxUnit  Team CT  \\\n",
       "0               30     1600        2              30   WV16     3  4   \n",
       "1               30     2400        3              45   WA17     3  4   \n",
       "2               30     2500       10              30   WA17     3  4   \n",
       "3               30     1600        2              30   EA08     3  4   \n",
       "4               20      300        1              25   SV02     3  4   \n",
       "\n",
       "             linacs  TxStartDt  WaitTime  priority  targetWait  CreatedDay  \n",
       "0  2, 9, 10, 15, 14 2019-02-21         1        10           3           0  \n",
       "1  2, 9, 10, 15, 14 2019-06-05         7         1          10           0  \n",
       "2  2, 9, 10, 15, 14 2019-08-06         6        10           3           0  \n",
       "3  2, 9, 10, 15, 14 2019-08-29         1        10           3           0  \n",
       "4  2, 9, 10, 15, 14 2019-05-08        15         1          10           0  "
      ]
     },
     "execution_count": 334,
     "metadata": {},
     "output_type": "execute_result"
    }
   ],
   "source": [
    "# read in instance file\n",
    "df_ins = pd.read_excel(\"ins_2018_2020_part1.xlsx\")\n",
    "output_file_name = \"ins_2018_2020_part2.xlsx\"\n",
    "df_ins.head()\n"
   ]
  },
  {
   "cell_type": "code",
   "execution_count": 561,
   "metadata": {},
   "outputs": [
    {
     "data": {
      "text/plain": [
       "(7781, 82)"
      ]
     },
     "execution_count": 561,
     "metadata": {},
     "output_type": "execute_result"
    }
   ],
   "source": [
    "### most recent 6-month data\n",
    "#df1920 = df_orig[pd.to_datetime(df_orig['CreatedDate']).dt.year>=2019]\n",
    "df1920 = df_orig[(pd.to_datetime(df_orig['CreatedDate']).dt.date >= pd.to_datetime(\"2018-01-01\"))&\n",
    "                (pd.to_datetime(df_orig['CreatedDate']).dt.date <= pd.to_datetime(\"2019-12-01\"))]\n",
    "df1920.shape\n"
   ]
  },
  {
   "cell_type": "code",
   "execution_count": 514,
   "metadata": {},
   "outputs": [
    {
     "data": {
      "text/html": [
       "<div>\n",
       "<style scoped>\n",
       "    .dataframe tbody tr th:only-of-type {\n",
       "        vertical-align: middle;\n",
       "    }\n",
       "\n",
       "    .dataframe tbody tr th {\n",
       "        vertical-align: top;\n",
       "    }\n",
       "\n",
       "    .dataframe thead th {\n",
       "        text-align: right;\n",
       "    }\n",
       "</style>\n",
       "<table border=\"1\" class=\"dataframe\">\n",
       "  <thead>\n",
       "    <tr style=\"text-align: right;\">\n",
       "      <th></th>\n",
       "      <th>MRN</th>\n",
       "      <th>CreatedDate</th>\n",
       "      <th>CreatedTime</th>\n",
       "      <th>ActivatedDate</th>\n",
       "      <th>ActivatedTime</th>\n",
       "      <th>SiteGroup</th>\n",
       "      <th>Diagnosis</th>\n",
       "      <th>Category_x</th>\n",
       "      <th>PlanCreateDate</th>\n",
       "      <th>PlanCreateTime</th>\n",
       "      <th>...</th>\n",
       "      <th>ProgressRevWait</th>\n",
       "      <th>TimeBtw_ContourCompl_PlanReview</th>\n",
       "      <th>TimeBtw_BkTx_PlanReview</th>\n",
       "      <th>TimeBtw_Sim_PlanReview</th>\n",
       "      <th>TxBook-Sim</th>\n",
       "      <th>Tx-TxBook</th>\n",
       "      <th>Tx-PlanCompl</th>\n",
       "      <th>Tx-PlanPrompt</th>\n",
       "      <th>Tx-PlanReview</th>\n",
       "      <th>PlanWait</th>\n",
       "    </tr>\n",
       "  </thead>\n",
       "  <tbody>\n",
       "    <tr>\n",
       "      <th>5</th>\n",
       "      <td>7287</td>\n",
       "      <td>2019-02-20</td>\n",
       "      <td>1999-11-30 09:53:37</td>\n",
       "      <td>2019-02-20</td>\n",
       "      <td>1999-11-30 10:12:29</td>\n",
       "      <td>GENITOURINARY(GU)</td>\n",
       "      <td>Renal Cell Ca</td>\n",
       "      <td>Urgent 2</td>\n",
       "      <td>2019-02-20</td>\n",
       "      <td>1999-11-30 09:54:24</td>\n",
       "      <td>...</td>\n",
       "      <td>NaN</td>\n",
       "      <td>NaN</td>\n",
       "      <td>NaN</td>\n",
       "      <td>NaN</td>\n",
       "      <td>0.0</td>\n",
       "      <td>1</td>\n",
       "      <td>1.0</td>\n",
       "      <td>1.0</td>\n",
       "      <td>NaN</td>\n",
       "      <td>0.0</td>\n",
       "    </tr>\n",
       "    <tr>\n",
       "      <th>6</th>\n",
       "      <td>7287</td>\n",
       "      <td>2019-05-29</td>\n",
       "      <td>1999-11-30 17:02:23</td>\n",
       "      <td>2019-05-29</td>\n",
       "      <td>1999-11-30 17:09:15</td>\n",
       "      <td>GENITOURINARY(GU)</td>\n",
       "      <td>Renal Cell Ca</td>\n",
       "      <td>Standard 3</td>\n",
       "      <td>2019-05-29</td>\n",
       "      <td>1999-11-30 17:04:25</td>\n",
       "      <td>...</td>\n",
       "      <td>NaN</td>\n",
       "      <td>NaN</td>\n",
       "      <td>NaN</td>\n",
       "      <td>NaN</td>\n",
       "      <td>-6.0</td>\n",
       "      <td>6</td>\n",
       "      <td>0.0</td>\n",
       "      <td>0.0</td>\n",
       "      <td>NaN</td>\n",
       "      <td>6.0</td>\n",
       "    </tr>\n",
       "    <tr>\n",
       "      <th>7</th>\n",
       "      <td>7287</td>\n",
       "      <td>2019-07-31</td>\n",
       "      <td>1999-11-30 09:49:53</td>\n",
       "      <td>2019-07-31</td>\n",
       "      <td>1999-11-30 09:53:35</td>\n",
       "      <td>GENITOURINARY(GU)</td>\n",
       "      <td>Renal Cell Ca</td>\n",
       "      <td>Urgent 2</td>\n",
       "      <td>2019-07-31</td>\n",
       "      <td>1999-11-30 09:52:47</td>\n",
       "      <td>...</td>\n",
       "      <td>NaN</td>\n",
       "      <td>NaN</td>\n",
       "      <td>NaN</td>\n",
       "      <td>NaN</td>\n",
       "      <td>NaN</td>\n",
       "      <td>6</td>\n",
       "      <td>NaN</td>\n",
       "      <td>NaN</td>\n",
       "      <td>NaN</td>\n",
       "      <td>NaN</td>\n",
       "    </tr>\n",
       "    <tr>\n",
       "      <th>8</th>\n",
       "      <td>7287</td>\n",
       "      <td>2019-08-28</td>\n",
       "      <td>1999-11-30 10:58:16</td>\n",
       "      <td>2019-08-28</td>\n",
       "      <td>1999-11-30 11:07:51</td>\n",
       "      <td>GENITOURINARY(GU)</td>\n",
       "      <td>Renal Cell Ca</td>\n",
       "      <td>Urgent 2</td>\n",
       "      <td>2019-08-28</td>\n",
       "      <td>1999-11-30 10:59:17</td>\n",
       "      <td>...</td>\n",
       "      <td>NaN</td>\n",
       "      <td>NaN</td>\n",
       "      <td>NaN</td>\n",
       "      <td>NaN</td>\n",
       "      <td>NaN</td>\n",
       "      <td>1</td>\n",
       "      <td>NaN</td>\n",
       "      <td>NaN</td>\n",
       "      <td>NaN</td>\n",
       "      <td>NaN</td>\n",
       "    </tr>\n",
       "    <tr>\n",
       "      <th>11</th>\n",
       "      <td>10287</td>\n",
       "      <td>2019-04-17</td>\n",
       "      <td>1999-11-30 16:28:51</td>\n",
       "      <td>2019-04-17</td>\n",
       "      <td>1999-11-30 16:30:51</td>\n",
       "      <td>BREAST</td>\n",
       "      <td>Ca Breast, Upper-outer Quadrant</td>\n",
       "      <td>Standard 3</td>\n",
       "      <td>2019-04-17</td>\n",
       "      <td>1999-11-30 16:30:09</td>\n",
       "      <td>...</td>\n",
       "      <td>5.0</td>\n",
       "      <td>5.0</td>\n",
       "      <td>-1.0</td>\n",
       "      <td>6.0</td>\n",
       "      <td>7.0</td>\n",
       "      <td>6</td>\n",
       "      <td>6.0</td>\n",
       "      <td>6.0</td>\n",
       "      <td>7.0</td>\n",
       "      <td>0.0</td>\n",
       "    </tr>\n",
       "  </tbody>\n",
       "</table>\n",
       "<p>5 rows × 82 columns</p>\n",
       "</div>"
      ],
      "text/plain": [
       "      MRN CreatedDate         CreatedTime ActivatedDate       ActivatedTime  \\\n",
       "5    7287  2019-02-20 1999-11-30 09:53:37    2019-02-20 1999-11-30 10:12:29   \n",
       "6    7287  2019-05-29 1999-11-30 17:02:23    2019-05-29 1999-11-30 17:09:15   \n",
       "7    7287  2019-07-31 1999-11-30 09:49:53    2019-07-31 1999-11-30 09:53:35   \n",
       "8    7287  2019-08-28 1999-11-30 10:58:16    2019-08-28 1999-11-30 11:07:51   \n",
       "11  10287  2019-04-17 1999-11-30 16:28:51    2019-04-17 1999-11-30 16:30:51   \n",
       "\n",
       "            SiteGroup                        Diagnosis  Category_x  \\\n",
       "5   GENITOURINARY(GU)                    Renal Cell Ca    Urgent 2   \n",
       "6   GENITOURINARY(GU)                    Renal Cell Ca  Standard 3   \n",
       "7   GENITOURINARY(GU)                    Renal Cell Ca    Urgent 2   \n",
       "8   GENITOURINARY(GU)                    Renal Cell Ca    Urgent 2   \n",
       "11             BREAST  Ca Breast, Upper-outer Quadrant  Standard 3   \n",
       "\n",
       "   PlanCreateDate      PlanCreateTime  ... ProgressRevWait  \\\n",
       "5      2019-02-20 1999-11-30 09:54:24  ...             NaN   \n",
       "6      2019-05-29 1999-11-30 17:04:25  ...             NaN   \n",
       "7      2019-07-31 1999-11-30 09:52:47  ...             NaN   \n",
       "8      2019-08-28 1999-11-30 10:59:17  ...             NaN   \n",
       "11     2019-04-17 1999-11-30 16:30:09  ...             5.0   \n",
       "\n",
       "   TimeBtw_ContourCompl_PlanReview TimeBtw_BkTx_PlanReview  \\\n",
       "5                              NaN                     NaN   \n",
       "6                              NaN                     NaN   \n",
       "7                              NaN                     NaN   \n",
       "8                              NaN                     NaN   \n",
       "11                             5.0                    -1.0   \n",
       "\n",
       "   TimeBtw_Sim_PlanReview  TxBook-Sim Tx-TxBook Tx-PlanCompl Tx-PlanPrompt  \\\n",
       "5                     NaN         0.0         1          1.0           1.0   \n",
       "6                     NaN        -6.0         6          0.0           0.0   \n",
       "7                     NaN         NaN         6          NaN           NaN   \n",
       "8                     NaN         NaN         1          NaN           NaN   \n",
       "11                    6.0         7.0         6          6.0           6.0   \n",
       "\n",
       "   Tx-PlanReview PlanWait  \n",
       "5            NaN      0.0  \n",
       "6            NaN      6.0  \n",
       "7            NaN      NaN  \n",
       "8            NaN      NaN  \n",
       "11           7.0      0.0  \n",
       "\n",
       "[5 rows x 82 columns]"
      ]
     },
     "execution_count": 514,
     "metadata": {},
     "output_type": "execute_result"
    }
   ],
   "source": [
    "for column in df1920.columns:\n",
    "    df1920[column].fillna(df1920[column].mode(), inplace=True)\n",
    "df1920.head()"
   ]
  },
  {
   "cell_type": "markdown",
   "metadata": {
    "heading_collapsed": true
   },
   "source": [
    "## ML models"
   ]
  },
  {
   "cell_type": "code",
   "execution_count": 508,
   "metadata": {
    "hidden": true
   },
   "outputs": [],
   "source": [
    "from sklearn.model_selection import GridSearchCV\n",
    "from sklearn.ensemble import RandomForestClassifier\n",
    "from sklearn.metrics import confusion_matrix, classification_report"
   ]
  },
  {
   "cell_type": "markdown",
   "metadata": {
    "hidden": true
   },
   "source": [
    "### data to train model"
   ]
  },
  {
   "cell_type": "code",
   "execution_count": 509,
   "metadata": {
    "hidden": true
   },
   "outputs": [
    {
     "data": {
      "text/plain": [
       "(4947, 82)"
      ]
     },
     "execution_count": 509,
     "metadata": {},
     "output_type": "execute_result"
    }
   ],
   "source": [
    "df_meet=df1920[df1920['WaitTime']<=14]\n",
    "df1920=df_meet\n",
    "df_meet.shape"
   ]
  },
  {
   "cell_type": "code",
   "execution_count": 515,
   "metadata": {
    "hidden": true
   },
   "outputs": [
    {
     "data": {
      "image/png": "[encoded data removed]",
      "text/plain": [
       "<Figure size 648x360 with 1 Axes>"
      ]
     },
     "metadata": {
      "needs_background": "light"
     },
     "output_type": "display_data"
    }
   ],
   "source": [
    "#df1920[\"ContourDur\"] = df1920[\"ContourDur\"].fillna(df1920[\"ContourDur\"].mode()[0])\n",
    "\n",
    "plt.figure(figsize=[9,5])\n",
    "bins = range(0,10)\n",
    "\n",
    "y = df1920[\"ContourDur\"]\n",
    "plt.hist(y, bins = bins, alpha=0.5, edgecolor='black', align='left')\n",
    "\n",
    "plt.xlabel('Contouring time')\n",
    "plt.ylabel('frequency')\n",
    "plt.title('Contouring distribution')\n",
    "plt.xticks(fontsize=10)\n",
    "plt.yticks(fontsize=10)\n",
    "\n",
    "plt.show()"
   ]
  },
  {
   "cell_type": "code",
   "execution_count": 518,
   "metadata": {
    "hidden": true
   },
   "outputs": [
    {
     "data": {
      "image/png": "[encoded data removed]",
      "text/plain": [
       "<Figure size 648x360 with 1 Axes>"
      ]
     },
     "metadata": {
      "needs_background": "light"
     },
     "output_type": "display_data"
    }
   ],
   "source": [
    "df1920['PlanDur'] = df1920[\"FinalPlan-Contour\"]\n",
    "#df1920[\"PlanDur\"] = df1920[\"PlanDur\"].fillna(df1920[\"PlanDur\"].mode()[0])\n",
    "#df1920=df1920[df1920['WaitTime']<=14]\n",
    "\n",
    "plt.figure(figsize=[9,5])\n",
    "bins = range(0,10)\n",
    "\n",
    "y = df1920[\"PlanDur\"]\n",
    "plt.hist(y, bins = bins, alpha=0.5, edgecolor='black', align='left')\n",
    "\n",
    "plt.xlabel('planning time')\n",
    "plt.ylabel('frequency')\n",
    "plt.title('Planning distribution')\n",
    "plt.xticks(fontsize=10)\n",
    "plt.yticks(fontsize=10)\n",
    "\n",
    "plt.show()"
   ]
  },
  {
   "cell_type": "markdown",
   "metadata": {
    "hidden": true
   },
   "source": [
    "### contouring"
   ]
  },
  {
   "cell_type": "code",
   "execution_count": 519,
   "metadata": {
    "hidden": true
   },
   "outputs": [],
   "source": [
    "target_y = \"ContourDur\"\n",
    "#df_meet = df1920[df1920['WaitTime']<=14]\n",
    "features = ['SiteGroup', 'Category_x','TltDose','TxFracs']\n",
    "df_clf = df1920[features + [target_y]]\n"
   ]
  },
  {
   "cell_type": "code",
   "execution_count": 520,
   "metadata": {
    "hidden": true
   },
   "outputs": [
    {
     "data": {
      "text/plain": [
       "5        False\n",
       "11       False\n",
       "16       False\n",
       "34       False\n",
       "46       False\n",
       "         ...  \n",
       "57707    False\n",
       "57716    False\n",
       "57720    False\n",
       "57721    False\n",
       "57743    False\n",
       "Name: ContourDur, Length: 6102, dtype: bool"
      ]
     },
     "execution_count": 520,
     "metadata": {},
     "output_type": "execute_result"
    }
   ],
   "source": [
    "# drop rows if ContourDur is na\n",
    "df_clf = df_clf[df_clf['ContourDur'].notna()]\n",
    "df_clf['ContourDur'].isna()"
   ]
  },
  {
   "cell_type": "code",
   "execution_count": 521,
   "metadata": {
    "hidden": true
   },
   "outputs": [],
   "source": [
    "df_clf[\"SiteGroup\"] = df_clf[\"SiteGroup\"].fillna(df_clf[\"SiteGroup\"].mode())\n",
    "df_clf[\"Category_x\"] = df_clf[\"Category_x\"].fillna(df_clf[\"Category_x\"].mode())\n",
    "df_clf[\"TltDose\"] = df_clf[\"TltDose\"].fillna(df_clf[\"TltDose\"].mode()[0])\n",
    "df_clf[\"TxFracs\"] = df_clf[\"TxFracs\"].fillna(df_clf[\"TxFracs\"].mode()[0])\n",
    "#df_clf['Intent'] = df_clf['Intent'].fillna(df_clf['Intent'].mode()[0])\n",
    "#df_clf['ContourDur'] = df_clf[\"ContourDur\"].fillna(df_clf[\"ContourDur\"].median())"
   ]
  },
  {
   "cell_type": "code",
   "execution_count": 522,
   "metadata": {
    "hidden": true
   },
   "outputs": [],
   "source": [
    "#df_clf[\"Intent\"].isnull().values.any()"
   ]
  },
  {
   "cell_type": "code",
   "execution_count": 523,
   "metadata": {
    "hidden": true
   },
   "outputs": [],
   "source": [
    "dummy = pd.get_dummies(df_clf[[\"SiteGroup\",\"Category_x\"]], prefix=['Site','Categ']) #, drop_first=True)\n",
    "df_cont = pd.concat([df_clf, dummy], axis=1)\n",
    "#print( df_clf.filter(like=\"Sitegroup_y\",axis=1).head() )\n",
    "\n",
    "## drop the original categorical column\n",
    "df_cont = df_cont.drop(['SiteGroup','Category_x'], axis=1)"
   ]
  },
  {
   "cell_type": "code",
   "execution_count": 524,
   "metadata": {
    "hidden": true
   },
   "outputs": [
    {
     "name": "stdout",
     "output_type": "stream",
     "text": [
      "X_train shape: (4271, 19) | X_test shape: (1831, 19)\n",
      "y_train mean: 1.66 | y_test mean: 1.67\n",
      "20 features: ['TltDose', 'TxFracs', 'Site_BREAST', 'Site_CNS', 'Site_ENDOCRINE', 'Site_ENT (HEAD & NECK)', 'Site_EYE', 'Site_GENITOURINARY(GU)', 'Site_GI LOWER', 'Site_GI UPPER', 'Site_GYNAE', 'Site_LUNG', 'Site_LYMPHOMA', 'Site_PAEDIATRIC', 'Site_SARCOMA', 'Site_SKIN', 'Site_Unknown', 'Categ_Standard 3', 'Categ_Urgent 2']\n"
     ]
    }
   ],
   "source": [
    "# train-test split\n",
    "df_train, df_test = model_selection.train_test_split(df_cont, test_size=0.3, random_state=1)\n",
    "## print info\n",
    "print(\"X_train shape:\", df_train.drop(target_y,axis=1).shape, \"| X_test shape:\", df_test.drop(target_y,axis=1).shape)\n",
    "print(\"y_train mean:\", round(np.mean(df_train[target_y]),2), \"| y_test mean:\", round(np.mean(df_test[target_y]),2))\n",
    "print(df_train.shape[1], \"features:\", df_train.drop(target_y,axis=1).columns.to_list())"
   ]
  },
  {
   "cell_type": "markdown",
   "metadata": {
    "hidden": true
   },
   "source": [
    "#### Quantile regression"
   ]
  },
  {
   "cell_type": "code",
   "execution_count": 526,
   "metadata": {
    "hidden": true
   },
   "outputs": [
    {
     "data": {
      "image/png": "[encoded data removed]",
      "text/plain": [
       "<Figure size 432x288 with 1 Axes>"
      ]
     },
     "metadata": {
      "needs_background": "light"
     },
     "output_type": "display_data"
    }
   ],
   "source": [
    "# Quantile regression\n",
    "## call model\n",
    "from sklearn.ensemble import GradientBoostingRegressor\n",
    "model = GradientBoostingRegressor(random_state=0, loss = 'quantile', alpha = 0.8)\n",
    "## K fold validation\n",
    "scores = []\n",
    "rmse_list = []\n",
    "cv = model_selection.KFold(n_splits=5, shuffle=True)\n",
    "fig = plt.figure()\n",
    "i = 1\n",
    "for train, test in cv.split(X_train, y_train):\n",
    "    prediction = model.fit(X_train[train],\n",
    "                 y_train[train]).predict(X_train[test])\n",
    "    true = y_train[test]\n",
    "    #score = metrics.r2_score(true, prediction)\n",
    "    #scores.append(score)\n",
    "    rmse = mean_squared_error(true, prediction, squared=False)\n",
    "    rmse_list.append(rmse)\n",
    "    plt.scatter(prediction, true, lw=2, alpha=0.3, \n",
    "                label='Fold %d (rmse = %0.2f)' % (i, rmse))\n",
    "                #label='Fold %d (R2 = %0.2f)' % (i,score))\n",
    "    i = i+1\n",
    "    \n",
    "### plotting predicted values against the actual Y\n",
    "### Ideally, points should be all close to a diagonal line where predicted = actual\n",
    "#plt.figure(figsize=[7,5])\n",
    "plt.plot([min(y_train),max(y_train)], [min(y_train),max(y_train)], \n",
    "         linestyle='--', lw=2, color='black')\n",
    "\n",
    "plt.xlabel('Predicted')\n",
    "plt.ylabel('True')\n",
    "plt.title('K-Fold Validation')\n",
    "plt.legend(loc = \"lower right\")\n",
    "\n",
    "plt.show()\n",
    "\n"
   ]
  },
  {
   "cell_type": "code",
   "execution_count": 528,
   "metadata": {
    "hidden": true
   },
   "outputs": [
    {
     "data": {
      "image/png": "[encoded data removed]",
      "text/plain": [
       "<Figure size 648x360 with 1 Axes>"
      ]
     },
     "metadata": {
      "needs_background": "light"
     },
     "output_type": "display_data"
    }
   ],
   "source": [
    "## Quantile regression\n",
    "qr_model = GradientBoostingRegressor(loss = 'quantile', alpha = 0.8, random_state=0)\n",
    "qr_model.fit(X_train,y_train)\n",
    "\n",
    "y_test_pred = qr_model.predict(X_test)\n",
    "plt.figure(figsize=[9,5])\n",
    "bins = range(0,15)\n",
    "\n",
    "y = y_test_pred\n",
    "plt.hist(y, bins = bins, alpha=0.5, edgecolor='black', align='left')\n",
    "\n",
    "plt.xlabel('Days')\n",
    "plt.ylabel('Frequency')\n",
    "plt.title('Contouring distribution')\n",
    "plt.xticks(fontsize=10)\n",
    "plt.yticks(fontsize=10)\n",
    "\n",
    "plt.show()"
   ]
  },
  {
   "cell_type": "markdown",
   "metadata": {
    "heading_collapsed": true,
    "hidden": true
   },
   "source": [
    "### Classification continued"
   ]
  },
  {
   "cell_type": "code",
   "execution_count": 347,
   "metadata": {
    "hidden": true
   },
   "outputs": [],
   "source": [
    "df_test_copy = df_test"
   ]
  },
  {
   "cell_type": "code",
   "execution_count": 354,
   "metadata": {
    "hidden": true
   },
   "outputs": [
    {
     "data": {
      "image/png": "[encoded data removed]",
      "text/plain": [
       "<Figure size 648x360 with 1 Axes>"
      ]
     },
     "metadata": {
      "needs_background": "light"
     },
     "output_type": "display_data"
    }
   ],
   "source": [
    "df_train[target_y]\n",
    "plt.figure(figsize=[9,5])\n",
    "bins = range(0,10)\n",
    "\n",
    "y = df_train[target_y]\n",
    "plt.hist(y, bins = bins, alpha=0.5, edgecolor='black', align='left')\n",
    "\n",
    "plt.xlabel('Contouring time')\n",
    "plt.ylabel('frequency')\n",
    "plt.title('Contouring distribution')\n",
    "plt.xticks(fontsize=10)\n",
    "plt.yticks(fontsize=10)\n",
    "\n",
    "plt.show()"
   ]
  },
  {
   "cell_type": "code",
   "execution_count": 349,
   "metadata": {
    "hidden": true
   },
   "outputs": [],
   "source": [
    "# 0-1, class 0; 2-5, class 1, >5, class 2\n",
    "df_train.loc[df_train[target_y] <=1, 'ContourGroup'] = 0\n",
    "df_train.loc[(df_train[target_y] >=2)&(df_train[target_y] <=3), 'ContourGroup'] = 1\n",
    "df_train.loc[df_train[target_y] >= 4, 'ContourGroup'] = 2\n",
    "df_train = df_train.drop(columns=[target_y])\n",
    "\n",
    "df_test.loc[df_test[target_y] <= 1, 'ContourGroup'] = 0\n",
    "df_test.loc[(df_test[target_y] >=2)&(df_test[target_y] <=3), 'ContourGroup'] = 1\n",
    "df_test.loc[df_test[target_y] >=3, 'ContourGroup'] = 2\n",
    "df_test = df_test.drop(columns=[target_y])"
   ]
  },
  {
   "cell_type": "code",
   "execution_count": 355,
   "metadata": {
    "hidden": true
   },
   "outputs": [],
   "source": [
    "# 0-1, class 0; 2-5, class 1, >5, class 2\n",
    "df_train.loc[df_train[target_y] <=0, 'ContourGroup'] = 0\n",
    "df_train.loc[df_train[target_y] ==1, 'ContourGroup'] = 1\n",
    "df_train.loc[df_train[target_y] >= 2, 'ContourGroup'] = 2\n",
    "df_train = df_train.drop(columns=[target_y])\n",
    "\n",
    "df_test.loc[df_test[target_y] <=0, 'ContourGroup'] = 0\n",
    "df_test.loc[df_test[target_y] ==1, 'ContourGroup'] = 1\n",
    "df_test.loc[df_test[target_y] >=2, 'ContourGroup'] = 2\n",
    "df_test = df_test.drop(columns=[target_y])"
   ]
  },
  {
   "cell_type": "code",
   "execution_count": 356,
   "metadata": {
    "hidden": true
   },
   "outputs": [],
   "source": [
    "X_train = df_train.drop('ContourGroup', axis=1).values\n",
    "y_train = df_train['ContourGroup'].values\n",
    "\n",
    "X_test = df_test.drop('ContourGroup', axis=1).values\n",
    "y_test = df_test['ContourGroup'].values\n",
    "feature_names = df_train.drop('ContourGroup', axis=1).columns.tolist()"
   ]
  },
  {
   "cell_type": "code",
   "execution_count": 357,
   "metadata": {
    "hidden": true
   },
   "outputs": [
    {
     "name": "stdout",
     "output_type": "stream",
     "text": [
      "Accuracy: 0.5013653741125068\n"
     ]
    }
   ],
   "source": [
    "### Random Forest\n",
    "#Import Random Forest Model\n",
    "from sklearn.ensemble import RandomForestClassifier\n",
    "\n",
    "#Create a Gaussian Classifier\n",
    "clf_rf = RandomForestClassifier(n_estimators=100)\n",
    "\n",
    "#Train the model using the training sets y_pred=clf.predict(X_test)\n",
    "clf_rf.fit(X_train,y_train)\n",
    "\n",
    "y_pred = clf_rf.predict(X_test)\n",
    "\n",
    "#Import scikit-learn metrics module for accuracy calculation\n",
    "from sklearn import metrics\n",
    "# Model Accuracy, how often is the classifier correct?\n",
    "print(\"Accuracy:\", metrics.accuracy_score(y_test, y_pred))\n"
   ]
  },
  {
   "cell_type": "code",
   "execution_count": 358,
   "metadata": {
    "hidden": true
   },
   "outputs": [],
   "source": [
    "# Create the parameter grid based on the results of random search \n",
    "from sklearn.model_selection import GridSearchCV\n",
    "param_grid = {\n",
    "    'bootstrap': [True],\n",
    "    'max_depth': [50, 60, 80, 100],\n",
    "    'max_features': [2, 3, 4],\n",
    "    'min_samples_leaf': [3, 4, 5],\n",
    "    'min_samples_split': [10, 12, 15],\n",
    "    'n_estimators': [100, 200, 300]\n",
    "}\n",
    "# Create a based model\n",
    "rf = RandomForestClassifier()\n",
    "# Instantiate the grid search model\n",
    "grid_search = GridSearchCV(estimator = rf, param_grid = param_grid, \n",
    "                          cv = 3, n_jobs = -1, verbose = 2)"
   ]
  },
  {
   "cell_type": "code",
   "execution_count": 359,
   "metadata": {
    "hidden": true
   },
   "outputs": [],
   "source": [
    "# evaluate random search\n",
    "def evaluate(model, test_features, test_labels):\n",
    "    predictions = model.predict(test_features)\n",
    "    errors = abs(predictions - test_labels)\n",
    "    mape = 100 * np.mean(errors / test_labels)\n",
    "    accuracy = 100 - mape\n",
    "    print('Model Performance')\n",
    "    print('Average Error: {:0.4f} degrees.'.format(np.mean(errors)))\n",
    "    print('Accuracy = {:0.2f}%.'.format(accuracy))\n",
    "    \n",
    "    return accuracy"
   ]
  },
  {
   "cell_type": "code",
   "execution_count": 360,
   "metadata": {
    "hidden": true
   },
   "outputs": [
    {
     "name": "stdout",
     "output_type": "stream",
     "text": [
      "Fitting 3 folds for each of 324 candidates, totalling 972 fits\n"
     ]
    }
   ],
   "source": [
    "# Fit the grid search to the data\n",
    "grid_search.fit(X_train, y_train)\n",
    "grid_search.best_params_\n",
    "\n",
    "best_grid = grid_search.best_estimator_\n",
    "#grid_accuracy = evaluate(best_grid, X_test, y_test)\n",
    "\n",
    "#print('Improvement of {:0.2f}%.'.format( 100 * (grid_accuracy - base_accuracy) / base_accuracy))\n"
   ]
  },
  {
   "cell_type": "code",
   "execution_count": 361,
   "metadata": {
    "hidden": true
   },
   "outputs": [
    {
     "data": {
      "text/plain": [
       "{'bootstrap': True,\n",
       " 'max_depth': 100,\n",
       " 'max_features': 3,\n",
       " 'min_samples_leaf': 5,\n",
       " 'min_samples_split': 10,\n",
       " 'n_estimators': 100}"
      ]
     },
     "execution_count": 361,
     "metadata": {},
     "output_type": "execute_result"
    }
   ],
   "source": [
    "grid_search.best_params_"
   ]
  },
  {
   "cell_type": "code",
   "execution_count": 362,
   "metadata": {
    "hidden": true
   },
   "outputs": [
    {
     "data": {
      "text/plain": [
       "0.537411250682687"
      ]
     },
     "execution_count": 362,
     "metadata": {},
     "output_type": "execute_result"
    }
   ],
   "source": [
    "grid_search.score(X_test, y_test)"
   ]
  },
  {
   "cell_type": "code",
   "execution_count": 363,
   "metadata": {
    "hidden": true
   },
   "outputs": [
    {
     "name": "stdout",
     "output_type": "stream",
     "text": [
      "[[367 119 102]\n",
      " [194 163 223]\n",
      " [ 86 123 454]]\n",
      "              precision    recall  f1-score   support\n",
      "\n",
      "         0.0       0.57      0.62      0.59       588\n",
      "         1.0       0.40      0.28      0.33       580\n",
      "         2.0       0.58      0.68      0.63       663\n",
      "\n",
      "    accuracy                           0.54      1831\n",
      "   macro avg       0.52      0.53      0.52      1831\n",
      "weighted avg       0.52      0.54      0.52      1831\n",
      "\n"
     ]
    }
   ],
   "source": [
    "from sklearn.metrics import confusion_matrix\n",
    "from sklearn.metrics import classification_report\n",
    "y_rf_pred=grid_search.predict(X_test)\n",
    "cm_rf = confusion_matrix(y_test, y_rf_pred)\n",
    "print(cm_rf)\n",
    "print(classification_report(y_test, y_rf_pred))"
   ]
  },
  {
   "cell_type": "code",
   "execution_count": 374,
   "metadata": {
    "hidden": true
   },
   "outputs": [
    {
     "name": "stdout",
     "output_type": "stream",
     "text": [
      "3.7646491586628446\n"
     ]
    }
   ],
   "source": [
    "### RMSE (days)\n",
    "y_pred_days = []\n",
    "for i in y_pred: #y_rf_pred:\n",
    "    if i == 0:\n",
    "        y_pred_days.append(0)\n",
    "    if i == 1:\n",
    "        y_pred_days.append(1)       \n",
    "    if i == 2:\n",
    "        y_pred_days.append(3)\n",
    "        \n",
    "y_true_days = df_test_copy[target_y].values\n",
    "from sklearn.metrics import mean_squared_error\n",
    "\n",
    "#pred_filtered = y_pred_days.remove(3)\n",
    "#true_filtered = [x for x in y_true_days if x <= 2]\n",
    "\n",
    "rmse = mean_squared_error(y_pred_days, y_true_days, squared=False)\n",
    "#rmse = mean_squared_error(pred_filter, true_filtered, squared=False)\n",
    "print(rmse)"
   ]
  },
  {
   "cell_type": "code",
   "execution_count": 207,
   "metadata": {
    "hidden": true
   },
   "outputs": [],
   "source": [
    "'''# save the model\n",
    "from pickle import dump\n",
    "dump(grid_search, open('Contouring_model.pkl', 'wb'))'''"
   ]
  },
  {
   "cell_type": "markdown",
   "metadata": {
    "hidden": true
   },
   "source": [
    "#### ContourGroup rules"
   ]
  },
  {
   "cell_type": "code",
   "execution_count": 365,
   "metadata": {
    "hidden": true
   },
   "outputs": [
    {
     "data": {
      "text/plain": [
       "1.0"
      ]
     },
     "execution_count": 365,
     "metadata": {},
     "output_type": "execute_result"
    }
   ],
   "source": [
    "a = df_cont[df_cont[target_y]==1][target_y]\n",
    "np.percentile(a, 75)"
   ]
  },
  {
   "cell_type": "code",
   "execution_count": 435,
   "metadata": {
    "hidden": true
   },
   "outputs": [
    {
     "data": {
      "text/plain": [
       "3.0"
      ]
     },
     "execution_count": 435,
     "metadata": {},
     "output_type": "execute_result"
    }
   ],
   "source": [
    "b = df_cont[(df_cont[target_y]<=3)&(df_cont[target_y]>=2)][target_y]\n",
    "np.percentile(b, 75)"
   ]
  },
  {
   "cell_type": "code",
   "execution_count": 369,
   "metadata": {
    "hidden": true
   },
   "outputs": [
    {
     "data": {
      "text/plain": [
       "3.0"
      ]
     },
     "execution_count": 369,
     "metadata": {},
     "output_type": "execute_result"
    }
   ],
   "source": [
    "c = df_cont[df_cont[target_y]>=2][target_y]\n",
    "np.percentile(c, 50)\n"
   ]
  },
  {
   "cell_type": "markdown",
   "metadata": {
    "hidden": true
   },
   "source": [
    "### Predict Instance Data"
   ]
  },
  {
   "cell_type": "code",
   "execution_count": 529,
   "metadata": {
    "hidden": true
   },
   "outputs": [],
   "source": [
    "all_columns = df_train.columns # index object\n",
    "model_features = df_train.columns.to_list()\n",
    "model_features.remove(target_y)"
   ]
  },
  {
   "cell_type": "code",
   "execution_count": 530,
   "metadata": {
    "hidden": true
   },
   "outputs": [
    {
     "data": {
      "text/html": [
       "<div>\n",
       "<style scoped>\n",
       "    .dataframe tbody tr th:only-of-type {\n",
       "        vertical-align: middle;\n",
       "    }\n",
       "\n",
       "    .dataframe tbody tr th {\n",
       "        vertical-align: top;\n",
       "    }\n",
       "\n",
       "    .dataframe thead th {\n",
       "        text-align: right;\n",
       "    }\n",
       "</style>\n",
       "<table border=\"1\" class=\"dataframe\">\n",
       "  <thead>\n",
       "    <tr style=\"text-align: right;\">\n",
       "      <th></th>\n",
       "      <th>Unnamed: 0</th>\n",
       "      <th>MRN</th>\n",
       "      <th>CreatedDate</th>\n",
       "      <th>SiteGroup</th>\n",
       "      <th>Intent1</th>\n",
       "      <th>Category_x</th>\n",
       "      <th>SimApptDuration</th>\n",
       "      <th>TltDose</th>\n",
       "      <th>TxFracs</th>\n",
       "      <th>TxApptDuration</th>\n",
       "      <th>...</th>\n",
       "      <th>Intent_x</th>\n",
       "      <th>ContrM</th>\n",
       "      <th>Plan75p</th>\n",
       "      <th>Plan80p</th>\n",
       "      <th>Plan90p</th>\n",
       "      <th>Intent_y</th>\n",
       "      <th>PlanM</th>\n",
       "      <th>preTxDays_75</th>\n",
       "      <th>preTxDays_80</th>\n",
       "      <th>preTxDays_90</th>\n",
       "    </tr>\n",
       "  </thead>\n",
       "  <tbody>\n",
       "    <tr>\n",
       "      <th>0</th>\n",
       "      <td>0</td>\n",
       "      <td>7287</td>\n",
       "      <td>2019-02-20</td>\n",
       "      <td>GENITOURINARY(GU)</td>\n",
       "      <td>Palliative</td>\n",
       "      <td>Urgent 2</td>\n",
       "      <td>30</td>\n",
       "      <td>1600</td>\n",
       "      <td>2</td>\n",
       "      <td>30</td>\n",
       "      <td>...</td>\n",
       "      <td>Palliative</td>\n",
       "      <td>0.0</td>\n",
       "      <td>0.0</td>\n",
       "      <td>0.0</td>\n",
       "      <td>1.0</td>\n",
       "      <td>Palliative</td>\n",
       "      <td>0.0</td>\n",
       "      <td>0.0</td>\n",
       "      <td>0.0</td>\n",
       "      <td>1.0</td>\n",
       "    </tr>\n",
       "    <tr>\n",
       "      <th>1</th>\n",
       "      <td>2</td>\n",
       "      <td>7287</td>\n",
       "      <td>2019-07-31</td>\n",
       "      <td>GENITOURINARY(GU)</td>\n",
       "      <td>Palliative</td>\n",
       "      <td>Urgent 2</td>\n",
       "      <td>30</td>\n",
       "      <td>2500</td>\n",
       "      <td>10</td>\n",
       "      <td>30</td>\n",
       "      <td>...</td>\n",
       "      <td>Palliative</td>\n",
       "      <td>0.0</td>\n",
       "      <td>0.0</td>\n",
       "      <td>0.0</td>\n",
       "      <td>1.0</td>\n",
       "      <td>Palliative</td>\n",
       "      <td>0.0</td>\n",
       "      <td>0.0</td>\n",
       "      <td>0.0</td>\n",
       "      <td>1.0</td>\n",
       "    </tr>\n",
       "    <tr>\n",
       "      <th>2</th>\n",
       "      <td>3</td>\n",
       "      <td>7287</td>\n",
       "      <td>2019-08-28</td>\n",
       "      <td>GENITOURINARY(GU)</td>\n",
       "      <td>Palliative</td>\n",
       "      <td>Urgent 2</td>\n",
       "      <td>30</td>\n",
       "      <td>1600</td>\n",
       "      <td>2</td>\n",
       "      <td>30</td>\n",
       "      <td>...</td>\n",
       "      <td>Palliative</td>\n",
       "      <td>0.0</td>\n",
       "      <td>0.0</td>\n",
       "      <td>0.0</td>\n",
       "      <td>1.0</td>\n",
       "      <td>Palliative</td>\n",
       "      <td>0.0</td>\n",
       "      <td>0.0</td>\n",
       "      <td>0.0</td>\n",
       "      <td>1.0</td>\n",
       "    </tr>\n",
       "    <tr>\n",
       "      <th>3</th>\n",
       "      <td>11</td>\n",
       "      <td>160063</td>\n",
       "      <td>2019-12-02</td>\n",
       "      <td>GENITOURINARY(GU)</td>\n",
       "      <td>Palliative</td>\n",
       "      <td>Urgent 2</td>\n",
       "      <td>30</td>\n",
       "      <td>2000</td>\n",
       "      <td>5</td>\n",
       "      <td>30</td>\n",
       "      <td>...</td>\n",
       "      <td>Palliative</td>\n",
       "      <td>0.0</td>\n",
       "      <td>0.0</td>\n",
       "      <td>0.0</td>\n",
       "      <td>1.0</td>\n",
       "      <td>Palliative</td>\n",
       "      <td>0.0</td>\n",
       "      <td>0.0</td>\n",
       "      <td>0.0</td>\n",
       "      <td>1.0</td>\n",
       "    </tr>\n",
       "    <tr>\n",
       "      <th>4</th>\n",
       "      <td>12</td>\n",
       "      <td>160063</td>\n",
       "      <td>2020-07-13</td>\n",
       "      <td>GENITOURINARY(GU)</td>\n",
       "      <td>Palliative</td>\n",
       "      <td>Urgent 2</td>\n",
       "      <td>30</td>\n",
       "      <td>800</td>\n",
       "      <td>1</td>\n",
       "      <td>30</td>\n",
       "      <td>...</td>\n",
       "      <td>Palliative</td>\n",
       "      <td>0.0</td>\n",
       "      <td>0.0</td>\n",
       "      <td>0.0</td>\n",
       "      <td>1.0</td>\n",
       "      <td>Palliative</td>\n",
       "      <td>0.0</td>\n",
       "      <td>0.0</td>\n",
       "      <td>0.0</td>\n",
       "      <td>1.0</td>\n",
       "    </tr>\n",
       "  </tbody>\n",
       "</table>\n",
       "<p>5 rows × 32 columns</p>\n",
       "</div>"
      ],
      "text/plain": [
       "   Unnamed: 0     MRN CreatedDate          SiteGroup     Intent1 Category_x  \\\n",
       "0           0    7287  2019-02-20  GENITOURINARY(GU)  Palliative   Urgent 2   \n",
       "1           2    7287  2019-07-31  GENITOURINARY(GU)  Palliative   Urgent 2   \n",
       "2           3    7287  2019-08-28  GENITOURINARY(GU)  Palliative   Urgent 2   \n",
       "3          11  160063  2019-12-02  GENITOURINARY(GU)  Palliative   Urgent 2   \n",
       "4          12  160063  2020-07-13  GENITOURINARY(GU)  Palliative   Urgent 2   \n",
       "\n",
       "   SimApptDuration  TltDose  TxFracs  TxApptDuration  ...    Intent_x  ContrM  \\\n",
       "0               30     1600        2              30  ...  Palliative     0.0   \n",
       "1               30     2500       10              30  ...  Palliative     0.0   \n",
       "2               30     1600        2              30  ...  Palliative     0.0   \n",
       "3               30     2000        5              30  ...  Palliative     0.0   \n",
       "4               30      800        1              30  ...  Palliative     0.0   \n",
       "\n",
       "  Plan75p Plan80p Plan90p    Intent_y  PlanM  preTxDays_75  preTxDays_80  \\\n",
       "0     0.0     0.0     1.0  Palliative    0.0           0.0           0.0   \n",
       "1     0.0     0.0     1.0  Palliative    0.0           0.0           0.0   \n",
       "2     0.0     0.0     1.0  Palliative    0.0           0.0           0.0   \n",
       "3     0.0     0.0     1.0  Palliative    0.0           0.0           0.0   \n",
       "4     0.0     0.0     1.0  Palliative    0.0           0.0           0.0   \n",
       "\n",
       "   preTxDays_90  \n",
       "0           1.0  \n",
       "1           1.0  \n",
       "2           1.0  \n",
       "3           1.0  \n",
       "4           1.0  \n",
       "\n",
       "[5 rows x 32 columns]"
      ]
     },
     "execution_count": 530,
     "metadata": {},
     "output_type": "execute_result"
    }
   ],
   "source": [
    "df_ins.head()"
   ]
  },
  {
   "cell_type": "code",
   "execution_count": 531,
   "metadata": {
    "hidden": true
   },
   "outputs": [],
   "source": [
    "dfDur = df_ins[['SiteGroup','Category_x','TltDose','TxFracs']]\n",
    "dummy_new = pd.get_dummies(dfDur[[\"SiteGroup\",\"Category_x\"]], prefix=['Site','Categ']) #, drop_first=True)\n",
    "df_new = pd.concat([dfDur, dummy_new], axis=1)\n",
    "## drop the original categorical column\n",
    "df_new = df_new.drop(['SiteGroup','Category_x'], axis=1)\n",
    "df_new = df_new.reindex(columns = df_new.columns | all_columns)\n",
    "df_new.fillna(0, inplace=True)\n",
    "df_new = df_new[model_features]"
   ]
  },
  {
   "cell_type": "code",
   "execution_count": 532,
   "metadata": {
    "hidden": true
   },
   "outputs": [],
   "source": [
    "df_ins['Contour'] = qr_model.predict(df_new)"
   ]
  },
  {
   "cell_type": "code",
   "execution_count": 488,
   "metadata": {
    "hidden": true
   },
   "outputs": [],
   "source": [
    "#df_new = df_new.reindex(columns = df_new.columns | all_columns)\n",
    "#df_new.fillna(0, inplace=True)\n",
    "#df_new = df_new[model_features]"
   ]
  },
  {
   "cell_type": "code",
   "execution_count": 416,
   "metadata": {
    "hidden": true
   },
   "outputs": [],
   "source": [
    "'''X_new = df_new.values\n",
    "y_new_pred = qr_model.predict(X_new)\n",
    "df_ins['Contour'] = y_new_pred'''"
   ]
  },
  {
   "cell_type": "code",
   "execution_count": 489,
   "metadata": {
    "hidden": true
   },
   "outputs": [],
   "source": [
    "'''X_new = df_new.values\n",
    "y_new_pred = grid_search.predict(X_new)\n",
    "y_new_days = []\n",
    "for i in y_new_pred:\n",
    "    if i == 0:\n",
    "        y_new_days.append(1)\n",
    "    if i == 1:\n",
    "        y_new_days.append(3)       \n",
    "    if i == 2:\n",
    "        y_new_days.append(4)\n",
    "df_ins['Contour'] = y_new_days'''"
   ]
  },
  {
   "cell_type": "markdown",
   "metadata": {
    "hidden": true
   },
   "source": [
    "### Planning"
   ]
  },
  {
   "cell_type": "code",
   "execution_count": 533,
   "metadata": {
    "hidden": true
   },
   "outputs": [],
   "source": [
    "# remove outliers by planning time\\\n",
    "df_meet['z_score_contour']=stats.zscore(df_meet['PlanDur'])\n",
    "#df_meet = df_meet.loc[df_meet['z_score_contour'].abs()<=3]\n"
   ]
  },
  {
   "cell_type": "code",
   "execution_count": 534,
   "metadata": {
    "hidden": true
   },
   "outputs": [
    {
     "data": {
      "text/html": [
       "<div>\n",
       "<style scoped>\n",
       "    .dataframe tbody tr th:only-of-type {\n",
       "        vertical-align: middle;\n",
       "    }\n",
       "\n",
       "    .dataframe tbody tr th {\n",
       "        vertical-align: top;\n",
       "    }\n",
       "\n",
       "    .dataframe thead th {\n",
       "        text-align: right;\n",
       "    }\n",
       "</style>\n",
       "<table border=\"1\" class=\"dataframe\">\n",
       "  <thead>\n",
       "    <tr style=\"text-align: right;\">\n",
       "      <th></th>\n",
       "      <th>SiteGroup</th>\n",
       "      <th>Category_x</th>\n",
       "      <th>TltDose</th>\n",
       "      <th>TxFracs</th>\n",
       "      <th>PlanDur</th>\n",
       "    </tr>\n",
       "  </thead>\n",
       "  <tbody>\n",
       "    <tr>\n",
       "      <th>5</th>\n",
       "      <td>GENITOURINARY(GU)</td>\n",
       "      <td>Urgent 2</td>\n",
       "      <td>1600.0</td>\n",
       "      <td>2.0</td>\n",
       "      <td>0.0</td>\n",
       "    </tr>\n",
       "    <tr>\n",
       "      <th>11</th>\n",
       "      <td>BREAST</td>\n",
       "      <td>Standard 3</td>\n",
       "      <td>4240.0</td>\n",
       "      <td>16.0</td>\n",
       "      <td>4.0</td>\n",
       "    </tr>\n",
       "    <tr>\n",
       "      <th>16</th>\n",
       "      <td>BREAST</td>\n",
       "      <td>Standard 3</td>\n",
       "      <td>4240.0</td>\n",
       "      <td>16.0</td>\n",
       "      <td>1.0</td>\n",
       "    </tr>\n",
       "    <tr>\n",
       "      <th>34</th>\n",
       "      <td>BREAST</td>\n",
       "      <td>Standard 3</td>\n",
       "      <td>4240.0</td>\n",
       "      <td>16.0</td>\n",
       "      <td>6.0</td>\n",
       "    </tr>\n",
       "    <tr>\n",
       "      <th>46</th>\n",
       "      <td>SARCOMA</td>\n",
       "      <td>Standard 3</td>\n",
       "      <td>6600.0</td>\n",
       "      <td>33.0</td>\n",
       "      <td>4.0</td>\n",
       "    </tr>\n",
       "  </tbody>\n",
       "</table>\n",
       "</div>"
      ],
      "text/plain": [
       "            SiteGroup  Category_x  TltDose  TxFracs  PlanDur\n",
       "5   GENITOURINARY(GU)    Urgent 2   1600.0      2.0      0.0\n",
       "11             BREAST  Standard 3   4240.0     16.0      4.0\n",
       "16             BREAST  Standard 3   4240.0     16.0      1.0\n",
       "34             BREAST  Standard 3   4240.0     16.0      6.0\n",
       "46            SARCOMA  Standard 3   6600.0     33.0      4.0"
      ]
     },
     "execution_count": 534,
     "metadata": {},
     "output_type": "execute_result"
    }
   ],
   "source": [
    "#df_meet[df_meet['PlanDur'].notnull()].shape\n",
    "target_y='PlanDur'\n",
    "features = ['SiteGroup', 'Category_x','TltDose','TxFracs']\n",
    "df_clf2 = df1920[features + [target_y]]\n",
    "df_clf2 = df_clf2[df_clf2['PlanDur'].notnull()]\n",
    "df_clf2.head()"
   ]
  },
  {
   "cell_type": "code",
   "execution_count": 535,
   "metadata": {
    "hidden": true
   },
   "outputs": [],
   "source": [
    "target_y = \"PlanDur\"\n",
    "features = ['SiteGroup','Category_x','TltDose','TxFracs']\n",
    "#df_clf2 = df_meet[features + [target_y]]\n",
    "df_clf2 = df_clf2[df_clf2['SiteGroup'].notnull()]\n",
    "df_clf2[\"SiteGroup\"] = df_clf2[\"SiteGroup\"].fillna(df_clf2[\"SiteGroup\"].mode())\n",
    "df_clf2[\"Category_x\"] = df_clf2[\"Category_x\"].fillna(df_clf2[\"Category_x\"].mode())\n",
    "df_clf2[\"TltDose\"] = df_clf2[\"TltDose\"].fillna(df_clf2[\"TltDose\"].mode()[0])\n",
    "df_clf2[\"TxFracs\"] = df_clf2[\"TxFracs\"].fillna(df_clf2[\"TxFracs\"].median())\n",
    "#df_clf2[target_y] = df_clf2[target_y].fillna(df_clf2[target_y].mode()[0])"
   ]
  },
  {
   "cell_type": "code",
   "execution_count": 536,
   "metadata": {
    "hidden": true
   },
   "outputs": [],
   "source": [
    "for column in df_clf2.columns:\n",
    "    df_clf2[column].fillna(df_clf2[column].mode()[0], inplace=True)"
   ]
  },
  {
   "cell_type": "code",
   "execution_count": 537,
   "metadata": {
    "hidden": true
   },
   "outputs": [
    {
     "data": {
      "text/html": [
       "<div>\n",
       "<style scoped>\n",
       "    .dataframe tbody tr th:only-of-type {\n",
       "        vertical-align: middle;\n",
       "    }\n",
       "\n",
       "    .dataframe tbody tr th {\n",
       "        vertical-align: top;\n",
       "    }\n",
       "\n",
       "    .dataframe thead th {\n",
       "        text-align: right;\n",
       "    }\n",
       "</style>\n",
       "<table border=\"1\" class=\"dataframe\">\n",
       "  <thead>\n",
       "    <tr style=\"text-align: right;\">\n",
       "      <th></th>\n",
       "      <th>TltDose</th>\n",
       "      <th>TxFracs</th>\n",
       "      <th>PlanDur</th>\n",
       "      <th>Site_BREAST</th>\n",
       "      <th>Site_CNS</th>\n",
       "      <th>Site_ENDOCRINE</th>\n",
       "      <th>Site_ENT (HEAD &amp; NECK)</th>\n",
       "      <th>Site_EYE</th>\n",
       "      <th>Site_GENITOURINARY(GU)</th>\n",
       "      <th>Site_GI LOWER</th>\n",
       "      <th>Site_GI UPPER</th>\n",
       "      <th>Site_GYNAE</th>\n",
       "      <th>Site_LUNG</th>\n",
       "      <th>Site_LYMPHOMA</th>\n",
       "      <th>Site_PAEDIATRIC</th>\n",
       "      <th>Site_SARCOMA</th>\n",
       "      <th>Site_SKIN</th>\n",
       "      <th>Site_Unknown</th>\n",
       "      <th>Categ_Standard 3</th>\n",
       "      <th>Categ_Urgent 2</th>\n",
       "    </tr>\n",
       "  </thead>\n",
       "  <tbody>\n",
       "    <tr>\n",
       "      <th>5</th>\n",
       "      <td>1600.0</td>\n",
       "      <td>2.0</td>\n",
       "      <td>0.0</td>\n",
       "      <td>0</td>\n",
       "      <td>0</td>\n",
       "      <td>0</td>\n",
       "      <td>0</td>\n",
       "      <td>0</td>\n",
       "      <td>1</td>\n",
       "      <td>0</td>\n",
       "      <td>0</td>\n",
       "      <td>0</td>\n",
       "      <td>0</td>\n",
       "      <td>0</td>\n",
       "      <td>0</td>\n",
       "      <td>0</td>\n",
       "      <td>0</td>\n",
       "      <td>0</td>\n",
       "      <td>0</td>\n",
       "      <td>1</td>\n",
       "    </tr>\n",
       "    <tr>\n",
       "      <th>11</th>\n",
       "      <td>4240.0</td>\n",
       "      <td>16.0</td>\n",
       "      <td>4.0</td>\n",
       "      <td>1</td>\n",
       "      <td>0</td>\n",
       "      <td>0</td>\n",
       "      <td>0</td>\n",
       "      <td>0</td>\n",
       "      <td>0</td>\n",
       "      <td>0</td>\n",
       "      <td>0</td>\n",
       "      <td>0</td>\n",
       "      <td>0</td>\n",
       "      <td>0</td>\n",
       "      <td>0</td>\n",
       "      <td>0</td>\n",
       "      <td>0</td>\n",
       "      <td>0</td>\n",
       "      <td>1</td>\n",
       "      <td>0</td>\n",
       "    </tr>\n",
       "    <tr>\n",
       "      <th>16</th>\n",
       "      <td>4240.0</td>\n",
       "      <td>16.0</td>\n",
       "      <td>1.0</td>\n",
       "      <td>1</td>\n",
       "      <td>0</td>\n",
       "      <td>0</td>\n",
       "      <td>0</td>\n",
       "      <td>0</td>\n",
       "      <td>0</td>\n",
       "      <td>0</td>\n",
       "      <td>0</td>\n",
       "      <td>0</td>\n",
       "      <td>0</td>\n",
       "      <td>0</td>\n",
       "      <td>0</td>\n",
       "      <td>0</td>\n",
       "      <td>0</td>\n",
       "      <td>0</td>\n",
       "      <td>1</td>\n",
       "      <td>0</td>\n",
       "    </tr>\n",
       "    <tr>\n",
       "      <th>34</th>\n",
       "      <td>4240.0</td>\n",
       "      <td>16.0</td>\n",
       "      <td>6.0</td>\n",
       "      <td>1</td>\n",
       "      <td>0</td>\n",
       "      <td>0</td>\n",
       "      <td>0</td>\n",
       "      <td>0</td>\n",
       "      <td>0</td>\n",
       "      <td>0</td>\n",
       "      <td>0</td>\n",
       "      <td>0</td>\n",
       "      <td>0</td>\n",
       "      <td>0</td>\n",
       "      <td>0</td>\n",
       "      <td>0</td>\n",
       "      <td>0</td>\n",
       "      <td>0</td>\n",
       "      <td>1</td>\n",
       "      <td>0</td>\n",
       "    </tr>\n",
       "    <tr>\n",
       "      <th>46</th>\n",
       "      <td>6600.0</td>\n",
       "      <td>33.0</td>\n",
       "      <td>4.0</td>\n",
       "      <td>0</td>\n",
       "      <td>0</td>\n",
       "      <td>0</td>\n",
       "      <td>0</td>\n",
       "      <td>0</td>\n",
       "      <td>0</td>\n",
       "      <td>0</td>\n",
       "      <td>0</td>\n",
       "      <td>0</td>\n",
       "      <td>0</td>\n",
       "      <td>0</td>\n",
       "      <td>0</td>\n",
       "      <td>1</td>\n",
       "      <td>0</td>\n",
       "      <td>0</td>\n",
       "      <td>1</td>\n",
       "      <td>0</td>\n",
       "    </tr>\n",
       "  </tbody>\n",
       "</table>\n",
       "</div>"
      ],
      "text/plain": [
       "    TltDose  TxFracs  PlanDur  Site_BREAST  Site_CNS  Site_ENDOCRINE  \\\n",
       "5    1600.0      2.0      0.0            0         0               0   \n",
       "11   4240.0     16.0      4.0            1         0               0   \n",
       "16   4240.0     16.0      1.0            1         0               0   \n",
       "34   4240.0     16.0      6.0            1         0               0   \n",
       "46   6600.0     33.0      4.0            0         0               0   \n",
       "\n",
       "    Site_ENT (HEAD & NECK)  Site_EYE  Site_GENITOURINARY(GU)  Site_GI LOWER  \\\n",
       "5                        0         0                       1              0   \n",
       "11                       0         0                       0              0   \n",
       "16                       0         0                       0              0   \n",
       "34                       0         0                       0              0   \n",
       "46                       0         0                       0              0   \n",
       "\n",
       "    Site_GI UPPER  Site_GYNAE  Site_LUNG  Site_LYMPHOMA  Site_PAEDIATRIC  \\\n",
       "5               0           0          0              0                0   \n",
       "11              0           0          0              0                0   \n",
       "16              0           0          0              0                0   \n",
       "34              0           0          0              0                0   \n",
       "46              0           0          0              0                0   \n",
       "\n",
       "    Site_SARCOMA  Site_SKIN  Site_Unknown  Categ_Standard 3  Categ_Urgent 2  \n",
       "5              0          0             0                 0               1  \n",
       "11             0          0             0                 1               0  \n",
       "16             0          0             0                 1               0  \n",
       "34             0          0             0                 1               0  \n",
       "46             1          0             0                 1               0  "
      ]
     },
     "execution_count": 537,
     "metadata": {},
     "output_type": "execute_result"
    }
   ],
   "source": [
    "# created binary dataframe\n",
    "dummy = pd.get_dummies(df_clf2[[\"SiteGroup\",\"Category_x\"]], prefix=['Site','Categ']) #, drop_first=True)\n",
    "df_plan = pd.concat([df_clf2, dummy], axis=1)\n",
    "## drop the original categorical column\n",
    "df_plan = df_plan.drop(['SiteGroup','Category_x'], axis=1)\n",
    "df_plan.head()"
   ]
  },
  {
   "cell_type": "code",
   "execution_count": 538,
   "metadata": {
    "hidden": true
   },
   "outputs": [
    {
     "name": "stdout",
     "output_type": "stream",
     "text": [
      "X_train shape: (3444, 19) | X_test shape: (1476, 19)\n",
      "y_train mean: 6.83 | y_test mean: 8.37\n",
      "20 features: ['TltDose', 'TxFracs', 'Site_BREAST', 'Site_CNS', 'Site_ENDOCRINE', 'Site_ENT (HEAD & NECK)', 'Site_EYE', 'Site_GENITOURINARY(GU)', 'Site_GI LOWER', 'Site_GI UPPER', 'Site_GYNAE', 'Site_LUNG', 'Site_LYMPHOMA', 'Site_PAEDIATRIC', 'Site_SARCOMA', 'Site_SKIN', 'Site_Unknown', 'Categ_Standard 3', 'Categ_Urgent 2']\n"
     ]
    }
   ],
   "source": [
    "# train-test split\n",
    "df_train, df_test = model_selection.train_test_split(df_plan, test_size=0.3)\n",
    "## print info\n",
    "print(\"X_train shape:\", df_train.drop(target_y,axis=1).shape, \"| X_test shape:\", df_test.drop(target_y,axis=1).shape)\n",
    "print(\"y_train mean:\", round(np.mean(df_train[target_y]),2), \"| y_test mean:\", round(np.mean(df_test[target_y]),2))\n",
    "print(df_train.shape[1], \"features:\", df_train.drop(target_y,axis=1).columns.to_list())\n",
    "df_test_copy = df_test"
   ]
  },
  {
   "cell_type": "code",
   "execution_count": 539,
   "metadata": {
    "hidden": true
   },
   "outputs": [
    {
     "data": {
      "image/png": "[encoded data removed]",
      "text/plain": [
       "<Figure size 648x360 with 1 Axes>"
      ]
     },
     "metadata": {
      "needs_background": "light"
     },
     "output_type": "display_data"
    }
   ],
   "source": [
    "plt.figure(figsize=[9,5])\n",
    "bins = range(0,15)\n",
    "\n",
    "y = df_plan[target_y]\n",
    "plt.hist(y, bins = bins, alpha=0.5, edgecolor='black', align='left')\n",
    "\n",
    "plt.xlabel('planning time')\n",
    "plt.ylabel('frequency')\n",
    "plt.title('Planning distribution')\n",
    "plt.xticks(fontsize=10)\n",
    "plt.yticks(fontsize=10)\n",
    "\n",
    "plt.show()"
   ]
  },
  {
   "cell_type": "markdown",
   "metadata": {
    "heading_collapsed": true,
    "hidden": true
   },
   "source": [
    "### Classification"
   ]
  },
  {
   "cell_type": "code",
   "execution_count": 317,
   "metadata": {
    "hidden": true
   },
   "outputs": [
    {
     "data": {
      "text/plain": [
       "array([1., 2., 4.])"
      ]
     },
     "execution_count": 317,
     "metadata": {},
     "output_type": "execute_result"
    }
   ],
   "source": [
    "# quantiles\n",
    "np.quantile(df_plan[target_y], [0.25,0.5,0.75])"
   ]
  },
  {
   "cell_type": "code",
   "execution_count": 122,
   "metadata": {
    "hidden": true
   },
   "outputs": [],
   "source": [
    "'''# 0-1, class 0; 2-5, class 1, >5, class 2\n",
    "df_train.loc[df_train[target_y] <=2, 'PlanGroup'] = 0\n",
    "df_train.loc[(df_train[target_y] <=5)&(df_train[target_y]>=3), 'PlanGroup'] = 1\n",
    "df_train.loc[df_train[target_y] >=6, 'PlanGroup'] = 2\n",
    "df_train = df_train.drop(columns=[target_y])\n",
    "\n",
    "df_test.loc[df_test[target_y] <=2, 'PlanGroup'] = 0\n",
    "df_test.loc[(df_test[target_y] <=5)&(df_test[target_y]>=3), 'PlanGroup'] = 1\n",
    "df_test.loc[df_test[target_y] >=6, 'PlanGroup'] = 2\n",
    "df_test = df_test.drop(columns=[target_y])'''\n"
   ]
  },
  {
   "cell_type": "code",
   "execution_count": 318,
   "metadata": {
    "hidden": true
   },
   "outputs": [
    {
     "data": {
      "text/plain": [
       "'PlanDur'"
      ]
     },
     "execution_count": 318,
     "metadata": {},
     "output_type": "execute_result"
    }
   ],
   "source": [
    "target_y"
   ]
  },
  {
   "cell_type": "code",
   "execution_count": 319,
   "metadata": {
    "hidden": true
   },
   "outputs": [],
   "source": [
    "X_train = df_train.drop(target_y, axis=1).values\n",
    "y_train = df_train[target_y].values\n",
    "\n",
    "X_test = df_test.drop(target_y, axis=1).values\n",
    "y_test = df_test[target_y].values\n",
    "feature_names = df_train.drop(target_y, axis=1).columns.tolist()\n"
   ]
  },
  {
   "cell_type": "code",
   "execution_count": 320,
   "metadata": {
    "hidden": true
   },
   "outputs": [
    {
     "name": "stdout",
     "output_type": "stream",
     "text": [
      "Accuracy: 0.26480836236933797\n"
     ]
    }
   ],
   "source": [
    "### simple Random Forest\n",
    "#Import Random Forest Model\n",
    "from sklearn.ensemble import RandomForestClassifier\n",
    "\n",
    "#Create a Gaussian Classifier\n",
    "clf_rf2 = RandomForestClassifier(n_estimators=100)\n",
    "\n",
    "#Train the model using the training sets y_pred=clf.predict(X_test)\n",
    "clf_rf2.fit(X_train,y_train)\n",
    "\n",
    "y_pred = clf_rf2.predict(X_test)\n",
    "\n",
    "#Import scikit-learn metrics module for accuracy calculation\n",
    "from sklearn import metrics\n",
    "# Model Accuracy, how often is the classifier correct?\n",
    "print(\"Accuracy:\", metrics.accuracy_score(y_test, y_pred))\n"
   ]
  },
  {
   "cell_type": "code",
   "execution_count": 321,
   "metadata": {
    "hidden": true
   },
   "outputs": [],
   "source": [
    "# Create the parameter grid based on the results of random search \n",
    "param_grid = {\n",
    "    'bootstrap': [True],\n",
    "    'max_depth': [10, 20, 40, 60],\n",
    "    'max_features': [4, 5, 6, 7, 8],\n",
    "    'min_samples_leaf': [4, 5, 6, 7, 8],\n",
    "    'min_samples_split': [5, 10, 12, 15],\n",
    "    'n_estimators': [100, 200, 300]\n",
    "}\n",
    "# Create a based model\n",
    "rf = RandomForestClassifier()\n",
    "# Instantiate the grid search model\n",
    "grid_search = GridSearchCV(estimator = rf, param_grid = param_grid, \n",
    "                          cv = 3, n_jobs = -1, verbose = 2)\n"
   ]
  },
  {
   "cell_type": "code",
   "execution_count": 323,
   "metadata": {
    "hidden": true
   },
   "outputs": [
    {
     "name": "stdout",
     "output_type": "stream",
     "text": [
      "Fitting 3 folds for each of 1200 candidates, totalling 3600 fits\n"
     ]
    },
    {
     "name": "stderr",
     "output_type": "stream",
     "text": [
      "/Users/fanjia/opt/anaconda3/lib/python3.8/site-packages/sklearn/model_selection/_split.py:666: UserWarning: The least populated class in y has only 1 members, which is less than n_splits=3.\n",
      "  warnings.warn((\"The least populated class in y has only %d\"\n"
     ]
    },
    {
     "data": {
      "text/plain": [
       "GridSearchCV(cv=3, estimator=RandomForestClassifier(), n_jobs=-1,\n",
       "             param_grid={'bootstrap': [True], 'max_depth': [10, 20, 40, 60],\n",
       "                         'max_features': [4, 5, 6, 7, 8],\n",
       "                         'min_samples_leaf': [4, 5, 6, 7, 8],\n",
       "                         'min_samples_split': [5, 10, 12, 15],\n",
       "                         'n_estimators': [100, 200, 300]},\n",
       "             verbose=2)"
      ]
     },
     "execution_count": 323,
     "metadata": {},
     "output_type": "execute_result"
    }
   ],
   "source": [
    "# Fit the grid search to the data\n",
    "grid_search.fit(X_train, y_train)\n",
    "\n",
    "\n",
    "#best_grid = grid_search.best_estimato\n",
    "\n"
   ]
  },
  {
   "cell_type": "code",
   "execution_count": null,
   "metadata": {
    "hidden": true
   },
   "outputs": [],
   "source": [
    "grid_search.best_params_"
   ]
  },
  {
   "cell_type": "code",
   "execution_count": null,
   "metadata": {
    "hidden": true
   },
   "outputs": [],
   "source": [
    "best_grid = grid_search.best_estimator_"
   ]
  },
  {
   "cell_type": "code",
   "execution_count": 324,
   "metadata": {
    "hidden": true
   },
   "outputs": [
    {
     "data": {
      "text/plain": [
       "0.27177700348432055"
      ]
     },
     "execution_count": 324,
     "metadata": {},
     "output_type": "execute_result"
    }
   ],
   "source": [
    "grid_search.score(X_test, y_test)"
   ]
  },
  {
   "cell_type": "code",
   "execution_count": 325,
   "metadata": {
    "hidden": true
   },
   "outputs": [
    {
     "name": "stdout",
     "output_type": "stream",
     "text": [
      "[[ 0  0  0  0  0  0  0  1  0  0  0  0  0  0  0  0  0  0  0  0  0  0  0  0]\n",
      " [ 0  0  0  0  0  0  0  0  1  0  0  0  0  0  0  0  0  0  0  0  0  0  0  0]\n",
      " [ 0  0  0  0  0  0  0  0  0  0  1  0  0  0  0  0  0  0  0  0  0  0  0  0]\n",
      " [ 0  0  0  0  0  0  0  0  0  1  0  0  0  0  0  0  0  0  0  0  0  0  0  0]\n",
      " [ 0  0  0  0  0  0  1  0  0  0  0  0  0  0  0  0  0  0  0  0  0  0  0  0]\n",
      " [ 0  0  0  0  0  0  1  0  0  0  0  0  0  0  0  0  0  0  0  0  0  0  0  0]\n",
      " [ 0  0  0  0  0  0 72 31  7  1  1  1  0  0  0  0  0  0  0  0  0  0  0  0]\n",
      " [ 0  0  0  0  0  0 30 35  9  5  5  1  0  0  0  0  0  0  0  0  0  0  0  0]\n",
      " [ 0  0  0  0  0  0 15 36 20  6  4  5  0  0  0  0  0  0  0  0  0  0  0  0]\n",
      " [ 0  0  0  0  0  0  3 22 14 11 13  5  0  0  0  0  0  0  0  0  0  0  0  0]\n",
      " [ 0  0  0  0  0  0  2 15  7 12 14  6  0  0  0  0  0  0  0  0  0  0  0  0]\n",
      " [ 0  0  0  0  0  0  1 15 13  8 25  4  0  0  0  0  0  0  0  0  0  0  0  0]\n",
      " [ 0  0  0  0  0  0  0 13  6  3 13  2  0  0  0  0  0  0  0  0  0  0  0  0]\n",
      " [ 0  0  0  0  0  0  1  8  1  6  6  2  0  0  0  0  0  0  0  0  0  0  0  0]\n",
      " [ 0  0  0  0  0  0  1  2  0  0  5  0  0  0  0  0  0  0  0  0  0  0  0  0]\n",
      " [ 0  0  0  0  0  0  0  1  3  0  5  3  0  0  0  0  0  0  0  0  0  0  0  0]\n",
      " [ 0  0  0  0  0  0  0  0  1  2  1  0  0  0  0  0  0  0  0  0  0  0  0  0]\n",
      " [ 0  0  0  0  0  0  0  0  1  2  0  0  0  0  0  0  0  0  0  0  0  0  0  0]\n",
      " [ 0  0  0  0  0  0  0  0  0  0  1  0  0  0  0  0  0  0  0  0  0  0  0  0]\n",
      " [ 0  0  0  0  0  0  0  0  1  0  0  0  0  0  0  0  0  0  0  0  0  0  0  0]\n",
      " [ 0  0  0  0  0  0  0  0  0  0  1  0  0  0  0  0  0  0  0  0  0  0  0  0]\n",
      " [ 0  0  0  0  0  0  0  0  0  0  1  0  0  0  0  0  0  0  0  0  0  0  0  0]\n",
      " [ 0  0  0  0  0  0  0  1  0  0  0  0  0  0  0  0  0  0  0  0  0  0  0  0]\n",
      " [ 0  0  0  0  0  0  0  0  0  1  0  0  0  0  0  0  0  0  0  0  0  0  0  0]]\n",
      "              precision    recall  f1-score   support\n",
      "\n",
      "       -30.0       0.00      0.00      0.00         1\n",
      "       -14.0       0.00      0.00      0.00         1\n",
      "        -9.0       0.00      0.00      0.00         1\n",
      "        -5.0       0.00      0.00      0.00         1\n",
      "        -3.0       0.00      0.00      0.00         1\n",
      "        -1.0       0.00      0.00      0.00         1\n",
      "         0.0       0.57      0.64      0.60       113\n",
      "         1.0       0.19      0.41      0.26        85\n",
      "         2.0       0.24      0.23      0.24        86\n",
      "         3.0       0.19      0.16      0.17        68\n",
      "         4.0       0.15      0.25      0.18        56\n",
      "         5.0       0.14      0.06      0.08        66\n",
      "         6.0       0.00      0.00      0.00        37\n",
      "         7.0       0.00      0.00      0.00        24\n",
      "         8.0       0.00      0.00      0.00         8\n",
      "         9.0       0.00      0.00      0.00        12\n",
      "        10.0       0.00      0.00      0.00         4\n",
      "        11.0       0.00      0.00      0.00         3\n",
      "        12.0       0.00      0.00      0.00         1\n",
      "        13.0       0.00      0.00      0.00         1\n",
      "        14.0       0.00      0.00      0.00         1\n",
      "        18.0       0.00      0.00      0.00         1\n",
      "        19.0       0.00      0.00      0.00         1\n",
      "        42.0       0.00      0.00      0.00         1\n",
      "\n",
      "    accuracy                           0.27       574\n",
      "   macro avg       0.06      0.07      0.06       574\n",
      "weighted avg       0.23      0.27      0.24       574\n",
      "\n"
     ]
    },
    {
     "name": "stderr",
     "output_type": "stream",
     "text": [
      "/Users/fanjia/opt/anaconda3/lib/python3.8/site-packages/sklearn/metrics/_classification.py:1248: UndefinedMetricWarning: Precision and F-score are ill-defined and being set to 0.0 in labels with no predicted samples. Use `zero_division` parameter to control this behavior.\n",
      "  _warn_prf(average, modifier, msg_start, len(result))\n",
      "/Users/fanjia/opt/anaconda3/lib/python3.8/site-packages/sklearn/metrics/_classification.py:1248: UndefinedMetricWarning: Precision and F-score are ill-defined and being set to 0.0 in labels with no predicted samples. Use `zero_division` parameter to control this behavior.\n",
      "  _warn_prf(average, modifier, msg_start, len(result))\n",
      "/Users/fanjia/opt/anaconda3/lib/python3.8/site-packages/sklearn/metrics/_classification.py:1248: UndefinedMetricWarning: Precision and F-score are ill-defined and being set to 0.0 in labels with no predicted samples. Use `zero_division` parameter to control this behavior.\n",
      "  _warn_prf(average, modifier, msg_start, len(result))\n"
     ]
    }
   ],
   "source": [
    "y_rf_pred=grid_search.predict(X_test)\n",
    "cm_rf = confusion_matrix(y_test, y_rf_pred)\n",
    "print(cm_rf)\n",
    "print(classification_report(y_test, y_rf_pred))"
   ]
  },
  {
   "cell_type": "code",
   "execution_count": 326,
   "metadata": {
    "hidden": true
   },
   "outputs": [
    {
     "name": "stdout",
     "output_type": "stream",
     "text": [
      "3.503855517044126\n"
     ]
    }
   ],
   "source": [
    "rmse = mean_squared_error(y_rf_pred, y_test,squared=False)\n",
    "print(rmse)"
   ]
  },
  {
   "cell_type": "markdown",
   "metadata": {
    "hidden": true
   },
   "source": [
    "#### Planning rules"
   ]
  },
  {
   "cell_type": "code",
   "execution_count": null,
   "metadata": {
    "hidden": true
   },
   "outputs": [],
   "source": [
    "a = df_plan[df_plan[target_y]<=0][target_y]\n",
    "print(np.percentile(a, 90))\n",
    "b = df_plan[(df_plan[target_y]<=1)&(df_plan[target_y]>=1)][target_y]\n",
    "print(np.percentile(b, 90))\n",
    "c = df_plan[df_plan[target_y]>=2][target_y]\n",
    "print(np.percentile(c, 75))\n"
   ]
  },
  {
   "cell_type": "markdown",
   "metadata": {
    "hidden": true
   },
   "source": [
    "#### rmse # days"
   ]
  },
  {
   "cell_type": "code",
   "execution_count": null,
   "metadata": {
    "hidden": true
   },
   "outputs": [],
   "source": [
    "y_pred_days = []\n",
    "for i in y_rf_pred:\n",
    "    if i == 0:\n",
    "        y_pred_days.append(0)\n",
    "    if i == 1:\n",
    "        y_pred_days.append(1)       \n",
    "    if i == 2:\n",
    "        y_pred_days.append(8)\n",
    "        \n",
    "y_true_days = df_test_copy[target_y].values\n",
    "from sklearn.metrics import mean_squared_error\n",
    "rmse = mean_squared_error(y_pred_days, y_true_days,squared=False)\n",
    "print(rmse)\n"
   ]
  },
  {
   "cell_type": "markdown",
   "metadata": {
    "hidden": true
   },
   "source": [
    "### Regression"
   ]
  },
  {
   "cell_type": "code",
   "execution_count": 540,
   "metadata": {
    "hidden": true
   },
   "outputs": [
    {
     "data": {
      "text/plain": [
       "(4505, 20)"
      ]
     },
     "execution_count": 540,
     "metadata": {},
     "output_type": "execute_result"
    }
   ],
   "source": [
    "df_plan = df_plan[(df_plan['PlanDur']>=0)&(df_plan['PlanDur']<=14)]\n",
    "df_plan.shape"
   ]
  },
  {
   "cell_type": "code",
   "execution_count": 541,
   "metadata": {
    "hidden": true
   },
   "outputs": [],
   "source": [
    "for column in df_plan.columns:\n",
    "    df_plan[column].fillna(df_plan[column].median(), inplace=True)\n"
   ]
  },
  {
   "cell_type": "code",
   "execution_count": 542,
   "metadata": {
    "hidden": true
   },
   "outputs": [],
   "source": [
    "df_plan = df_plan.dropna()"
   ]
  },
  {
   "cell_type": "code",
   "execution_count": 554,
   "metadata": {
    "hidden": true
   },
   "outputs": [
    {
     "name": "stdout",
     "output_type": "stream",
     "text": [
      "X_train shape: (3153, 19) | X_test shape: (1352, 19)\n",
      "y_train mean: 3.95 | y_test mean: 3.99\n",
      "20 features: ['TltDose', 'TxFracs', 'Site_BREAST', 'Site_CNS', 'Site_ENDOCRINE', 'Site_ENT (HEAD & NECK)', 'Site_EYE', 'Site_GENITOURINARY(GU)', 'Site_GI LOWER', 'Site_GI UPPER', 'Site_GYNAE', 'Site_LUNG', 'Site_LYMPHOMA', 'Site_PAEDIATRIC', 'Site_SARCOMA', 'Site_SKIN', 'Site_Unknown', 'Categ_Standard 3', 'Categ_Urgent 2']\n"
     ]
    }
   ],
   "source": [
    "# train-test split\n",
    "target_y = 'PlanDur'\n",
    "df_plan = df_plan[df_plan['PlanDur']>=0]\n",
    "df_train, df_test = model_selection.train_test_split(df_plan, test_size=0.3, random_state=10)\n",
    "## print info\n",
    "print(\"X_train shape:\", df_train.drop(target_y,axis=1).shape, \"| X_test shape:\", df_test.drop(target_y,axis=1).shape)\n",
    "print(\"y_train mean:\", round(np.mean(df_train[target_y]),2), \"| y_test mean:\", round(np.mean(df_test[target_y]),2))\n",
    "print(df_train.shape[1], \"features:\", df_train.drop(target_y,axis=1).columns.to_list())\n",
    "df_test_copy = df_test\n",
    "\n",
    "X_train = df_train.drop('PlanDur', axis=1).values\n",
    "y_train = df_train['PlanDur'].values\n",
    "\n",
    "X_test = df_test.drop('PlanDur', axis=1).values\n",
    "y_test = df_test['PlanDur'].values\n",
    "feature_names = df_train.drop('PlanDur', axis=1).columns.tolist()"
   ]
  },
  {
   "cell_type": "code",
   "execution_count": 557,
   "metadata": {
    "hidden": true
   },
   "outputs": [
    {
     "data": {
      "text/plain": [
       "(3153, 19)"
      ]
     },
     "execution_count": 557,
     "metadata": {},
     "output_type": "execute_result"
    }
   ],
   "source": [
    "X_train.shape"
   ]
  },
  {
   "cell_type": "code",
   "execution_count": 558,
   "metadata": {
    "hidden": true
   },
   "outputs": [
    {
     "ename": "ValueError",
     "evalue": "operands could not be broadcast together with shapes (19,) (17,) ",
     "output_type": "error",
     "traceback": [
      "\u001b[0;31m---------------------------------------------------------------------------\u001b[0m",
      "\u001b[0;31mValueError\u001b[0m                                Traceback (most recent call last)",
      "\u001b[0;32m<ipython-input-558-6ffa0874b8fa>\u001b[0m in \u001b[0;36m<module>\u001b[0;34m\u001b[0m\n\u001b[1;32m      2\u001b[0m \u001b[0;32mimport\u001b[0m \u001b[0mstatsmodels\u001b[0m\u001b[0;34m.\u001b[0m\u001b[0mapi\u001b[0m \u001b[0;32mas\u001b[0m \u001b[0msm\u001b[0m\u001b[0;34m\u001b[0m\u001b[0;34m\u001b[0m\u001b[0m\n\u001b[1;32m      3\u001b[0m \u001b[0mquantreg\u001b[0m \u001b[0;34m=\u001b[0m \u001b[0msm\u001b[0m\u001b[0;34m.\u001b[0m\u001b[0mQuantReg\u001b[0m\u001b[0;34m(\u001b[0m\u001b[0my_train\u001b[0m\u001b[0;34m,\u001b[0m \u001b[0mX_train\u001b[0m\u001b[0;34m)\u001b[0m\u001b[0;34m\u001b[0m\u001b[0;34m\u001b[0m\u001b[0m\n\u001b[0;32m----> 4\u001b[0;31m \u001b[0mmodel_qr\u001b[0m \u001b[0;34m=\u001b[0m \u001b[0mquantreg\u001b[0m\u001b[0;34m.\u001b[0m\u001b[0mfit\u001b[0m\u001b[0;34m(\u001b[0m\u001b[0mq\u001b[0m\u001b[0;34m=\u001b[0m\u001b[0;36m0.80\u001b[0m\u001b[0;34m)\u001b[0m\u001b[0;34m\u001b[0m\u001b[0;34m\u001b[0m\u001b[0m\n\u001b[0m\u001b[1;32m      5\u001b[0m \u001b[0;31m#y_pred = model_qr.predict(X_test)\u001b[0m\u001b[0;34m\u001b[0m\u001b[0;34m\u001b[0m\u001b[0;34m\u001b[0m\u001b[0m\n\u001b[1;32m      6\u001b[0m \u001b[0;34m\u001b[0m\u001b[0m\n",
      "\u001b[0;32m~/opt/anaconda3/lib/python3.8/site-packages/statsmodels/regression/quantile_regression.py\u001b[0m in \u001b[0;36mfit\u001b[0;34m(self, q, vcov, kernel, bandwidth, max_iter, p_tol, **kwargs)\u001b[0m\n\u001b[1;32m    175\u001b[0m             \u001b[0mresid\u001b[0m \u001b[0;34m=\u001b[0m \u001b[0mnp\u001b[0m\u001b[0;34m.\u001b[0m\u001b[0mabs\u001b[0m\u001b[0;34m(\u001b[0m\u001b[0mresid\u001b[0m\u001b[0;34m)\u001b[0m\u001b[0;34m\u001b[0m\u001b[0;34m\u001b[0m\u001b[0m\n\u001b[1;32m    176\u001b[0m             \u001b[0mxstar\u001b[0m \u001b[0;34m=\u001b[0m \u001b[0mexog\u001b[0m \u001b[0;34m/\u001b[0m \u001b[0mresid\u001b[0m\u001b[0;34m[\u001b[0m\u001b[0;34m:\u001b[0m\u001b[0;34m,\u001b[0m \u001b[0mnp\u001b[0m\u001b[0;34m.\u001b[0m\u001b[0mnewaxis\u001b[0m\u001b[0;34m]\u001b[0m\u001b[0;34m\u001b[0m\u001b[0;34m\u001b[0m\u001b[0m\n\u001b[0;32m--> 177\u001b[0;31m             \u001b[0mdiff\u001b[0m \u001b[0;34m=\u001b[0m \u001b[0mnp\u001b[0m\u001b[0;34m.\u001b[0m\u001b[0mmax\u001b[0m\u001b[0;34m(\u001b[0m\u001b[0mnp\u001b[0m\u001b[0;34m.\u001b[0m\u001b[0mabs\u001b[0m\u001b[0;34m(\u001b[0m\u001b[0mbeta\u001b[0m \u001b[0;34m-\u001b[0m \u001b[0mbeta0\u001b[0m\u001b[0;34m)\u001b[0m\u001b[0;34m)\u001b[0m\u001b[0;34m\u001b[0m\u001b[0;34m\u001b[0m\u001b[0m\n\u001b[0m\u001b[1;32m    178\u001b[0m             \u001b[0mhistory\u001b[0m\u001b[0;34m[\u001b[0m\u001b[0;34m'params'\u001b[0m\u001b[0;34m]\u001b[0m\u001b[0;34m.\u001b[0m\u001b[0mappend\u001b[0m\u001b[0;34m(\u001b[0m\u001b[0mbeta\u001b[0m\u001b[0;34m)\u001b[0m\u001b[0;34m\u001b[0m\u001b[0;34m\u001b[0m\u001b[0m\n\u001b[1;32m    179\u001b[0m             \u001b[0mhistory\u001b[0m\u001b[0;34m[\u001b[0m\u001b[0;34m'mse'\u001b[0m\u001b[0;34m]\u001b[0m\u001b[0;34m.\u001b[0m\u001b[0mappend\u001b[0m\u001b[0;34m(\u001b[0m\u001b[0mnp\u001b[0m\u001b[0;34m.\u001b[0m\u001b[0mmean\u001b[0m\u001b[0;34m(\u001b[0m\u001b[0mresid\u001b[0m\u001b[0;34m*\u001b[0m\u001b[0mresid\u001b[0m\u001b[0;34m)\u001b[0m\u001b[0;34m)\u001b[0m\u001b[0;34m\u001b[0m\u001b[0;34m\u001b[0m\u001b[0m\n",
      "\u001b[0;31mValueError\u001b[0m: operands could not be broadcast together with shapes (19,) (17,) "
     ]
    }
   ],
   "source": [
    "## Quantile Regression\n",
    "import statsmodels.api as sm\n",
    "quantreg = sm.QuantReg(y_train, X_train)\n",
    "model_qr = quantreg.fit(q=0.80)\n",
    "#y_pred = model_qr.predict(X_test)\n",
    "\n"
   ]
  },
  {
   "cell_type": "code",
   "execution_count": 545,
   "metadata": {
    "hidden": true
   },
   "outputs": [
    {
     "data": {
      "image/png": "[encoded data removed]",
      "text/plain": [
       "<Figure size 432x288 with 1 Axes>"
      ]
     },
     "metadata": {
      "needs_background": "light"
     },
     "output_type": "display_data"
    }
   ],
   "source": [
    "## call model\n",
    "from sklearn.ensemble import GradientBoostingRegressor\n",
    "model = GradientBoostingRegressor(random_state=0, loss = 'quantile', alpha = 0.8)\n",
    "## K fold validation\n",
    "scores = []\n",
    "rmse_list = []\n",
    "cv = model_selection.KFold(n_splits=5, shuffle=True)\n",
    "fig = plt.figure()\n",
    "i = 1\n",
    "for train, test in cv.split(X_train, y_train):\n",
    "    prediction = model.fit(X_train[train],\n",
    "                 y_train[train]).predict(X_train[test])\n",
    "    true = y_train[test]\n",
    "    #score = metrics.r2_score(true, prediction)\n",
    "    #scores.append(score)\n",
    "    rmse = mean_squared_error(true, prediction, squared=False)\n",
    "    rmse_list.append(rmse)\n",
    "    plt.scatter(prediction, true, lw=2, alpha=0.3, \n",
    "                label='Fold %d (rmse = %0.2f)' % (i, rmse))\n",
    "                #label='Fold %d (R2 = %0.2f)' % (i,score))\n",
    "    i = i+1\n",
    "    \n",
    "### plotting predicted values against the actual Y\n",
    "### Ideally, points should be all close to a diagonal line where predicted = actual\n",
    "#plt.figure(figsize=[7,5])\n",
    "plt.plot([min(y_train),max(y_train)], [min(y_train),max(y_train)], \n",
    "         linestyle='--', lw=2, color='black')\n",
    "\n",
    "plt.xlabel('Predicted')\n",
    "plt.ylabel('True')\n",
    "plt.title('K-Fold Validation')\n",
    "plt.legend(loc = \"lower right\")\n",
    "\n",
    "plt.show()"
   ]
  },
  {
   "cell_type": "code",
   "execution_count": 547,
   "metadata": {
    "hidden": true
   },
   "outputs": [
    {
     "name": "stdout",
     "output_type": "stream",
     "text": [
      "3.419421054542202\n"
     ]
    }
   ],
   "source": [
    "QRmodel = GradientBoostingRegressor(random_state=0, loss = 'quantile', alpha = 0.8)\n",
    "QRmodel.fit(X_train, y_train)\n",
    "y_test_pred = model.predict(X_test)\n",
    "rmse = mean_squared_error(y_test_pred, y_test,squared=False)\n",
    "print(rmse)"
   ]
  },
  {
   "cell_type": "code",
   "execution_count": 548,
   "metadata": {
    "hidden": true
   },
   "outputs": [
    {
     "data": {
      "image/png": "[encoded data removed]",
      "text/plain": [
       "<Figure size 648x360 with 1 Axes>"
      ]
     },
     "metadata": {
      "needs_background": "light"
     },
     "output_type": "display_data"
    }
   ],
   "source": [
    "\n",
    "plt.figure(figsize=[9,5])\n",
    "bins = range(0,25)\n",
    "\n",
    "y = y_test_pred\n",
    "plt.hist(y, bins = bins, alpha=0.5, edgecolor='black', align='left')\n",
    "\n",
    "plt.xlabel('planning time')\n",
    "plt.ylabel('frequency')\n",
    "plt.title('Planning distribution')\n",
    "plt.xticks(fontsize=10)\n",
    "plt.yticks(fontsize=10)\n",
    "\n",
    "plt.show()"
   ]
  },
  {
   "cell_type": "code",
   "execution_count": null,
   "metadata": {
    "hidden": true
   },
   "outputs": [],
   "source": [
    "## predicting the new ins data\n"
   ]
  },
  {
   "cell_type": "code",
   "execution_count": 104,
   "metadata": {
    "hidden": true
   },
   "outputs": [
    {
     "data": {
      "text/plain": [
       "'import math\\ny_pred_days = [round(i) for i in y_test_pred]\\ny_pred_days'"
      ]
     },
     "execution_count": 104,
     "metadata": {},
     "output_type": "execute_result"
    }
   ],
   "source": [
    "'''import math\n",
    "y_pred_days = [round(i) for i in y_test_pred]\n",
    "y_pred_days'''"
   ]
  },
  {
   "cell_type": "code",
   "execution_count": 518,
   "metadata": {
    "hidden": true
   },
   "outputs": [
    {
     "name": "stdout",
     "output_type": "stream",
     "text": [
      "Fitting 3 folds for each of 81 candidates, totalling 243 fits\n"
     ]
    },
    {
     "data": {
      "text/plain": [
       "{'learning_rate': 0.01, 'max_depth': 5, 'max_features': 5, 'n_estimators': 200}"
      ]
     },
     "execution_count": 518,
     "metadata": {},
     "output_type": "execute_result"
    }
   ],
   "source": [
    "# Create the parameter grid based on the results of random search \n",
    "param_grid = {\n",
    "    'learning_rate':[0.001, 0.01, 0.1],\n",
    "    'max_depth': [5, 10, 20],\n",
    "    'max_features': [3, 4, 5],\n",
    "    'n_estimators': [100, 200, 300]\n",
    "}\n",
    "# Create a based model\n",
    "gb = GradientBoostingRegressor(random_state=1)\n",
    "# Instantiate the grid search model\n",
    "gb_grid_search = GridSearchCV(estimator = gb, param_grid = param_grid, \n",
    "                          cv = 3, n_jobs = -1, verbose = 2, scoring='neg_root_mean_squared_error')\n",
    "# Fit the grid search to the data\n",
    "gb_grid_search.fit(X_train, y_train)\n",
    "gb_grid_search.best_params_"
   ]
  },
  {
   "cell_type": "code",
   "execution_count": 519,
   "metadata": {
    "hidden": true
   },
   "outputs": [
    {
     "name": "stdout",
     "output_type": "stream",
     "text": [
      "3.09252888839197\n"
     ]
    }
   ],
   "source": [
    "y_test_pred = gb_grid_search.predict(X_test)\n",
    "rmse = mean_squared_error(y_test_pred, y_test,squared=False)\n",
    "print(rmse)"
   ]
  },
  {
   "cell_type": "markdown",
   "metadata": {
    "hidden": true
   },
   "source": [
    "### Instance data"
   ]
  },
  {
   "cell_type": "code",
   "execution_count": 549,
   "metadata": {
    "hidden": true
   },
   "outputs": [
    {
     "data": {
      "text/html": [
       "<div>\n",
       "<style scoped>\n",
       "    .dataframe tbody tr th:only-of-type {\n",
       "        vertical-align: middle;\n",
       "    }\n",
       "\n",
       "    .dataframe tbody tr th {\n",
       "        vertical-align: top;\n",
       "    }\n",
       "\n",
       "    .dataframe thead th {\n",
       "        text-align: right;\n",
       "    }\n",
       "</style>\n",
       "<table border=\"1\" class=\"dataframe\">\n",
       "  <thead>\n",
       "    <tr style=\"text-align: right;\">\n",
       "      <th></th>\n",
       "      <th>TltDose</th>\n",
       "      <th>TxFracs</th>\n",
       "      <th>Site_BREAST</th>\n",
       "      <th>Site_CNS</th>\n",
       "      <th>Site_ENDOCRINE</th>\n",
       "      <th>Site_ENT (HEAD &amp; NECK)</th>\n",
       "      <th>Site_EYE</th>\n",
       "      <th>Site_GENITOURINARY(GU)</th>\n",
       "      <th>Site_GI LOWER</th>\n",
       "      <th>Site_GI UPPER</th>\n",
       "      <th>Site_GYNAE</th>\n",
       "      <th>Site_LUNG</th>\n",
       "      <th>Site_LYMPHOMA</th>\n",
       "      <th>Site_PAEDIATRIC</th>\n",
       "      <th>Site_SARCOMA</th>\n",
       "      <th>Site_SKIN</th>\n",
       "      <th>Site_Unknown</th>\n",
       "      <th>Categ_Standard 3</th>\n",
       "      <th>Categ_Urgent 2</th>\n",
       "    </tr>\n",
       "  </thead>\n",
       "  <tbody>\n",
       "    <tr>\n",
       "      <th>0</th>\n",
       "      <td>1600</td>\n",
       "      <td>2</td>\n",
       "      <td>0.0</td>\n",
       "      <td>0.0</td>\n",
       "      <td>0.0</td>\n",
       "      <td>0.0</td>\n",
       "      <td>0.0</td>\n",
       "      <td>0.0</td>\n",
       "      <td>0.0</td>\n",
       "      <td>0.0</td>\n",
       "      <td>0.0</td>\n",
       "      <td>0.0</td>\n",
       "      <td>0.0</td>\n",
       "      <td>0.0</td>\n",
       "      <td>0.0</td>\n",
       "      <td>0.0</td>\n",
       "      <td>0.0</td>\n",
       "      <td>0.0</td>\n",
       "      <td>0.0</td>\n",
       "    </tr>\n",
       "    <tr>\n",
       "      <th>1</th>\n",
       "      <td>2500</td>\n",
       "      <td>10</td>\n",
       "      <td>0.0</td>\n",
       "      <td>0.0</td>\n",
       "      <td>0.0</td>\n",
       "      <td>0.0</td>\n",
       "      <td>0.0</td>\n",
       "      <td>0.0</td>\n",
       "      <td>0.0</td>\n",
       "      <td>0.0</td>\n",
       "      <td>0.0</td>\n",
       "      <td>0.0</td>\n",
       "      <td>0.0</td>\n",
       "      <td>0.0</td>\n",
       "      <td>0.0</td>\n",
       "      <td>0.0</td>\n",
       "      <td>0.0</td>\n",
       "      <td>0.0</td>\n",
       "      <td>0.0</td>\n",
       "    </tr>\n",
       "    <tr>\n",
       "      <th>2</th>\n",
       "      <td>1600</td>\n",
       "      <td>2</td>\n",
       "      <td>0.0</td>\n",
       "      <td>0.0</td>\n",
       "      <td>0.0</td>\n",
       "      <td>0.0</td>\n",
       "      <td>0.0</td>\n",
       "      <td>0.0</td>\n",
       "      <td>0.0</td>\n",
       "      <td>0.0</td>\n",
       "      <td>0.0</td>\n",
       "      <td>0.0</td>\n",
       "      <td>0.0</td>\n",
       "      <td>0.0</td>\n",
       "      <td>0.0</td>\n",
       "      <td>0.0</td>\n",
       "      <td>0.0</td>\n",
       "      <td>0.0</td>\n",
       "      <td>0.0</td>\n",
       "    </tr>\n",
       "    <tr>\n",
       "      <th>3</th>\n",
       "      <td>2000</td>\n",
       "      <td>5</td>\n",
       "      <td>0.0</td>\n",
       "      <td>0.0</td>\n",
       "      <td>0.0</td>\n",
       "      <td>0.0</td>\n",
       "      <td>0.0</td>\n",
       "      <td>0.0</td>\n",
       "      <td>0.0</td>\n",
       "      <td>0.0</td>\n",
       "      <td>0.0</td>\n",
       "      <td>0.0</td>\n",
       "      <td>0.0</td>\n",
       "      <td>0.0</td>\n",
       "      <td>0.0</td>\n",
       "      <td>0.0</td>\n",
       "      <td>0.0</td>\n",
       "      <td>0.0</td>\n",
       "      <td>0.0</td>\n",
       "    </tr>\n",
       "    <tr>\n",
       "      <th>4</th>\n",
       "      <td>800</td>\n",
       "      <td>1</td>\n",
       "      <td>0.0</td>\n",
       "      <td>0.0</td>\n",
       "      <td>0.0</td>\n",
       "      <td>0.0</td>\n",
       "      <td>0.0</td>\n",
       "      <td>0.0</td>\n",
       "      <td>0.0</td>\n",
       "      <td>0.0</td>\n",
       "      <td>0.0</td>\n",
       "      <td>0.0</td>\n",
       "      <td>0.0</td>\n",
       "      <td>0.0</td>\n",
       "      <td>0.0</td>\n",
       "      <td>0.0</td>\n",
       "      <td>0.0</td>\n",
       "      <td>0.0</td>\n",
       "      <td>0.0</td>\n",
       "    </tr>\n",
       "    <tr>\n",
       "      <th>...</th>\n",
       "      <td>...</td>\n",
       "      <td>...</td>\n",
       "      <td>...</td>\n",
       "      <td>...</td>\n",
       "      <td>...</td>\n",
       "      <td>...</td>\n",
       "      <td>...</td>\n",
       "      <td>...</td>\n",
       "      <td>...</td>\n",
       "      <td>...</td>\n",
       "      <td>...</td>\n",
       "      <td>...</td>\n",
       "      <td>...</td>\n",
       "      <td>...</td>\n",
       "      <td>...</td>\n",
       "      <td>...</td>\n",
       "      <td>...</td>\n",
       "      <td>...</td>\n",
       "      <td>...</td>\n",
       "    </tr>\n",
       "    <tr>\n",
       "      <th>11798</th>\n",
       "      <td>2000</td>\n",
       "      <td>5</td>\n",
       "      <td>0.0</td>\n",
       "      <td>0.0</td>\n",
       "      <td>0.0</td>\n",
       "      <td>0.0</td>\n",
       "      <td>0.0</td>\n",
       "      <td>0.0</td>\n",
       "      <td>0.0</td>\n",
       "      <td>0.0</td>\n",
       "      <td>0.0</td>\n",
       "      <td>0.0</td>\n",
       "      <td>0.0</td>\n",
       "      <td>0.0</td>\n",
       "      <td>0.0</td>\n",
       "      <td>0.0</td>\n",
       "      <td>0.0</td>\n",
       "      <td>0.0</td>\n",
       "      <td>0.0</td>\n",
       "    </tr>\n",
       "    <tr>\n",
       "      <th>11799</th>\n",
       "      <td>1200</td>\n",
       "      <td>6</td>\n",
       "      <td>0.0</td>\n",
       "      <td>0.0</td>\n",
       "      <td>0.0</td>\n",
       "      <td>0.0</td>\n",
       "      <td>0.0</td>\n",
       "      <td>0.0</td>\n",
       "      <td>0.0</td>\n",
       "      <td>0.0</td>\n",
       "      <td>0.0</td>\n",
       "      <td>0.0</td>\n",
       "      <td>0.0</td>\n",
       "      <td>0.0</td>\n",
       "      <td>0.0</td>\n",
       "      <td>0.0</td>\n",
       "      <td>0.0</td>\n",
       "      <td>0.0</td>\n",
       "      <td>0.0</td>\n",
       "    </tr>\n",
       "    <tr>\n",
       "      <th>11800</th>\n",
       "      <td>3600</td>\n",
       "      <td>20</td>\n",
       "      <td>0.0</td>\n",
       "      <td>0.0</td>\n",
       "      <td>0.0</td>\n",
       "      <td>0.0</td>\n",
       "      <td>0.0</td>\n",
       "      <td>0.0</td>\n",
       "      <td>0.0</td>\n",
       "      <td>0.0</td>\n",
       "      <td>0.0</td>\n",
       "      <td>0.0</td>\n",
       "      <td>0.0</td>\n",
       "      <td>0.0</td>\n",
       "      <td>0.0</td>\n",
       "      <td>0.0</td>\n",
       "      <td>0.0</td>\n",
       "      <td>0.0</td>\n",
       "      <td>0.0</td>\n",
       "    </tr>\n",
       "    <tr>\n",
       "      <th>11801</th>\n",
       "      <td>540</td>\n",
       "      <td>3</td>\n",
       "      <td>0.0</td>\n",
       "      <td>0.0</td>\n",
       "      <td>0.0</td>\n",
       "      <td>0.0</td>\n",
       "      <td>0.0</td>\n",
       "      <td>0.0</td>\n",
       "      <td>0.0</td>\n",
       "      <td>0.0</td>\n",
       "      <td>0.0</td>\n",
       "      <td>0.0</td>\n",
       "      <td>0.0</td>\n",
       "      <td>0.0</td>\n",
       "      <td>0.0</td>\n",
       "      <td>0.0</td>\n",
       "      <td>0.0</td>\n",
       "      <td>0.0</td>\n",
       "      <td>0.0</td>\n",
       "    </tr>\n",
       "    <tr>\n",
       "      <th>11802</th>\n",
       "      <td>2000</td>\n",
       "      <td>10</td>\n",
       "      <td>0.0</td>\n",
       "      <td>0.0</td>\n",
       "      <td>0.0</td>\n",
       "      <td>0.0</td>\n",
       "      <td>0.0</td>\n",
       "      <td>0.0</td>\n",
       "      <td>0.0</td>\n",
       "      <td>0.0</td>\n",
       "      <td>0.0</td>\n",
       "      <td>0.0</td>\n",
       "      <td>0.0</td>\n",
       "      <td>0.0</td>\n",
       "      <td>0.0</td>\n",
       "      <td>0.0</td>\n",
       "      <td>0.0</td>\n",
       "      <td>0.0</td>\n",
       "      <td>0.0</td>\n",
       "    </tr>\n",
       "  </tbody>\n",
       "</table>\n",
       "<p>11803 rows × 19 columns</p>\n",
       "</div>"
      ],
      "text/plain": [
       "       TltDose  TxFracs  Site_BREAST  Site_CNS  Site_ENDOCRINE  \\\n",
       "0         1600        2          0.0       0.0             0.0   \n",
       "1         2500       10          0.0       0.0             0.0   \n",
       "2         1600        2          0.0       0.0             0.0   \n",
       "3         2000        5          0.0       0.0             0.0   \n",
       "4          800        1          0.0       0.0             0.0   \n",
       "...        ...      ...          ...       ...             ...   \n",
       "11798     2000        5          0.0       0.0             0.0   \n",
       "11799     1200        6          0.0       0.0             0.0   \n",
       "11800     3600       20          0.0       0.0             0.0   \n",
       "11801      540        3          0.0       0.0             0.0   \n",
       "11802     2000       10          0.0       0.0             0.0   \n",
       "\n",
       "       Site_ENT (HEAD & NECK)  Site_EYE  Site_GENITOURINARY(GU)  \\\n",
       "0                         0.0       0.0                     0.0   \n",
       "1                         0.0       0.0                     0.0   \n",
       "2                         0.0       0.0                     0.0   \n",
       "3                         0.0       0.0                     0.0   \n",
       "4                         0.0       0.0                     0.0   \n",
       "...                       ...       ...                     ...   \n",
       "11798                     0.0       0.0                     0.0   \n",
       "11799                     0.0       0.0                     0.0   \n",
       "11800                     0.0       0.0                     0.0   \n",
       "11801                     0.0       0.0                     0.0   \n",
       "11802                     0.0       0.0                     0.0   \n",
       "\n",
       "       Site_GI LOWER  Site_GI UPPER  Site_GYNAE  Site_LUNG  Site_LYMPHOMA  \\\n",
       "0                0.0            0.0         0.0        0.0            0.0   \n",
       "1                0.0            0.0         0.0        0.0            0.0   \n",
       "2                0.0            0.0         0.0        0.0            0.0   \n",
       "3                0.0            0.0         0.0        0.0            0.0   \n",
       "4                0.0            0.0         0.0        0.0            0.0   \n",
       "...              ...            ...         ...        ...            ...   \n",
       "11798            0.0            0.0         0.0        0.0            0.0   \n",
       "11799            0.0            0.0         0.0        0.0            0.0   \n",
       "11800            0.0            0.0         0.0        0.0            0.0   \n",
       "11801            0.0            0.0         0.0        0.0            0.0   \n",
       "11802            0.0            0.0         0.0        0.0            0.0   \n",
       "\n",
       "       Site_PAEDIATRIC  Site_SARCOMA  Site_SKIN  Site_Unknown  \\\n",
       "0                  0.0           0.0        0.0           0.0   \n",
       "1                  0.0           0.0        0.0           0.0   \n",
       "2                  0.0           0.0        0.0           0.0   \n",
       "3                  0.0           0.0        0.0           0.0   \n",
       "4                  0.0           0.0        0.0           0.0   \n",
       "...                ...           ...        ...           ...   \n",
       "11798              0.0           0.0        0.0           0.0   \n",
       "11799              0.0           0.0        0.0           0.0   \n",
       "11800              0.0           0.0        0.0           0.0   \n",
       "11801              0.0           0.0        0.0           0.0   \n",
       "11802              0.0           0.0        0.0           0.0   \n",
       "\n",
       "       Categ_Standard 3  Categ_Urgent 2  \n",
       "0                   0.0             0.0  \n",
       "1                   0.0             0.0  \n",
       "2                   0.0             0.0  \n",
       "3                   0.0             0.0  \n",
       "4                   0.0             0.0  \n",
       "...                 ...             ...  \n",
       "11798               0.0             0.0  \n",
       "11799               0.0             0.0  \n",
       "11800               0.0             0.0  \n",
       "11801               0.0             0.0  \n",
       "11802               0.0             0.0  \n",
       "\n",
       "[11803 rows x 19 columns]"
      ]
     },
     "execution_count": 549,
     "metadata": {},
     "output_type": "execute_result"
    }
   ],
   "source": [
    "bi_features = df_train.columns\n",
    "df_new = df_ins\n",
    "df_new = df_new.reindex(columns=df_new.columns | df_train.columns)\n",
    "df_new.fillna(0, inplace=True)\n",
    "df_new = df_new[bi_features.drop('PlanDur')]\n",
    "df_new"
   ]
  },
  {
   "cell_type": "code",
   "execution_count": 550,
   "metadata": {
    "hidden": true
   },
   "outputs": [],
   "source": [
    "X_new = df_new.values\n",
    "y_new_pred = model.predict(X_new)\n",
    "#gb_grid_search.predict(X_new)\n",
    "\n",
    "df_ins['Plan'] = y_new_pred.round(0)"
   ]
  },
  {
   "cell_type": "code",
   "execution_count": 551,
   "metadata": {
    "hidden": true
   },
   "outputs": [
    {
     "data": {
      "text/html": [
       "<div>\n",
       "<style scoped>\n",
       "    .dataframe tbody tr th:only-of-type {\n",
       "        vertical-align: middle;\n",
       "    }\n",
       "\n",
       "    .dataframe tbody tr th {\n",
       "        vertical-align: top;\n",
       "    }\n",
       "\n",
       "    .dataframe thead th {\n",
       "        text-align: right;\n",
       "    }\n",
       "</style>\n",
       "<table border=\"1\" class=\"dataframe\">\n",
       "  <thead>\n",
       "    <tr style=\"text-align: right;\">\n",
       "      <th></th>\n",
       "      <th>Unnamed: 0</th>\n",
       "      <th>MRN</th>\n",
       "      <th>CreatedDate</th>\n",
       "      <th>SiteGroup</th>\n",
       "      <th>Intent1</th>\n",
       "      <th>Category_x</th>\n",
       "      <th>SimApptDuration</th>\n",
       "      <th>TltDose</th>\n",
       "      <th>TxFracs</th>\n",
       "      <th>TxApptDuration</th>\n",
       "      <th>...</th>\n",
       "      <th>Plan80p</th>\n",
       "      <th>Plan90p</th>\n",
       "      <th>Intent_y</th>\n",
       "      <th>PlanM</th>\n",
       "      <th>preTxDays_75</th>\n",
       "      <th>preTxDays_80</th>\n",
       "      <th>preTxDays_90</th>\n",
       "      <th>Contour</th>\n",
       "      <th>Plan</th>\n",
       "      <th>preTxDays</th>\n",
       "    </tr>\n",
       "  </thead>\n",
       "  <tbody>\n",
       "    <tr>\n",
       "      <th>0</th>\n",
       "      <td>0</td>\n",
       "      <td>7287</td>\n",
       "      <td>2019-02-20</td>\n",
       "      <td>GENITOURINARY(GU)</td>\n",
       "      <td>Palliative</td>\n",
       "      <td>Urgent 2</td>\n",
       "      <td>30</td>\n",
       "      <td>1600</td>\n",
       "      <td>2</td>\n",
       "      <td>30</td>\n",
       "      <td>...</td>\n",
       "      <td>0.0</td>\n",
       "      <td>1.0</td>\n",
       "      <td>Palliative</td>\n",
       "      <td>0.0</td>\n",
       "      <td>0.0</td>\n",
       "      <td>0.0</td>\n",
       "      <td>1.0</td>\n",
       "      <td>2.356854</td>\n",
       "      <td>4.0</td>\n",
       "      <td>6.356854</td>\n",
       "    </tr>\n",
       "    <tr>\n",
       "      <th>1</th>\n",
       "      <td>2</td>\n",
       "      <td>7287</td>\n",
       "      <td>2019-07-31</td>\n",
       "      <td>GENITOURINARY(GU)</td>\n",
       "      <td>Palliative</td>\n",
       "      <td>Urgent 2</td>\n",
       "      <td>30</td>\n",
       "      <td>2500</td>\n",
       "      <td>10</td>\n",
       "      <td>30</td>\n",
       "      <td>...</td>\n",
       "      <td>0.0</td>\n",
       "      <td>1.0</td>\n",
       "      <td>Palliative</td>\n",
       "      <td>0.0</td>\n",
       "      <td>0.0</td>\n",
       "      <td>0.0</td>\n",
       "      <td>1.0</td>\n",
       "      <td>4.849468</td>\n",
       "      <td>6.0</td>\n",
       "      <td>10.849468</td>\n",
       "    </tr>\n",
       "    <tr>\n",
       "      <th>2</th>\n",
       "      <td>3</td>\n",
       "      <td>7287</td>\n",
       "      <td>2019-08-28</td>\n",
       "      <td>GENITOURINARY(GU)</td>\n",
       "      <td>Palliative</td>\n",
       "      <td>Urgent 2</td>\n",
       "      <td>30</td>\n",
       "      <td>1600</td>\n",
       "      <td>2</td>\n",
       "      <td>30</td>\n",
       "      <td>...</td>\n",
       "      <td>0.0</td>\n",
       "      <td>1.0</td>\n",
       "      <td>Palliative</td>\n",
       "      <td>0.0</td>\n",
       "      <td>0.0</td>\n",
       "      <td>0.0</td>\n",
       "      <td>1.0</td>\n",
       "      <td>2.356854</td>\n",
       "      <td>4.0</td>\n",
       "      <td>6.356854</td>\n",
       "    </tr>\n",
       "    <tr>\n",
       "      <th>3</th>\n",
       "      <td>11</td>\n",
       "      <td>160063</td>\n",
       "      <td>2019-12-02</td>\n",
       "      <td>GENITOURINARY(GU)</td>\n",
       "      <td>Palliative</td>\n",
       "      <td>Urgent 2</td>\n",
       "      <td>30</td>\n",
       "      <td>2000</td>\n",
       "      <td>5</td>\n",
       "      <td>30</td>\n",
       "      <td>...</td>\n",
       "      <td>0.0</td>\n",
       "      <td>1.0</td>\n",
       "      <td>Palliative</td>\n",
       "      <td>0.0</td>\n",
       "      <td>0.0</td>\n",
       "      <td>0.0</td>\n",
       "      <td>1.0</td>\n",
       "      <td>2.356854</td>\n",
       "      <td>4.0</td>\n",
       "      <td>6.356854</td>\n",
       "    </tr>\n",
       "    <tr>\n",
       "      <th>4</th>\n",
       "      <td>12</td>\n",
       "      <td>160063</td>\n",
       "      <td>2020-07-13</td>\n",
       "      <td>GENITOURINARY(GU)</td>\n",
       "      <td>Palliative</td>\n",
       "      <td>Urgent 2</td>\n",
       "      <td>30</td>\n",
       "      <td>800</td>\n",
       "      <td>1</td>\n",
       "      <td>30</td>\n",
       "      <td>...</td>\n",
       "      <td>0.0</td>\n",
       "      <td>1.0</td>\n",
       "      <td>Palliative</td>\n",
       "      <td>0.0</td>\n",
       "      <td>0.0</td>\n",
       "      <td>0.0</td>\n",
       "      <td>1.0</td>\n",
       "      <td>2.437982</td>\n",
       "      <td>4.0</td>\n",
       "      <td>6.437982</td>\n",
       "    </tr>\n",
       "    <tr>\n",
       "      <th>...</th>\n",
       "      <td>...</td>\n",
       "      <td>...</td>\n",
       "      <td>...</td>\n",
       "      <td>...</td>\n",
       "      <td>...</td>\n",
       "      <td>...</td>\n",
       "      <td>...</td>\n",
       "      <td>...</td>\n",
       "      <td>...</td>\n",
       "      <td>...</td>\n",
       "      <td>...</td>\n",
       "      <td>...</td>\n",
       "      <td>...</td>\n",
       "      <td>...</td>\n",
       "      <td>...</td>\n",
       "      <td>...</td>\n",
       "      <td>...</td>\n",
       "      <td>...</td>\n",
       "      <td>...</td>\n",
       "      <td>...</td>\n",
       "      <td>...</td>\n",
       "    </tr>\n",
       "    <tr>\n",
       "      <th>11798</th>\n",
       "      <td>15182</td>\n",
       "      <td>4384853</td>\n",
       "      <td>2019-06-20</td>\n",
       "      <td>PAEDIATRIC</td>\n",
       "      <td>Complex Palliation</td>\n",
       "      <td>Urgent 2</td>\n",
       "      <td>30</td>\n",
       "      <td>2000</td>\n",
       "      <td>5</td>\n",
       "      <td>30</td>\n",
       "      <td>...</td>\n",
       "      <td>1.2</td>\n",
       "      <td>2.3</td>\n",
       "      <td>Complex Palliation</td>\n",
       "      <td>0.0</td>\n",
       "      <td>0.5</td>\n",
       "      <td>1.2</td>\n",
       "      <td>2.6</td>\n",
       "      <td>2.329985</td>\n",
       "      <td>4.0</td>\n",
       "      <td>6.329985</td>\n",
       "    </tr>\n",
       "    <tr>\n",
       "      <th>11799</th>\n",
       "      <td>15231</td>\n",
       "      <td>4539330</td>\n",
       "      <td>2018-05-02</td>\n",
       "      <td>PAEDIATRIC</td>\n",
       "      <td>Complex Palliation</td>\n",
       "      <td>Urgent 2</td>\n",
       "      <td>30</td>\n",
       "      <td>1200</td>\n",
       "      <td>6</td>\n",
       "      <td>45</td>\n",
       "      <td>...</td>\n",
       "      <td>1.2</td>\n",
       "      <td>2.3</td>\n",
       "      <td>Complex Palliation</td>\n",
       "      <td>0.0</td>\n",
       "      <td>0.5</td>\n",
       "      <td>1.2</td>\n",
       "      <td>2.6</td>\n",
       "      <td>2.230816</td>\n",
       "      <td>5.0</td>\n",
       "      <td>7.230816</td>\n",
       "    </tr>\n",
       "    <tr>\n",
       "      <th>11800</th>\n",
       "      <td>15266</td>\n",
       "      <td>4580417</td>\n",
       "      <td>2019-11-05</td>\n",
       "      <td>PAEDIATRIC</td>\n",
       "      <td>Complex Palliation</td>\n",
       "      <td>Urgent 2</td>\n",
       "      <td>30</td>\n",
       "      <td>3600</td>\n",
       "      <td>20</td>\n",
       "      <td>30</td>\n",
       "      <td>...</td>\n",
       "      <td>1.2</td>\n",
       "      <td>2.3</td>\n",
       "      <td>Complex Palliation</td>\n",
       "      <td>0.0</td>\n",
       "      <td>0.5</td>\n",
       "      <td>1.2</td>\n",
       "      <td>2.6</td>\n",
       "      <td>4.131718</td>\n",
       "      <td>6.0</td>\n",
       "      <td>10.131718</td>\n",
       "    </tr>\n",
       "    <tr>\n",
       "      <th>11801</th>\n",
       "      <td>15303</td>\n",
       "      <td>4619093</td>\n",
       "      <td>2019-06-17</td>\n",
       "      <td>PAEDIATRIC</td>\n",
       "      <td>Complex Palliation</td>\n",
       "      <td>Urgent 2</td>\n",
       "      <td>30</td>\n",
       "      <td>540</td>\n",
       "      <td>3</td>\n",
       "      <td>30</td>\n",
       "      <td>...</td>\n",
       "      <td>1.2</td>\n",
       "      <td>2.3</td>\n",
       "      <td>Complex Palliation</td>\n",
       "      <td>0.0</td>\n",
       "      <td>0.5</td>\n",
       "      <td>1.2</td>\n",
       "      <td>2.6</td>\n",
       "      <td>2.070687</td>\n",
       "      <td>4.0</td>\n",
       "      <td>6.070687</td>\n",
       "    </tr>\n",
       "    <tr>\n",
       "      <th>11802</th>\n",
       "      <td>15469</td>\n",
       "      <td>4560983</td>\n",
       "      <td>2018-12-27</td>\n",
       "      <td>PAEDIATRIC</td>\n",
       "      <td>Complex Palliation</td>\n",
       "      <td>Urgent 2</td>\n",
       "      <td>30</td>\n",
       "      <td>2000</td>\n",
       "      <td>10</td>\n",
       "      <td>30</td>\n",
       "      <td>...</td>\n",
       "      <td>1.2</td>\n",
       "      <td>2.3</td>\n",
       "      <td>Complex Palliation</td>\n",
       "      <td>0.0</td>\n",
       "      <td>0.5</td>\n",
       "      <td>1.2</td>\n",
       "      <td>2.6</td>\n",
       "      <td>2.230816</td>\n",
       "      <td>5.0</td>\n",
       "      <td>7.230816</td>\n",
       "    </tr>\n",
       "  </tbody>\n",
       "</table>\n",
       "<p>11803 rows × 35 columns</p>\n",
       "</div>"
      ],
      "text/plain": [
       "       Unnamed: 0      MRN CreatedDate          SiteGroup             Intent1  \\\n",
       "0               0     7287  2019-02-20  GENITOURINARY(GU)          Palliative   \n",
       "1               2     7287  2019-07-31  GENITOURINARY(GU)          Palliative   \n",
       "2               3     7287  2019-08-28  GENITOURINARY(GU)          Palliative   \n",
       "3              11   160063  2019-12-02  GENITOURINARY(GU)          Palliative   \n",
       "4              12   160063  2020-07-13  GENITOURINARY(GU)          Palliative   \n",
       "...           ...      ...         ...                ...                 ...   \n",
       "11798       15182  4384853  2019-06-20         PAEDIATRIC  Complex Palliation   \n",
       "11799       15231  4539330  2018-05-02         PAEDIATRIC  Complex Palliation   \n",
       "11800       15266  4580417  2019-11-05         PAEDIATRIC  Complex Palliation   \n",
       "11801       15303  4619093  2019-06-17         PAEDIATRIC  Complex Palliation   \n",
       "11802       15469  4560983  2018-12-27         PAEDIATRIC  Complex Palliation   \n",
       "\n",
       "      Category_x  SimApptDuration  TltDose  TxFracs  TxApptDuration  ...  \\\n",
       "0       Urgent 2               30     1600        2              30  ...   \n",
       "1       Urgent 2               30     2500       10              30  ...   \n",
       "2       Urgent 2               30     1600        2              30  ...   \n",
       "3       Urgent 2               30     2000        5              30  ...   \n",
       "4       Urgent 2               30      800        1              30  ...   \n",
       "...          ...              ...      ...      ...             ...  ...   \n",
       "11798   Urgent 2               30     2000        5              30  ...   \n",
       "11799   Urgent 2               30     1200        6              45  ...   \n",
       "11800   Urgent 2               30     3600       20              30  ...   \n",
       "11801   Urgent 2               30      540        3              30  ...   \n",
       "11802   Urgent 2               30     2000       10              30  ...   \n",
       "\n",
       "      Plan80p  Plan90p            Intent_y PlanM preTxDays_75  preTxDays_80  \\\n",
       "0         0.0      1.0          Palliative   0.0          0.0           0.0   \n",
       "1         0.0      1.0          Palliative   0.0          0.0           0.0   \n",
       "2         0.0      1.0          Palliative   0.0          0.0           0.0   \n",
       "3         0.0      1.0          Palliative   0.0          0.0           0.0   \n",
       "4         0.0      1.0          Palliative   0.0          0.0           0.0   \n",
       "...       ...      ...                 ...   ...          ...           ...   \n",
       "11798     1.2      2.3  Complex Palliation   0.0          0.5           1.2   \n",
       "11799     1.2      2.3  Complex Palliation   0.0          0.5           1.2   \n",
       "11800     1.2      2.3  Complex Palliation   0.0          0.5           1.2   \n",
       "11801     1.2      2.3  Complex Palliation   0.0          0.5           1.2   \n",
       "11802     1.2      2.3  Complex Palliation   0.0          0.5           1.2   \n",
       "\n",
       "       preTxDays_90   Contour  Plan  preTxDays  \n",
       "0               1.0  2.356854   4.0   6.356854  \n",
       "1               1.0  4.849468   6.0  10.849468  \n",
       "2               1.0  2.356854   4.0   6.356854  \n",
       "3               1.0  2.356854   4.0   6.356854  \n",
       "4               1.0  2.437982   4.0   6.437982  \n",
       "...             ...       ...   ...        ...  \n",
       "11798           2.6  2.329985   4.0   6.329985  \n",
       "11799           2.6  2.230816   5.0   7.230816  \n",
       "11800           2.6  4.131718   6.0  10.131718  \n",
       "11801           2.6  2.070687   4.0   6.070687  \n",
       "11802           2.6  2.230816   5.0   7.230816  \n",
       "\n",
       "[11803 rows x 35 columns]"
      ]
     },
     "execution_count": 551,
     "metadata": {},
     "output_type": "execute_result"
    }
   ],
   "source": [
    "df_ins['preTxDays']=df_ins['Plan']+df_ins['Contour']\n",
    "df_ins"
   ]
  },
  {
   "cell_type": "code",
   "execution_count": 552,
   "metadata": {
    "hidden": true
   },
   "outputs": [
    {
     "data": {
      "image/png": "[encoded data removed]",
      "text/plain": [
       "<Figure size 648x360 with 1 Axes>"
      ]
     },
     "metadata": {
      "needs_background": "light"
     },
     "output_type": "display_data"
    }
   ],
   "source": [
    "plt.figure(figsize=[9,5])\n",
    "bins = range(0,25)\n",
    "\n",
    "y = df_ins['preTxDays']\n",
    "plt.hist(y, bins = bins, alpha=0.5, edgecolor='black', align='left')\n",
    "\n",
    "plt.xlabel('pre-trt days')\n",
    "plt.ylabel('frequency')\n",
    "plt.title('pre-trt days distribution of GB quantile regression')\n",
    "plt.xticks(fontsize=10)\n",
    "plt.yticks(fontsize=10)\n",
    "\n",
    "plt.show()"
   ]
  },
  {
   "cell_type": "code",
   "execution_count": 455,
   "metadata": {
    "hidden": true
   },
   "outputs": [],
   "source": [
    "#df_ins.to_excel(output_file_name)\n",
    "df_ins.to_excel(\"ins_2018_2019_part2_GBQR.xlsx\")"
   ]
  },
  {
   "cell_type": "code",
   "execution_count": null,
   "metadata": {
    "hidden": true
   },
   "outputs": [],
   "source": [
    "#df1920[df1920['Team']==1][['SimLocation','TxUnit']]"
   ]
  },
  {
   "cell_type": "code",
   "execution_count": 237,
   "metadata": {
    "hidden": true
   },
   "outputs": [
    {
     "data": {
      "text/plain": [
       "array(['CNS', 'Head & Neck', 'Gynae', 'Breast', 'GI Upper', 'Sarcoma',\n",
       "       'Endocrine', 'Lung', 'Lymphoma', 'Paediatrics'], dtype=object)"
      ]
     },
     "execution_count": 237,
     "metadata": {},
     "output_type": "execute_result"
    }
   ],
   "source": [
    "df_ins.SiteGroup.unique()"
   ]
  },
  {
   "cell_type": "markdown",
   "metadata": {},
   "source": [
    "# Simple Analysis"
   ]
  },
  {
   "cell_type": "code",
   "execution_count": 562,
   "metadata": {},
   "outputs": [
    {
     "data": {
      "image/png": "[encoded data removed]",
      "text/plain": [
       "<Figure size 648x360 with 1 Axes>"
      ]
     },
     "metadata": {
      "needs_background": "light"
     },
     "output_type": "display_data"
    }
   ],
   "source": [
    "plt.figure(figsize=[9,5])\n",
    "bins = range(0,10)\n",
    "\n",
    "y = df1920[\"ContourDur\"]\n",
    "plt.hist(y, bins = bins, alpha=0.5, edgecolor='black', align='left')\n",
    "\n",
    "\n",
    "plt.xlabel('Contouring time')\n",
    "plt.ylabel('frequency')\n",
    "plt.title('Contouring distribution')\n",
    "plt.xticks(fontsize=10)\n",
    "plt.yticks(fontsize=10)\n",
    "\n",
    "plt.show()"
   ]
  },
  {
   "cell_type": "code",
   "execution_count": 563,
   "metadata": {},
   "outputs": [
    {
     "data": {
      "text/plain": [
       "7781"
      ]
     },
     "execution_count": 563,
     "metadata": {},
     "output_type": "execute_result"
    }
   ],
   "source": [
    "df1920[\"PlanDur\"].size"
   ]
  },
  {
   "cell_type": "code",
   "execution_count": 459,
   "metadata": {
    "scrolled": false
   },
   "outputs": [
    {
     "data": {
      "image/png": "[encoded data removed]",
      "text/plain": [
       "<Figure size 648x360 with 1 Axes>"
      ]
     },
     "metadata": {
      "needs_background": "light"
     },
     "output_type": "display_data"
    }
   ],
   "source": [
    "plt.figure(figsize=[9,5])\n",
    "bins = range(0,10)\n",
    "\n",
    "y = df1920[\"PlanDur\"]\n",
    "plt.hist(y, bins = bins, alpha=0.5, edgecolor='black', align='left')\n",
    "\n",
    "plt.xlabel('Planning time')\n",
    "plt.ylabel('frequency')\n",
    "plt.title('Planning distribution')\n",
    "plt.xticks(fontsize=10)\n",
    "plt.yticks(fontsize=10)\n",
    "\n",
    "plt.show()"
   ]
  },
  {
   "cell_type": "code",
   "execution_count": 564,
   "metadata": {},
   "outputs": [
    {
     "data": {
      "text/plain": [
       "(44622, 82)"
      ]
     },
     "execution_count": 564,
     "metadata": {},
     "output_type": "execute_result"
    }
   ],
   "source": [
    "#df_ins = pd.read_excel('ins_201910_202002_part1.xlsx')\n",
    "#df_ins.rename(columns={\"Category_x\": \"Category\"})\n",
    "df_orig.shape"
   ]
  },
  {
   "cell_type": "code",
   "execution_count": 565,
   "metadata": {},
   "outputs": [
    {
     "data": {
      "text/plain": [
       "(16084, 82)"
      ]
     },
     "execution_count": 565,
     "metadata": {},
     "output_type": "execute_result"
    }
   ],
   "source": [
    "df_1920 = df_orig[(df_orig['CreatedDate']>='2017-01-01')&(df_orig['CreatedDate']<='2021-01-01')]\n",
    "df_1920.shape"
   ]
  },
  {
   "cell_type": "code",
   "execution_count": 566,
   "metadata": {},
   "outputs": [],
   "source": [
    "sitegroups = df_1920['SiteGroup'].unique()\n",
    "categories = df_1920['Category_x'].unique()\n",
    "intents = df_1920['Intent1'].unique()\n",
    "intents = intents[~pd.isnull(intents)]"
   ]
  },
  {
   "cell_type": "code",
   "execution_count": 567,
   "metadata": {},
   "outputs": [
    {
     "data": {
      "text/plain": [
       "array(['Palliative', 'Radical', 'Complex Palliation'], dtype=object)"
      ]
     },
     "execution_count": 567,
     "metadata": {},
     "output_type": "execute_result"
    }
   ],
   "source": [
    "intents"
   ]
  },
  {
   "cell_type": "code",
   "execution_count": 568,
   "metadata": {},
   "outputs": [],
   "source": [
    "# planning\n",
    "list_todf = []\n",
    "for s in sitegroups:\n",
    "    for c in categories:\n",
    "        for i in intents:\n",
    "            #print(s, c, i)\n",
    "            df_temp = df_1920[(df_1920['SiteGroup']==s)&(df_1920['Category_x']==c)&(df_1920['Intent1']==i)]\n",
    "            df_temp['PlanDur'].fillna(df_temp['PlanDur'].median(), inplace=True) # fill na using mean\n",
    "            p_90 = df_temp['PlanDur'].quantile(.9)\n",
    "            p_80 = df_temp['PlanDur'].quantile(.8)\n",
    "            p_75 = df_temp['PlanDur'].quantile(.75)\n",
    "            p_med = df_temp['PlanDur'].median()\n",
    "            new_row = [s, c, i, p_90, p_80, p_75, p_med]\n",
    "            list_todf.append(new_row)\n",
    "df_simplePlan = pd.DataFrame(list_todf, columns =['SiteGroup','Category','Intent','90p','80p','75p','m'])\n",
    "\n",
    "df_toFill = df_simplePlan[df_simplePlan['90p'].isna()]\n",
    "df_simplePlan = df_simplePlan.dropna()\n",
    "\n",
    "# fill na using mean of this sitegroup and category\n",
    "for s in df_toFill['SiteGroup'].unique():\n",
    "    for c in df_toFill['Category'].unique():\n",
    "        mean = df_1920[(df_1920['SiteGroup']==s)&(df_1920['Category_x']==c)]['PlanDur'].mean()\n",
    "        df_filled = df_toFill[(df_toFill['SiteGroup']==s)&(df_toFill['Category']==c)].fillna(mean)\n",
    "        df_simplePlan = df_simplePlan.append(df_filled, sort=True)"
   ]
  },
  {
   "cell_type": "code",
   "execution_count": 309,
   "metadata": {},
   "outputs": [],
   "source": [
    "#df_simplePlan.to_excel('Planning_Simple_Rule_since18.xlsx')\n"
   ]
  },
  {
   "cell_type": "code",
   "execution_count": 569,
   "metadata": {},
   "outputs": [
    {
     "data": {
      "image/png": "[encoded data removed]",
      "text/plain": [
       "<Figure size 648x360 with 1 Axes>"
      ]
     },
     "metadata": {
      "needs_background": "light"
     },
     "output_type": "display_data"
    }
   ],
   "source": [
    "plt.figure(figsize=[9,5])\n",
    "bins = range(0,15)\n",
    "\n",
    "y = df_simplePlan['80p']\n",
    "plt.hist(y, bins = bins, alpha=0.5, edgecolor='black', align='left')\n",
    "\n",
    "plt.xlabel('Planning time')\n",
    "plt.ylabel('frequency')\n",
    "plt.title('Planning distribution 80 p')\n",
    "plt.xticks(fontsize=10)\n",
    "plt.yticks(fontsize=10)\n",
    "\n",
    "plt.show()\n"
   ]
  },
  {
   "cell_type": "code",
   "execution_count": 570,
   "metadata": {},
   "outputs": [
    {
     "data": {
      "image/png": "[encoded data removed]",
      "text/plain": [
       "<Figure size 648x360 with 1 Axes>"
      ]
     },
     "metadata": {
      "needs_background": "light"
     },
     "output_type": "display_data"
    }
   ],
   "source": [
    "plt.figure(figsize=[9,5])\n",
    "bins = range(0,15)\n",
    "\n",
    "y = df_simplePlan['90p']\n",
    "plt.hist(y, bins = bins, alpha=0.5, edgecolor='black', align='left')\n",
    "\n",
    "plt.xlabel('Contouring time')\n",
    "plt.ylabel('frequency')\n",
    "plt.title('Planning distribution 90 p')\n",
    "plt.xticks(fontsize=10)\n",
    "plt.yticks(fontsize=10)\n",
    "\n",
    "plt.show()"
   ]
  },
  {
   "cell_type": "code",
   "execution_count": 571,
   "metadata": {},
   "outputs": [],
   "source": [
    "# contouring\n",
    "list_todf = []\n",
    "# compute 90 anf 75 percentile based on [sitegroup, category, intent]\n",
    "for s in sitegroups:\n",
    "    for c in categories:\n",
    "        for i in intents:\n",
    "            #print(s, c, i)\n",
    "            df_temp = df_1920[(df_1920['SiteGroup']==s)&(df_1920['Category_x']==c)&(df_1920['Intent1']==i)]\n",
    "            df_temp['ContourDur'].fillna(df_temp['ContourDur'].median(), inplace=True) # fill na using mean\n",
    "            p_90 = df_temp['ContourDur'].quantile(.9)\n",
    "            p_80 = df_temp['ContourDur'].quantile(.8)\n",
    "            p_75 = df_temp['ContourDur'].quantile(.75)\n",
    "            p_med = df_temp['ContourDur'].median()\n",
    "            new_row = [s, c, i, p_90, p_80, p_75, p_med]\n",
    "            list_todf.append(new_row)\n",
    "df_simpleContour = pd.DataFrame(list_todf, columns =['SiteGroup','Category','Intent','90p','80p','75p', 'm'])\n",
    "\n",
    "df_toFill = df_simpleContour[df_simpleContour['90p'].isna()]\n",
    "df_simpleContour = df_simpleContour.dropna()\n",
    "\n",
    "# fill na using mean of this [sitegroup, category]\n",
    "for s in df_toFill['SiteGroup'].unique():\n",
    "    for c in df_toFill['Category'].unique():\n",
    "        mean = df_1920[(df_1920['SiteGroup']==s)&(df_1920['Category_x']==c)]['PlanDur'].mean()\n",
    "        df_filled = df_toFill[(df_toFill['SiteGroup']==s)&(df_toFill['Category']==c)].fillna(mean)\n",
    "        df_simpleContour = df_simpleContour.append(df_filled, sort=True)"
   ]
  },
  {
   "cell_type": "code",
   "execution_count": 572,
   "metadata": {},
   "outputs": [
    {
     "data": {
      "image/png": "[encoded data removed]",
      "text/plain": [
       "<Figure size 648x360 with 1 Axes>"
      ]
     },
     "metadata": {
      "needs_background": "light"
     },
     "output_type": "display_data"
    }
   ],
   "source": [
    "plt.figure(figsize=[9,5])\n",
    "bins = range(0,15)\n",
    "\n",
    "y = df_simpleContour['80p']\n",
    "plt.hist(y, bins = bins, alpha=0.5, edgecolor='black', align='left')\n",
    "\n",
    "plt.xlabel('Contouring time')\n",
    "plt.ylabel('frequency')\n",
    "plt.title('Contouring distribution 80p')\n",
    "plt.xticks(fontsize=10)\n",
    "plt.yticks(fontsize=10)\n",
    "\n",
    "plt.show()"
   ]
  },
  {
   "cell_type": "code",
   "execution_count": 573,
   "metadata": {},
   "outputs": [
    {
     "data": {
      "image/png": "[encoded data removed]",
      "text/plain": [
       "<Figure size 648x360 with 1 Axes>"
      ]
     },
     "metadata": {
      "needs_background": "light"
     },
     "output_type": "display_data"
    }
   ],
   "source": [
    "plt.figure(figsize=[9,5])\n",
    "bins = range(0,15)\n",
    "\n",
    "y = df_simpleContour['90p']\n",
    "plt.hist(y, bins = bins, alpha=0.5, edgecolor='black', align='left')\n",
    "\n",
    "plt.xlabel('Contouring time')\n",
    "plt.ylabel('frequency')\n",
    "plt.title('Contouring distribution 90p')\n",
    "plt.xticks(fontsize=10)\n",
    "plt.yticks(fontsize=10)\n",
    "\n",
    "plt.show()"
   ]
  },
  {
   "cell_type": "code",
   "execution_count": 574,
   "metadata": {},
   "outputs": [],
   "source": [
    "#df_ins = pd.read_excel('ins_2018_2020_part1.xlsx')\n",
    "df_ins = pd.read_excel('ins_2018_2020_heuristics.xlsx')"
   ]
  },
  {
   "cell_type": "code",
   "execution_count": 575,
   "metadata": {},
   "outputs": [
    {
     "data": {
      "text/plain": [
       "array(['Radical', 'Complex Palliation', 'Palliative'], dtype=object)"
      ]
     },
     "execution_count": 575,
     "metadata": {},
     "output_type": "execute_result"
    }
   ],
   "source": [
    "df_ins['Intent1'].unique()"
   ]
  },
  {
   "cell_type": "code",
   "execution_count": 576,
   "metadata": {},
   "outputs": [],
   "source": [
    "df_ins = df_ins.merge(df_simpleContour, left_on=['SiteGroup','Category_x','Intent1'], right_on=['SiteGroup','Category','Intent'])\n",
    "df_ins = df_ins.rename(columns={\"75p\":\"Contr75p\",\"80p\":\"Contr80p\", \"90p\":\"Contr90p\", 'm':'ContrM'})\n",
    "df_ins = df_ins.drop(columns=['Category'])\n"
   ]
  },
  {
   "cell_type": "code",
   "execution_count": 577,
   "metadata": {},
   "outputs": [],
   "source": [
    "df_ins = df_ins.merge(df_simplePlan, left_on=['SiteGroup','Category_x','Intent1'], right_on=['SiteGroup','Category','Intent'])\n",
    "df_ins = df_ins.rename(columns={\"75p\":\"Plan75p\", \"80p\":\"Plan80p\", \"90p\":\"Plan90p\", 'm':\"PlanM\"})\n",
    "df_ins = df_ins.drop(columns=['Category'])\n"
   ]
  },
  {
   "cell_type": "code",
   "execution_count": 578,
   "metadata": {},
   "outputs": [
    {
     "data": {
      "text/html": [
       "<div>\n",
       "<style scoped>\n",
       "    .dataframe tbody tr th:only-of-type {\n",
       "        vertical-align: middle;\n",
       "    }\n",
       "\n",
       "    .dataframe tbody tr th {\n",
       "        vertical-align: top;\n",
       "    }\n",
       "\n",
       "    .dataframe thead th {\n",
       "        text-align: right;\n",
       "    }\n",
       "</style>\n",
       "<table border=\"1\" class=\"dataframe\">\n",
       "  <thead>\n",
       "    <tr style=\"text-align: right;\">\n",
       "      <th></th>\n",
       "      <th>MRN</th>\n",
       "      <th>CreatedDate</th>\n",
       "      <th>SiteGroup</th>\n",
       "      <th>Intent1</th>\n",
       "      <th>Category_x</th>\n",
       "      <th>SimApptDuration</th>\n",
       "      <th>TltDose</th>\n",
       "      <th>TxFracs</th>\n",
       "      <th>TxApptDuration</th>\n",
       "      <th>TxUnit</th>\n",
       "      <th>...</th>\n",
       "      <th>Intent_x</th>\n",
       "      <th>ContrM</th>\n",
       "      <th>Plan75p</th>\n",
       "      <th>Plan80p</th>\n",
       "      <th>Plan90p</th>\n",
       "      <th>Intent_y</th>\n",
       "      <th>PlanM</th>\n",
       "      <th>preTxDays_75</th>\n",
       "      <th>preTxDays_80</th>\n",
       "      <th>preTxDays_90</th>\n",
       "    </tr>\n",
       "  </thead>\n",
       "  <tbody>\n",
       "    <tr>\n",
       "      <th>0</th>\n",
       "      <td>2626026</td>\n",
       "      <td>2018-01-01</td>\n",
       "      <td>GENITOURINARY(GU)</td>\n",
       "      <td>Radical</td>\n",
       "      <td>Standard 3</td>\n",
       "      <td>30</td>\n",
       "      <td>5400</td>\n",
       "      <td>27</td>\n",
       "      <td>30</td>\n",
       "      <td>NA09</td>\n",
       "      <td>...</td>\n",
       "      <td>Radical</td>\n",
       "      <td>2.0</td>\n",
       "      <td>2.00</td>\n",
       "      <td>2.0</td>\n",
       "      <td>6.0</td>\n",
       "      <td>Radical</td>\n",
       "      <td>1.0</td>\n",
       "      <td>5.000</td>\n",
       "      <td>5.0</td>\n",
       "      <td>10.00</td>\n",
       "    </tr>\n",
       "    <tr>\n",
       "      <th>1</th>\n",
       "      <td>4253349</td>\n",
       "      <td>2018-01-02</td>\n",
       "      <td>GENITOURINARY(GU)</td>\n",
       "      <td>Radical</td>\n",
       "      <td>Standard 3</td>\n",
       "      <td>15</td>\n",
       "      <td>6600</td>\n",
       "      <td>33</td>\n",
       "      <td>30</td>\n",
       "      <td>SV02</td>\n",
       "      <td>...</td>\n",
       "      <td>Radical</td>\n",
       "      <td>2.0</td>\n",
       "      <td>2.00</td>\n",
       "      <td>2.0</td>\n",
       "      <td>6.0</td>\n",
       "      <td>Radical</td>\n",
       "      <td>1.0</td>\n",
       "      <td>5.000</td>\n",
       "      <td>5.0</td>\n",
       "      <td>10.00</td>\n",
       "    </tr>\n",
       "    <tr>\n",
       "      <th>2</th>\n",
       "      <td>4398204</td>\n",
       "      <td>2018-01-02</td>\n",
       "      <td>GENITOURINARY(GU)</td>\n",
       "      <td>Radical</td>\n",
       "      <td>Standard 3</td>\n",
       "      <td>20</td>\n",
       "      <td>6600</td>\n",
       "      <td>33</td>\n",
       "      <td>30</td>\n",
       "      <td>SV02</td>\n",
       "      <td>...</td>\n",
       "      <td>Radical</td>\n",
       "      <td>2.0</td>\n",
       "      <td>2.00</td>\n",
       "      <td>2.0</td>\n",
       "      <td>6.0</td>\n",
       "      <td>Radical</td>\n",
       "      <td>1.0</td>\n",
       "      <td>5.000</td>\n",
       "      <td>5.0</td>\n",
       "      <td>10.00</td>\n",
       "    </tr>\n",
       "    <tr>\n",
       "      <th>3</th>\n",
       "      <td>4228163</td>\n",
       "      <td>2018-01-04</td>\n",
       "      <td>GENITOURINARY(GU)</td>\n",
       "      <td>Radical</td>\n",
       "      <td>Standard 3</td>\n",
       "      <td>15</td>\n",
       "      <td>6600</td>\n",
       "      <td>33</td>\n",
       "      <td>30</td>\n",
       "      <td>SV02</td>\n",
       "      <td>...</td>\n",
       "      <td>Radical</td>\n",
       "      <td>2.0</td>\n",
       "      <td>2.00</td>\n",
       "      <td>2.0</td>\n",
       "      <td>6.0</td>\n",
       "      <td>Radical</td>\n",
       "      <td>1.0</td>\n",
       "      <td>5.000</td>\n",
       "      <td>5.0</td>\n",
       "      <td>10.00</td>\n",
       "    </tr>\n",
       "    <tr>\n",
       "      <th>4</th>\n",
       "      <td>158696</td>\n",
       "      <td>2018-01-04</td>\n",
       "      <td>GENITOURINARY(GU)</td>\n",
       "      <td>Radical</td>\n",
       "      <td>Standard 3</td>\n",
       "      <td>30</td>\n",
       "      <td>6000</td>\n",
       "      <td>20</td>\n",
       "      <td>30</td>\n",
       "      <td>NA09</td>\n",
       "      <td>...</td>\n",
       "      <td>Radical</td>\n",
       "      <td>2.0</td>\n",
       "      <td>2.00</td>\n",
       "      <td>2.0</td>\n",
       "      <td>6.0</td>\n",
       "      <td>Radical</td>\n",
       "      <td>1.0</td>\n",
       "      <td>5.000</td>\n",
       "      <td>5.0</td>\n",
       "      <td>10.00</td>\n",
       "    </tr>\n",
       "    <tr>\n",
       "      <th>...</th>\n",
       "      <td>...</td>\n",
       "      <td>...</td>\n",
       "      <td>...</td>\n",
       "      <td>...</td>\n",
       "      <td>...</td>\n",
       "      <td>...</td>\n",
       "      <td>...</td>\n",
       "      <td>...</td>\n",
       "      <td>...</td>\n",
       "      <td>...</td>\n",
       "      <td>...</td>\n",
       "      <td>...</td>\n",
       "      <td>...</td>\n",
       "      <td>...</td>\n",
       "      <td>...</td>\n",
       "      <td>...</td>\n",
       "      <td>...</td>\n",
       "      <td>...</td>\n",
       "      <td>...</td>\n",
       "      <td>...</td>\n",
       "      <td>...</td>\n",
       "    </tr>\n",
       "    <tr>\n",
       "      <th>11798</th>\n",
       "      <td>4713585</td>\n",
       "      <td>2020-11-04</td>\n",
       "      <td>PAEDIATRIC</td>\n",
       "      <td>Complex Palliation</td>\n",
       "      <td>Standard 3</td>\n",
       "      <td>45</td>\n",
       "      <td>2000</td>\n",
       "      <td>5</td>\n",
       "      <td>30</td>\n",
       "      <td>NA12</td>\n",
       "      <td>...</td>\n",
       "      <td>Complex Palliation</td>\n",
       "      <td>1.5</td>\n",
       "      <td>2.75</td>\n",
       "      <td>3.0</td>\n",
       "      <td>26.5</td>\n",
       "      <td>Complex Palliation</td>\n",
       "      <td>2.0</td>\n",
       "      <td>5.500</td>\n",
       "      <td>6.0</td>\n",
       "      <td>29.50</td>\n",
       "    </tr>\n",
       "    <tr>\n",
       "      <th>11799</th>\n",
       "      <td>4596312</td>\n",
       "      <td>2018-12-12</td>\n",
       "      <td>GI LOWER</td>\n",
       "      <td>Radical</td>\n",
       "      <td>Urgent 2</td>\n",
       "      <td>45</td>\n",
       "      <td>3600</td>\n",
       "      <td>20</td>\n",
       "      <td>30</td>\n",
       "      <td>NA11</td>\n",
       "      <td>...</td>\n",
       "      <td>Radical</td>\n",
       "      <td>3.5</td>\n",
       "      <td>2.50</td>\n",
       "      <td>2.8</td>\n",
       "      <td>3.4</td>\n",
       "      <td>Radical</td>\n",
       "      <td>2.0</td>\n",
       "      <td>6.625</td>\n",
       "      <td>7.3</td>\n",
       "      <td>8.65</td>\n",
       "    </tr>\n",
       "    <tr>\n",
       "      <th>11800</th>\n",
       "      <td>4786080</td>\n",
       "      <td>2020-10-21</td>\n",
       "      <td>GI LOWER</td>\n",
       "      <td>Radical</td>\n",
       "      <td>Urgent 2</td>\n",
       "      <td>45</td>\n",
       "      <td>4500</td>\n",
       "      <td>25</td>\n",
       "      <td>30</td>\n",
       "      <td>NA10</td>\n",
       "      <td>...</td>\n",
       "      <td>Radical</td>\n",
       "      <td>3.5</td>\n",
       "      <td>2.50</td>\n",
       "      <td>2.8</td>\n",
       "      <td>3.4</td>\n",
       "      <td>Radical</td>\n",
       "      <td>2.0</td>\n",
       "      <td>6.625</td>\n",
       "      <td>7.3</td>\n",
       "      <td>8.65</td>\n",
       "    </tr>\n",
       "    <tr>\n",
       "      <th>11801</th>\n",
       "      <td>3113781</td>\n",
       "      <td>2020-01-21</td>\n",
       "      <td>EYE</td>\n",
       "      <td>Complex Palliation</td>\n",
       "      <td>Urgent 2</td>\n",
       "      <td>30</td>\n",
       "      <td>2000</td>\n",
       "      <td>5</td>\n",
       "      <td>30</td>\n",
       "      <td>NA09</td>\n",
       "      <td>...</td>\n",
       "      <td>Complex Palliation</td>\n",
       "      <td>0.0</td>\n",
       "      <td>0.00</td>\n",
       "      <td>0.0</td>\n",
       "      <td>0.0</td>\n",
       "      <td>Complex Palliation</td>\n",
       "      <td>0.0</td>\n",
       "      <td>0.000</td>\n",
       "      <td>0.0</td>\n",
       "      <td>0.00</td>\n",
       "    </tr>\n",
       "    <tr>\n",
       "      <th>11802</th>\n",
       "      <td>4325628</td>\n",
       "      <td>2020-04-29</td>\n",
       "      <td>SKIN</td>\n",
       "      <td>Complex Palliation</td>\n",
       "      <td>Urgent 2</td>\n",
       "      <td>45</td>\n",
       "      <td>3000</td>\n",
       "      <td>15</td>\n",
       "      <td>30</td>\n",
       "      <td>SV03</td>\n",
       "      <td>...</td>\n",
       "      <td>Complex Palliation</td>\n",
       "      <td>1.5</td>\n",
       "      <td>0.00</td>\n",
       "      <td>0.0</td>\n",
       "      <td>0.0</td>\n",
       "      <td>Complex Palliation</td>\n",
       "      <td>0.0</td>\n",
       "      <td>1.750</td>\n",
       "      <td>1.8</td>\n",
       "      <td>1.90</td>\n",
       "    </tr>\n",
       "  </tbody>\n",
       "</table>\n",
       "<p>11803 rows × 31 columns</p>\n",
       "</div>"
      ],
      "text/plain": [
       "           MRN CreatedDate          SiteGroup             Intent1  Category_x  \\\n",
       "0      2626026  2018-01-01  GENITOURINARY(GU)             Radical  Standard 3   \n",
       "1      4253349  2018-01-02  GENITOURINARY(GU)             Radical  Standard 3   \n",
       "2      4398204  2018-01-02  GENITOURINARY(GU)             Radical  Standard 3   \n",
       "3      4228163  2018-01-04  GENITOURINARY(GU)             Radical  Standard 3   \n",
       "4       158696  2018-01-04  GENITOURINARY(GU)             Radical  Standard 3   \n",
       "...        ...         ...                ...                 ...         ...   \n",
       "11798  4713585  2020-11-04         PAEDIATRIC  Complex Palliation  Standard 3   \n",
       "11799  4596312  2018-12-12           GI LOWER             Radical    Urgent 2   \n",
       "11800  4786080  2020-10-21           GI LOWER             Radical    Urgent 2   \n",
       "11801  3113781  2020-01-21                EYE  Complex Palliation    Urgent 2   \n",
       "11802  4325628  2020-04-29               SKIN  Complex Palliation    Urgent 2   \n",
       "\n",
       "       SimApptDuration  TltDose  TxFracs  TxApptDuration TxUnit  ...  \\\n",
       "0                   30     5400       27              30   NA09  ...   \n",
       "1                   15     6600       33              30   SV02  ...   \n",
       "2                   20     6600       33              30   SV02  ...   \n",
       "3                   15     6600       33              30   SV02  ...   \n",
       "4                   30     6000       20              30   NA09  ...   \n",
       "...                ...      ...      ...             ...    ...  ...   \n",
       "11798               45     2000        5              30   NA12  ...   \n",
       "11799               45     3600       20              30   NA11  ...   \n",
       "11800               45     4500       25              30   NA10  ...   \n",
       "11801               30     2000        5              30   NA09  ...   \n",
       "11802               45     3000       15              30   SV03  ...   \n",
       "\n",
       "                 Intent_x ContrM Plan75p Plan80p  Plan90p            Intent_y  \\\n",
       "0                 Radical    2.0    2.00     2.0      6.0             Radical   \n",
       "1                 Radical    2.0    2.00     2.0      6.0             Radical   \n",
       "2                 Radical    2.0    2.00     2.0      6.0             Radical   \n",
       "3                 Radical    2.0    2.00     2.0      6.0             Radical   \n",
       "4                 Radical    2.0    2.00     2.0      6.0             Radical   \n",
       "...                   ...    ...     ...     ...      ...                 ...   \n",
       "11798  Complex Palliation    1.5    2.75     3.0     26.5  Complex Palliation   \n",
       "11799             Radical    3.5    2.50     2.8      3.4             Radical   \n",
       "11800             Radical    3.5    2.50     2.8      3.4             Radical   \n",
       "11801  Complex Palliation    0.0    0.00     0.0      0.0  Complex Palliation   \n",
       "11802  Complex Palliation    1.5    0.00     0.0      0.0  Complex Palliation   \n",
       "\n",
       "       PlanM  preTxDays_75  preTxDays_80  preTxDays_90  \n",
       "0        1.0         5.000           5.0         10.00  \n",
       "1        1.0         5.000           5.0         10.00  \n",
       "2        1.0         5.000           5.0         10.00  \n",
       "3        1.0         5.000           5.0         10.00  \n",
       "4        1.0         5.000           5.0         10.00  \n",
       "...      ...           ...           ...           ...  \n",
       "11798    2.0         5.500           6.0         29.50  \n",
       "11799    2.0         6.625           7.3          8.65  \n",
       "11800    2.0         6.625           7.3          8.65  \n",
       "11801    0.0         0.000           0.0          0.00  \n",
       "11802    0.0         1.750           1.8          1.90  \n",
       "\n",
       "[11803 rows x 31 columns]"
      ]
     },
     "execution_count": 578,
     "metadata": {},
     "output_type": "execute_result"
    }
   ],
   "source": [
    "df_ins['preTxDays_75'] = df_ins['Contr75p']+df_ins['Plan75p']\n",
    "df_ins['preTxDays_80'] = df_ins['Contr80p']+df_ins['Plan80p']\n",
    "df_ins['preTxDays_90'] = df_ins['Contr90p']+df_ins['Plan90p']\n",
    "df_ins"
   ]
  },
  {
   "cell_type": "code",
   "execution_count": 579,
   "metadata": {},
   "outputs": [
    {
     "data": {
      "image/png": "[encoded data removed]",
      "text/plain": [
       "<Figure size 648x360 with 1 Axes>"
      ]
     },
     "metadata": {
      "needs_background": "light"
     },
     "output_type": "display_data"
    }
   ],
   "source": [
    "plt.figure(figsize=[9,5])\n",
    "bins = range(0,25)\n",
    "\n",
    "y = df_ins['preTxDays_90']\n",
    "plt.hist(y, bins = bins, alpha=0.5, edgecolor='black', align='left')\n",
    "\n",
    "plt.xlabel('Contouring time')\n",
    "plt.ylabel('frequency')\n",
    "plt.title('preTxDays distribution 90p')\n",
    "plt.xticks(fontsize=10)\n",
    "plt.yticks(fontsize=10)\n",
    "\n",
    "plt.show()\n"
   ]
  },
  {
   "cell_type": "code",
   "execution_count": 580,
   "metadata": {},
   "outputs": [
    {
     "data": {
      "image/png": "[encoded data removed]",
      "text/plain": [
       "<Figure size 648x360 with 1 Axes>"
      ]
     },
     "metadata": {
      "needs_background": "light"
     },
     "output_type": "display_data"
    }
   ],
   "source": [
    "plt.figure(figsize=[9,5])\n",
    "bins = range(0,25)\n",
    "\n",
    "y = df_ins['preTxDays_80']\n",
    "plt.hist(y, bins = bins, alpha=0.5, edgecolor='black', align='left')\n",
    "\n",
    "plt.xlabel('Contouring time')\n",
    "plt.ylabel('frequency')\n",
    "plt.title('preTxDays distribution 80 p')\n",
    "plt.xticks(fontsize=10)\n",
    "plt.yticks(fontsize=10)\n",
    "\n",
    "plt.show()"
   ]
  },
  {
   "cell_type": "code",
   "execution_count": 581,
   "metadata": {},
   "outputs": [
    {
     "ename": "KeyError",
     "evalue": "'preTxDays'",
     "output_type": "error",
     "traceback": [
      "\u001b[0;31m---------------------------------------------------------------------------\u001b[0m",
      "\u001b[0;31mKeyError\u001b[0m                                  Traceback (most recent call last)",
      "\u001b[0;32m~/opt/anaconda3/lib/python3.8/site-packages/pandas/core/indexes/base.py\u001b[0m in \u001b[0;36mget_loc\u001b[0;34m(self, key, method, tolerance)\u001b[0m\n\u001b[1;32m   3360\u001b[0m             \u001b[0;32mtry\u001b[0m\u001b[0;34m:\u001b[0m\u001b[0;34m\u001b[0m\u001b[0;34m\u001b[0m\u001b[0m\n\u001b[0;32m-> 3361\u001b[0;31m                 \u001b[0;32mreturn\u001b[0m \u001b[0mself\u001b[0m\u001b[0;34m.\u001b[0m\u001b[0m_engine\u001b[0m\u001b[0;34m.\u001b[0m\u001b[0mget_loc\u001b[0m\u001b[0;34m(\u001b[0m\u001b[0mcasted_key\u001b[0m\u001b[0;34m)\u001b[0m\u001b[0;34m\u001b[0m\u001b[0;34m\u001b[0m\u001b[0m\n\u001b[0m\u001b[1;32m   3362\u001b[0m             \u001b[0;32mexcept\u001b[0m \u001b[0mKeyError\u001b[0m \u001b[0;32mas\u001b[0m \u001b[0merr\u001b[0m\u001b[0;34m:\u001b[0m\u001b[0;34m\u001b[0m\u001b[0;34m\u001b[0m\u001b[0m\n",
      "\u001b[0;32m~/opt/anaconda3/lib/python3.8/site-packages/pandas/_libs/index.pyx\u001b[0m in \u001b[0;36mpandas._libs.index.IndexEngine.get_loc\u001b[0;34m()\u001b[0m\n",
      "\u001b[0;32m~/opt/anaconda3/lib/python3.8/site-packages/pandas/_libs/index.pyx\u001b[0m in \u001b[0;36mpandas._libs.index.IndexEngine.get_loc\u001b[0;34m()\u001b[0m\n",
      "\u001b[0;32mpandas/_libs/hashtable_class_helper.pxi\u001b[0m in \u001b[0;36mpandas._libs.hashtable.PyObjectHashTable.get_item\u001b[0;34m()\u001b[0m\n",
      "\u001b[0;32mpandas/_libs/hashtable_class_helper.pxi\u001b[0m in \u001b[0;36mpandas._libs.hashtable.PyObjectHashTable.get_item\u001b[0;34m()\u001b[0m\n",
      "\u001b[0;31mKeyError\u001b[0m: 'preTxDays'",
      "\nThe above exception was the direct cause of the following exception:\n",
      "\u001b[0;31mKeyError\u001b[0m                                  Traceback (most recent call last)",
      "\u001b[0;32m<ipython-input-581-66433a586391>\u001b[0m in \u001b[0;36m<module>\u001b[0;34m\u001b[0m\n\u001b[1;32m      3\u001b[0m \u001b[0;31m### 2. LYMPHOMA, Radical, Standard 3: 1, 23.78\u001b[0m\u001b[0;34m\u001b[0m\u001b[0;34m\u001b[0m\u001b[0;34m\u001b[0m\u001b[0m\n\u001b[1;32m      4\u001b[0m \u001b[0;31m### 3. LYMPHOMA,  Complex Palliation, Standard 3: 22, 22\u001b[0m\u001b[0;34m\u001b[0m\u001b[0;34m\u001b[0m\u001b[0;34m\u001b[0m\u001b[0m\n\u001b[0;32m----> 5\u001b[0;31m \u001b[0mdf_ins\u001b[0m\u001b[0;34m[\u001b[0m\u001b[0mdf_ins\u001b[0m\u001b[0;34m[\u001b[0m\u001b[0;34m'preTxDays'\u001b[0m\u001b[0;34m]\u001b[0m\u001b[0;34m>\u001b[0m\u001b[0;36m20\u001b[0m\u001b[0;34m]\u001b[0m\u001b[0;34m[\u001b[0m\u001b[0;34m[\u001b[0m\u001b[0;34m'SiteGroup'\u001b[0m\u001b[0;34m,\u001b[0m\u001b[0;34m'Intent1'\u001b[0m\u001b[0;34m,\u001b[0m\u001b[0;34m'Category_x'\u001b[0m\u001b[0;34m,\u001b[0m\u001b[0;34m'Contr75p'\u001b[0m\u001b[0;34m,\u001b[0m\u001b[0;34m'Plan75p'\u001b[0m\u001b[0;34m]\u001b[0m\u001b[0;34m]\u001b[0m\u001b[0;34m\u001b[0m\u001b[0;34m\u001b[0m\u001b[0m\n\u001b[0m",
      "\u001b[0;32m~/opt/anaconda3/lib/python3.8/site-packages/pandas/core/frame.py\u001b[0m in \u001b[0;36m__getitem__\u001b[0;34m(self, key)\u001b[0m\n\u001b[1;32m   3453\u001b[0m             \u001b[0;32mif\u001b[0m \u001b[0mself\u001b[0m\u001b[0;34m.\u001b[0m\u001b[0mcolumns\u001b[0m\u001b[0;34m.\u001b[0m\u001b[0mnlevels\u001b[0m \u001b[0;34m>\u001b[0m \u001b[0;36m1\u001b[0m\u001b[0;34m:\u001b[0m\u001b[0;34m\u001b[0m\u001b[0;34m\u001b[0m\u001b[0m\n\u001b[1;32m   3454\u001b[0m                 \u001b[0;32mreturn\u001b[0m \u001b[0mself\u001b[0m\u001b[0;34m.\u001b[0m\u001b[0m_getitem_multilevel\u001b[0m\u001b[0;34m(\u001b[0m\u001b[0mkey\u001b[0m\u001b[0;34m)\u001b[0m\u001b[0;34m\u001b[0m\u001b[0;34m\u001b[0m\u001b[0m\n\u001b[0;32m-> 3455\u001b[0;31m             \u001b[0mindexer\u001b[0m \u001b[0;34m=\u001b[0m \u001b[0mself\u001b[0m\u001b[0;34m.\u001b[0m\u001b[0mcolumns\u001b[0m\u001b[0;34m.\u001b[0m\u001b[0mget_loc\u001b[0m\u001b[0;34m(\u001b[0m\u001b[0mkey\u001b[0m\u001b[0;34m)\u001b[0m\u001b[0;34m\u001b[0m\u001b[0;34m\u001b[0m\u001b[0m\n\u001b[0m\u001b[1;32m   3456\u001b[0m             \u001b[0;32mif\u001b[0m \u001b[0mis_integer\u001b[0m\u001b[0;34m(\u001b[0m\u001b[0mindexer\u001b[0m\u001b[0;34m)\u001b[0m\u001b[0;34m:\u001b[0m\u001b[0;34m\u001b[0m\u001b[0;34m\u001b[0m\u001b[0m\n\u001b[1;32m   3457\u001b[0m                 \u001b[0mindexer\u001b[0m \u001b[0;34m=\u001b[0m \u001b[0;34m[\u001b[0m\u001b[0mindexer\u001b[0m\u001b[0;34m]\u001b[0m\u001b[0;34m\u001b[0m\u001b[0;34m\u001b[0m\u001b[0m\n",
      "\u001b[0;32m~/opt/anaconda3/lib/python3.8/site-packages/pandas/core/indexes/base.py\u001b[0m in \u001b[0;36mget_loc\u001b[0;34m(self, key, method, tolerance)\u001b[0m\n\u001b[1;32m   3361\u001b[0m                 \u001b[0;32mreturn\u001b[0m \u001b[0mself\u001b[0m\u001b[0;34m.\u001b[0m\u001b[0m_engine\u001b[0m\u001b[0;34m.\u001b[0m\u001b[0mget_loc\u001b[0m\u001b[0;34m(\u001b[0m\u001b[0mcasted_key\u001b[0m\u001b[0;34m)\u001b[0m\u001b[0;34m\u001b[0m\u001b[0;34m\u001b[0m\u001b[0m\n\u001b[1;32m   3362\u001b[0m             \u001b[0;32mexcept\u001b[0m \u001b[0mKeyError\u001b[0m \u001b[0;32mas\u001b[0m \u001b[0merr\u001b[0m\u001b[0;34m:\u001b[0m\u001b[0;34m\u001b[0m\u001b[0;34m\u001b[0m\u001b[0m\n\u001b[0;32m-> 3363\u001b[0;31m                 \u001b[0;32mraise\u001b[0m \u001b[0mKeyError\u001b[0m\u001b[0;34m(\u001b[0m\u001b[0mkey\u001b[0m\u001b[0;34m)\u001b[0m \u001b[0;32mfrom\u001b[0m \u001b[0merr\u001b[0m\u001b[0;34m\u001b[0m\u001b[0;34m\u001b[0m\u001b[0m\n\u001b[0m\u001b[1;32m   3364\u001b[0m \u001b[0;34m\u001b[0m\u001b[0m\n\u001b[1;32m   3365\u001b[0m         \u001b[0;32mif\u001b[0m \u001b[0mis_scalar\u001b[0m\u001b[0;34m(\u001b[0m\u001b[0mkey\u001b[0m\u001b[0;34m)\u001b[0m \u001b[0;32mand\u001b[0m \u001b[0misna\u001b[0m\u001b[0;34m(\u001b[0m\u001b[0mkey\u001b[0m\u001b[0;34m)\u001b[0m \u001b[0;32mand\u001b[0m \u001b[0;32mnot\u001b[0m \u001b[0mself\u001b[0m\u001b[0;34m.\u001b[0m\u001b[0mhasnans\u001b[0m\u001b[0;34m:\u001b[0m\u001b[0;34m\u001b[0m\u001b[0;34m\u001b[0m\u001b[0m\n",
      "\u001b[0;31mKeyError\u001b[0m: 'preTxDays'"
     ]
    }
   ],
   "source": [
    "### Some outliers feature groups\n",
    "### 1. GENITOURINARY(GU), Complex Palliation, Standard 3: 9.27, 9.27\n",
    "### 2. LYMPHOMA, Radical, Standard 3: 1, 23.78\n",
    "### 3. LYMPHOMA,  Complex Palliation, Standard 3: 22, 22\n",
    "df_ins[df_ins['preTxDays']>20][['SiteGroup','Intent1','Category_x','Contr75p','Plan75p']]"
   ]
  },
  {
   "cell_type": "code",
   "execution_count": 582,
   "metadata": {},
   "outputs": [],
   "source": [
    "df_ins.to_excel('ins_2018_2020_heuristics_part2.xlsx')"
   ]
  },
  {
   "cell_type": "code",
   "execution_count": null,
   "metadata": {},
   "outputs": [],
   "source": []
  },
  {
   "cell_type": "code",
   "execution_count": 476,
   "metadata": {},
   "outputs": [],
   "source": [
    "#df_ins.to_excel('ins_2018_2020_part2_rules_80p.xlsx')"
   ]
  },
  {
   "cell_type": "code",
   "execution_count": null,
   "metadata": {},
   "outputs": [],
   "source": []
  },
  {
   "cell_type": "code",
   "execution_count": 185,
   "metadata": {},
   "outputs": [],
   "source": [
    "#df_simpleRule.to_excel('planningTimeSimpleRule.xlsx')"
   ]
  },
  {
   "cell_type": "markdown",
   "metadata": {},
   "source": [
    "## Quantile regression"
   ]
  },
  {
   "cell_type": "code",
   "execution_count": 477,
   "metadata": {},
   "outputs": [],
   "source": [
    "import statsmodels.api as sm\n",
    "import statsmodels.formula.api as smf"
   ]
  },
  {
   "cell_type": "code",
   "execution_count": 478,
   "metadata": {},
   "outputs": [
    {
     "data": {
      "text/plain": [
       "(12046, 82)"
      ]
     },
     "execution_count": 478,
     "metadata": {},
     "output_type": "execute_result"
    }
   ],
   "source": [
    "df_q = df_orig[(df_orig['CreatedDate']>='2018-01-01')&(df_orig['CreatedDate']<='2021-01-01')]\n",
    "df_q.shape"
   ]
  },
  {
   "cell_type": "code",
   "execution_count": 501,
   "metadata": {},
   "outputs": [
    {
     "data": {
      "text/plain": [
       "array(['GENITOURINARY(GU)', 'BREAST', 'GASTROINTESTINAL(GI)', 'GYNAE',\n",
       "       'SARCOMA', 'ENT (HEAD & NECK)', 'LUNG', 'CNS', 'LYMPHOMA', 'SKIN',\n",
       "       'EYE', 'ENDOCRINE', 'LEUKEMIA', 'UNKNOWN', nan, 'PAEDIATRIC',\n",
       "       'OTHER SITES C76', 'NON CANCER DX'], dtype=object)"
      ]
     },
     "execution_count": 501,
     "metadata": {},
     "output_type": "execute_result"
    }
   ],
   "source": [
    "df_q['Sitegroup_y'].unique()"
   ]
  },
  {
   "cell_type": "code",
   "execution_count": 481,
   "metadata": {},
   "outputs": [
    {
     "data": {
      "text/plain": [
       "Index(['MRN', 'CreatedDate', 'CreatedTime', 'ActivatedDate', 'ActivatedTime',\n",
       "       'SiteGroup', 'Diagnosis', 'Category_x', 'PlanCreateDate',\n",
       "       'PlanCreateTime', 'StartDate', 'ConcurrentTx', 'Intent1', 'Intent2',\n",
       "       'Team', 'Location_x', 'SimApptDate', 'SimApptTime', 'ApptDtTm',\n",
       "       'GTV/CTVPromtDate', 'GTV/CTVPromtTime', 'GTV/CTVCompleteDate',\n",
       "       'GTV/CTVCompleteTime', 'ContourDur', 'FinalPlanPromtDate',\n",
       "       'FinalPlanPromtTime', 'FinalPlanCompleteDate', 'FinalPlanCompleteTime',\n",
       "       'FinalPlanAlone', 'FinalPlan-Contour', 'ReviewDatePlaner',\n",
       "       'ReviewTimePlaner', 'PlanReviewRequestDate', 'PlanReviewRequestTime',\n",
       "       'PlanProgressReviewDate', 'PlanProgressReviewTime', 'eBookingReviDate',\n",
       "       'eBookingReviTime', 'COVID19', 'eBookingStatus', 'Unnamed: 37',\n",
       "       'ApptDtTm.1', 'SimApptDt', 'SimApptTm', 'SimApptDuration',\n",
       "       'SimApptCreatedDt', 'SimLocation', 'CTWait', 'TxStartDt', 'TxStartDtTm',\n",
       "       'TxApptDuration', 'TxApptCreatedDt', 'ApptStatus', 'RxSite', 'Tech',\n",
       "       'Sitegroup_y', 'diagnosis', 'FirstDate', 'LastDate', 'TltDose',\n",
       "       'TxFracs', 'TxUnit', 'Intent', 'WaitTime', 'WaitTime(weekday)',\n",
       "       'TotalWaitTime', 'ContourDur.1', 'CTReviewWait', 'ContourRevWait',\n",
       "       'TimeBtw_Sim_ContourCompl', 'TimeBtw_Sim_BkTx', 'PlanDur',\n",
       "       'ProgressRevWait', 'TimeBtw_ContourCompl_PlanReview',\n",
       "       'TimeBtw_BkTx_PlanReview', 'TimeBtw_Sim_PlanReview', 'TxBook-Sim',\n",
       "       'Tx-TxBook', 'Tx-PlanCompl', 'Tx-PlanPrompt', 'Tx-PlanReview',\n",
       "       'PlanWait'],\n",
       "      dtype='object')"
      ]
     },
     "execution_count": 481,
     "metadata": {},
     "output_type": "execute_result"
    }
   ],
   "source": [
    "df_q.columns"
   ]
  },
  {
   "cell_type": "code",
   "execution_count": 504,
   "metadata": {},
   "outputs": [
    {
     "name": "stdout",
     "output_type": "stream",
     "text": [
      "                         QuantReg Regression Results                          \n",
      "==============================================================================\n",
      "Dep. Variable:                PlanDur   Pseudo R-squared:              0.01152\n",
      "Model:                       QuantReg   Bandwidth:                      0.4348\n",
      "Method:                 Least Squares   Sparsity:                        20.97\n",
      "Date:                Tue, 27 Jul 2021   No. Observations:                 8537\n",
      "Time:                        13:52:24   Df Residuals:                     8515\n",
      "                                        Df Model:                           21\n",
      "=======================================================================================================\n",
      "                                          coef    std err          t      P>|t|      [0.025      0.975]\n",
      "-------------------------------------------------------------------------------------------------------\n",
      "Intercept                               4.0000      0.321     12.454      0.000       3.370       4.630\n",
      "Category_x[T.Urgent 2]                 -0.9999      0.207     -4.824      0.000      -1.406      -0.594\n",
      "Intent1[T.Palliative]               -1.634e-05      0.250  -6.54e-05      1.000      -0.490       0.490\n",
      "Intent1[T.Radical]                   1.901e-05      0.281   6.76e-05      1.000      -0.551       0.551\n",
      "Sitegroup_y[T.CNS]                     -1.0000      0.330     -3.029      0.002      -1.647      -0.353\n",
      "Sitegroup_y[T.ENDOCRINE]                3.0000      0.525      5.714      0.000       1.971       4.029\n",
      "Sitegroup_y[T.ENT (HEAD & NECK)]        3.0000      0.300     10.009      0.000       2.412       3.588\n",
      "Sitegroup_y[T.EYE]                      5.0000      0.570      8.778      0.000       3.883       6.117\n",
      "Sitegroup_y[T.GASTROINTESTINAL(GI)]     5.0000      0.285     17.525      0.000       4.441       5.559\n",
      "Sitegroup_y[T.GENITOURINARY(GU)]        3.0000      0.256     11.706      0.000       2.498       3.502\n",
      "Sitegroup_y[T.GYNAE]                    3.0000      0.323      9.279      0.000       2.366       3.634\n",
      "Sitegroup_y[T.LEUKEMIA]              4.613e-05      0.659      7e-05      1.000      -1.292       1.292\n",
      "Sitegroup_y[T.LUNG]                     1.0000      0.250      3.993      0.000       0.509       1.491\n",
      "Sitegroup_y[T.LYMPHOMA]                 1.0000      0.343      2.914      0.004       0.327       1.673\n",
      "Sitegroup_y[T.NON CANCER DX]           -3.0000      9.497     -0.316      0.752     -21.616      15.616\n",
      "Sitegroup_y[T.OTHER SITES C76]         -4.0000      2.112     -1.894      0.058      -8.139       0.139\n",
      "Sitegroup_y[T.PAEDIATRIC]              -1.0000      1.019     -0.982      0.326      -2.997       0.997\n",
      "Sitegroup_y[T.SARCOMA]                  2.0000      0.324      6.170      0.000       1.365       2.635\n",
      "Sitegroup_y[T.SKIN]                     2.0000      0.499      4.009      0.000       1.022       2.978\n",
      "Sitegroup_y[T.UNKNOWN]                  5.0000      0.803      6.223      0.000       3.425       6.575\n",
      "TltDose                             -1.526e-08      0.000     -0.000      1.000      -0.000       0.000\n",
      "TxFracs                              3.444e-06      0.016      0.000      1.000      -0.031       0.031\n",
      "=======================================================================================================\n",
      "\n",
      "The condition number is large, 3.64e+05. This might indicate that there are\n",
      "strong multicollinearity or other numerical problems.\n"
     ]
    }
   ],
   "source": [
    "model = smf.quantreg('PlanDur ~ Category_x + Intent1 + Sitegroup_y + TltDose + TxFracs', df_q).fit(q=0.9)\n",
    "#view model summary\n",
    "print(model.summary())"
   ]
  },
  {
   "cell_type": "code",
   "execution_count": 505,
   "metadata": {},
   "outputs": [
    {
     "data": {
      "text/plain": [
       "Text(0, 0.5, 'Exam Score')"
      ]
     },
     "execution_count": 505,
     "metadata": {},
     "output_type": "execute_result"
    },
    {
     "data": {
      "image/png": "[encoded data removed]",
      "text/plain": [
       "<Figure size 576x432 with 1 Axes>"
      ]
     },
     "metadata": {
      "needs_background": "light"
     },
     "output_type": "display_data"
    }
   ],
   "source": [
    "#define figure and axis\n",
    "fig, ax = plt.subplots(figsize=(8, 6))\n",
    "\n",
    "#get y values\n",
    "get_y = lambda a, b: a + b * df_q['TltDose']\n",
    "y = get_y(model.params['Intercept'], model.params['TltDose'])\n",
    "\n",
    "#plot data points with quantile regression equation overlaid\n",
    "ax.plot(df_q['TltDose'], y, color='black')\n",
    "ax.scatter(df_q['TltDose'], df_q['PlanDur'], alpha=.3)\n",
    "ax.set_xlabel('Hours Studied', fontsize=14)\n",
    "ax.set_ylabel('Exam Score', fontsize=14)"
   ]
  },
  {
   "cell_type": "code",
   "execution_count": null,
   "metadata": {},
   "outputs": [],
   "source": []
  },
  {
   "cell_type": "code",
   "execution_count": null,
   "metadata": {},
   "outputs": [],
   "source": []
  }
 ],
 "metadata": {
  "kernelspec": {
   "display_name": "Python 3",
   "language": "python",
   "name": "python3"
  },
  "language_info": {
   "codemirror_mode": {
    "name": "ipython",
    "version": 3
   },
   "file_extension": ".py",
   "mimetype": "text/x-python",
   "name": "python",
   "nbconvert_exporter": "python",
   "pygments_lexer": "ipython3",
   "version": "3.8.3"
  }
 },
 "nbformat": 4,
 "nbformat_minor": 4
}
