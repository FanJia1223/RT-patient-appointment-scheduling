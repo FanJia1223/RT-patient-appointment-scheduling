{
 "cells": [
  {
   "cell_type": "code",
   "execution_count": 1,
   "metadata": {},
   "outputs": [],
   "source": [
    "import pandas as pd\n",
    "import datetime\n",
    "from datetime import timedelta\n",
    "from datetime import datetime\n",
    "import matplotlib.pyplot as plt\n",
    "import numpy as np\n",
    "from scipy import stats\n",
    "\n",
    "import seaborn as sns\n",
    "## for statistical tests\n",
    "import scipy\n",
    "import statsmodels.formula.api as smf\n",
    "import statsmodels.api as sm\n",
    "## for machine learning\n",
    "from sklearn import model_selection, preprocessing, feature_selection, ensemble, linear_model, metrics, decomposition\n",
    "## for explainer\n",
    "#from lime import lime_tabular"
   ]
  },
  {
   "cell_type": "code",
   "execution_count": 2,
   "metadata": {},
   "outputs": [],
   "source": [
    "import warnings\n",
    "\n",
    "import pandas as pd\n",
    "from pandas.core.common import SettingWithCopyWarning\n",
    "\n",
    "warnings.simplefilter(action=\"ignore\", category=SettingWithCopyWarning)"
   ]
  },
  {
   "cell_type": "code",
   "execution_count": 3,
   "metadata": {},
   "outputs": [],
   "source": [
    "import warnings\n",
    "warnings.filterwarnings(\"ignore\", category=FutureWarning)"
   ]
  },
  {
   "cell_type": "code",
   "execution_count": 240,
   "metadata": {},
   "outputs": [],
   "source": [
    "# read in master file\n",
    "df_orig=pd.read_excel(\"ContouringAndPlanningTimeEst.xlsx\")\n",
    "# exclude planned delays\n",
    "df_orig=df_orig[df_orig['Category_x']!='Planned Delay 3']\n",
    "#df_orig=df_orig[df_orig['Category_x']!='planned Delay 3']\n",
    "# Correcting Standard 2 = Standard 3\n",
    "#df_orig = df_orig.replace({'Category_x': {'Standard 2': 'Standard 3', \n",
    "                             #   'Urgent ICU/SDU 2':'Urgent 2'}})"
   ]
  },
  {
   "cell_type": "code",
   "execution_count": 306,
   "metadata": {},
   "outputs": [
    {
     "data": {
      "text/plain": [
       "array(['GENITOURINARY(GU)', 'BREAST', 'GI UPPER', 'GYNAE', 'Oligomets',\n",
       "       'SARCOMA', 'ENT (HEAD & NECK)', 'LUNG', 'CNS', 'GI LOWER', 'SKIN',\n",
       "       'LYMPHOMA', 'EYE', 'ENDOCRINE', 'Unknown', 'PAEDIATRIC'],\n",
       "      dtype=object)"
      ]
     },
     "execution_count": 306,
     "metadata": {},
     "output_type": "execute_result"
    }
   ],
   "source": [
    "df_orig['SiteGroup'].unique()"
   ]
  },
  {
   "cell_type": "code",
   "execution_count": 238,
   "metadata": {},
   "outputs": [],
   "source": [
    "# read in instance file\n",
    "df_ins = pd.read_excel(\"ins_201910_202002.xlsx\")\n"
   ]
  },
  {
   "cell_type": "code",
   "execution_count": 307,
   "metadata": {},
   "outputs": [
    {
     "data": {
      "text/plain": [
       "array(['ENT (HEAD & NECK)', 'BREAST', 'LUNG', 'CNS', 'GENITOURINARY(GU)',\n",
       "       'GI UPPER', 'GYNAE', 'LYMPHOMA', 'SARCOMA', 'GI LOWER',\n",
       "       'ENDOCRINE', 'SKIN', 'EYE', 'PAEDIATRIC'], dtype=object)"
      ]
     },
     "execution_count": 307,
     "metadata": {},
     "output_type": "execute_result"
    }
   ],
   "source": [
    "df_ins.shape\n",
    "df_ins['SiteGroup'].unique()"
   ]
  },
  {
   "cell_type": "markdown",
   "metadata": {},
   "source": [
    "## ML models"
   ]
  },
  {
   "cell_type": "code",
   "execution_count": 6,
   "metadata": {},
   "outputs": [],
   "source": [
    "from sklearn.model_selection import GridSearchCV\n",
    "from sklearn.ensemble import RandomForestClassifier\n",
    "from sklearn.metrics import confusion_matrix, classification_report"
   ]
  },
  {
   "cell_type": "markdown",
   "metadata": {},
   "source": [
    "### data to train model"
   ]
  },
  {
   "cell_type": "code",
   "execution_count": 186,
   "metadata": {},
   "outputs": [
    {
     "data": {
      "text/plain": [
       "(2358, 23)"
      ]
     },
     "execution_count": 186,
     "metadata": {},
     "output_type": "execute_result"
    }
   ],
   "source": [
    "### most recent 6-month data\n",
    "#df1920 = df_orig[pd.to_datetime(df_orig['CreatedDate']).dt.year>=2019]\n",
    "df1920 = df_orig[(pd.to_datetime(df_orig['CreatedDate']).dt.date >= pd.to_datetime(\"2019-06-01\"))&\n",
    "                (pd.to_datetime(df_orig['CreatedDate']).dt.date <= pd.to_datetime(\"2019-12-31\"))]\n",
    "df1920.shape\n"
   ]
  },
  {
   "cell_type": "code",
   "execution_count": 187,
   "metadata": {},
   "outputs": [
    {
     "data": {
      "text/plain": [
       "(1544, 23)"
      ]
     },
     "execution_count": 187,
     "metadata": {},
     "output_type": "execute_result"
    }
   ],
   "source": [
    "df_meet=df1920[df1920['WaitTime']<=14]\n",
    "df_meet.shape"
   ]
  },
  {
   "cell_type": "code",
   "execution_count": null,
   "metadata": {},
   "outputs": [],
   "source": [
    "'''df_forins = df_orig[(pd.to_datetime(df_orig['CreatedDate']).dt.date >= pd.to_datetime(\"2019-06-01\"))&\n",
    "                (pd.to_datetime(df_orig['CreatedDate']).dt.date <= pd.to_datetime(\"2021-12-31\"))]\n",
    "df_forins.to_excel(\"master_2019-2020.xlsx\")'''"
   ]
  },
  {
   "cell_type": "code",
   "execution_count": 327,
   "metadata": {},
   "outputs": [
    {
     "data": {
      "image/png": "[encoded data removed]",
      "text/plain": [
       "<Figure size 648x360 with 1 Axes>"
      ]
     },
     "metadata": {
      "needs_background": "light"
     },
     "output_type": "display_data"
    }
   ],
   "source": [
    "'''df1920['TimeBtw_Sim_BkTx'] = df1920.apply(\n",
    "    lambda row: row['ContourDur'] if row['TimeBtw_Sim_BkTx']<0 else row['TimeBtw_Sim_BkTx'],\n",
    "    axis=1\n",
    ")'''\n",
    "\n",
    "df1920['ContourDur'] = df1920['ContourDur+1']-1\n",
    "df1920[\"ContourDur\"] = df1920[\"ContourDur\"].fillna(df1920[\"ContourDur\"].mode()[0])\n",
    "\n",
    "plt.figure(figsize=[9,5])\n",
    "bins = range(0,10)\n",
    "\n",
    "y = df1920[\"ContourDur\"]\n",
    "plt.hist(y, bins = bins, alpha=0.5, edgecolor='black', align='left')\n",
    "\n",
    "plt.xlabel('Contouring time')\n",
    "plt.ylabel('frequency')\n",
    "plt.title('Contouring distribution')\n",
    "plt.xticks(fontsize=10)\n",
    "plt.yticks(fontsize=10)\n",
    "\n",
    "plt.show()"
   ]
  },
  {
   "cell_type": "code",
   "execution_count": 308,
   "metadata": {},
   "outputs": [
    {
     "data": {
      "image/png": "[encoded data removed]",
      "text/plain": [
       "<Figure size 648x360 with 1 Axes>"
      ]
     },
     "metadata": {
      "needs_background": "light"
     },
     "output_type": "display_data"
    }
   ],
   "source": [
    "df1920['PlanDur'] = df1920[\"TestPlanDur\"] - 1\n",
    "#df1920[\"PlanDur\"] = df1920[\"PlanDur\"].fillna(df1920[\"PlanDur\"].mode()[0])\n",
    "#df1920=df1920[df1920['WaitTime']<=14]\n",
    "\n",
    "plt.figure(figsize=[9,5])\n",
    "bins = range(0,10)\n",
    "\n",
    "y = df1920[\"PlanDur\"]\n",
    "plt.hist(y, bins = bins, alpha=0.5, edgecolor='black', align='left')\n",
    "\n",
    "plt.xlabel('planning time')\n",
    "plt.ylabel('frequency')\n",
    "plt.title('Planning distribution')\n",
    "plt.xticks(fontsize=10)\n",
    "plt.yticks(fontsize=10)\n",
    "\n",
    "plt.show()"
   ]
  },
  {
   "cell_type": "markdown",
   "metadata": {},
   "source": [
    "### contouring"
   ]
  },
  {
   "cell_type": "code",
   "execution_count": 329,
   "metadata": {},
   "outputs": [],
   "source": [
    "target_y = \"ContourDur\"\n",
    "#df_meet = df1920[df1920['WaitTime']<=14]\n",
    "features = ['SiteGroup', 'Category_x','TltDose','TxFracs']\n",
    "df_clf = df1920[features + [target_y]]\n"
   ]
  },
  {
   "cell_type": "code",
   "execution_count": 330,
   "metadata": {},
   "outputs": [],
   "source": [
    "df_clf[\"SiteGroup\"] = df_clf[\"SiteGroup\"].fillna(df_clf[\"SiteGroup\"].mode())\n",
    "df_clf[\"Category_x\"] = df_clf[\"Category_x\"].fillna(df_clf[\"Category_x\"].mode())\n",
    "df_clf[\"TltDose\"] = df_clf[\"TltDose\"].fillna(df_clf[\"TltDose\"].mode()[0])\n",
    "df_clf[\"TxFracs\"] = df_clf[\"TxFracs\"].fillna(df_clf[\"TxFracs\"].mode()[0])\n",
    "#df_clf['Intent'] = df_clf['Intent'].fillna(df_clf['Intent'].mode()[0])\n",
    "df_clf['ContourDur'] = df_clf[\"ContourDur\"].fillna(df_clf[\"ContourDur\"].median())"
   ]
  },
  {
   "cell_type": "code",
   "execution_count": 331,
   "metadata": {},
   "outputs": [],
   "source": [
    "#df_clf[\"Intent\"].isnull().values.any()"
   ]
  },
  {
   "cell_type": "code",
   "execution_count": 332,
   "metadata": {},
   "outputs": [],
   "source": [
    "dummy = pd.get_dummies(df_clf[[\"SiteGroup\",\"Category_x\"]], prefix=['Site','Categ']) #, drop_first=True)\n",
    "df_cont = pd.concat([df_clf, dummy], axis=1)\n",
    "#print( df_clf.filter(like=\"Sitegroup_y\",axis=1).head() )\n",
    "\n",
    "## drop the original categorical column\n",
    "df_cont = df_cont.drop(['SiteGroup','Category_x'], axis=1)"
   ]
  },
  {
   "cell_type": "code",
   "execution_count": 333,
   "metadata": {},
   "outputs": [
    {
     "name": "stdout",
     "output_type": "stream",
     "text": [
      "X_train shape: (1650, 19) | X_test shape: (708, 19)\n",
      "y_train mean: 1.25 | y_test mean: 1.28\n",
      "20 features: ['TltDose', 'TxFracs', 'Site_BREAST', 'Site_CNS', 'Site_ENDOCRINE', 'Site_ENT (HEAD & NECK)', 'Site_EYE', 'Site_GENITOURINARY(GU)', 'Site_GI LOWER', 'Site_GI UPPER', 'Site_GYNAE', 'Site_LUNG', 'Site_LYMPHOMA', 'Site_PAEDIATRIC', 'Site_SARCOMA', 'Site_SKIN', 'Categ_Emergency 1', 'Categ_Standard 3', 'Categ_Urgent 2']\n"
     ]
    }
   ],
   "source": [
    "# train-test spli4\n",
    "df_train, df_test = model_selection.train_test_split(df_cont, test_size=0.3, random_state=1)\n",
    "## print info\n",
    "print(\"X_train shape:\", df_train.drop(target_y,axis=1).shape, \"| X_test shape:\", df_test.drop(target_y,axis=1).shape)\n",
    "print(\"y_train mean:\", round(np.mean(df_train[target_y]),2), \"| y_test mean:\", round(np.mean(df_test[target_y]),2))\n",
    "print(df_train.shape[1], \"features:\", df_train.drop(target_y,axis=1).columns.to_list())"
   ]
  },
  {
   "cell_type": "code",
   "execution_count": 334,
   "metadata": {},
   "outputs": [],
   "source": [
    "df_test_copy = df_test"
   ]
  },
  {
   "cell_type": "code",
   "execution_count": 335,
   "metadata": {},
   "outputs": [
    {
     "data": {
      "image/png": "[encoded data removed]",
      "text/plain": [
       "<Figure size 648x360 with 1 Axes>"
      ]
     },
     "metadata": {
      "needs_background": "light"
     },
     "output_type": "display_data"
    }
   ],
   "source": [
    "df_train[target_y]\n",
    "plt.figure(figsize=[9,5])\n",
    "bins = range(0,10)\n",
    "\n",
    "y = df_train[target_y]\n",
    "plt.hist(y, bins = bins, alpha=0.5, edgecolor='black', align='left')\n",
    "\n",
    "plt.xlabel('Contouring time')\n",
    "plt.ylabel('frequency')\n",
    "plt.title('Contouring distribution')\n",
    "plt.xticks(fontsize=10)\n",
    "plt.yticks(fontsize=10)\n",
    "\n",
    "plt.show()"
   ]
  },
  {
   "cell_type": "code",
   "execution_count": 254,
   "metadata": {},
   "outputs": [],
   "source": [
    "# 0-1, class 0; 2-5, class 1, >5, class 2\n",
    "df_train.loc[df_train[target_y] <=0, 'ContourGroup'] = 0\n",
    "df_train.loc[(df_train[target_y] <=2)&(df_train[target_y]>=1), 'ContourGroup'] = 1\n",
    "df_train.loc[df_train[target_y] >= 3, 'ContourGroup'] = 2\n",
    "df_train = df_train.drop(columns=[target_y])\n",
    "\n",
    "df_test.loc[df_test[target_y] <= 0, 'ContourGroup'] = 0\n",
    "df_test.loc[(df_test[target_y] <=2)&(df_test[target_y]>=1), 'ContourGroup'] = 1\n",
    "df_test.loc[df_test[target_y] >= 3, 'ContourGroup'] = 2\n",
    "df_test = df_test.drop(columns=[target_y])"
   ]
  },
  {
   "cell_type": "code",
   "execution_count": 255,
   "metadata": {},
   "outputs": [],
   "source": [
    "X_train = df_train.drop('ContourGroup', axis=1).values\n",
    "y_train = df_train['ContourGroup'].values\n",
    "\n",
    "X_test = df_test.drop('ContourGroup', axis=1).values\n",
    "y_test = df_test['ContourGroup'].values\n",
    "feature_names = df_train.drop('ContourGroup', axis=1).columns.tolist()"
   ]
  },
  {
   "cell_type": "code",
   "execution_count": 256,
   "metadata": {},
   "outputs": [
    {
     "name": "stdout",
     "output_type": "stream",
     "text": [
      "Accuracy: 0.614406779661017\n"
     ]
    }
   ],
   "source": [
    "### Random Forest\n",
    "#Import Random Forest Model\n",
    "from sklearn.ensemble import RandomForestClassifier\n",
    "\n",
    "#Create a Gaussian Classifier\n",
    "clf_rf = RandomForestClassifier(n_estimators=100)\n",
    "\n",
    "#Train the model using the training sets y_pred=clf.predict(X_test)\n",
    "clf_rf.fit(X_train,y_train)\n",
    "\n",
    "y_pred = clf_rf.predict(X_test)\n",
    "\n",
    "#Import scikit-learn metrics module for accuracy calculation\n",
    "from sklearn import metrics\n",
    "# Model Accuracy, how often is the classifier correct?\n",
    "print(\"Accuracy:\", metrics.accuracy_score(y_test, y_pred))\n"
   ]
  },
  {
   "cell_type": "code",
   "execution_count": 257,
   "metadata": {},
   "outputs": [],
   "source": [
    "# Create the parameter grid based on the results of random search \n",
    "param_grid = {\n",
    "    'bootstrap': [True],\n",
    "    'max_depth': [50, 60, 80, 100],\n",
    "    'max_features': [2, 3, 4],\n",
    "    'min_samples_leaf': [3, 4, 5],\n",
    "    'min_samples_split': [10, 12, 15],\n",
    "    'n_estimators': [100, 200, 300]\n",
    "}\n",
    "# Create a based model\n",
    "rf = RandomForestClassifier()\n",
    "# Instantiate the grid search model\n",
    "grid_search = GridSearchCV(estimator = rf, param_grid = param_grid, \n",
    "                          cv = 3, n_jobs = -1, verbose = 2)"
   ]
  },
  {
   "cell_type": "code",
   "execution_count": 258,
   "metadata": {},
   "outputs": [],
   "source": [
    "# evaluate random search\n",
    "def evaluate(model, test_features, test_labels):\n",
    "    predictions = model.predict(test_features)\n",
    "    errors = abs(predictions - test_labels)\n",
    "    mape = 100 * np.mean(errors / test_labels)\n",
    "    accuracy = 100 - mape\n",
    "    print('Model Performance')\n",
    "    print('Average Error: {:0.4f} degrees.'.format(np.mean(errors)))\n",
    "    print('Accuracy = {:0.2f}%.'.format(accuracy))\n",
    "    \n",
    "    return accuracy"
   ]
  },
  {
   "cell_type": "code",
   "execution_count": 259,
   "metadata": {},
   "outputs": [
    {
     "name": "stdout",
     "output_type": "stream",
     "text": [
      "Fitting 3 folds for each of 324 candidates, totalling 972 fits\n"
     ]
    }
   ],
   "source": [
    "# Fit the grid search to the data\n",
    "grid_search.fit(X_train, y_train)\n",
    "grid_search.best_params_\n",
    "\n",
    "best_grid = grid_search.best_estimator_\n",
    "#grid_accuracy = evaluate(best_grid, X_test, y_test)\n",
    "\n",
    "#print('Improvement of {:0.2f}%.'.format( 100 * (grid_accuracy - base_accuracy) / base_accuracy))\n"
   ]
  },
  {
   "cell_type": "code",
   "execution_count": 260,
   "metadata": {},
   "outputs": [
    {
     "data": {
      "text/plain": [
       "{'bootstrap': True,\n",
       " 'max_depth': 100,\n",
       " 'max_features': 3,\n",
       " 'min_samples_leaf': 5,\n",
       " 'min_samples_split': 12,\n",
       " 'n_estimators': 100}"
      ]
     },
     "execution_count": 260,
     "metadata": {},
     "output_type": "execute_result"
    }
   ],
   "source": [
    "grid_search.best_params_"
   ]
  },
  {
   "cell_type": "code",
   "execution_count": 261,
   "metadata": {},
   "outputs": [
    {
     "data": {
      "text/plain": [
       "0.635593220338983"
      ]
     },
     "execution_count": 261,
     "metadata": {},
     "output_type": "execute_result"
    }
   ],
   "source": [
    "grid_search.score(X_test, y_test)"
   ]
  },
  {
   "cell_type": "code",
   "execution_count": 262,
   "metadata": {},
   "outputs": [
    {
     "name": "stdout",
     "output_type": "stream",
     "text": [
      "[[270  54   4]\n",
      " [ 99 148  10]\n",
      " [ 15  76  32]]\n",
      "              precision    recall  f1-score   support\n",
      "\n",
      "         0.0       0.70      0.82      0.76       328\n",
      "         1.0       0.53      0.58      0.55       257\n",
      "         2.0       0.70      0.26      0.38       123\n",
      "\n",
      "    accuracy                           0.64       708\n",
      "   macro avg       0.64      0.55      0.56       708\n",
      "weighted avg       0.64      0.64      0.62       708\n",
      "\n"
     ]
    }
   ],
   "source": [
    "y_rf_pred=grid_search.predict(X_test)\n",
    "cm_rf = confusion_matrix(y_test, y_rf_pred)\n",
    "print(cm_rf)\n",
    "print(classification_report(y_test, y_rf_pred))"
   ]
  },
  {
   "cell_type": "code",
   "execution_count": 263,
   "metadata": {},
   "outputs": [
    {
     "name": "stdout",
     "output_type": "stream",
     "text": [
      "1.7858514878687881\n"
     ]
    }
   ],
   "source": [
    "### RMSE (days)\n",
    "y_pred_days = []\n",
    "for i in y_pred: #y_rf_pred:\n",
    "    if i == 0:\n",
    "        y_pred_days.append(0)\n",
    "    if i == 1:\n",
    "        y_pred_days.append(2)       \n",
    "    if i == 2:\n",
    "        y_pred_days.append(3)\n",
    "        \n",
    "y_true_days = df_test_copy[target_y].values\n",
    "from sklearn.metrics import mean_squared_error\n",
    "\n",
    "#pred_filtered = y_pred_days.remove(3)\n",
    "#true_filtered = [x for x in y_true_days if x <= 2]\n",
    "\n",
    "rmse = mean_squared_error(y_pred_days, y_true_days, squared=False)\n",
    "#rmse = mean_squared_error(pred_filter, true_filtered, squared=False)\n",
    "print(rmse)"
   ]
  },
  {
   "cell_type": "code",
   "execution_count": 207,
   "metadata": {},
   "outputs": [],
   "source": [
    "'''# save the model\n",
    "from pickle import dump\n",
    "dump(grid_search, open('Contouring_model.pkl', 'wb'))'''"
   ]
  },
  {
   "cell_type": "code",
   "execution_count": 338,
   "metadata": {},
   "outputs": [
    {
     "data": {
      "text/plain": [
       "0.27177700348432055"
      ]
     },
     "execution_count": 338,
     "metadata": {},
     "output_type": "execute_result"
    }
   ],
   "source": [
    "### Gradient boosting classifier\n",
    "from sklearn.ensemble import GradientBoostingClassifier\n",
    "gbclf = GradientBoostingClassifier().fit(X_train, y_train)\n",
    "gbclf.score(X_test, y_test)"
   ]
  },
  {
   "cell_type": "code",
   "execution_count": 344,
   "metadata": {},
   "outputs": [
    {
     "data": {
      "text/plain": [
       "0.27177700348432055"
      ]
     },
     "execution_count": 344,
     "metadata": {},
     "output_type": "execute_result"
    }
   ],
   "source": [
    "y_pred = gbclf.predict(X_test)\n",
    "metrics.accuracy_score(y_test, y_pred)"
   ]
  },
  {
   "cell_type": "code",
   "execution_count": 341,
   "metadata": {},
   "outputs": [
    {
     "name": "stdout",
     "output_type": "stream",
     "text": [
      "Fitting 3 folds for each of 324 candidates, totalling 972 fits\n"
     ]
    },
    {
     "name": "stderr",
     "output_type": "stream",
     "text": [
      "/Users/fanjia/opt/anaconda3/lib/python3.8/site-packages/sklearn/model_selection/_split.py:666: UserWarning: The least populated class in y has only 1 members, which is less than n_splits=3.\n",
      "  warnings.warn((\"The least populated class in y has only %d\"\n"
     ]
    },
    {
     "ename": "KeyboardInterrupt",
     "evalue": "",
     "output_type": "error",
     "traceback": [
      "\u001b[0;31m---------------------------------------------------------------------------\u001b[0m",
      "\u001b[0;31mKeyboardInterrupt\u001b[0m                         Traceback (most recent call last)",
      "\u001b[0;32m<ipython-input-341-2116d5bfb4bf>\u001b[0m in \u001b[0;36m<module>\u001b[0;34m\u001b[0m\n\u001b[1;32m     14\u001b[0m                           cv = 3, n_jobs = -1, verbose = 2)\n\u001b[1;32m     15\u001b[0m \u001b[0;31m# Fit the grid search to the data\u001b[0m\u001b[0;34m\u001b[0m\u001b[0;34m\u001b[0m\u001b[0;34m\u001b[0m\u001b[0m\n\u001b[0;32m---> 16\u001b[0;31m \u001b[0mgb_grid_search\u001b[0m\u001b[0;34m.\u001b[0m\u001b[0mfit\u001b[0m\u001b[0;34m(\u001b[0m\u001b[0mX_train\u001b[0m\u001b[0;34m,\u001b[0m \u001b[0my_train\u001b[0m\u001b[0;34m)\u001b[0m\u001b[0;34m\u001b[0m\u001b[0;34m\u001b[0m\u001b[0m\n\u001b[0m\u001b[1;32m     17\u001b[0m \u001b[0mgb_grid_search\u001b[0m\u001b[0;34m.\u001b[0m\u001b[0mbest_params_\u001b[0m\u001b[0;34m\u001b[0m\u001b[0;34m\u001b[0m\u001b[0m\n\u001b[1;32m     18\u001b[0m \u001b[0;34m\u001b[0m\u001b[0m\n",
      "\u001b[0;32m~/opt/anaconda3/lib/python3.8/site-packages/sklearn/utils/validation.py\u001b[0m in \u001b[0;36minner_f\u001b[0;34m(*args, **kwargs)\u001b[0m\n\u001b[1;32m     61\u001b[0m             \u001b[0mextra_args\u001b[0m \u001b[0;34m=\u001b[0m \u001b[0mlen\u001b[0m\u001b[0;34m(\u001b[0m\u001b[0margs\u001b[0m\u001b[0;34m)\u001b[0m \u001b[0;34m-\u001b[0m \u001b[0mlen\u001b[0m\u001b[0;34m(\u001b[0m\u001b[0mall_args\u001b[0m\u001b[0;34m)\u001b[0m\u001b[0;34m\u001b[0m\u001b[0;34m\u001b[0m\u001b[0m\n\u001b[1;32m     62\u001b[0m             \u001b[0;32mif\u001b[0m \u001b[0mextra_args\u001b[0m \u001b[0;34m<=\u001b[0m \u001b[0;36m0\u001b[0m\u001b[0;34m:\u001b[0m\u001b[0;34m\u001b[0m\u001b[0;34m\u001b[0m\u001b[0m\n\u001b[0;32m---> 63\u001b[0;31m                 \u001b[0;32mreturn\u001b[0m \u001b[0mf\u001b[0m\u001b[0;34m(\u001b[0m\u001b[0;34m*\u001b[0m\u001b[0margs\u001b[0m\u001b[0;34m,\u001b[0m \u001b[0;34m**\u001b[0m\u001b[0mkwargs\u001b[0m\u001b[0;34m)\u001b[0m\u001b[0;34m\u001b[0m\u001b[0;34m\u001b[0m\u001b[0m\n\u001b[0m\u001b[1;32m     64\u001b[0m \u001b[0;34m\u001b[0m\u001b[0m\n\u001b[1;32m     65\u001b[0m             \u001b[0;31m# extra_args > 0\u001b[0m\u001b[0;34m\u001b[0m\u001b[0;34m\u001b[0m\u001b[0;34m\u001b[0m\u001b[0m\n",
      "\u001b[0;32m~/opt/anaconda3/lib/python3.8/site-packages/sklearn/model_selection/_search.py\u001b[0m in \u001b[0;36mfit\u001b[0;34m(self, X, y, groups, **fit_params)\u001b[0m\n\u001b[1;32m    839\u001b[0m                 \u001b[0;32mreturn\u001b[0m \u001b[0mresults\u001b[0m\u001b[0;34m\u001b[0m\u001b[0;34m\u001b[0m\u001b[0m\n\u001b[1;32m    840\u001b[0m \u001b[0;34m\u001b[0m\u001b[0m\n\u001b[0;32m--> 841\u001b[0;31m             \u001b[0mself\u001b[0m\u001b[0;34m.\u001b[0m\u001b[0m_run_search\u001b[0m\u001b[0;34m(\u001b[0m\u001b[0mevaluate_candidates\u001b[0m\u001b[0;34m)\u001b[0m\u001b[0;34m\u001b[0m\u001b[0;34m\u001b[0m\u001b[0m\n\u001b[0m\u001b[1;32m    842\u001b[0m \u001b[0;34m\u001b[0m\u001b[0m\n\u001b[1;32m    843\u001b[0m             \u001b[0;31m# multimetric is determined here because in the case of a callable\u001b[0m\u001b[0;34m\u001b[0m\u001b[0;34m\u001b[0m\u001b[0;34m\u001b[0m\u001b[0m\n",
      "\u001b[0;32m~/opt/anaconda3/lib/python3.8/site-packages/sklearn/model_selection/_search.py\u001b[0m in \u001b[0;36m_run_search\u001b[0;34m(self, evaluate_candidates)\u001b[0m\n\u001b[1;32m   1294\u001b[0m     \u001b[0;32mdef\u001b[0m \u001b[0m_run_search\u001b[0m\u001b[0;34m(\u001b[0m\u001b[0mself\u001b[0m\u001b[0;34m,\u001b[0m \u001b[0mevaluate_candidates\u001b[0m\u001b[0;34m)\u001b[0m\u001b[0;34m:\u001b[0m\u001b[0;34m\u001b[0m\u001b[0;34m\u001b[0m\u001b[0m\n\u001b[1;32m   1295\u001b[0m         \u001b[0;34m\"\"\"Search all candidates in param_grid\"\"\"\u001b[0m\u001b[0;34m\u001b[0m\u001b[0;34m\u001b[0m\u001b[0m\n\u001b[0;32m-> 1296\u001b[0;31m         \u001b[0mevaluate_candidates\u001b[0m\u001b[0;34m(\u001b[0m\u001b[0mParameterGrid\u001b[0m\u001b[0;34m(\u001b[0m\u001b[0mself\u001b[0m\u001b[0;34m.\u001b[0m\u001b[0mparam_grid\u001b[0m\u001b[0;34m)\u001b[0m\u001b[0;34m)\u001b[0m\u001b[0;34m\u001b[0m\u001b[0;34m\u001b[0m\u001b[0m\n\u001b[0m\u001b[1;32m   1297\u001b[0m \u001b[0;34m\u001b[0m\u001b[0m\n\u001b[1;32m   1298\u001b[0m \u001b[0;34m\u001b[0m\u001b[0m\n",
      "\u001b[0;32m~/opt/anaconda3/lib/python3.8/site-packages/sklearn/model_selection/_search.py\u001b[0m in \u001b[0;36mevaluate_candidates\u001b[0;34m(candidate_params, cv, more_results)\u001b[0m\n\u001b[1;32m    793\u001b[0m                               n_splits, n_candidates, n_candidates * n_splits))\n\u001b[1;32m    794\u001b[0m \u001b[0;34m\u001b[0m\u001b[0m\n\u001b[0;32m--> 795\u001b[0;31m                 out = parallel(delayed(_fit_and_score)(clone(base_estimator),\n\u001b[0m\u001b[1;32m    796\u001b[0m                                                        \u001b[0mX\u001b[0m\u001b[0;34m,\u001b[0m \u001b[0my\u001b[0m\u001b[0;34m,\u001b[0m\u001b[0;34m\u001b[0m\u001b[0;34m\u001b[0m\u001b[0m\n\u001b[1;32m    797\u001b[0m                                                        \u001b[0mtrain\u001b[0m\u001b[0;34m=\u001b[0m\u001b[0mtrain\u001b[0m\u001b[0;34m,\u001b[0m \u001b[0mtest\u001b[0m\u001b[0;34m=\u001b[0m\u001b[0mtest\u001b[0m\u001b[0;34m,\u001b[0m\u001b[0;34m\u001b[0m\u001b[0;34m\u001b[0m\u001b[0m\n",
      "\u001b[0;32m~/opt/anaconda3/lib/python3.8/site-packages/joblib/parallel.py\u001b[0m in \u001b[0;36m__call__\u001b[0;34m(self, iterable)\u001b[0m\n\u001b[1;32m   1040\u001b[0m \u001b[0;34m\u001b[0m\u001b[0m\n\u001b[1;32m   1041\u001b[0m             \u001b[0;32mwith\u001b[0m \u001b[0mself\u001b[0m\u001b[0;34m.\u001b[0m\u001b[0m_backend\u001b[0m\u001b[0;34m.\u001b[0m\u001b[0mretrieval_context\u001b[0m\u001b[0;34m(\u001b[0m\u001b[0;34m)\u001b[0m\u001b[0;34m:\u001b[0m\u001b[0;34m\u001b[0m\u001b[0;34m\u001b[0m\u001b[0m\n\u001b[0;32m-> 1042\u001b[0;31m                 \u001b[0mself\u001b[0m\u001b[0;34m.\u001b[0m\u001b[0mretrieve\u001b[0m\u001b[0;34m(\u001b[0m\u001b[0;34m)\u001b[0m\u001b[0;34m\u001b[0m\u001b[0;34m\u001b[0m\u001b[0m\n\u001b[0m\u001b[1;32m   1043\u001b[0m             \u001b[0;31m# Make sure that we get a last message telling us we are done\u001b[0m\u001b[0;34m\u001b[0m\u001b[0;34m\u001b[0m\u001b[0;34m\u001b[0m\u001b[0m\n\u001b[1;32m   1044\u001b[0m             \u001b[0melapsed_time\u001b[0m \u001b[0;34m=\u001b[0m \u001b[0mtime\u001b[0m\u001b[0;34m.\u001b[0m\u001b[0mtime\u001b[0m\u001b[0;34m(\u001b[0m\u001b[0;34m)\u001b[0m \u001b[0;34m-\u001b[0m \u001b[0mself\u001b[0m\u001b[0;34m.\u001b[0m\u001b[0m_start_time\u001b[0m\u001b[0;34m\u001b[0m\u001b[0;34m\u001b[0m\u001b[0m\n",
      "\u001b[0;32m~/opt/anaconda3/lib/python3.8/site-packages/joblib/parallel.py\u001b[0m in \u001b[0;36mretrieve\u001b[0;34m(self)\u001b[0m\n\u001b[1;32m    919\u001b[0m             \u001b[0;32mtry\u001b[0m\u001b[0;34m:\u001b[0m\u001b[0;34m\u001b[0m\u001b[0;34m\u001b[0m\u001b[0m\n\u001b[1;32m    920\u001b[0m                 \u001b[0;32mif\u001b[0m \u001b[0mgetattr\u001b[0m\u001b[0;34m(\u001b[0m\u001b[0mself\u001b[0m\u001b[0;34m.\u001b[0m\u001b[0m_backend\u001b[0m\u001b[0;34m,\u001b[0m \u001b[0;34m'supports_timeout'\u001b[0m\u001b[0;34m,\u001b[0m \u001b[0;32mFalse\u001b[0m\u001b[0;34m)\u001b[0m\u001b[0;34m:\u001b[0m\u001b[0;34m\u001b[0m\u001b[0;34m\u001b[0m\u001b[0m\n\u001b[0;32m--> 921\u001b[0;31m                     \u001b[0mself\u001b[0m\u001b[0;34m.\u001b[0m\u001b[0m_output\u001b[0m\u001b[0;34m.\u001b[0m\u001b[0mextend\u001b[0m\u001b[0;34m(\u001b[0m\u001b[0mjob\u001b[0m\u001b[0;34m.\u001b[0m\u001b[0mget\u001b[0m\u001b[0;34m(\u001b[0m\u001b[0mtimeout\u001b[0m\u001b[0;34m=\u001b[0m\u001b[0mself\u001b[0m\u001b[0;34m.\u001b[0m\u001b[0mtimeout\u001b[0m\u001b[0;34m)\u001b[0m\u001b[0;34m)\u001b[0m\u001b[0;34m\u001b[0m\u001b[0;34m\u001b[0m\u001b[0m\n\u001b[0m\u001b[1;32m    922\u001b[0m                 \u001b[0;32melse\u001b[0m\u001b[0;34m:\u001b[0m\u001b[0;34m\u001b[0m\u001b[0;34m\u001b[0m\u001b[0m\n\u001b[1;32m    923\u001b[0m                     \u001b[0mself\u001b[0m\u001b[0;34m.\u001b[0m\u001b[0m_output\u001b[0m\u001b[0;34m.\u001b[0m\u001b[0mextend\u001b[0m\u001b[0;34m(\u001b[0m\u001b[0mjob\u001b[0m\u001b[0;34m.\u001b[0m\u001b[0mget\u001b[0m\u001b[0;34m(\u001b[0m\u001b[0;34m)\u001b[0m\u001b[0;34m)\u001b[0m\u001b[0;34m\u001b[0m\u001b[0;34m\u001b[0m\u001b[0m\n",
      "\u001b[0;32m~/opt/anaconda3/lib/python3.8/site-packages/joblib/_parallel_backends.py\u001b[0m in \u001b[0;36mwrap_future_result\u001b[0;34m(future, timeout)\u001b[0m\n\u001b[1;32m    540\u001b[0m         AsyncResults.get from multiprocessing.\"\"\"\n\u001b[1;32m    541\u001b[0m         \u001b[0;32mtry\u001b[0m\u001b[0;34m:\u001b[0m\u001b[0;34m\u001b[0m\u001b[0;34m\u001b[0m\u001b[0m\n\u001b[0;32m--> 542\u001b[0;31m             \u001b[0;32mreturn\u001b[0m \u001b[0mfuture\u001b[0m\u001b[0;34m.\u001b[0m\u001b[0mresult\u001b[0m\u001b[0;34m(\u001b[0m\u001b[0mtimeout\u001b[0m\u001b[0;34m=\u001b[0m\u001b[0mtimeout\u001b[0m\u001b[0;34m)\u001b[0m\u001b[0;34m\u001b[0m\u001b[0;34m\u001b[0m\u001b[0m\n\u001b[0m\u001b[1;32m    543\u001b[0m         \u001b[0;32mexcept\u001b[0m \u001b[0mCfTimeoutError\u001b[0m \u001b[0;32mas\u001b[0m \u001b[0me\u001b[0m\u001b[0;34m:\u001b[0m\u001b[0;34m\u001b[0m\u001b[0;34m\u001b[0m\u001b[0m\n\u001b[1;32m    544\u001b[0m             \u001b[0;32mraise\u001b[0m \u001b[0mTimeoutError\u001b[0m \u001b[0;32mfrom\u001b[0m \u001b[0me\u001b[0m\u001b[0;34m\u001b[0m\u001b[0;34m\u001b[0m\u001b[0m\n",
      "\u001b[0;32m~/opt/anaconda3/lib/python3.8/concurrent/futures/_base.py\u001b[0m in \u001b[0;36mresult\u001b[0;34m(self, timeout)\u001b[0m\n\u001b[1;32m    432\u001b[0m                 \u001b[0;32mreturn\u001b[0m \u001b[0mself\u001b[0m\u001b[0;34m.\u001b[0m\u001b[0m__get_result\u001b[0m\u001b[0;34m(\u001b[0m\u001b[0;34m)\u001b[0m\u001b[0;34m\u001b[0m\u001b[0;34m\u001b[0m\u001b[0m\n\u001b[1;32m    433\u001b[0m \u001b[0;34m\u001b[0m\u001b[0m\n\u001b[0;32m--> 434\u001b[0;31m             \u001b[0mself\u001b[0m\u001b[0;34m.\u001b[0m\u001b[0m_condition\u001b[0m\u001b[0;34m.\u001b[0m\u001b[0mwait\u001b[0m\u001b[0;34m(\u001b[0m\u001b[0mtimeout\u001b[0m\u001b[0;34m)\u001b[0m\u001b[0;34m\u001b[0m\u001b[0;34m\u001b[0m\u001b[0m\n\u001b[0m\u001b[1;32m    435\u001b[0m \u001b[0;34m\u001b[0m\u001b[0m\n\u001b[1;32m    436\u001b[0m             \u001b[0;32mif\u001b[0m \u001b[0mself\u001b[0m\u001b[0;34m.\u001b[0m\u001b[0m_state\u001b[0m \u001b[0;32min\u001b[0m \u001b[0;34m[\u001b[0m\u001b[0mCANCELLED\u001b[0m\u001b[0;34m,\u001b[0m \u001b[0mCANCELLED_AND_NOTIFIED\u001b[0m\u001b[0;34m]\u001b[0m\u001b[0;34m:\u001b[0m\u001b[0;34m\u001b[0m\u001b[0;34m\u001b[0m\u001b[0m\n",
      "\u001b[0;32m~/opt/anaconda3/lib/python3.8/threading.py\u001b[0m in \u001b[0;36mwait\u001b[0;34m(self, timeout)\u001b[0m\n\u001b[1;32m    300\u001b[0m         \u001b[0;32mtry\u001b[0m\u001b[0;34m:\u001b[0m    \u001b[0;31m# restore state no matter what (e.g., KeyboardInterrupt)\u001b[0m\u001b[0;34m\u001b[0m\u001b[0;34m\u001b[0m\u001b[0m\n\u001b[1;32m    301\u001b[0m             \u001b[0;32mif\u001b[0m \u001b[0mtimeout\u001b[0m \u001b[0;32mis\u001b[0m \u001b[0;32mNone\u001b[0m\u001b[0;34m:\u001b[0m\u001b[0;34m\u001b[0m\u001b[0;34m\u001b[0m\u001b[0m\n\u001b[0;32m--> 302\u001b[0;31m                 \u001b[0mwaiter\u001b[0m\u001b[0;34m.\u001b[0m\u001b[0macquire\u001b[0m\u001b[0;34m(\u001b[0m\u001b[0;34m)\u001b[0m\u001b[0;34m\u001b[0m\u001b[0;34m\u001b[0m\u001b[0m\n\u001b[0m\u001b[1;32m    303\u001b[0m                 \u001b[0mgotit\u001b[0m \u001b[0;34m=\u001b[0m \u001b[0;32mTrue\u001b[0m\u001b[0;34m\u001b[0m\u001b[0;34m\u001b[0m\u001b[0m\n\u001b[1;32m    304\u001b[0m             \u001b[0;32melse\u001b[0m\u001b[0;34m:\u001b[0m\u001b[0;34m\u001b[0m\u001b[0;34m\u001b[0m\u001b[0m\n",
      "\u001b[0;31mKeyboardInterrupt\u001b[0m: "
     ]
    }
   ],
   "source": [
    "# Create the parameter grid based on the results of random search \n",
    "param_grid = {\n",
    "    #'bootstrap': [True],\n",
    "    'max_depth': [50, 60, 80, 100],\n",
    "    'max_features': [2, 3, 4],\n",
    "    'min_samples_leaf': [3, 4, 5],\n",
    "    'min_samples_split': [10, 12, 15],\n",
    "    'n_estimators': [100, 200, 300]\n",
    "}\n",
    "# Create a based model\n",
    "gb = GradientBoostingClassifier()\n",
    "# Instantiate the grid search model\n",
    "gb_grid_search = GridSearchCV(estimator = gb, param_grid = param_grid, \n",
    "                          cv = 3, n_jobs = -1, verbose = 2)\n",
    "# Fit the grid search to the data\n",
    "gb_grid_search.fit(X_train, y_train)\n",
    "gb_grid_search.best_params_\n",
    "\n",
    "best_grid = gb_grid_search.best_estimator_\n",
    "best_grid"
   ]
  },
  {
   "cell_type": "code",
   "execution_count": null,
   "metadata": {},
   "outputs": [],
   "source": [
    "gb_grid_search.score(X_test, y_test)"
   ]
  },
  {
   "cell_type": "markdown",
   "metadata": {},
   "source": [
    "#### ContourGroup rules"
   ]
  },
  {
   "cell_type": "code",
   "execution_count": 264,
   "metadata": {},
   "outputs": [
    {
     "data": {
      "text/plain": [
       "0.0"
      ]
     },
     "execution_count": 264,
     "metadata": {},
     "output_type": "execute_result"
    }
   ],
   "source": [
    "a = df_cont[df_cont[target_y]<=0][target_y]\n",
    "np.percentile(a, 75)"
   ]
  },
  {
   "cell_type": "code",
   "execution_count": 265,
   "metadata": {},
   "outputs": [
    {
     "data": {
      "text/plain": [
       "2.0"
      ]
     },
     "execution_count": 265,
     "metadata": {},
     "output_type": "execute_result"
    }
   ],
   "source": [
    "b = df_cont[(df_cont[target_y]<=2)&(df_cont[target_y]>=1)][target_y]\n",
    "np.percentile(b, 75)"
   ]
  },
  {
   "cell_type": "code",
   "execution_count": 266,
   "metadata": {},
   "outputs": [
    {
     "data": {
      "text/plain": [
       "3.0"
      ]
     },
     "execution_count": 266,
     "metadata": {},
     "output_type": "execute_result"
    }
   ],
   "source": [
    "c = df_cont[df_cont[target_y]>=3][target_y]\n",
    "np.percentile(c, 25)"
   ]
  },
  {
   "cell_type": "markdown",
   "metadata": {},
   "source": [
    "#### Predict Instance Data"
   ]
  },
  {
   "cell_type": "code",
   "execution_count": 267,
   "metadata": {},
   "outputs": [
    {
     "data": {
      "text/html": [
       "<div>\n",
       "<style scoped>\n",
       "    .dataframe tbody tr th:only-of-type {\n",
       "        vertical-align: middle;\n",
       "    }\n",
       "\n",
       "    .dataframe tbody tr th {\n",
       "        vertical-align: top;\n",
       "    }\n",
       "\n",
       "    .dataframe thead th {\n",
       "        text-align: right;\n",
       "    }\n",
       "</style>\n",
       "<table border=\"1\" class=\"dataframe\">\n",
       "  <thead>\n",
       "    <tr style=\"text-align: right;\">\n",
       "      <th></th>\n",
       "      <th>TltDose</th>\n",
       "      <th>TxFracs</th>\n",
       "      <th>Site_BREAST</th>\n",
       "      <th>Site_CNS</th>\n",
       "      <th>Site_ENDOCRINE</th>\n",
       "      <th>Site_ENT (HEAD &amp; NECK)</th>\n",
       "      <th>Site_EYE</th>\n",
       "      <th>Site_GENITOURINARY(GU)</th>\n",
       "      <th>Site_GI LOWER</th>\n",
       "      <th>Site_GI UPPER</th>\n",
       "      <th>Site_GYNAE</th>\n",
       "      <th>Site_LUNG</th>\n",
       "      <th>Site_LYMPHOMA</th>\n",
       "      <th>Site_PAEDIATRIC</th>\n",
       "      <th>Site_SARCOMA</th>\n",
       "      <th>Site_SKIN</th>\n",
       "      <th>Categ_Emergency 1</th>\n",
       "      <th>Categ_Standard 3</th>\n",
       "      <th>Categ_Urgent 2</th>\n",
       "      <th>ContourGroup</th>\n",
       "    </tr>\n",
       "  </thead>\n",
       "  <tbody>\n",
       "    <tr>\n",
       "      <th>2443</th>\n",
       "      <td>6000.0</td>\n",
       "      <td>25.0</td>\n",
       "      <td>0</td>\n",
       "      <td>0</td>\n",
       "      <td>0</td>\n",
       "      <td>0</td>\n",
       "      <td>0</td>\n",
       "      <td>0</td>\n",
       "      <td>0</td>\n",
       "      <td>0</td>\n",
       "      <td>0</td>\n",
       "      <td>1</td>\n",
       "      <td>0</td>\n",
       "      <td>0</td>\n",
       "      <td>0</td>\n",
       "      <td>0</td>\n",
       "      <td>0</td>\n",
       "      <td>1</td>\n",
       "      <td>0</td>\n",
       "      <td>0.0</td>\n",
       "    </tr>\n",
       "    <tr>\n",
       "      <th>5706</th>\n",
       "      <td>2500.0</td>\n",
       "      <td>5.0</td>\n",
       "      <td>0</td>\n",
       "      <td>0</td>\n",
       "      <td>0</td>\n",
       "      <td>0</td>\n",
       "      <td>0</td>\n",
       "      <td>0</td>\n",
       "      <td>0</td>\n",
       "      <td>0</td>\n",
       "      <td>0</td>\n",
       "      <td>0</td>\n",
       "      <td>0</td>\n",
       "      <td>0</td>\n",
       "      <td>1</td>\n",
       "      <td>0</td>\n",
       "      <td>0</td>\n",
       "      <td>1</td>\n",
       "      <td>0</td>\n",
       "      <td>1.0</td>\n",
       "    </tr>\n",
       "    <tr>\n",
       "      <th>6297</th>\n",
       "      <td>3000.0</td>\n",
       "      <td>10.0</td>\n",
       "      <td>0</td>\n",
       "      <td>0</td>\n",
       "      <td>0</td>\n",
       "      <td>0</td>\n",
       "      <td>0</td>\n",
       "      <td>0</td>\n",
       "      <td>0</td>\n",
       "      <td>0</td>\n",
       "      <td>0</td>\n",
       "      <td>0</td>\n",
       "      <td>0</td>\n",
       "      <td>0</td>\n",
       "      <td>0</td>\n",
       "      <td>1</td>\n",
       "      <td>0</td>\n",
       "      <td>1</td>\n",
       "      <td>0</td>\n",
       "      <td>0.0</td>\n",
       "    </tr>\n",
       "    <tr>\n",
       "      <th>5711</th>\n",
       "      <td>5750.0</td>\n",
       "      <td>25.0</td>\n",
       "      <td>0</td>\n",
       "      <td>0</td>\n",
       "      <td>0</td>\n",
       "      <td>0</td>\n",
       "      <td>0</td>\n",
       "      <td>0</td>\n",
       "      <td>0</td>\n",
       "      <td>0</td>\n",
       "      <td>1</td>\n",
       "      <td>0</td>\n",
       "      <td>0</td>\n",
       "      <td>0</td>\n",
       "      <td>0</td>\n",
       "      <td>0</td>\n",
       "      <td>0</td>\n",
       "      <td>1</td>\n",
       "      <td>0</td>\n",
       "      <td>1.0</td>\n",
       "    </tr>\n",
       "    <tr>\n",
       "      <th>1793</th>\n",
       "      <td>3000.0</td>\n",
       "      <td>10.0</td>\n",
       "      <td>0</td>\n",
       "      <td>0</td>\n",
       "      <td>1</td>\n",
       "      <td>0</td>\n",
       "      <td>0</td>\n",
       "      <td>0</td>\n",
       "      <td>0</td>\n",
       "      <td>0</td>\n",
       "      <td>0</td>\n",
       "      <td>0</td>\n",
       "      <td>0</td>\n",
       "      <td>0</td>\n",
       "      <td>0</td>\n",
       "      <td>0</td>\n",
       "      <td>0</td>\n",
       "      <td>1</td>\n",
       "      <td>0</td>\n",
       "      <td>1.0</td>\n",
       "    </tr>\n",
       "    <tr>\n",
       "      <th>...</th>\n",
       "      <td>...</td>\n",
       "      <td>...</td>\n",
       "      <td>...</td>\n",
       "      <td>...</td>\n",
       "      <td>...</td>\n",
       "      <td>...</td>\n",
       "      <td>...</td>\n",
       "      <td>...</td>\n",
       "      <td>...</td>\n",
       "      <td>...</td>\n",
       "      <td>...</td>\n",
       "      <td>...</td>\n",
       "      <td>...</td>\n",
       "      <td>...</td>\n",
       "      <td>...</td>\n",
       "      <td>...</td>\n",
       "      <td>...</td>\n",
       "      <td>...</td>\n",
       "      <td>...</td>\n",
       "      <td>...</td>\n",
       "    </tr>\n",
       "    <tr>\n",
       "      <th>4086</th>\n",
       "      <td>2000.0</td>\n",
       "      <td>5.0</td>\n",
       "      <td>1</td>\n",
       "      <td>0</td>\n",
       "      <td>0</td>\n",
       "      <td>0</td>\n",
       "      <td>0</td>\n",
       "      <td>0</td>\n",
       "      <td>0</td>\n",
       "      <td>0</td>\n",
       "      <td>0</td>\n",
       "      <td>0</td>\n",
       "      <td>0</td>\n",
       "      <td>0</td>\n",
       "      <td>0</td>\n",
       "      <td>0</td>\n",
       "      <td>0</td>\n",
       "      <td>0</td>\n",
       "      <td>1</td>\n",
       "      <td>0.0</td>\n",
       "    </tr>\n",
       "    <tr>\n",
       "      <th>3900</th>\n",
       "      <td>4500.0</td>\n",
       "      <td>15.0</td>\n",
       "      <td>0</td>\n",
       "      <td>0</td>\n",
       "      <td>0</td>\n",
       "      <td>0</td>\n",
       "      <td>0</td>\n",
       "      <td>0</td>\n",
       "      <td>0</td>\n",
       "      <td>0</td>\n",
       "      <td>0</td>\n",
       "      <td>0</td>\n",
       "      <td>0</td>\n",
       "      <td>0</td>\n",
       "      <td>1</td>\n",
       "      <td>0</td>\n",
       "      <td>0</td>\n",
       "      <td>1</td>\n",
       "      <td>0</td>\n",
       "      <td>1.0</td>\n",
       "    </tr>\n",
       "    <tr>\n",
       "      <th>4633</th>\n",
       "      <td>5400.0</td>\n",
       "      <td>27.0</td>\n",
       "      <td>0</td>\n",
       "      <td>0</td>\n",
       "      <td>0</td>\n",
       "      <td>0</td>\n",
       "      <td>0</td>\n",
       "      <td>1</td>\n",
       "      <td>0</td>\n",
       "      <td>0</td>\n",
       "      <td>0</td>\n",
       "      <td>0</td>\n",
       "      <td>0</td>\n",
       "      <td>0</td>\n",
       "      <td>0</td>\n",
       "      <td>0</td>\n",
       "      <td>0</td>\n",
       "      <td>1</td>\n",
       "      <td>0</td>\n",
       "      <td>1.0</td>\n",
       "    </tr>\n",
       "    <tr>\n",
       "      <th>926</th>\n",
       "      <td>7000.0</td>\n",
       "      <td>35.0</td>\n",
       "      <td>0</td>\n",
       "      <td>0</td>\n",
       "      <td>0</td>\n",
       "      <td>1</td>\n",
       "      <td>0</td>\n",
       "      <td>0</td>\n",
       "      <td>0</td>\n",
       "      <td>0</td>\n",
       "      <td>0</td>\n",
       "      <td>0</td>\n",
       "      <td>0</td>\n",
       "      <td>0</td>\n",
       "      <td>0</td>\n",
       "      <td>0</td>\n",
       "      <td>0</td>\n",
       "      <td>1</td>\n",
       "      <td>0</td>\n",
       "      <td>2.0</td>\n",
       "    </tr>\n",
       "    <tr>\n",
       "      <th>4481</th>\n",
       "      <td>2000.0</td>\n",
       "      <td>5.0</td>\n",
       "      <td>0</td>\n",
       "      <td>1</td>\n",
       "      <td>0</td>\n",
       "      <td>0</td>\n",
       "      <td>0</td>\n",
       "      <td>0</td>\n",
       "      <td>0</td>\n",
       "      <td>0</td>\n",
       "      <td>0</td>\n",
       "      <td>0</td>\n",
       "      <td>0</td>\n",
       "      <td>0</td>\n",
       "      <td>0</td>\n",
       "      <td>0</td>\n",
       "      <td>0</td>\n",
       "      <td>1</td>\n",
       "      <td>0</td>\n",
       "      <td>0.0</td>\n",
       "    </tr>\n",
       "  </tbody>\n",
       "</table>\n",
       "<p>1650 rows × 20 columns</p>\n",
       "</div>"
      ],
      "text/plain": [
       "      TltDose  TxFracs  Site_BREAST  Site_CNS  Site_ENDOCRINE  \\\n",
       "2443   6000.0     25.0            0         0               0   \n",
       "5706   2500.0      5.0            0         0               0   \n",
       "6297   3000.0     10.0            0         0               0   \n",
       "5711   5750.0     25.0            0         0               0   \n",
       "1793   3000.0     10.0            0         0               1   \n",
       "...       ...      ...          ...       ...             ...   \n",
       "4086   2000.0      5.0            1         0               0   \n",
       "3900   4500.0     15.0            0         0               0   \n",
       "4633   5400.0     27.0            0         0               0   \n",
       "926    7000.0     35.0            0         0               0   \n",
       "4481   2000.0      5.0            0         1               0   \n",
       "\n",
       "      Site_ENT (HEAD & NECK)  Site_EYE  Site_GENITOURINARY(GU)  Site_GI LOWER  \\\n",
       "2443                       0         0                       0              0   \n",
       "5706                       0         0                       0              0   \n",
       "6297                       0         0                       0              0   \n",
       "5711                       0         0                       0              0   \n",
       "1793                       0         0                       0              0   \n",
       "...                      ...       ...                     ...            ...   \n",
       "4086                       0         0                       0              0   \n",
       "3900                       0         0                       0              0   \n",
       "4633                       0         0                       1              0   \n",
       "926                        1         0                       0              0   \n",
       "4481                       0         0                       0              0   \n",
       "\n",
       "      Site_GI UPPER  Site_GYNAE  Site_LUNG  Site_LYMPHOMA  Site_PAEDIATRIC  \\\n",
       "2443              0           0          1              0                0   \n",
       "5706              0           0          0              0                0   \n",
       "6297              0           0          0              0                0   \n",
       "5711              0           1          0              0                0   \n",
       "1793              0           0          0              0                0   \n",
       "...             ...         ...        ...            ...              ...   \n",
       "4086              0           0          0              0                0   \n",
       "3900              0           0          0              0                0   \n",
       "4633              0           0          0              0                0   \n",
       "926               0           0          0              0                0   \n",
       "4481              0           0          0              0                0   \n",
       "\n",
       "      Site_SARCOMA  Site_SKIN  Categ_Emergency 1  Categ_Standard 3  \\\n",
       "2443             0          0                  0                 1   \n",
       "5706             1          0                  0                 1   \n",
       "6297             0          1                  0                 1   \n",
       "5711             0          0                  0                 1   \n",
       "1793             0          0                  0                 1   \n",
       "...            ...        ...                ...               ...   \n",
       "4086             0          0                  0                 0   \n",
       "3900             1          0                  0                 1   \n",
       "4633             0          0                  0                 1   \n",
       "926              0          0                  0                 1   \n",
       "4481             0          0                  0                 1   \n",
       "\n",
       "      Categ_Urgent 2  ContourGroup  \n",
       "2443               0           0.0  \n",
       "5706               0           1.0  \n",
       "6297               0           0.0  \n",
       "5711               0           1.0  \n",
       "1793               0           1.0  \n",
       "...              ...           ...  \n",
       "4086               1           0.0  \n",
       "3900               0           1.0  \n",
       "4633               0           1.0  \n",
       "926                0           2.0  \n",
       "4481               0           0.0  \n",
       "\n",
       "[1650 rows x 20 columns]"
      ]
     },
     "execution_count": 267,
     "metadata": {},
     "output_type": "execute_result"
    }
   ],
   "source": [
    "df_train"
   ]
  },
  {
   "cell_type": "code",
   "execution_count": 268,
   "metadata": {},
   "outputs": [],
   "source": [
    "all_columns = df_train.columns # index object\n",
    "model_features = df_train.columns.to_list()\n",
    "model_features.remove('ContourGroup')"
   ]
  },
  {
   "cell_type": "code",
   "execution_count": 270,
   "metadata": {},
   "outputs": [
    {
     "data": {
      "text/html": [
       "<div>\n",
       "<style scoped>\n",
       "    .dataframe tbody tr th:only-of-type {\n",
       "        vertical-align: middle;\n",
       "    }\n",
       "\n",
       "    .dataframe tbody tr th {\n",
       "        vertical-align: top;\n",
       "    }\n",
       "\n",
       "    .dataframe thead th {\n",
       "        text-align: right;\n",
       "    }\n",
       "</style>\n",
       "<table border=\"1\" class=\"dataframe\">\n",
       "  <thead>\n",
       "    <tr style=\"text-align: right;\">\n",
       "      <th></th>\n",
       "      <th>Unnamed: 0</th>\n",
       "      <th>MRN</th>\n",
       "      <th>CreatedDate</th>\n",
       "      <th>SiteGroup</th>\n",
       "      <th>Intent</th>\n",
       "      <th>Category_x</th>\n",
       "      <th>SimApptDuration</th>\n",
       "      <th>TltDose</th>\n",
       "      <th>TxFracs</th>\n",
       "      <th>TxApptDuration</th>\n",
       "      <th>Team</th>\n",
       "      <th>CT</th>\n",
       "      <th>linacs</th>\n",
       "      <th>TxStartDt</th>\n",
       "      <th>WaitTime</th>\n",
       "    </tr>\n",
       "  </thead>\n",
       "  <tbody>\n",
       "    <tr>\n",
       "      <th>0</th>\n",
       "      <td>0</td>\n",
       "      <td>48245</td>\n",
       "      <td>2020-01-30</td>\n",
       "      <td>ENT (HEAD &amp; NECK)</td>\n",
       "      <td>Palliative</td>\n",
       "      <td>Urgent 2</td>\n",
       "      <td>45</td>\n",
       "      <td>800.0</td>\n",
       "      <td>1.0</td>\n",
       "      <td>45</td>\n",
       "      <td>1</td>\n",
       "      <td>3 4</td>\n",
       "      <td>1 3 4 14</td>\n",
       "      <td>2020-02-01</td>\n",
       "      <td>2</td>\n",
       "    </tr>\n",
       "    <tr>\n",
       "      <th>1</th>\n",
       "      <td>1</td>\n",
       "      <td>162839</td>\n",
       "      <td>2019-10-02</td>\n",
       "      <td>ENT (HEAD &amp; NECK)</td>\n",
       "      <td>Curative</td>\n",
       "      <td>Standard 3</td>\n",
       "      <td>45</td>\n",
       "      <td>400.0</td>\n",
       "      <td>2.0</td>\n",
       "      <td>30</td>\n",
       "      <td>1</td>\n",
       "      <td>3 4</td>\n",
       "      <td>1 3 4 14</td>\n",
       "      <td>2019-10-23</td>\n",
       "      <td>21</td>\n",
       "    </tr>\n",
       "    <tr>\n",
       "      <th>2</th>\n",
       "      <td>4</td>\n",
       "      <td>282105</td>\n",
       "      <td>2020-02-04</td>\n",
       "      <td>ENT (HEAD &amp; NECK)</td>\n",
       "      <td>Palliative</td>\n",
       "      <td>Urgent 2</td>\n",
       "      <td>30</td>\n",
       "      <td>1000.0</td>\n",
       "      <td>1.0</td>\n",
       "      <td>30</td>\n",
       "      <td>1</td>\n",
       "      <td>3 4</td>\n",
       "      <td>1 3 4 14</td>\n",
       "      <td>2020-02-11</td>\n",
       "      <td>7</td>\n",
       "    </tr>\n",
       "    <tr>\n",
       "      <th>3</th>\n",
       "      <td>6</td>\n",
       "      <td>357124</td>\n",
       "      <td>2019-11-22</td>\n",
       "      <td>ENT (HEAD &amp; NECK)</td>\n",
       "      <td>Palliative</td>\n",
       "      <td>Urgent 2</td>\n",
       "      <td>30</td>\n",
       "      <td>800.0</td>\n",
       "      <td>1.0</td>\n",
       "      <td>30</td>\n",
       "      <td>1</td>\n",
       "      <td>3 4</td>\n",
       "      <td>1 3 4 14</td>\n",
       "      <td>2019-11-22</td>\n",
       "      <td>0</td>\n",
       "    </tr>\n",
       "    <tr>\n",
       "      <th>4</th>\n",
       "      <td>7</td>\n",
       "      <td>374634</td>\n",
       "      <td>2019-10-15</td>\n",
       "      <td>ENT (HEAD &amp; NECK)</td>\n",
       "      <td>Curative</td>\n",
       "      <td>Standard 3</td>\n",
       "      <td>30</td>\n",
       "      <td>7000.0</td>\n",
       "      <td>35.0</td>\n",
       "      <td>30</td>\n",
       "      <td>1</td>\n",
       "      <td>3 4</td>\n",
       "      <td>1 3 4 14</td>\n",
       "      <td>2019-10-29</td>\n",
       "      <td>14</td>\n",
       "    </tr>\n",
       "  </tbody>\n",
       "</table>\n",
       "</div>"
      ],
      "text/plain": [
       "   Unnamed: 0     MRN CreatedDate          SiteGroup      Intent  Category_x  \\\n",
       "0           0   48245  2020-01-30  ENT (HEAD & NECK)  Palliative    Urgent 2   \n",
       "1           1  162839  2019-10-02  ENT (HEAD & NECK)    Curative  Standard 3   \n",
       "2           4  282105  2020-02-04  ENT (HEAD & NECK)  Palliative    Urgent 2   \n",
       "3           6  357124  2019-11-22  ENT (HEAD & NECK)  Palliative    Urgent 2   \n",
       "4           7  374634  2019-10-15  ENT (HEAD & NECK)    Curative  Standard 3   \n",
       "\n",
       "   SimApptDuration  TltDose  TxFracs  TxApptDuration  Team   CT    linacs  \\\n",
       "0               45    800.0      1.0              45     1  3 4  1 3 4 14   \n",
       "1               45    400.0      2.0              30     1  3 4  1 3 4 14   \n",
       "2               30   1000.0      1.0              30     1  3 4  1 3 4 14   \n",
       "3               30    800.0      1.0              30     1  3 4  1 3 4 14   \n",
       "4               30   7000.0     35.0              30     1  3 4  1 3 4 14   \n",
       "\n",
       "   TxStartDt  WaitTime  \n",
       "0 2020-02-01         2  \n",
       "1 2019-10-23        21  \n",
       "2 2020-02-11         7  \n",
       "3 2019-11-22         0  \n",
       "4 2019-10-29        14  "
      ]
     },
     "execution_count": 270,
     "metadata": {},
     "output_type": "execute_result"
    }
   ],
   "source": [
    "df_ins.head()"
   ]
  },
  {
   "cell_type": "code",
   "execution_count": 271,
   "metadata": {},
   "outputs": [],
   "source": [
    "dfDur = df_ins[['SiteGroup','Category_x','TltDose','TxFracs']]\n",
    "dummy_new = pd.get_dummies(dfDur[[\"SiteGroup\",\"Category_x\"]], prefix=['Site','Categ']) #, drop_first=True)\n",
    "df_new = pd.concat([dfDur, dummy_new], axis=1)\n",
    "## drop the original categorical column\n",
    "df_new = df_new.drop(['SiteGroup','Category_x'], axis=1)"
   ]
  },
  {
   "cell_type": "code",
   "execution_count": 272,
   "metadata": {},
   "outputs": [],
   "source": [
    "df_new = df_new.reindex(columns = df_new.columns | all_columns)\n",
    "df_new.fillna(0, inplace=True)\n",
    "df_new = df_new[model_features]"
   ]
  },
  {
   "cell_type": "code",
   "execution_count": 273,
   "metadata": {},
   "outputs": [],
   "source": [
    "X_new = df_new.values\n",
    "y_new_pred = grid_search.predict(X_new)\n",
    "y_new_days = []\n",
    "for i in y_new_pred:\n",
    "    if i == 0:\n",
    "        y_new_days.append(0)\n",
    "    if i == 1:\n",
    "        y_new_days.append(2)       \n",
    "    if i == 2:\n",
    "        y_new_days.append(3)\n",
    "df_ins['Contour'] = y_new_days"
   ]
  },
  {
   "cell_type": "markdown",
   "metadata": {},
   "source": [
    "### Planning"
   ]
  },
  {
   "cell_type": "code",
   "execution_count": 309,
   "metadata": {},
   "outputs": [
    {
     "data": {
      "text/plain": [
       "(2358, 25)"
      ]
     },
     "execution_count": 309,
     "metadata": {},
     "output_type": "execute_result"
    }
   ],
   "source": [
    "#df1920['PlanCompl_TxBook'] = df1920['FinalPlanCompleteDate']-df1920['TxApptCreatedDt']\n",
    "#df1920['PlanCompl_TxBook']=df1920['PlanCompl_TxBook'].dt.days\n",
    "#df1920['TxStart_PlanCompl'] = df1920['TxStartDt']-df1920['FinalPlanCompleteDate']\n",
    "#df1920['TxStart_PlanCompl']=df1920['TxStart_PlanCompl'].dt.days\n",
    "#df_meet = df1920[df1920['WaitTime']<=14]\n",
    "df1920['PlanDur']=df1920['TestPlanDur']-1\n",
    "df1920.shape"
   ]
  },
  {
   "cell_type": "code",
   "execution_count": 217,
   "metadata": {},
   "outputs": [],
   "source": [
    "\n",
    "#df_meet['TxStart_PlanCompl'] = df_meet['TxStart_PlanCompl'].fillna(-1)\n",
    "#df_meet['Planning'] = df_meet.apply(\n",
    "#    lambda row: row['Tx-TxBook'] if row['TxStart_PlanCompl'] < 0 else row['PlanCompl_TxBook'],\n",
    "#    axis=1)\n",
    "# if Tx appt is after plan complete, planning time = planComplete - TxBooked\n",
    "# if Tx appt if before final plan complete, planning time = Tx - TxBooked\n",
    "\n",
    "#df1920.dropna(subset=['Planning'], inplace=True)\n"
   ]
  },
  {
   "cell_type": "code",
   "execution_count": 310,
   "metadata": {},
   "outputs": [],
   "source": [
    "# remove outliers by planning time\n",
    "df_meet = df1920[df1920['WaitTime']<14]\n",
    "df_meet['z_score_contour']=stats.zscore(df_meet['PlanDur'])\n",
    "#df_meet = df_meet.loc[df_meet['z_score_contour'].abs()<=3]\n"
   ]
  },
  {
   "cell_type": "code",
   "execution_count": 311,
   "metadata": {},
   "outputs": [
    {
     "data": {
      "text/plain": [
       "(1913, 25)"
      ]
     },
     "execution_count": 311,
     "metadata": {},
     "output_type": "execute_result"
    }
   ],
   "source": [
    "#df_meet[df_meet['PlanDur'].notnull()].shape\n",
    "df_meet = df1920[df1920['PlanDur'].notnull()]\n",
    "df_meet.shape"
   ]
  },
  {
   "cell_type": "code",
   "execution_count": 312,
   "metadata": {},
   "outputs": [],
   "source": [
    "target_y = \"PlanDur\"\n",
    "features = ['SiteGroup','Category_x','TltDose','TxFracs']\n",
    "df_clf2 = df_meet[features + [target_y]]\n",
    "df_clf2 = df_clf2[df_clf2['SiteGroup'].notnull()]\n",
    "df_clf2[\"SiteGroup\"] = df_clf2[\"SiteGroup\"].fillna(df_clf2[\"SiteGroup\"].mode())\n",
    "df_clf2[\"Category_x\"] = df_clf2[\"Category_x\"].fillna(df_clf2[\"Category_x\"].mode())\n",
    "df_clf2[\"TltDose\"] = df_clf2[\"TltDose\"].fillna(df_clf2[\"TltDose\"].mode()[0])\n",
    "df_clf2[\"TxFracs\"] = df_clf2[\"TxFracs\"].fillna(df_clf2[\"TxFracs\"].median())\n",
    "df_clf2[target_y] = df_clf2[target_y].fillna(df_clf2[target_y].mode()[0])"
   ]
  },
  {
   "cell_type": "code",
   "execution_count": 313,
   "metadata": {},
   "outputs": [
    {
     "data": {
      "text/plain": [
       "2.0"
      ]
     },
     "execution_count": 313,
     "metadata": {},
     "output_type": "execute_result"
    }
   ],
   "source": [
    "df_clf2[target_y].unique()\n",
    "df_clf2[target_y].median()"
   ]
  },
  {
   "cell_type": "code",
   "execution_count": 314,
   "metadata": {},
   "outputs": [],
   "source": [
    "dummy = pd.get_dummies(df_clf2[[\"SiteGroup\",\"Category_x\"]], prefix=['Site','Categ']) #, drop_first=True)\n",
    "df_plan = pd.concat([df_clf2, dummy], axis=1)\n",
    "\n",
    "## drop the original categorical column\n",
    "df_plan = df_plan.drop(['SiteGroup','Category_x'], axis=1)"
   ]
  },
  {
   "cell_type": "code",
   "execution_count": 315,
   "metadata": {},
   "outputs": [
    {
     "name": "stdout",
     "output_type": "stream",
     "text": [
      "X_train shape: (1339, 19) | X_test shape: (574, 19)\n",
      "y_train mean: 2.88 | y_test mean: 2.97\n",
      "20 features: ['TltDose', 'TxFracs', 'Site_BREAST', 'Site_CNS', 'Site_ENDOCRINE', 'Site_ENT (HEAD & NECK)', 'Site_EYE', 'Site_GENITOURINARY(GU)', 'Site_GI LOWER', 'Site_GI UPPER', 'Site_GYNAE', 'Site_LUNG', 'Site_LYMPHOMA', 'Site_PAEDIATRIC', 'Site_SARCOMA', 'Site_SKIN', 'Categ_Emergency 1', 'Categ_Standard 3', 'Categ_Urgent 2']\n"
     ]
    }
   ],
   "source": [
    "# train-test split\n",
    "df_train, df_test = model_selection.train_test_split(df_plan, test_size=0.3)\n",
    "## print info\n",
    "print(\"X_train shape:\", df_train.drop(target_y,axis=1).shape, \"| X_test shape:\", df_test.drop(target_y,axis=1).shape)\n",
    "print(\"y_train mean:\", round(np.mean(df_train[target_y]),2), \"| y_test mean:\", round(np.mean(df_test[target_y]),2))\n",
    "print(df_train.shape[1], \"features:\", df_train.drop(target_y,axis=1).columns.to_list())\n",
    "df_test_copy = df_test"
   ]
  },
  {
   "cell_type": "code",
   "execution_count": 316,
   "metadata": {},
   "outputs": [
    {
     "data": {
      "image/png": "[encoded data removed]",
      "text/plain": [
       "<Figure size 648x360 with 1 Axes>"
      ]
     },
     "metadata": {
      "needs_background": "light"
     },
     "output_type": "display_data"
    }
   ],
   "source": [
    "plt.figure(figsize=[9,5])\n",
    "bins = range(0,15)\n",
    "\n",
    "y = df_plan[target_y]\n",
    "plt.hist(y, bins = bins, alpha=0.5, edgecolor='black', align='left')\n",
    "\n",
    "plt.xlabel('planning time')\n",
    "plt.ylabel('frequency')\n",
    "plt.title('Planning distribution')\n",
    "plt.xticks(fontsize=10)\n",
    "plt.yticks(fontsize=10)\n",
    "\n",
    "plt.show()"
   ]
  },
  {
   "cell_type": "markdown",
   "metadata": {
    "heading_collapsed": true
   },
   "source": [
    "### Classification"
   ]
  },
  {
   "cell_type": "code",
   "execution_count": 317,
   "metadata": {
    "hidden": true
   },
   "outputs": [
    {
     "data": {
      "text/plain": [
       "array([1., 2., 4.])"
      ]
     },
     "execution_count": 317,
     "metadata": {},
     "output_type": "execute_result"
    }
   ],
   "source": [
    "# quantiles\n",
    "np.quantile(df_plan[target_y], [0.25,0.5,0.75])"
   ]
  },
  {
   "cell_type": "code",
   "execution_count": 122,
   "metadata": {
    "hidden": true
   },
   "outputs": [],
   "source": [
    "'''# 0-1, class 0; 2-5, class 1, >5, class 2\n",
    "df_train.loc[df_train[target_y] <=2, 'PlanGroup'] = 0\n",
    "df_train.loc[(df_train[target_y] <=5)&(df_train[target_y]>=3), 'PlanGroup'] = 1\n",
    "df_train.loc[df_train[target_y] >=6, 'PlanGroup'] = 2\n",
    "df_train = df_train.drop(columns=[target_y])\n",
    "\n",
    "df_test.loc[df_test[target_y] <=2, 'PlanGroup'] = 0\n",
    "df_test.loc[(df_test[target_y] <=5)&(df_test[target_y]>=3), 'PlanGroup'] = 1\n",
    "df_test.loc[df_test[target_y] >=6, 'PlanGroup'] = 2\n",
    "df_test = df_test.drop(columns=[target_y])'''\n"
   ]
  },
  {
   "cell_type": "code",
   "execution_count": 318,
   "metadata": {
    "hidden": true
   },
   "outputs": [
    {
     "data": {
      "text/plain": [
       "'PlanDur'"
      ]
     },
     "execution_count": 318,
     "metadata": {},
     "output_type": "execute_result"
    }
   ],
   "source": [
    "target_y"
   ]
  },
  {
   "cell_type": "code",
   "execution_count": 319,
   "metadata": {
    "hidden": true
   },
   "outputs": [],
   "source": [
    "X_train = df_train.drop(target_y, axis=1).values\n",
    "y_train = df_train[target_y].values\n",
    "\n",
    "X_test = df_test.drop(target_y, axis=1).values\n",
    "y_test = df_test[target_y].values\n",
    "feature_names = df_train.drop(target_y, axis=1).columns.tolist()\n"
   ]
  },
  {
   "cell_type": "code",
   "execution_count": 320,
   "metadata": {
    "hidden": true
   },
   "outputs": [
    {
     "name": "stdout",
     "output_type": "stream",
     "text": [
      "Accuracy: 0.26480836236933797\n"
     ]
    }
   ],
   "source": [
    "### simple Random Forest\n",
    "#Import Random Forest Model\n",
    "from sklearn.ensemble import RandomForestClassifier\n",
    "\n",
    "#Create a Gaussian Classifier\n",
    "clf_rf2 = RandomForestClassifier(n_estimators=100)\n",
    "\n",
    "#Train the model using the training sets y_pred=clf.predict(X_test)\n",
    "clf_rf2.fit(X_train,y_train)\n",
    "\n",
    "y_pred = clf_rf2.predict(X_test)\n",
    "\n",
    "#Import scikit-learn metrics module for accuracy calculation\n",
    "from sklearn import metrics\n",
    "# Model Accuracy, how often is the classifier correct?\n",
    "print(\"Accuracy:\", metrics.accuracy_score(y_test, y_pred))\n"
   ]
  },
  {
   "cell_type": "code",
   "execution_count": 321,
   "metadata": {
    "hidden": true
   },
   "outputs": [],
   "source": [
    "# Create the parameter grid based on the results of random search \n",
    "param_grid = {\n",
    "    'bootstrap': [True],\n",
    "    'max_depth': [10, 20, 40, 60],\n",
    "    'max_features': [4, 5, 6, 7, 8],\n",
    "    'min_samples_leaf': [4, 5, 6, 7, 8],\n",
    "    'min_samples_split': [5, 10, 12, 15],\n",
    "    'n_estimators': [100, 200, 300]\n",
    "}\n",
    "# Create a based model\n",
    "rf = RandomForestClassifier()\n",
    "# Instantiate the grid search model\n",
    "grid_search = GridSearchCV(estimator = rf, param_grid = param_grid, \n",
    "                          cv = 3, n_jobs = -1, verbose = 2)\n"
   ]
  },
  {
   "cell_type": "code",
   "execution_count": 323,
   "metadata": {
    "hidden": true
   },
   "outputs": [
    {
     "name": "stdout",
     "output_type": "stream",
     "text": [
      "Fitting 3 folds for each of 1200 candidates, totalling 3600 fits\n"
     ]
    },
    {
     "name": "stderr",
     "output_type": "stream",
     "text": [
      "/Users/fanjia/opt/anaconda3/lib/python3.8/site-packages/sklearn/model_selection/_split.py:666: UserWarning: The least populated class in y has only 1 members, which is less than n_splits=3.\n",
      "  warnings.warn((\"The least populated class in y has only %d\"\n"
     ]
    },
    {
     "data": {
      "text/plain": [
       "GridSearchCV(cv=3, estimator=RandomForestClassifier(), n_jobs=-1,\n",
       "             param_grid={'bootstrap': [True], 'max_depth': [10, 20, 40, 60],\n",
       "                         'max_features': [4, 5, 6, 7, 8],\n",
       "                         'min_samples_leaf': [4, 5, 6, 7, 8],\n",
       "                         'min_samples_split': [5, 10, 12, 15],\n",
       "                         'n_estimators': [100, 200, 300]},\n",
       "             verbose=2)"
      ]
     },
     "execution_count": 323,
     "metadata": {},
     "output_type": "execute_result"
    }
   ],
   "source": [
    "# Fit the grid search to the data\n",
    "grid_search.fit(X_train, y_train)\n",
    "\n",
    "\n",
    "#best_grid = grid_search.best_estimato\n",
    "\n"
   ]
  },
  {
   "cell_type": "code",
   "execution_count": null,
   "metadata": {
    "hidden": true
   },
   "outputs": [],
   "source": [
    "grid_search.best_params_"
   ]
  },
  {
   "cell_type": "code",
   "execution_count": null,
   "metadata": {
    "hidden": true
   },
   "outputs": [],
   "source": [
    "best_grid = grid_search.best_estimator_"
   ]
  },
  {
   "cell_type": "code",
   "execution_count": 324,
   "metadata": {
    "hidden": true
   },
   "outputs": [
    {
     "data": {
      "text/plain": [
       "0.27177700348432055"
      ]
     },
     "execution_count": 324,
     "metadata": {},
     "output_type": "execute_result"
    }
   ],
   "source": [
    "grid_search.score(X_test, y_test)"
   ]
  },
  {
   "cell_type": "code",
   "execution_count": 325,
   "metadata": {
    "hidden": true
   },
   "outputs": [
    {
     "name": "stdout",
     "output_type": "stream",
     "text": [
      "[[ 0  0  0  0  0  0  0  1  0  0  0  0  0  0  0  0  0  0  0  0  0  0  0  0]\n",
      " [ 0  0  0  0  0  0  0  0  1  0  0  0  0  0  0  0  0  0  0  0  0  0  0  0]\n",
      " [ 0  0  0  0  0  0  0  0  0  0  1  0  0  0  0  0  0  0  0  0  0  0  0  0]\n",
      " [ 0  0  0  0  0  0  0  0  0  1  0  0  0  0  0  0  0  0  0  0  0  0  0  0]\n",
      " [ 0  0  0  0  0  0  1  0  0  0  0  0  0  0  0  0  0  0  0  0  0  0  0  0]\n",
      " [ 0  0  0  0  0  0  1  0  0  0  0  0  0  0  0  0  0  0  0  0  0  0  0  0]\n",
      " [ 0  0  0  0  0  0 72 31  7  1  1  1  0  0  0  0  0  0  0  0  0  0  0  0]\n",
      " [ 0  0  0  0  0  0 30 35  9  5  5  1  0  0  0  0  0  0  0  0  0  0  0  0]\n",
      " [ 0  0  0  0  0  0 15 36 20  6  4  5  0  0  0  0  0  0  0  0  0  0  0  0]\n",
      " [ 0  0  0  0  0  0  3 22 14 11 13  5  0  0  0  0  0  0  0  0  0  0  0  0]\n",
      " [ 0  0  0  0  0  0  2 15  7 12 14  6  0  0  0  0  0  0  0  0  0  0  0  0]\n",
      " [ 0  0  0  0  0  0  1 15 13  8 25  4  0  0  0  0  0  0  0  0  0  0  0  0]\n",
      " [ 0  0  0  0  0  0  0 13  6  3 13  2  0  0  0  0  0  0  0  0  0  0  0  0]\n",
      " [ 0  0  0  0  0  0  1  8  1  6  6  2  0  0  0  0  0  0  0  0  0  0  0  0]\n",
      " [ 0  0  0  0  0  0  1  2  0  0  5  0  0  0  0  0  0  0  0  0  0  0  0  0]\n",
      " [ 0  0  0  0  0  0  0  1  3  0  5  3  0  0  0  0  0  0  0  0  0  0  0  0]\n",
      " [ 0  0  0  0  0  0  0  0  1  2  1  0  0  0  0  0  0  0  0  0  0  0  0  0]\n",
      " [ 0  0  0  0  0  0  0  0  1  2  0  0  0  0  0  0  0  0  0  0  0  0  0  0]\n",
      " [ 0  0  0  0  0  0  0  0  0  0  1  0  0  0  0  0  0  0  0  0  0  0  0  0]\n",
      " [ 0  0  0  0  0  0  0  0  1  0  0  0  0  0  0  0  0  0  0  0  0  0  0  0]\n",
      " [ 0  0  0  0  0  0  0  0  0  0  1  0  0  0  0  0  0  0  0  0  0  0  0  0]\n",
      " [ 0  0  0  0  0  0  0  0  0  0  1  0  0  0  0  0  0  0  0  0  0  0  0  0]\n",
      " [ 0  0  0  0  0  0  0  1  0  0  0  0  0  0  0  0  0  0  0  0  0  0  0  0]\n",
      " [ 0  0  0  0  0  0  0  0  0  1  0  0  0  0  0  0  0  0  0  0  0  0  0  0]]\n",
      "              precision    recall  f1-score   support\n",
      "\n",
      "       -30.0       0.00      0.00      0.00         1\n",
      "       -14.0       0.00      0.00      0.00         1\n",
      "        -9.0       0.00      0.00      0.00         1\n",
      "        -5.0       0.00      0.00      0.00         1\n",
      "        -3.0       0.00      0.00      0.00         1\n",
      "        -1.0       0.00      0.00      0.00         1\n",
      "         0.0       0.57      0.64      0.60       113\n",
      "         1.0       0.19      0.41      0.26        85\n",
      "         2.0       0.24      0.23      0.24        86\n",
      "         3.0       0.19      0.16      0.17        68\n",
      "         4.0       0.15      0.25      0.18        56\n",
      "         5.0       0.14      0.06      0.08        66\n",
      "         6.0       0.00      0.00      0.00        37\n",
      "         7.0       0.00      0.00      0.00        24\n",
      "         8.0       0.00      0.00      0.00         8\n",
      "         9.0       0.00      0.00      0.00        12\n",
      "        10.0       0.00      0.00      0.00         4\n",
      "        11.0       0.00      0.00      0.00         3\n",
      "        12.0       0.00      0.00      0.00         1\n",
      "        13.0       0.00      0.00      0.00         1\n",
      "        14.0       0.00      0.00      0.00         1\n",
      "        18.0       0.00      0.00      0.00         1\n",
      "        19.0       0.00      0.00      0.00         1\n",
      "        42.0       0.00      0.00      0.00         1\n",
      "\n",
      "    accuracy                           0.27       574\n",
      "   macro avg       0.06      0.07      0.06       574\n",
      "weighted avg       0.23      0.27      0.24       574\n",
      "\n"
     ]
    },
    {
     "name": "stderr",
     "output_type": "stream",
     "text": [
      "/Users/fanjia/opt/anaconda3/lib/python3.8/site-packages/sklearn/metrics/_classification.py:1248: UndefinedMetricWarning: Precision and F-score are ill-defined and being set to 0.0 in labels with no predicted samples. Use `zero_division` parameter to control this behavior.\n",
      "  _warn_prf(average, modifier, msg_start, len(result))\n",
      "/Users/fanjia/opt/anaconda3/lib/python3.8/site-packages/sklearn/metrics/_classification.py:1248: UndefinedMetricWarning: Precision and F-score are ill-defined and being set to 0.0 in labels with no predicted samples. Use `zero_division` parameter to control this behavior.\n",
      "  _warn_prf(average, modifier, msg_start, len(result))\n",
      "/Users/fanjia/opt/anaconda3/lib/python3.8/site-packages/sklearn/metrics/_classification.py:1248: UndefinedMetricWarning: Precision and F-score are ill-defined and being set to 0.0 in labels with no predicted samples. Use `zero_division` parameter to control this behavior.\n",
      "  _warn_prf(average, modifier, msg_start, len(result))\n"
     ]
    }
   ],
   "source": [
    "y_rf_pred=grid_search.predict(X_test)\n",
    "cm_rf = confusion_matrix(y_test, y_rf_pred)\n",
    "print(cm_rf)\n",
    "print(classification_report(y_test, y_rf_pred))"
   ]
  },
  {
   "cell_type": "code",
   "execution_count": 326,
   "metadata": {
    "hidden": true
   },
   "outputs": [
    {
     "name": "stdout",
     "output_type": "stream",
     "text": [
      "3.503855517044126\n"
     ]
    }
   ],
   "source": [
    "rmse = mean_squared_error(y_rf_pred, y_test,squared=False)\n",
    "print(rmse)"
   ]
  },
  {
   "cell_type": "markdown",
   "metadata": {
    "hidden": true
   },
   "source": [
    "#### Planning rules"
   ]
  },
  {
   "cell_type": "code",
   "execution_count": null,
   "metadata": {
    "hidden": true
   },
   "outputs": [],
   "source": [
    "a = df_plan[df_plan[target_y]<=0][target_y]\n",
    "print(np.percentile(a, 90))\n",
    "b = df_plan[(df_plan[target_y]<=1)&(df_plan[target_y]>=1)][target_y]\n",
    "print(np.percentile(b, 90))\n",
    "c = df_plan[df_plan[target_y]>=2][target_y]\n",
    "print(np.percentile(c, 75))\n"
   ]
  },
  {
   "cell_type": "markdown",
   "metadata": {
    "hidden": true
   },
   "source": [
    "#### rmse # days"
   ]
  },
  {
   "cell_type": "code",
   "execution_count": null,
   "metadata": {
    "hidden": true
   },
   "outputs": [],
   "source": [
    "y_pred_days = []\n",
    "for i in y_rf_pred:\n",
    "    if i == 0:\n",
    "        y_pred_days.append(0)\n",
    "    if i == 1:\n",
    "        y_pred_days.append(1)       \n",
    "    if i == 2:\n",
    "        y_pred_days.append(8)\n",
    "        \n",
    "y_true_days = df_test_copy[target_y].values\n",
    "from sklearn.metrics import mean_squared_error\n",
    "rmse = mean_squared_error(y_pred_days, y_true_days,squared=False)\n",
    "print(rmse)\n"
   ]
  },
  {
   "cell_type": "markdown",
   "metadata": {},
   "source": [
    "### Regression"
   ]
  },
  {
   "cell_type": "code",
   "execution_count": 345,
   "metadata": {},
   "outputs": [
    {
     "data": {
      "text/plain": [
       "(1887, 20)"
      ]
     },
     "execution_count": 345,
     "metadata": {},
     "output_type": "execute_result"
    }
   ],
   "source": [
    "df_plan = df_plan[(df_plan['PlanDur']>=0)&(df_plan['PlanDur']<=14)]\n",
    "df_plan.shape"
   ]
  },
  {
   "cell_type": "code",
   "execution_count": 347,
   "metadata": {},
   "outputs": [
    {
     "data": {
      "text/plain": [
       "Index(['TltDose', 'TxFracs', 'PlanDur', 'Site_BREAST', 'Site_CNS',\n",
       "       'Site_ENDOCRINE', 'Site_ENT (HEAD & NECK)', 'Site_EYE',\n",
       "       'Site_GENITOURINARY(GU)', 'Site_GI LOWER', 'Site_GI UPPER',\n",
       "       'Site_GYNAE', 'Site_LUNG', 'Site_LYMPHOMA', 'Site_PAEDIATRIC',\n",
       "       'Site_SARCOMA', 'Site_SKIN', 'Categ_Emergency 1', 'Categ_Standard 3',\n",
       "       'Categ_Urgent 2'],\n",
       "      dtype='object')"
      ]
     },
     "execution_count": 347,
     "metadata": {},
     "output_type": "execute_result"
    }
   ],
   "source": [
    "df_plan.columns"
   ]
  },
  {
   "cell_type": "code",
   "execution_count": 382,
   "metadata": {},
   "outputs": [
    {
     "name": "stdout",
     "output_type": "stream",
     "text": [
      "X_train shape: (1320, 19) | X_test shape: (567, 19)\n",
      "y_train mean: 2.9 | y_test mean: 2.77\n",
      "20 features: ['TltDose', 'TxFracs', 'Site_BREAST', 'Site_CNS', 'Site_ENDOCRINE', 'Site_ENT (HEAD & NECK)', 'Site_EYE', 'Site_GENITOURINARY(GU)', 'Site_GI LOWER', 'Site_GI UPPER', 'Site_GYNAE', 'Site_LUNG', 'Site_LYMPHOMA', 'Site_PAEDIATRIC', 'Site_SARCOMA', 'Site_SKIN', 'Categ_Emergency 1', 'Categ_Standard 3', 'Categ_Urgent 2']\n"
     ]
    }
   ],
   "source": [
    "# train-test split\n",
    "target_y = 'PlanDur'\n",
    "df_plan = df_plan[df_plan['PlanDur']>=0]\n",
    "df_train, df_test = model_selection.train_test_split(df_plan, test_size=0.3, random_state=10)\n",
    "## print info\n",
    "print(\"X_train shape:\", df_train.drop(target_y,axis=1).shape, \"| X_test shape:\", df_test.drop(target_y,axis=1).shape)\n",
    "print(\"y_train mean:\", round(np.mean(df_train[target_y]),2), \"| y_test mean:\", round(np.mean(df_test[target_y]),2))\n",
    "print(df_train.shape[1], \"features:\", df_train.drop(target_y,axis=1).columns.to_list())\n",
    "df_test_copy = df_test\n",
    "\n",
    "X_train = df_train.drop('PlanDur', axis=1).values\n",
    "y_train = df_train['PlanDur'].values\n",
    "\n",
    "X_test = df_test.drop('PlanDur', axis=1).values\n",
    "y_test = df_test['PlanDur'].values\n",
    "feature_names = df_train.drop('PlanDur', axis=1).columns.tolist()"
   ]
  },
  {
   "cell_type": "code",
   "execution_count": 399,
   "metadata": {},
   "outputs": [
    {
     "data": {
      "image/png": "[encoded data removed]",
      "text/plain": [
       "<Figure size 432x288 with 1 Axes>"
      ]
     },
     "metadata": {
      "needs_background": "light"
     },
     "output_type": "display_data"
    }
   ],
   "source": [
    "## call model\n",
    "from sklearn.ensemble import GradientBoostingRegressor\n",
    "model = GradientBoostingRegressor(random_state=0)\n",
    "## K fold validation\n",
    "scores = []\n",
    "rmse_list = []\n",
    "cv = model_selection.KFold(n_splits=5, shuffle=True)\n",
    "fig = plt.figure()\n",
    "i = 1\n",
    "for train, test in cv.split(X_train, y_train):\n",
    "    prediction = model.fit(X_train[train],\n",
    "                 y_train[train]).predict(X_train[test])\n",
    "    true = y_train[test]\n",
    "    #score = metrics.r2_score(true, prediction)\n",
    "    #scores.append(score)\n",
    "    rmse = mean_squared_error(true, prediction, squared=False)\n",
    "    rmse_list.append(rmse)\n",
    "    plt.scatter(prediction, true, lw=2, alpha=0.3, \n",
    "                label='Fold %d (rmse = %0.2f)' % (i, rmse))\n",
    "                #label='Fold %d (R2 = %0.2f)' % (i,score))\n",
    "    i = i+1\n",
    "    \n",
    "### plotting predicted values against the actual Y\n",
    "### Ideally, points should be all close to a diagonal line where predicted = actual\n",
    "#plt.figure(figsize=[7,5])\n",
    "plt.plot([min(y_train),max(y_train)], [min(y_train),max(y_train)], \n",
    "         linestyle='--', lw=2, color='black')\n",
    "\n",
    "plt.xlabel('Predicted')\n",
    "plt.ylabel('True')\n",
    "plt.title('K-Fold Validation')\n",
    "plt.legend(loc = \"lower right\")\n",
    "\n",
    "plt.show()"
   ]
  },
  {
   "cell_type": "code",
   "execution_count": 393,
   "metadata": {},
   "outputs": [
    {
     "data": {
      "text/plain": [
       "[3.0,\n",
       " 4.0,\n",
       " 4.0,\n",
       " 4.0,\n",
       " 1.0,\n",
       " 5.0,\n",
       " 3.0,\n",
       " 5.0,\n",
       " 2.0,\n",
       " 5.0,\n",
       " 1.0,\n",
       " 4.0,\n",
       " 3.0,\n",
       " 2.0,\n",
       " 1.0,\n",
       " 4.0,\n",
       " 2.0,\n",
       " 2.0,\n",
       " -0.0,\n",
       " 2.0,\n",
       " 2.0,\n",
       " 4.0,\n",
       " 0.0,\n",
       " 5.0,\n",
       " 1.0,\n",
       " 1.0,\n",
       " 3.0,\n",
       " 3.0,\n",
       " 2.0,\n",
       " 1.0,\n",
       " 3.0,\n",
       " 0.0,\n",
       " 2.0,\n",
       " 1.0,\n",
       " 0.0,\n",
       " 4.0,\n",
       " 3.0,\n",
       " 4.0,\n",
       " -0.0,\n",
       " 1.0,\n",
       " 0.0,\n",
       " 4.0,\n",
       " 1.0,\n",
       " 4.0,\n",
       " 4.0,\n",
       " 3.0,\n",
       " 2.0,\n",
       " 1.0,\n",
       " 4.0,\n",
       " 3.0,\n",
       " 5.0,\n",
       " 1.0,\n",
       " 5.0,\n",
       " 0.0,\n",
       " 4.0,\n",
       " 4.0,\n",
       " 1.0,\n",
       " 3.0,\n",
       " 0.0,\n",
       " 1.0,\n",
       " 3.0,\n",
       " 5.0,\n",
       " 1.0,\n",
       " 4.0,\n",
       " 4.0,\n",
       " 3.0,\n",
       " 4.0,\n",
       " 4.0,\n",
       " 4.0,\n",
       " 1.0,\n",
       " 1.0,\n",
       " 3.0,\n",
       " 4.0,\n",
       " 4.0,\n",
       " 5.0,\n",
       " 4.0,\n",
       " 3.0,\n",
       " 1.0,\n",
       " 5.0,\n",
       " 4.0,\n",
       " 2.0,\n",
       " 2.0,\n",
       " 1.0,\n",
       " 3.0,\n",
       " 5.0,\n",
       " 1.0,\n",
       " 5.0,\n",
       " 2.0,\n",
       " 2.0,\n",
       " 4.0,\n",
       " -0.0,\n",
       " 3.0,\n",
       " -0.0,\n",
       " 2.0,\n",
       " 4.0,\n",
       " 4.0,\n",
       " 4.0,\n",
       " 0.0,\n",
       " 4.0,\n",
       " 3.0,\n",
       " 4.0,\n",
       " 5.0,\n",
       " 2.0,\n",
       " 2.0,\n",
       " 3.0,\n",
       " 2.0,\n",
       " 1.0,\n",
       " 4.0,\n",
       " 3.0,\n",
       " 5.0,\n",
       " 2.0,\n",
       " 2.0,\n",
       " 4.0,\n",
       " 2.0,\n",
       " 2.0,\n",
       " 3.0,\n",
       " 4.0,\n",
       " 5.0,\n",
       " 2.0,\n",
       " 2.0,\n",
       " 4.0,\n",
       " 2.0,\n",
       " 4.0,\n",
       " 5.0,\n",
       " 4.0,\n",
       " 4.0,\n",
       " 5.0,\n",
       " 4.0,\n",
       " 5.0,\n",
       " 3.0,\n",
       " 1.0,\n",
       " 4.0,\n",
       " 4.0,\n",
       " 2.0,\n",
       " 4.0,\n",
       " 4.0,\n",
       " 4.0,\n",
       " 5.0,\n",
       " 2.0,\n",
       " 4.0,\n",
       " 5.0,\n",
       " 4.0,\n",
       " 0.0,\n",
       " 2.0,\n",
       " 2.0,\n",
       " 5.0,\n",
       " 4.0,\n",
       " 2.0,\n",
       " 1.0,\n",
       " 4.0,\n",
       " 5.0,\n",
       " 3.0,\n",
       " 4.0,\n",
       " 4.0,\n",
       " 0.0,\n",
       " 1.0,\n",
       " 1.0,\n",
       " 2.0,\n",
       " 5.0,\n",
       " 5.0,\n",
       " 3.0,\n",
       " 4.0,\n",
       " 2.0,\n",
       " 4.0,\n",
       " 5.0,\n",
       " 1.0,\n",
       " 4.0,\n",
       " 1.0,\n",
       " 1.0,\n",
       " 4.0,\n",
       " 1.0,\n",
       " 0.0,\n",
       " 0.0,\n",
       " 0.0,\n",
       " 4.0,\n",
       " 4.0,\n",
       " 2.0,\n",
       " 1.0,\n",
       " 2.0,\n",
       " 1.0,\n",
       " 3.0,\n",
       " 4.0,\n",
       " 3.0,\n",
       " 3.0,\n",
       " 4.0,\n",
       " 2.0,\n",
       " 2.0,\n",
       " 4.0,\n",
       " 1.0,\n",
       " 0.0,\n",
       " 1.0,\n",
       " 3.0,\n",
       " 2.0,\n",
       " 4.0,\n",
       " 3.0,\n",
       " 5.0,\n",
       " 5.0,\n",
       " 4.0,\n",
       " 4.0,\n",
       " 2.0,\n",
       " 5.0,\n",
       " 1.0,\n",
       " 4.0,\n",
       " 4.0,\n",
       " 4.0,\n",
       " 5.0,\n",
       " 4.0,\n",
       " 2.0,\n",
       " 2.0,\n",
       " 4.0,\n",
       " 2.0,\n",
       " 6.0,\n",
       " 2.0,\n",
       " 4.0,\n",
       " 2.0,\n",
       " 1.0,\n",
       " 4.0,\n",
       " 3.0,\n",
       " 3.0,\n",
       " 4.0,\n",
       " 5.0,\n",
       " 1.0,\n",
       " 4.0,\n",
       " 3.0,\n",
       " 1.0,\n",
       " 5.0,\n",
       " 2.0,\n",
       " 3.0,\n",
       " 4.0,\n",
       " 2.0,\n",
       " 1.0,\n",
       " 1.0,\n",
       " 2.0,\n",
       " 1.0,\n",
       " 5.0,\n",
       " 4.0,\n",
       " 3.0,\n",
       " 4.0,\n",
       " 2.0,\n",
       " 4.0,\n",
       " 2.0,\n",
       " 3.0,\n",
       " 1.0,\n",
       " 1.0,\n",
       " 1.0,\n",
       " 2.0,\n",
       " 5.0,\n",
       " 4.0,\n",
       " 1.0,\n",
       " 1.0,\n",
       " 3.0,\n",
       " 2.0,\n",
       " 2.0,\n",
       " 3.0,\n",
       " 4.0,\n",
       " 4.0,\n",
       " 2.0,\n",
       " 5.0,\n",
       " 5.0,\n",
       " 4.0,\n",
       " 4.0,\n",
       " 1.0,\n",
       " 1.0,\n",
       " 3.0,\n",
       " 1.0,\n",
       " 2.0,\n",
       " 4.0,\n",
       " 4.0,\n",
       " 4.0,\n",
       " 1.0,\n",
       " 1.0,\n",
       " 4.0,\n",
       " 0.0,\n",
       " 4.0,\n",
       " 5.0,\n",
       " 1.0,\n",
       " 4.0,\n",
       " 1.0,\n",
       " 4.0,\n",
       " 2.0,\n",
       " 3.0,\n",
       " 0.0,\n",
       " 1.0,\n",
       " 4.0,\n",
       " 4.0,\n",
       " 4.0,\n",
       " 2.0,\n",
       " 5.0,\n",
       " 1.0,\n",
       " 4.0,\n",
       " 2.0,\n",
       " 5.0,\n",
       " 1.0,\n",
       " 0.0,\n",
       " 1.0,\n",
       " 4.0,\n",
       " 2.0,\n",
       " 4.0,\n",
       " 5.0,\n",
       " 4.0,\n",
       " 5.0,\n",
       " 3.0,\n",
       " 1.0,\n",
       " 4.0,\n",
       " 5.0,\n",
       " 1.0,\n",
       " 5.0,\n",
       " 1.0,\n",
       " 2.0,\n",
       " 2.0,\n",
       " 4.0,\n",
       " 1.0,\n",
       " 0.0,\n",
       " 3.0,\n",
       " 1.0,\n",
       " 4.0,\n",
       " 2.0,\n",
       " 1.0,\n",
       " 3.0,\n",
       " 3.0,\n",
       " 4.0,\n",
       " 1.0,\n",
       " 4.0,\n",
       " 2.0,\n",
       " 4.0,\n",
       " 1.0,\n",
       " 4.0,\n",
       " 3.0,\n",
       " 5.0,\n",
       " 4.0,\n",
       " 2.0,\n",
       " 3.0,\n",
       " 4.0,\n",
       " 5.0,\n",
       " 3.0,\n",
       " 2.0,\n",
       " 4.0,\n",
       " 3.0,\n",
       " 4.0,\n",
       " 2.0,\n",
       " 4.0,\n",
       " 5.0,\n",
       " 1.0,\n",
       " 2.0,\n",
       " 1.0,\n",
       " 2.0,\n",
       " 4.0,\n",
       " 2.0,\n",
       " 2.0,\n",
       " 3.0,\n",
       " 2.0,\n",
       " 1.0,\n",
       " 1.0,\n",
       " 1.0,\n",
       " 4.0,\n",
       " 2.0,\n",
       " 5.0,\n",
       " 5.0,\n",
       " 1.0,\n",
       " 3.0,\n",
       " 4.0,\n",
       " 2.0,\n",
       " 4.0,\n",
       " 4.0,\n",
       " 4.0,\n",
       " 3.0,\n",
       " 3.0,\n",
       " 5.0,\n",
       " 0.0,\n",
       " 4.0,\n",
       " 4.0,\n",
       " 4.0,\n",
       " 1.0,\n",
       " 4.0,\n",
       " 1.0,\n",
       " 5.0,\n",
       " 0.0,\n",
       " 1.0,\n",
       " 4.0,\n",
       " 1.0,\n",
       " 1.0,\n",
       " 1.0,\n",
       " 1.0,\n",
       " 4.0,\n",
       " 5.0,\n",
       " 3.0,\n",
       " 2.0,\n",
       " 3.0,\n",
       " 1.0,\n",
       " 2.0,\n",
       " 4.0,\n",
       " 2.0,\n",
       " 2.0,\n",
       " 4.0,\n",
       " 2.0,\n",
       " 1.0,\n",
       " 2.0,\n",
       " 2.0,\n",
       " 5.0,\n",
       " 2.0,\n",
       " 5.0,\n",
       " 1.0,\n",
       " 4.0,\n",
       " 1.0,\n",
       " 3.0,\n",
       " -0.0,\n",
       " 4.0,\n",
       " 3.0,\n",
       " 4.0,\n",
       " 3.0,\n",
       " 5.0,\n",
       " 2.0,\n",
       " 1.0,\n",
       " 4.0,\n",
       " 4.0,\n",
       " 4.0,\n",
       " 2.0,\n",
       " 3.0,\n",
       " 4.0,\n",
       " 2.0,\n",
       " 4.0,\n",
       " 4.0,\n",
       " 4.0,\n",
       " 4.0,\n",
       " 2.0,\n",
       " 4.0,\n",
       " 0.0,\n",
       " 1.0,\n",
       " 4.0,\n",
       " 4.0,\n",
       " 3.0,\n",
       " 1.0,\n",
       " 2.0,\n",
       " 4.0,\n",
       " 4.0,\n",
       " 3.0,\n",
       " 4.0,\n",
       " 1.0,\n",
       " 5.0,\n",
       " 0.0,\n",
       " 2.0,\n",
       " 3.0,\n",
       " 4.0,\n",
       " 3.0,\n",
       " 0.0,\n",
       " 5.0,\n",
       " 4.0,\n",
       " 4.0,\n",
       " 5.0,\n",
       " 5.0,\n",
       " 1.0,\n",
       " 5.0,\n",
       " 3.0,\n",
       " 1.0,\n",
       " 3.0,\n",
       " 2.0,\n",
       " 4.0,\n",
       " 1.0,\n",
       " 4.0,\n",
       " 2.0,\n",
       " 5.0,\n",
       " 3.0,\n",
       " 2.0,\n",
       " 4.0,\n",
       " 2.0,\n",
       " 2.0,\n",
       " 4.0,\n",
       " 1.0,\n",
       " 4.0,\n",
       " 1.0,\n",
       " 4.0,\n",
       " 3.0,\n",
       " 1.0,\n",
       " 2.0,\n",
       " 5.0,\n",
       " 4.0,\n",
       " 4.0,\n",
       " 1.0,\n",
       " 5.0,\n",
       " 4.0,\n",
       " 2.0,\n",
       " 3.0,\n",
       " 1.0,\n",
       " 5.0,\n",
       " 4.0,\n",
       " 5.0,\n",
       " 2.0,\n",
       " 4.0,\n",
       " 4.0,\n",
       " 1.0,\n",
       " 2.0,\n",
       " 1.0,\n",
       " 3.0,\n",
       " 2.0,\n",
       " 1.0,\n",
       " 4.0,\n",
       " 4.0,\n",
       " 4.0,\n",
       " 4.0,\n",
       " 4.0,\n",
       " 1.0,\n",
       " 4.0,\n",
       " 3.0,\n",
       " 1.0,\n",
       " 0.0,\n",
       " 2.0,\n",
       " 4.0,\n",
       " 4.0,\n",
       " 2.0,\n",
       " 4.0,\n",
       " 5.0,\n",
       " 4.0,\n",
       " 2.0,\n",
       " 3.0,\n",
       " 3.0,\n",
       " 4.0,\n",
       " 2.0,\n",
       " 2.0,\n",
       " 5.0,\n",
       " 1.0,\n",
       " 4.0,\n",
       " 5.0,\n",
       " 0.0,\n",
       " 5.0,\n",
       " 3.0,\n",
       " 1.0,\n",
       " 3.0,\n",
       " 2.0,\n",
       " 1.0,\n",
       " 3.0,\n",
       " 4.0,\n",
       " 1.0,\n",
       " 4.0,\n",
       " 4.0,\n",
       " 2.0,\n",
       " 1.0,\n",
       " 4.0,\n",
       " 2.0,\n",
       " 4.0,\n",
       " 4.0,\n",
       " 3.0,\n",
       " 3.0,\n",
       " 5.0,\n",
       " 1.0,\n",
       " 4.0,\n",
       " 1.0,\n",
       " 4.0,\n",
       " 1.0,\n",
       " 5.0,\n",
       " 4.0,\n",
       " 1.0,\n",
       " 0.0,\n",
       " 3.0,\n",
       " 1.0,\n",
       " 2.0,\n",
       " 4.0,\n",
       " 5.0,\n",
       " 6.0,\n",
       " 4.0,\n",
       " 2.0,\n",
       " 1.0,\n",
       " 5.0,\n",
       " 4.0,\n",
       " 1.0,\n",
       " 4.0,\n",
       " 2.0,\n",
       " 2.0]"
      ]
     },
     "execution_count": 393,
     "metadata": {},
     "output_type": "execute_result"
    }
   ],
   "source": [
    "import math\n",
    "y_pred_days = [round(i) for i in y_test_pred]\n",
    "y_pred_days"
   ]
  },
  {
   "cell_type": "code",
   "execution_count": 394,
   "metadata": {},
   "outputs": [
    {
     "name": "stdout",
     "output_type": "stream",
     "text": [
      "1.8724777273725242\n"
     ]
    }
   ],
   "source": [
    "#GBmodel = GradientBoostingRegressor(random_state=0)\n",
    "#GBmodel.fit(X_train, y_train)\n",
    "y_test_pred = model.predict(X_test)\n",
    "rmse = mean_squared_error(y_pred_days, y_test,squared=False)\n",
    "print(rmse)"
   ]
  },
  {
   "cell_type": "code",
   "execution_count": 386,
   "metadata": {},
   "outputs": [
    {
     "name": "stdout",
     "output_type": "stream",
     "text": [
      "Fitting 3 folds for each of 81 candidates, totalling 243 fits\n"
     ]
    },
    {
     "data": {
      "text/plain": [
       "{'learning_rate': 0.01, 'max_depth': 5, 'max_features': 5, 'n_estimators': 300}"
      ]
     },
     "execution_count": 386,
     "metadata": {},
     "output_type": "execute_result"
    }
   ],
   "source": [
    "# Create the parameter grid based on the results of random search \n",
    "param_grid = {\n",
    "    'learning_rate':[0.001, 0.01, 0.1],\n",
    "    'max_depth': [5, 10, 20],\n",
    "    'max_features': [3, 4, 5],\n",
    "    'n_estimators': [100, 200, 300]\n",
    "}\n",
    "# Create a based model\n",
    "gb = GradientBoostingRegressor(random_state=1)\n",
    "# Instantiate the grid search model\n",
    "gb_grid_search = GridSearchCV(estimator = gb, param_grid = param_grid, \n",
    "                          cv = 3, n_jobs = -1, verbose = 2, scoring='neg_root_mean_squared_error')\n",
    "# Fit the grid search to the data\n",
    "gb_grid_search.fit(X_train, y_train)\n",
    "gb_grid_search.best_params_"
   ]
  },
  {
   "cell_type": "code",
   "execution_count": 387,
   "metadata": {},
   "outputs": [
    {
     "name": "stdout",
     "output_type": "stream",
     "text": [
      "1.831764361640813\n"
     ]
    }
   ],
   "source": [
    "y_test_pred = gb_grid_search.predict(X_test)\n",
    "rmse = mean_squared_error(y_test_pred, y_test,squared=False)\n",
    "print(rmse)"
   ]
  },
  {
   "cell_type": "markdown",
   "metadata": {},
   "source": [
    "### Instance data"
   ]
  },
  {
   "cell_type": "code",
   "execution_count": null,
   "metadata": {},
   "outputs": [],
   "source": [
    "#df_new = df_new.reindex(columns=df_new.columns | df_train.columns)\n",
    "#df_new.fillna(0, inplace=True)\n",
    "#df_new = df_new[bi_features]\n"
   ]
  },
  {
   "cell_type": "code",
   "execution_count": 296,
   "metadata": {},
   "outputs": [],
   "source": [
    "X_new = df_new.values\n",
    "y_new_pred = GBmodel.predict(X_new)\n",
    "\n",
    "df_ins['Plan'] = y_new_pred.round(0)"
   ]
  },
  {
   "cell_type": "code",
   "execution_count": 297,
   "metadata": {},
   "outputs": [
    {
     "data": {
      "text/html": [
       "<div>\n",
       "<style scoped>\n",
       "    .dataframe tbody tr th:only-of-type {\n",
       "        vertical-align: middle;\n",
       "    }\n",
       "\n",
       "    .dataframe tbody tr th {\n",
       "        vertical-align: top;\n",
       "    }\n",
       "\n",
       "    .dataframe thead th {\n",
       "        text-align: right;\n",
       "    }\n",
       "</style>\n",
       "<table border=\"1\" class=\"dataframe\">\n",
       "  <thead>\n",
       "    <tr style=\"text-align: right;\">\n",
       "      <th></th>\n",
       "      <th>Unnamed: 0</th>\n",
       "      <th>MRN</th>\n",
       "      <th>CreatedDate</th>\n",
       "      <th>SiteGroup</th>\n",
       "      <th>Intent</th>\n",
       "      <th>Category_x</th>\n",
       "      <th>SimApptDuration</th>\n",
       "      <th>TltDose</th>\n",
       "      <th>TxFracs</th>\n",
       "      <th>TxApptDuration</th>\n",
       "      <th>Team</th>\n",
       "      <th>CT</th>\n",
       "      <th>linacs</th>\n",
       "      <th>TxStartDt</th>\n",
       "      <th>WaitTime</th>\n",
       "      <th>Contour</th>\n",
       "      <th>Plan</th>\n",
       "      <th>PretrtDays</th>\n",
       "    </tr>\n",
       "  </thead>\n",
       "  <tbody>\n",
       "    <tr>\n",
       "      <th>0</th>\n",
       "      <td>0</td>\n",
       "      <td>48245</td>\n",
       "      <td>2020-01-30</td>\n",
       "      <td>ENT (HEAD &amp; NECK)</td>\n",
       "      <td>Palliative</td>\n",
       "      <td>Urgent 2</td>\n",
       "      <td>45</td>\n",
       "      <td>800.0</td>\n",
       "      <td>1.0</td>\n",
       "      <td>45</td>\n",
       "      <td>1</td>\n",
       "      <td>3 4</td>\n",
       "      <td>1 3 4 14</td>\n",
       "      <td>2020-02-01</td>\n",
       "      <td>2</td>\n",
       "      <td>0</td>\n",
       "      <td>0.0</td>\n",
       "      <td>0.0</td>\n",
       "    </tr>\n",
       "    <tr>\n",
       "      <th>1</th>\n",
       "      <td>1</td>\n",
       "      <td>162839</td>\n",
       "      <td>2019-10-02</td>\n",
       "      <td>ENT (HEAD &amp; NECK)</td>\n",
       "      <td>Curative</td>\n",
       "      <td>Standard 3</td>\n",
       "      <td>45</td>\n",
       "      <td>400.0</td>\n",
       "      <td>2.0</td>\n",
       "      <td>30</td>\n",
       "      <td>1</td>\n",
       "      <td>3 4</td>\n",
       "      <td>1 3 4 14</td>\n",
       "      <td>2019-10-23</td>\n",
       "      <td>21</td>\n",
       "      <td>0</td>\n",
       "      <td>7.0</td>\n",
       "      <td>7.0</td>\n",
       "    </tr>\n",
       "    <tr>\n",
       "      <th>2</th>\n",
       "      <td>4</td>\n",
       "      <td>282105</td>\n",
       "      <td>2020-02-04</td>\n",
       "      <td>ENT (HEAD &amp; NECK)</td>\n",
       "      <td>Palliative</td>\n",
       "      <td>Urgent 2</td>\n",
       "      <td>30</td>\n",
       "      <td>1000.0</td>\n",
       "      <td>1.0</td>\n",
       "      <td>30</td>\n",
       "      <td>1</td>\n",
       "      <td>3 4</td>\n",
       "      <td>1 3 4 14</td>\n",
       "      <td>2020-02-11</td>\n",
       "      <td>7</td>\n",
       "      <td>0</td>\n",
       "      <td>0.0</td>\n",
       "      <td>0.0</td>\n",
       "    </tr>\n",
       "    <tr>\n",
       "      <th>3</th>\n",
       "      <td>6</td>\n",
       "      <td>357124</td>\n",
       "      <td>2019-11-22</td>\n",
       "      <td>ENT (HEAD &amp; NECK)</td>\n",
       "      <td>Palliative</td>\n",
       "      <td>Urgent 2</td>\n",
       "      <td>30</td>\n",
       "      <td>800.0</td>\n",
       "      <td>1.0</td>\n",
       "      <td>30</td>\n",
       "      <td>1</td>\n",
       "      <td>3 4</td>\n",
       "      <td>1 3 4 14</td>\n",
       "      <td>2019-11-22</td>\n",
       "      <td>0</td>\n",
       "      <td>0</td>\n",
       "      <td>0.0</td>\n",
       "      <td>0.0</td>\n",
       "    </tr>\n",
       "    <tr>\n",
       "      <th>4</th>\n",
       "      <td>7</td>\n",
       "      <td>374634</td>\n",
       "      <td>2019-10-15</td>\n",
       "      <td>ENT (HEAD &amp; NECK)</td>\n",
       "      <td>Curative</td>\n",
       "      <td>Standard 3</td>\n",
       "      <td>30</td>\n",
       "      <td>7000.0</td>\n",
       "      <td>35.0</td>\n",
       "      <td>30</td>\n",
       "      <td>1</td>\n",
       "      <td>3 4</td>\n",
       "      <td>1 3 4 14</td>\n",
       "      <td>2019-10-29</td>\n",
       "      <td>14</td>\n",
       "      <td>3</td>\n",
       "      <td>4.0</td>\n",
       "      <td>7.0</td>\n",
       "    </tr>\n",
       "    <tr>\n",
       "      <th>...</th>\n",
       "      <td>...</td>\n",
       "      <td>...</td>\n",
       "      <td>...</td>\n",
       "      <td>...</td>\n",
       "      <td>...</td>\n",
       "      <td>...</td>\n",
       "      <td>...</td>\n",
       "      <td>...</td>\n",
       "      <td>...</td>\n",
       "      <td>...</td>\n",
       "      <td>...</td>\n",
       "      <td>...</td>\n",
       "      <td>...</td>\n",
       "      <td>...</td>\n",
       "      <td>...</td>\n",
       "      <td>...</td>\n",
       "      <td>...</td>\n",
       "      <td>...</td>\n",
       "    </tr>\n",
       "    <tr>\n",
       "      <th>1733</th>\n",
       "      <td>2289</td>\n",
       "      <td>4703248</td>\n",
       "      <td>2019-12-19</td>\n",
       "      <td>PAEDIATRIC</td>\n",
       "      <td>Adjuvant</td>\n",
       "      <td>Standard 3</td>\n",
       "      <td>45</td>\n",
       "      <td>1080.0</td>\n",
       "      <td>6.0</td>\n",
       "      <td>45</td>\n",
       "      <td>4</td>\n",
       "      <td>2</td>\n",
       "      <td>12 16 17 14</td>\n",
       "      <td>2019-12-30</td>\n",
       "      <td>11</td>\n",
       "      <td>0</td>\n",
       "      <td>2.0</td>\n",
       "      <td>2.0</td>\n",
       "    </tr>\n",
       "    <tr>\n",
       "      <th>1734</th>\n",
       "      <td>2291</td>\n",
       "      <td>4707401</td>\n",
       "      <td>2020-01-09</td>\n",
       "      <td>PAEDIATRIC</td>\n",
       "      <td>Curative</td>\n",
       "      <td>Standard 3</td>\n",
       "      <td>45</td>\n",
       "      <td>1200.0</td>\n",
       "      <td>6.0</td>\n",
       "      <td>75</td>\n",
       "      <td>4</td>\n",
       "      <td>2</td>\n",
       "      <td>12 16 17 14</td>\n",
       "      <td>2020-01-22</td>\n",
       "      <td>13</td>\n",
       "      <td>0</td>\n",
       "      <td>2.0</td>\n",
       "      <td>2.0</td>\n",
       "    </tr>\n",
       "    <tr>\n",
       "      <th>1735</th>\n",
       "      <td>2293</td>\n",
       "      <td>4711015</td>\n",
       "      <td>2020-02-03</td>\n",
       "      <td>PAEDIATRIC</td>\n",
       "      <td>Curative</td>\n",
       "      <td>Standard 3</td>\n",
       "      <td>45</td>\n",
       "      <td>1200.0</td>\n",
       "      <td>6.0</td>\n",
       "      <td>75</td>\n",
       "      <td>4</td>\n",
       "      <td>2</td>\n",
       "      <td>12 16 17 14</td>\n",
       "      <td>2020-02-26</td>\n",
       "      <td>23</td>\n",
       "      <td>0</td>\n",
       "      <td>2.0</td>\n",
       "      <td>2.0</td>\n",
       "    </tr>\n",
       "    <tr>\n",
       "      <th>1736</th>\n",
       "      <td>2294</td>\n",
       "      <td>4712959</td>\n",
       "      <td>2020-02-03</td>\n",
       "      <td>PAEDIATRIC</td>\n",
       "      <td>Curative</td>\n",
       "      <td>Standard 3</td>\n",
       "      <td>45</td>\n",
       "      <td>1200.0</td>\n",
       "      <td>6.0</td>\n",
       "      <td>90</td>\n",
       "      <td>4</td>\n",
       "      <td>2</td>\n",
       "      <td>12 16 17 14</td>\n",
       "      <td>2020-02-12</td>\n",
       "      <td>9</td>\n",
       "      <td>0</td>\n",
       "      <td>2.0</td>\n",
       "      <td>2.0</td>\n",
       "    </tr>\n",
       "    <tr>\n",
       "      <th>1737</th>\n",
       "      <td>2296</td>\n",
       "      <td>4718756</td>\n",
       "      <td>2020-02-27</td>\n",
       "      <td>PAEDIATRIC</td>\n",
       "      <td>Adjuvant</td>\n",
       "      <td>Standard 3</td>\n",
       "      <td>30</td>\n",
       "      <td>1800.0</td>\n",
       "      <td>10.0</td>\n",
       "      <td>30</td>\n",
       "      <td>4</td>\n",
       "      <td>2</td>\n",
       "      <td>12 16 17 14</td>\n",
       "      <td>2020-04-06</td>\n",
       "      <td>39</td>\n",
       "      <td>0</td>\n",
       "      <td>3.0</td>\n",
       "      <td>3.0</td>\n",
       "    </tr>\n",
       "  </tbody>\n",
       "</table>\n",
       "<p>1738 rows × 18 columns</p>\n",
       "</div>"
      ],
      "text/plain": [
       "      Unnamed: 0      MRN CreatedDate          SiteGroup      Intent  \\\n",
       "0              0    48245  2020-01-30  ENT (HEAD & NECK)  Palliative   \n",
       "1              1   162839  2019-10-02  ENT (HEAD & NECK)    Curative   \n",
       "2              4   282105  2020-02-04  ENT (HEAD & NECK)  Palliative   \n",
       "3              6   357124  2019-11-22  ENT (HEAD & NECK)  Palliative   \n",
       "4              7   374634  2019-10-15  ENT (HEAD & NECK)    Curative   \n",
       "...          ...      ...         ...                ...         ...   \n",
       "1733        2289  4703248  2019-12-19         PAEDIATRIC    Adjuvant   \n",
       "1734        2291  4707401  2020-01-09         PAEDIATRIC    Curative   \n",
       "1735        2293  4711015  2020-02-03         PAEDIATRIC    Curative   \n",
       "1736        2294  4712959  2020-02-03         PAEDIATRIC    Curative   \n",
       "1737        2296  4718756  2020-02-27         PAEDIATRIC    Adjuvant   \n",
       "\n",
       "      Category_x  SimApptDuration  TltDose  TxFracs  TxApptDuration  Team  \\\n",
       "0       Urgent 2               45    800.0      1.0              45     1   \n",
       "1     Standard 3               45    400.0      2.0              30     1   \n",
       "2       Urgent 2               30   1000.0      1.0              30     1   \n",
       "3       Urgent 2               30    800.0      1.0              30     1   \n",
       "4     Standard 3               30   7000.0     35.0              30     1   \n",
       "...          ...              ...      ...      ...             ...   ...   \n",
       "1733  Standard 3               45   1080.0      6.0              45     4   \n",
       "1734  Standard 3               45   1200.0      6.0              75     4   \n",
       "1735  Standard 3               45   1200.0      6.0              75     4   \n",
       "1736  Standard 3               45   1200.0      6.0              90     4   \n",
       "1737  Standard 3               30   1800.0     10.0              30     4   \n",
       "\n",
       "       CT       linacs  TxStartDt  WaitTime  Contour  Plan  PretrtDays  \n",
       "0     3 4     1 3 4 14 2020-02-01         2        0   0.0         0.0  \n",
       "1     3 4     1 3 4 14 2019-10-23        21        0   7.0         7.0  \n",
       "2     3 4     1 3 4 14 2020-02-11         7        0   0.0         0.0  \n",
       "3     3 4     1 3 4 14 2019-11-22         0        0   0.0         0.0  \n",
       "4     3 4     1 3 4 14 2019-10-29        14        3   4.0         7.0  \n",
       "...   ...          ...        ...       ...      ...   ...         ...  \n",
       "1733    2  12 16 17 14 2019-12-30        11        0   2.0         2.0  \n",
       "1734    2  12 16 17 14 2020-01-22        13        0   2.0         2.0  \n",
       "1735    2  12 16 17 14 2020-02-26        23        0   2.0         2.0  \n",
       "1736    2  12 16 17 14 2020-02-12         9        0   2.0         2.0  \n",
       "1737    2  12 16 17 14 2020-04-06        39        0   3.0         3.0  \n",
       "\n",
       "[1738 rows x 18 columns]"
      ]
     },
     "execution_count": 297,
     "metadata": {},
     "output_type": "execute_result"
    }
   ],
   "source": [
    "df_ins['PretrtDays']=df_ins['Plan']+df_ins['Contour']\n",
    "df_ins"
   ]
  },
  {
   "cell_type": "code",
   "execution_count": 298,
   "metadata": {},
   "outputs": [
    {
     "data": {
      "image/png": "[encoded data removed]",
      "text/plain": [
       "<Figure size 648x360 with 1 Axes>"
      ]
     },
     "metadata": {
      "needs_background": "light"
     },
     "output_type": "display_data"
    }
   ],
   "source": [
    "plt.figure(figsize=[9,5])\n",
    "bins = range(0,15)\n",
    "\n",
    "y = df_ins['PretrtDays']\n",
    "plt.hist(y, bins = bins, alpha=0.5, edgecolor='black', align='left')\n",
    "\n",
    "plt.xlabel('pre-trt days')\n",
    "plt.ylabel('frequency')\n",
    "plt.title('pre-trt days distribution')\n",
    "plt.xticks(fontsize=10)\n",
    "plt.yticks(fontsize=10)\n",
    "\n",
    "plt.show()"
   ]
  },
  {
   "cell_type": "code",
   "execution_count": 300,
   "metadata": {},
   "outputs": [],
   "source": [
    "df_ins.to_excel(\"ins_201910_202002_MIP.xlsx\")\n"
   ]
  },
  {
   "cell_type": "code",
   "execution_count": null,
   "metadata": {},
   "outputs": [],
   "source": [
    "#df1920[df1920['Team']==1][['SimLocation','TxUnit']]"
   ]
  },
  {
   "cell_type": "code",
   "execution_count": 237,
   "metadata": {},
   "outputs": [
    {
     "data": {
      "text/plain": [
       "array(['CNS', 'Head & Neck', 'Gynae', 'Breast', 'GI Upper', 'Sarcoma',\n",
       "       'Endocrine', 'Lung', 'Lymphoma', 'Paediatrics'], dtype=object)"
      ]
     },
     "execution_count": 237,
     "metadata": {},
     "output_type": "execute_result"
    }
   ],
   "source": [
    "df_ins.SiteGroup.unique()"
   ]
  },
  {
   "cell_type": "code",
   "execution_count": null,
   "metadata": {},
   "outputs": [],
   "source": []
  }
 ],
 "metadata": {
  "kernelspec": {
   "display_name": "Python 3",
   "language": "python",
   "name": "python3"
  },
  "language_info": {
   "codemirror_mode": {
    "name": "ipython",
    "version": 3
   },
   "file_extension": ".py",
   "mimetype": "text/x-python",
   "name": "python",
   "nbconvert_exporter": "python",
   "pygments_lexer": "ipython3",
   "version": "3.8.3"
  }
 },
 "nbformat": 4,
 "nbformat_minor": 4
}
