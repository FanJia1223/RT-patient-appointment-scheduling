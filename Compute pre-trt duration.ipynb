{
 "cells": [
  {
   "cell_type": "code",
   "execution_count": 1,
   "metadata": {},
   "outputs": [],
   "source": [
    "import pandas as pd\n",
    "import datetime\n",
    "from datetime import timedelta\n",
    "from datetime import datetime\n",
    "import matplotlib.pyplot as plt\n",
    "import numpy as np\n",
    "from scipy import stats\n",
    "\n",
    "import seaborn as sns\n",
    "## for statistical tests\n",
    "import scipy\n",
    "import statsmodels.formula.api as smf\n",
    "import statsmodels.api as sm\n",
    "## for machine learning\n",
    "from sklearn import model_selection, preprocessing, feature_selection, ensemble, linear_model, metrics, decomposition\n",
    "## for explainer\n",
    "#from lime import lime_tabular"
   ]
  },
  {
   "cell_type": "code",
   "execution_count": 139,
   "metadata": {},
   "outputs": [],
   "source": [
    "import warnings\n",
    "\n",
    "import pandas as pd\n",
    "from pandas.core.common import SettingWithCopyWarning\n",
    "\n",
    "warnings.simplefilter(action=\"ignore\", category=SettingWithCopyWarning)"
   ]
  },
  {
   "cell_type": "code",
   "execution_count": 2,
   "metadata": {},
   "outputs": [],
   "source": [
    "import warnings\n",
    "warnings.filterwarnings(\"ignore\", category=FutureWarning)"
   ]
  },
  {
   "cell_type": "code",
   "execution_count": 3,
   "metadata": {},
   "outputs": [],
   "source": [
    "# read in master file\n",
    "df_orig=pd.read_excel(\"master_file_4.xlsx\")\n",
    "# exclude planned delays\n",
    "df_orig=df_orig[df_orig['Category_x']!='Planned Delay 3']\n",
    "df_orig=df_orig[df_orig['Category_x']!='planned Delay 3']\n",
    "# Correcting Standard 2 = Standard 3\n",
    "df_orig = df_orig.replace({'Category_x': {'Standard 2': 'Standard 3', \n",
    "                                'Urgent ICU/SDU 2':'Urgent 2'}})"
   ]
  },
  {
   "cell_type": "code",
   "execution_count": 4,
   "metadata": {},
   "outputs": [],
   "source": [
    "# read in instance file\n",
    "df_ins = pd.read_excel(\"instance_20200109.xlsx\", sheet_name='Sheet2')\n"
   ]
  },
  {
   "cell_type": "markdown",
   "metadata": {},
   "source": [
    "## ML models"
   ]
  },
  {
   "cell_type": "code",
   "execution_count": 5,
   "metadata": {},
   "outputs": [],
   "source": [
    "from sklearn.model_selection import GridSearchCV\n",
    "from sklearn.ensemble import RandomForestClassifier\n",
    "from sklearn.metrics import confusion_matrix, classification_report"
   ]
  },
  {
   "cell_type": "markdown",
   "metadata": {},
   "source": [
    "### data to train model"
   ]
  },
  {
   "cell_type": "code",
   "execution_count": 6,
   "metadata": {},
   "outputs": [],
   "source": [
    "df_orig['TxApptBook-Sim']=pd.to_datetime(df_orig['TxApptCreatedDt']).dt.date-pd.to_datetime(df_orig['SimApptDt']).dt.date\n",
    "df_orig['TxApptBook-Sim']=df_orig['TxApptBook-Sim'].dt.days"
   ]
  },
  {
   "cell_type": "code",
   "execution_count": 7,
   "metadata": {},
   "outputs": [
    {
     "data": {
      "text/plain": [
       "207504"
      ]
     },
     "execution_count": 7,
     "metadata": {},
     "output_type": "execute_result"
    }
   ],
   "source": [
    "### most recent 6-month data\n",
    "#df1920 = df_orig[pd.to_datetime(df_orig['CreatedDate']).dt.year>=2019]\n",
    "df1920 = df_orig[(pd.to_datetime(df_orig['CreatedDate']).dt.date >= pd.to_datetime(\"2019-06-01\"))&\n",
    "                (pd.to_datetime(df_orig['CreatedDate']).dt.date <= pd.to_datetime(\"2019-12-31\"))]\n",
    "df1920.size\n"
   ]
  },
  {
   "cell_type": "code",
   "execution_count": 138,
   "metadata": {},
   "outputs": [],
   "source": [
    "'''df_forins = df_orig[(pd.to_datetime(df_orig['CreatedDate']).dt.date >= pd.to_datetime(\"2019-06-01\"))&\n",
    "                (pd.to_datetime(df_orig['CreatedDate']).dt.date <= pd.to_datetime(\"2021-12-31\"))]\n",
    "df_forins.to_excel(\"master_2019-2020.xlsx\")'''"
   ]
  },
  {
   "cell_type": "code",
   "execution_count": 403,
   "metadata": {},
   "outputs": [],
   "source": [
    "df1920['TimeBtw_Sim_BkTx'] = df1920.apply(\n",
    "    lambda row: row['ContourDur'] if row['TimeBtw_Sim_BkTx']<0 else row['TimeBtw_Sim_BkTx'],\n",
    "    axis=1\n",
    ")\n",
    "df1920[\"TimeBtw_Sim_BkTx\"] = df1920[\"TimeBtw_Sim_BkTx\"].fillna(df1920[\"TimeBtw_Sim_BkTx\"].mode())"
   ]
  },
  {
   "cell_type": "markdown",
   "metadata": {},
   "source": [
    "### contouring"
   ]
  },
  {
   "cell_type": "code",
   "execution_count": 404,
   "metadata": {},
   "outputs": [],
   "source": [
    "target_y = \"TimeBtw_Sim_BkTx\"\n",
    "df_meet = df1920[df1920['WaitTime']<=14]\n",
    "features = ['Sitegroup_y', 'Category_x', 'TltDose', 'TxFracs']\n",
    "df_clf = df_meet[features + [target_y]]\n"
   ]
  },
  {
   "cell_type": "code",
   "execution_count": 405,
   "metadata": {},
   "outputs": [],
   "source": [
    "df_clf[\"Sitegroup_y\"] = df_clf[\"Sitegroup_y\"].fillna(df_clf[\"Sitegroup_y\"].mode()[0])\n",
    "#df_clf[\"Category_x\"] = df_clf[\"Category_x\"].fillna(df_clf[\"Category_x\"].mode())\n",
    "df_clf[\"TltDose\"] = df_clf[\"TltDose\"].fillna(df_clf[\"TltDose\"].mode()[0])\n",
    "df_clf[\"TxFracs\"] = df_clf[\"TxFracs\"].fillna(df_clf[\"TxFracs\"].mode()[0])\n",
    "df_clf[target_y] = df_clf[target_y].fillna(df_clf[target_y].mode()[0])"
   ]
  },
  {
   "cell_type": "code",
   "execution_count": 406,
   "metadata": {},
   "outputs": [],
   "source": [
    "dummy = pd.get_dummies(df_clf[[\"Sitegroup_y\",\"Category_x\"]], prefix=['Site','Categ']) #, drop_first=True)\n",
    "df_cont = pd.concat([df_clf, dummy], axis=1)\n",
    "#print( df_clf.filter(like=\"Sitegroup_y\",axis=1).head() )\n",
    "\n",
    "## drop the original categorical column\n",
    "df_cont = df_cont.drop(['Sitegroup_y','Category_x'], axis=1)"
   ]
  },
  {
   "cell_type": "code",
   "execution_count": 407,
   "metadata": {},
   "outputs": [
    {
     "name": "stdout",
     "output_type": "stream",
     "text": [
      "X_train shape: (1080, 20) | X_test shape: (464, 20)\n",
      "y_train mean: 1.76 | y_test mean: 1.69\n",
      "21 features: ['TltDose', 'TxFracs', 'Site_BREAST', 'Site_CNS', 'Site_ENDOCRINE', 'Site_ENT (HEAD & NECK)', 'Site_EYE', 'Site_GASTROINTESTINAL(GI)', 'Site_GENITOURINARY(GU)', 'Site_GYNAE', 'Site_LEUKEMIA', 'Site_LUNG', 'Site_LYMPHOMA', 'Site_PAEDIATRIC', 'Site_SARCOMA', 'Site_SKIN', 'Site_UNKNOWN', 'Categ_Emergency 1', 'Categ_Standard 3', 'Categ_Urgent 2']\n"
     ]
    }
   ],
   "source": [
    "# train-test spli4\n",
    "df_train, df_test = model_selection.train_test_split(df_cont, test_size=0.3, random_state=4)\n",
    "## print info\n",
    "print(\"X_train shape:\", df_train.drop(target_y,axis=1).shape, \"| X_test shape:\", df_test.drop(target_y,axis=1).shape)\n",
    "print(\"y_train mean:\", round(np.mean(df_train[target_y]),2), \"| y_test mean:\", round(np.mean(df_test[target_y]),2))\n",
    "print(df_train.shape[1], \"features:\", df_train.drop(target_y,axis=1).columns.to_list())"
   ]
  },
  {
   "cell_type": "code",
   "execution_count": 408,
   "metadata": {},
   "outputs": [],
   "source": [
    "df_test_copy = df_test"
   ]
  },
  {
   "cell_type": "code",
   "execution_count": 409,
   "metadata": {},
   "outputs": [],
   "source": [
    "# 0-1, class 0; 2-5, class 1, >5, class 2\n",
    "df_train.loc[df_train[target_y] <=1, 'ContourGroup'] = 0\n",
    "df_train.loc[(df_train[target_y] <=4)&(df_train[target_y]>=2), 'ContourGroup'] = 1\n",
    "df_train.loc[df_train[target_y] >= 5, 'ContourGroup'] = 2\n",
    "df_train = df_train.drop(columns=[target_y])\n",
    "\n",
    "df_test.loc[df_test[target_y] <= 1, 'ContourGroup'] = 0\n",
    "df_test.loc[(df_test[target_y] <= 4)&(df_test[target_y]>=2), 'ContourGroup'] = 1\n",
    "df_test.loc[df_test[target_y] >= 5, 'ContourGroup'] = 2\n",
    "df_test = df_test.drop(columns=[target_y])"
   ]
  },
  {
   "cell_type": "code",
   "execution_count": 410,
   "metadata": {},
   "outputs": [],
   "source": [
    "X_train = df_train.drop('ContourGroup', axis=1).values\n",
    "y_train = df_train['ContourGroup'].values\n",
    "\n",
    "X_test = df_test.drop('ContourGroup', axis=1).values\n",
    "y_test = df_test['ContourGroup'].values\n",
    "feature_names = df_train.drop('ContourGroup', axis=1).columns.tolist()"
   ]
  },
  {
   "cell_type": "code",
   "execution_count": 411,
   "metadata": {},
   "outputs": [
    {
     "name": "stdout",
     "output_type": "stream",
     "text": [
      "Accuracy: 0.7068965517241379\n"
     ]
    }
   ],
   "source": [
    "### Random Forest\n",
    "#Import Random Forest Model\n",
    "from sklearn.ensemble import RandomForestClassifier\n",
    "\n",
    "#Create a Gaussian Classifier\n",
    "clf_rf = RandomForestClassifier(n_estimators=100)\n",
    "\n",
    "#Train the model using the training sets y_pred=clf.predict(X_test)\n",
    "clf_rf.fit(X_train,y_train)\n",
    "\n",
    "y_pred = clf_rf.predict(X_test)\n",
    "\n",
    "#Import scikit-learn metrics module for accuracy calculation\n",
    "from sklearn import metrics\n",
    "# Model Accuracy, how often is the classifier correct?\n",
    "print(\"Accuracy:\", metrics.accuracy_score(y_test, y_pred))\n"
   ]
  },
  {
   "cell_type": "code",
   "execution_count": 412,
   "metadata": {},
   "outputs": [],
   "source": [
    "# Create the parameter grid based on the results of random search \n",
    "param_grid = {\n",
    "    'bootstrap': [True],\n",
    "    'max_depth': [50, 60, 80, 100],\n",
    "    'max_features': [2, 3, 4],\n",
    "    'min_samples_leaf': [3, 4, 5],\n",
    "    'min_samples_split': [10, 12, 15],\n",
    "    'n_estimators': [100, 200, 300]\n",
    "}\n",
    "# Create a based model\n",
    "rf = RandomForestClassifier()\n",
    "# Instantiate the grid search model\n",
    "grid_search = GridSearchCV(estimator = rf, param_grid = param_grid, \n",
    "                          cv = 3, n_jobs = -1, verbose = 2)"
   ]
  },
  {
   "cell_type": "code",
   "execution_count": 413,
   "metadata": {},
   "outputs": [],
   "source": [
    "# evaluate random search\n",
    "def evaluate(model, test_features, test_labels):\n",
    "    predictions = model.predict(test_features)\n",
    "    errors = abs(predictions - test_labels)\n",
    "    mape = 100 * np.mean(errors / test_labels)\n",
    "    accuracy = 100 - mape\n",
    "    print('Model Performance')\n",
    "    print('Average Error: {:0.4f} degrees.'.format(np.mean(errors)))\n",
    "    print('Accuracy = {:0.2f}%.'.format(accuracy))\n",
    "    \n",
    "    return accuracy"
   ]
  },
  {
   "cell_type": "code",
   "execution_count": 414,
   "metadata": {},
   "outputs": [
    {
     "name": "stdout",
     "output_type": "stream",
     "text": [
      "Fitting 3 folds for each of 324 candidates, totalling 972 fits\n"
     ]
    }
   ],
   "source": [
    "# Fit the grid search to the data\n",
    "grid_search.fit(X_train, y_train)\n",
    "grid_search.best_params_\n",
    "\n",
    "best_grid = grid_search.best_estimator_\n",
    "#grid_accuracy = evaluate(best_grid, X_test, y_test)\n",
    "\n",
    "#print('Improvement of {:0.2f}%.'.format( 100 * (grid_accuracy - base_accuracy) / base_accuracy))\n"
   ]
  },
  {
   "cell_type": "code",
   "execution_count": 415,
   "metadata": {},
   "outputs": [
    {
     "data": {
      "text/plain": [
       "{'bootstrap': True,\n",
       " 'max_depth': 50,\n",
       " 'max_features': 2,\n",
       " 'min_samples_leaf': 4,\n",
       " 'min_samples_split': 12,\n",
       " 'n_estimators': 300}"
      ]
     },
     "execution_count": 415,
     "metadata": {},
     "output_type": "execute_result"
    }
   ],
   "source": [
    "grid_search.best_params_"
   ]
  },
  {
   "cell_type": "code",
   "execution_count": 416,
   "metadata": {},
   "outputs": [
    {
     "data": {
      "text/plain": [
       "0.709051724137931"
      ]
     },
     "execution_count": 416,
     "metadata": {},
     "output_type": "execute_result"
    }
   ],
   "source": [
    "grid_search.score(X_test, y_test)"
   ]
  },
  {
   "cell_type": "code",
   "execution_count": 417,
   "metadata": {},
   "outputs": [
    {
     "name": "stdout",
     "output_type": "stream",
     "text": [
      "[[264  27   1]\n",
      " [ 49  57   6]\n",
      " [ 25  27   8]]\n",
      "              precision    recall  f1-score   support\n",
      "\n",
      "         0.0       0.78      0.90      0.84       292\n",
      "         1.0       0.51      0.51      0.51       112\n",
      "         2.0       0.53      0.13      0.21        60\n",
      "\n",
      "    accuracy                           0.71       464\n",
      "   macro avg       0.61      0.52      0.52       464\n",
      "weighted avg       0.68      0.71      0.68       464\n",
      "\n"
     ]
    }
   ],
   "source": [
    "y_rf_pred=grid_search.predict(X_test)\n",
    "cm_rf = confusion_matrix(y_test, y_rf_pred)\n",
    "print(cm_rf)\n",
    "print(classification_report(y_test, y_rf_pred))"
   ]
  },
  {
   "cell_type": "code",
   "execution_count": 419,
   "metadata": {},
   "outputs": [
    {
     "data": {
      "text/plain": [
       "array([0., 0., 1., 0., 1., 0., 0., 0., 0., 0., 1., 0., 0., 0., 0., 1., 1.,\n",
       "       0., 0., 0., 0., 0., 0., 0., 0., 0., 0., 2., 1., 0., 0., 0., 0., 0.,\n",
       "       0., 1., 1., 0., 1., 0., 0., 0., 0., 0., 1., 1., 0., 0., 0., 0., 0.,\n",
       "       0., 0., 0., 0., 0., 0., 0., 0., 0., 0., 1., 0., 1., 0., 1., 0., 0.,\n",
       "       0., 0., 1., 0., 1., 0., 0., 0., 0., 0., 0., 1., 1., 0., 0., 1., 1.,\n",
       "       0., 0., 0., 1., 0., 1., 0., 1., 1., 0., 1., 0., 0., 0., 1., 0., 0.,\n",
       "       0., 0., 1., 2., 0., 1., 2., 0., 0., 0., 0., 0., 1., 0., 0., 0., 0.,\n",
       "       0., 0., 1., 1., 0., 0., 0., 0., 2., 1., 1., 0., 0., 0., 0., 0., 1.,\n",
       "       0., 0., 0., 0., 0., 0., 0., 0., 1., 0., 0., 0., 0., 0., 0., 0., 1.,\n",
       "       0., 1., 0., 0., 1., 0., 0., 0., 0., 1., 0., 0., 0., 1., 0., 0., 0.,\n",
       "       0., 0., 0., 0., 0., 0., 0., 0., 0., 0., 0., 0., 0., 0., 1., 0., 0.,\n",
       "       1., 0., 0., 0., 1., 0., 0., 0., 0., 0., 2., 0., 0., 0., 1., 0., 1.,\n",
       "       1., 1., 0., 1., 0., 0., 0., 0., 0., 0., 0., 1., 0., 0., 1., 0., 0.,\n",
       "       0., 0., 0., 0., 1., 1., 1., 0., 0., 0., 1., 0., 0., 0., 0., 0., 0.,\n",
       "       0., 0., 0., 0., 0., 0., 0., 0., 0., 1., 0., 1., 0., 0., 1., 0., 0.,\n",
       "       1., 0., 0., 0., 0., 0., 1., 2., 1., 1., 0., 0., 0., 0., 0., 0., 0.,\n",
       "       0., 0., 0., 1., 1., 1., 0., 0., 0., 1., 2., 1., 0., 1., 0., 1., 0.,\n",
       "       0., 0., 0., 0., 0., 0., 0., 2., 1., 1., 0., 0., 0., 0., 0., 0., 1.,\n",
       "       1., 0., 1., 0., 0., 0., 0., 0., 0., 2., 1., 0., 0., 0., 0., 0., 0.,\n",
       "       0., 0., 1., 0., 1., 0., 0., 0., 0., 1., 0., 1., 0., 0., 0., 1., 0.,\n",
       "       0., 1., 0., 0., 1., 0., 1., 1., 2., 1., 0., 0., 1., 0., 0., 0., 1.,\n",
       "       2., 1., 0., 2., 1., 0., 0., 0., 1., 1., 0., 0., 0., 0., 1., 1., 0.,\n",
       "       0., 1., 0., 0., 0., 1., 1., 0., 0., 0., 1., 0., 2., 0., 1., 0., 0.,\n",
       "       0., 0., 2., 0., 0., 0., 1., 0., 1., 0., 1., 0., 0., 0., 0., 1., 0.,\n",
       "       0., 1., 0., 0., 0., 0., 0., 0., 0., 0., 0., 0., 0., 0., 0., 0., 1.,\n",
       "       0., 0., 1., 0., 0., 0., 0., 1., 1., 1., 0., 0., 0., 0., 0., 0., 2.,\n",
       "       1., 0., 0., 0., 0., 1., 0., 0., 0., 0., 0., 0., 0., 0., 0., 1., 1.,\n",
       "       0., 0., 0., 0., 0.])"
      ]
     },
     "execution_count": 419,
     "metadata": {},
     "output_type": "execute_result"
    }
   ],
   "source": [
    "y_rf_pred"
   ]
  },
  {
   "cell_type": "code",
   "execution_count": 428,
   "metadata": {},
   "outputs": [
    {
     "name": "stdout",
     "output_type": "stream",
     "text": [
      "2.2108665799823286\n"
     ]
    }
   ],
   "source": [
    "### RMSE (days)\n",
    "y_pred_days = []\n",
    "for i in y_rf_pred:\n",
    "    if i == 0:\n",
    "        y_pred_days.append(1)\n",
    "    if i == 1:\n",
    "        y_pred_days.append(4)       \n",
    "    if i == 2:\n",
    "        y_pred_days.append(6)\n",
    "        \n",
    "y_true_days = df_test_copy[target_y].values\n",
    "from sklearn.metrics import mean_squared_error\n",
    "rmse = mean_squared_error(y_pred_days, y_true_days,squared=False)\n",
    "print(rmse)"
   ]
  },
  {
   "cell_type": "code",
   "execution_count": 429,
   "metadata": {},
   "outputs": [
    {
     "data": {
      "text/plain": [
       "array([ 0.,  0.,  7.,  0.,  1.,  0.,  4.,  1.,  1.,  1.,  2.,  0.,  0.,\n",
       "        0.,  2.,  6.,  4.,  0.,  4.,  0.,  0.,  0.,  6.,  1.,  4.,  5.,\n",
       "        4.,  5.,  1.,  0.,  0.,  0.,  1.,  4.,  0.,  4.,  3.,  0.,  1.,\n",
       "        0.,  0.,  0.,  7.,  0.,  3.,  4.,  0.,  0.,  0.,  0.,  0.,  1.,\n",
       "        8.,  0.,  0.,  0.,  8.,  0.,  0.,  0.,  1.,  6.,  6.,  1.,  0.,\n",
       "        5.,  0.,  4.,  0.,  3.,  3.,  0.,  5.,  0.,  0.,  0.,  1.,  1.,\n",
       "        0.,  4.,  1.,  0.,  3.,  2.,  2.,  0.,  6.,  0.,  0.,  0.,  1.,\n",
       "        0.,  2.,  5.,  4., 11.,  5.,  0.,  0.,  2.,  0.,  0.,  7.,  4.,\n",
       "        5.,  4.,  0.,  0.,  5.,  0.,  0.,  0.,  0.,  0.,  4.,  0.,  0.,\n",
       "        1.,  0.,  0.,  0.,  8.,  5.,  0.,  2.,  0.,  7.,  3.,  2.,  3.,\n",
       "        0.,  0.,  0.,  0.,  2.,  2.,  0.,  1.,  5.,  0.,  4.,  0.,  0.,\n",
       "        0.,  2.,  1.,  4.,  6.,  1.,  0.,  0.,  4.,  3.,  0.,  3.,  1.,\n",
       "        0.,  2.,  2.,  0.,  8.,  4.,  2.,  0.,  3.,  0.,  3.,  0.,  0.,\n",
       "        0.,  0.,  0.,  0.,  5.,  0.,  0.,  7.,  0.,  1.,  0.,  0.,  6.,\n",
       "        0.,  0.,  2.,  0.,  4.,  5.,  0.,  6.,  2.,  2.,  0.,  0.,  0.,\n",
       "        0.,  0.,  1.,  8.,  0.,  0.,  6.,  0.,  1.,  3.,  1.,  0.,  2.,\n",
       "        0.,  0.,  0.,  3.,  0.,  0., 14.,  4.,  0.,  0.,  8.,  1.,  4.,\n",
       "        0.,  0.,  0.,  6.,  4.,  5.,  0.,  0.,  4.,  0.,  0.,  3.,  0.,\n",
       "        0.,  0.,  4.,  0.,  0., 17.,  0.,  0.,  0.,  1.,  0.,  0.,  0.,\n",
       "        6.,  1.,  2.,  0.,  0.,  4.,  2.,  4.,  6.,  0.,  0.,  0.,  1.,\n",
       "        0.,  5.,  3.,  4.,  4.,  0.,  1.,  1.,  0.,  1.,  0.,  4.,  0.,\n",
       "        0.,  0.,  5.,  5.,  3.,  0.,  0.,  0.,  1.,  6.,  2.,  0.,  0.,\n",
       "        0.,  5.,  0.,  4.,  0.,  0.,  3.,  1.,  0.,  4.,  3.,  2.,  5.,\n",
       "        0.,  0.,  0.,  2.,  0.,  0.,  1.,  1.,  0.,  4.,  0.,  1.,  1.,\n",
       "        0.,  0.,  0.,  6.,  1.,  0.,  0.,  0.,  3.,  2.,  3.,  1.,  0.,\n",
       "        1.,  0.,  6.,  1.,  0.,  1.,  0.,  4.,  0.,  3.,  6.,  0.,  0.,\n",
       "        4.,  5.,  0.,  1.,  1.,  0.,  1.,  0.,  2.,  5.,  5.,  1.,  4.,\n",
       "        3.,  2.,  0.,  0.,  3.,  2.,  3.,  0.,  0.,  6.,  0.,  3.,  0.,\n",
       "        0.,  0.,  3.,  0.,  1.,  0.,  0.,  2.,  4.,  0.,  4.,  3.,  0.,\n",
       "        0.,  0.,  3.,  5.,  0.,  0.,  0.,  3.,  0.,  6.,  2.,  2.,  1.,\n",
       "        5.,  0.,  0.,  9.,  1.,  0.,  1.,  2.,  0.,  0.,  0.,  1.,  0.,\n",
       "        1.,  0.,  1.,  4.,  0.,  0.,  2.,  0.,  3.,  1.,  0.,  1.,  0.,\n",
       "        0.,  1.,  0.,  0.,  0.,  0.,  0.,  0.,  5.,  0.,  0.,  2.,  0.,\n",
       "        8.,  0.,  0.,  1.,  3.,  6.,  0.,  0.,  0.,  1.,  1.,  0.,  2.,\n",
       "        3.,  1.,  4.,  0.,  0.,  5.,  4.,  2.,  1.,  0.,  0.,  0.,  0.,\n",
       "        1.,  0.,  4.,  2.,  0.,  2.,  0.,  3.,  4.])"
      ]
     },
     "execution_count": 429,
     "metadata": {},
     "output_type": "execute_result"
    }
   ],
   "source": [
    "y_true_days"
   ]
  },
  {
   "cell_type": "code",
   "execution_count": 315,
   "metadata": {},
   "outputs": [],
   "source": [
    "# save the model\n",
    "from pickle import dump\n",
    "dump(grid_search, open('Contouring_model.pkl', 'wb'))"
   ]
  },
  {
   "cell_type": "markdown",
   "metadata": {},
   "source": [
    "#### ContourGroup rules"
   ]
  },
  {
   "cell_type": "code",
   "execution_count": 423,
   "metadata": {},
   "outputs": [
    {
     "data": {
      "text/plain": [
       "1.0"
      ]
     },
     "execution_count": 423,
     "metadata": {},
     "output_type": "execute_result"
    }
   ],
   "source": [
    "a = df_cont[df_cont['TimeBtw_Sim_BkTx']<=1]['TimeBtw_Sim_BkTx']\n",
    "np.percentile(a, 90)"
   ]
  },
  {
   "cell_type": "code",
   "execution_count": 424,
   "metadata": {},
   "outputs": [
    {
     "data": {
      "text/plain": [
       "4.0"
      ]
     },
     "execution_count": 424,
     "metadata": {},
     "output_type": "execute_result"
    }
   ],
   "source": [
    "b = df_cont[(df_cont['TimeBtw_Sim_BkTx']<=4)&(df_cont['TimeBtw_Sim_BkTx']>=2)]['TimeBtw_Sim_BkTx']\n",
    "np.percentile(b, 90)"
   ]
  },
  {
   "cell_type": "code",
   "execution_count": 425,
   "metadata": {},
   "outputs": [
    {
     "data": {
      "text/plain": [
       "6.0"
      ]
     },
     "execution_count": 425,
     "metadata": {},
     "output_type": "execute_result"
    }
   ],
   "source": [
    "c = df_cont[df_cont['TimeBtw_Sim_BkTx']>=5]['TimeBtw_Sim_BkTx']\n",
    "np.percentile(c, 75)"
   ]
  },
  {
   "cell_type": "markdown",
   "metadata": {},
   "source": [
    "#### New Data"
   ]
  },
  {
   "cell_type": "code",
   "execution_count": 357,
   "metadata": {},
   "outputs": [],
   "source": [
    "all_columns = df_train.columns # index object\n",
    "model_features = df_train.columns.to_list()\n",
    "model_features.remove('ContourGroup')"
   ]
  },
  {
   "cell_type": "code",
   "execution_count": 361,
   "metadata": {},
   "outputs": [],
   "source": [
    "dfDur = df_ins[['Sitegroup_y','Category','TltDose','TxFracs']]\n",
    "dummy_new = pd.get_dummies(dfDur[[\"Sitegroup_y\",\"Category\"]], prefix=['Site','Categ']) #, drop_first=True)\n",
    "df_new = pd.concat([dfDur, dummy_new], axis=1)\n",
    "## drop the original categorical column\n",
    "df_new = df_new.drop(['Sitegroup_y','Category'], axis=1)\n"
   ]
  },
  {
   "cell_type": "code",
   "execution_count": 363,
   "metadata": {},
   "outputs": [
    {
     "data": {
      "text/html": [
       "<div>\n",
       "<style scoped>\n",
       "    .dataframe tbody tr th:only-of-type {\n",
       "        vertical-align: middle;\n",
       "    }\n",
       "\n",
       "    .dataframe tbody tr th {\n",
       "        vertical-align: top;\n",
       "    }\n",
       "\n",
       "    .dataframe thead th {\n",
       "        text-align: right;\n",
       "    }\n",
       "</style>\n",
       "<table border=\"1\" class=\"dataframe\">\n",
       "  <thead>\n",
       "    <tr style=\"text-align: right;\">\n",
       "      <th></th>\n",
       "      <th>TltDose</th>\n",
       "      <th>TxFracs</th>\n",
       "      <th>Site_BREAST</th>\n",
       "      <th>Site_CNS</th>\n",
       "      <th>Site_ENDOCRINE</th>\n",
       "      <th>Site_ENT (HEAD &amp; NECK)</th>\n",
       "      <th>Site_EYE</th>\n",
       "      <th>Site_GASTROINTESTINAL(GI)</th>\n",
       "      <th>Site_GENITOURINARY(GU)</th>\n",
       "      <th>Site_GYNAE</th>\n",
       "      <th>Site_LEUKEMIA</th>\n",
       "      <th>Site_LUNG</th>\n",
       "      <th>Site_LYMPHOMA</th>\n",
       "      <th>Site_PAEDIATRIC</th>\n",
       "      <th>Site_SARCOMA</th>\n",
       "      <th>Site_SKIN</th>\n",
       "      <th>Site_UNKNOWN</th>\n",
       "      <th>Categ_Emergency 1</th>\n",
       "      <th>Categ_Standard 3</th>\n",
       "      <th>Categ_Urgent 2</th>\n",
       "    </tr>\n",
       "  </thead>\n",
       "  <tbody>\n",
       "    <tr>\n",
       "      <th>0</th>\n",
       "      <td>6000</td>\n",
       "      <td>30</td>\n",
       "      <td>0</td>\n",
       "      <td>1</td>\n",
       "      <td>0</td>\n",
       "      <td>0</td>\n",
       "      <td>0.0</td>\n",
       "      <td>0</td>\n",
       "      <td>0.0</td>\n",
       "      <td>0</td>\n",
       "      <td>0.0</td>\n",
       "      <td>0</td>\n",
       "      <td>0</td>\n",
       "      <td>0</td>\n",
       "      <td>0.0</td>\n",
       "      <td>0.0</td>\n",
       "      <td>0.0</td>\n",
       "      <td>0.0</td>\n",
       "      <td>0</td>\n",
       "      <td>1</td>\n",
       "    </tr>\n",
       "    <tr>\n",
       "      <th>1</th>\n",
       "      <td>7000</td>\n",
       "      <td>35</td>\n",
       "      <td>0</td>\n",
       "      <td>0</td>\n",
       "      <td>0</td>\n",
       "      <td>1</td>\n",
       "      <td>0.0</td>\n",
       "      <td>0</td>\n",
       "      <td>0.0</td>\n",
       "      <td>0</td>\n",
       "      <td>0.0</td>\n",
       "      <td>0</td>\n",
       "      <td>0</td>\n",
       "      <td>0</td>\n",
       "      <td>0.0</td>\n",
       "      <td>0.0</td>\n",
       "      <td>0.0</td>\n",
       "      <td>0.0</td>\n",
       "      <td>1</td>\n",
       "      <td>0</td>\n",
       "    </tr>\n",
       "    <tr>\n",
       "      <th>2</th>\n",
       "      <td>3000</td>\n",
       "      <td>10</td>\n",
       "      <td>0</td>\n",
       "      <td>0</td>\n",
       "      <td>0</td>\n",
       "      <td>0</td>\n",
       "      <td>0.0</td>\n",
       "      <td>0</td>\n",
       "      <td>0.0</td>\n",
       "      <td>1</td>\n",
       "      <td>0.0</td>\n",
       "      <td>0</td>\n",
       "      <td>0</td>\n",
       "      <td>0</td>\n",
       "      <td>0.0</td>\n",
       "      <td>0.0</td>\n",
       "      <td>0.0</td>\n",
       "      <td>0.0</td>\n",
       "      <td>1</td>\n",
       "      <td>0</td>\n",
       "    </tr>\n",
       "    <tr>\n",
       "      <th>3</th>\n",
       "      <td>4240</td>\n",
       "      <td>16</td>\n",
       "      <td>1</td>\n",
       "      <td>0</td>\n",
       "      <td>0</td>\n",
       "      <td>0</td>\n",
       "      <td>0.0</td>\n",
       "      <td>0</td>\n",
       "      <td>0.0</td>\n",
       "      <td>0</td>\n",
       "      <td>0.0</td>\n",
       "      <td>0</td>\n",
       "      <td>0</td>\n",
       "      <td>0</td>\n",
       "      <td>0.0</td>\n",
       "      <td>0.0</td>\n",
       "      <td>0.0</td>\n",
       "      <td>0.0</td>\n",
       "      <td>1</td>\n",
       "      <td>0</td>\n",
       "    </tr>\n",
       "    <tr>\n",
       "      <th>4</th>\n",
       "      <td>4500</td>\n",
       "      <td>25</td>\n",
       "      <td>0</td>\n",
       "      <td>0</td>\n",
       "      <td>0</td>\n",
       "      <td>0</td>\n",
       "      <td>0.0</td>\n",
       "      <td>0</td>\n",
       "      <td>0.0</td>\n",
       "      <td>1</td>\n",
       "      <td>0.0</td>\n",
       "      <td>0</td>\n",
       "      <td>0</td>\n",
       "      <td>0</td>\n",
       "      <td>0.0</td>\n",
       "      <td>0.0</td>\n",
       "      <td>0.0</td>\n",
       "      <td>0.0</td>\n",
       "      <td>1</td>\n",
       "      <td>0</td>\n",
       "    </tr>\n",
       "    <tr>\n",
       "      <th>5</th>\n",
       "      <td>2500</td>\n",
       "      <td>5</td>\n",
       "      <td>0</td>\n",
       "      <td>0</td>\n",
       "      <td>0</td>\n",
       "      <td>0</td>\n",
       "      <td>0.0</td>\n",
       "      <td>1</td>\n",
       "      <td>0.0</td>\n",
       "      <td>0</td>\n",
       "      <td>0.0</td>\n",
       "      <td>0</td>\n",
       "      <td>0</td>\n",
       "      <td>0</td>\n",
       "      <td>0.0</td>\n",
       "      <td>0.0</td>\n",
       "      <td>0.0</td>\n",
       "      <td>0.0</td>\n",
       "      <td>1</td>\n",
       "      <td>0</td>\n",
       "    </tr>\n",
       "    <tr>\n",
       "      <th>6</th>\n",
       "      <td>6000</td>\n",
       "      <td>30</td>\n",
       "      <td>0</td>\n",
       "      <td>0</td>\n",
       "      <td>0</td>\n",
       "      <td>1</td>\n",
       "      <td>0.0</td>\n",
       "      <td>0</td>\n",
       "      <td>0.0</td>\n",
       "      <td>0</td>\n",
       "      <td>0.0</td>\n",
       "      <td>0</td>\n",
       "      <td>0</td>\n",
       "      <td>0</td>\n",
       "      <td>0.0</td>\n",
       "      <td>0.0</td>\n",
       "      <td>0.0</td>\n",
       "      <td>0.0</td>\n",
       "      <td>1</td>\n",
       "      <td>0</td>\n",
       "    </tr>\n",
       "    <tr>\n",
       "      <th>7</th>\n",
       "      <td>7000</td>\n",
       "      <td>35</td>\n",
       "      <td>0</td>\n",
       "      <td>0</td>\n",
       "      <td>0</td>\n",
       "      <td>1</td>\n",
       "      <td>0.0</td>\n",
       "      <td>0</td>\n",
       "      <td>0.0</td>\n",
       "      <td>0</td>\n",
       "      <td>0.0</td>\n",
       "      <td>0</td>\n",
       "      <td>0</td>\n",
       "      <td>0</td>\n",
       "      <td>0.0</td>\n",
       "      <td>0.0</td>\n",
       "      <td>0.0</td>\n",
       "      <td>0.0</td>\n",
       "      <td>1</td>\n",
       "      <td>0</td>\n",
       "    </tr>\n",
       "    <tr>\n",
       "      <th>8</th>\n",
       "      <td>2000</td>\n",
       "      <td>5</td>\n",
       "      <td>0</td>\n",
       "      <td>0</td>\n",
       "      <td>0</td>\n",
       "      <td>1</td>\n",
       "      <td>0.0</td>\n",
       "      <td>0</td>\n",
       "      <td>0.0</td>\n",
       "      <td>0</td>\n",
       "      <td>0.0</td>\n",
       "      <td>0</td>\n",
       "      <td>0</td>\n",
       "      <td>0</td>\n",
       "      <td>0.0</td>\n",
       "      <td>0.0</td>\n",
       "      <td>0.0</td>\n",
       "      <td>0.0</td>\n",
       "      <td>0</td>\n",
       "      <td>1</td>\n",
       "    </tr>\n",
       "    <tr>\n",
       "      <th>9</th>\n",
       "      <td>2000</td>\n",
       "      <td>5</td>\n",
       "      <td>0</td>\n",
       "      <td>0</td>\n",
       "      <td>0</td>\n",
       "      <td>1</td>\n",
       "      <td>0.0</td>\n",
       "      <td>0</td>\n",
       "      <td>0.0</td>\n",
       "      <td>0</td>\n",
       "      <td>0.0</td>\n",
       "      <td>0</td>\n",
       "      <td>0</td>\n",
       "      <td>0</td>\n",
       "      <td>0.0</td>\n",
       "      <td>0.0</td>\n",
       "      <td>0.0</td>\n",
       "      <td>0.0</td>\n",
       "      <td>0</td>\n",
       "      <td>1</td>\n",
       "    </tr>\n",
       "    <tr>\n",
       "      <th>10</th>\n",
       "      <td>800</td>\n",
       "      <td>1</td>\n",
       "      <td>0</td>\n",
       "      <td>0</td>\n",
       "      <td>0</td>\n",
       "      <td>0</td>\n",
       "      <td>0.0</td>\n",
       "      <td>0</td>\n",
       "      <td>0.0</td>\n",
       "      <td>0</td>\n",
       "      <td>0.0</td>\n",
       "      <td>0</td>\n",
       "      <td>0</td>\n",
       "      <td>0</td>\n",
       "      <td>0.0</td>\n",
       "      <td>0.0</td>\n",
       "      <td>0.0</td>\n",
       "      <td>0.0</td>\n",
       "      <td>1</td>\n",
       "      <td>0</td>\n",
       "    </tr>\n",
       "    <tr>\n",
       "      <th>11</th>\n",
       "      <td>2000</td>\n",
       "      <td>5</td>\n",
       "      <td>0</td>\n",
       "      <td>0</td>\n",
       "      <td>1</td>\n",
       "      <td>0</td>\n",
       "      <td>0.0</td>\n",
       "      <td>0</td>\n",
       "      <td>0.0</td>\n",
       "      <td>0</td>\n",
       "      <td>0.0</td>\n",
       "      <td>0</td>\n",
       "      <td>0</td>\n",
       "      <td>0</td>\n",
       "      <td>0.0</td>\n",
       "      <td>0.0</td>\n",
       "      <td>0.0</td>\n",
       "      <td>0.0</td>\n",
       "      <td>1</td>\n",
       "      <td>0</td>\n",
       "    </tr>\n",
       "    <tr>\n",
       "      <th>12</th>\n",
       "      <td>2000</td>\n",
       "      <td>5</td>\n",
       "      <td>0</td>\n",
       "      <td>0</td>\n",
       "      <td>0</td>\n",
       "      <td>0</td>\n",
       "      <td>0.0</td>\n",
       "      <td>0</td>\n",
       "      <td>0.0</td>\n",
       "      <td>0</td>\n",
       "      <td>0.0</td>\n",
       "      <td>1</td>\n",
       "      <td>0</td>\n",
       "      <td>0</td>\n",
       "      <td>0.0</td>\n",
       "      <td>0.0</td>\n",
       "      <td>0.0</td>\n",
       "      <td>0.0</td>\n",
       "      <td>0</td>\n",
       "      <td>1</td>\n",
       "    </tr>\n",
       "    <tr>\n",
       "      <th>13</th>\n",
       "      <td>3500</td>\n",
       "      <td>20</td>\n",
       "      <td>0</td>\n",
       "      <td>0</td>\n",
       "      <td>0</td>\n",
       "      <td>0</td>\n",
       "      <td>0.0</td>\n",
       "      <td>0</td>\n",
       "      <td>0.0</td>\n",
       "      <td>0</td>\n",
       "      <td>0.0</td>\n",
       "      <td>0</td>\n",
       "      <td>1</td>\n",
       "      <td>0</td>\n",
       "      <td>0.0</td>\n",
       "      <td>0.0</td>\n",
       "      <td>0.0</td>\n",
       "      <td>0.0</td>\n",
       "      <td>1</td>\n",
       "      <td>0</td>\n",
       "    </tr>\n",
       "    <tr>\n",
       "      <th>14</th>\n",
       "      <td>5940</td>\n",
       "      <td>33</td>\n",
       "      <td>0</td>\n",
       "      <td>1</td>\n",
       "      <td>0</td>\n",
       "      <td>0</td>\n",
       "      <td>0.0</td>\n",
       "      <td>0</td>\n",
       "      <td>0.0</td>\n",
       "      <td>0</td>\n",
       "      <td>0.0</td>\n",
       "      <td>0</td>\n",
       "      <td>0</td>\n",
       "      <td>0</td>\n",
       "      <td>0.0</td>\n",
       "      <td>0.0</td>\n",
       "      <td>0.0</td>\n",
       "      <td>0.0</td>\n",
       "      <td>1</td>\n",
       "      <td>0</td>\n",
       "    </tr>\n",
       "    <tr>\n",
       "      <th>15</th>\n",
       "      <td>1200</td>\n",
       "      <td>6</td>\n",
       "      <td>0</td>\n",
       "      <td>0</td>\n",
       "      <td>0</td>\n",
       "      <td>0</td>\n",
       "      <td>0.0</td>\n",
       "      <td>0</td>\n",
       "      <td>0.0</td>\n",
       "      <td>0</td>\n",
       "      <td>0.0</td>\n",
       "      <td>0</td>\n",
       "      <td>0</td>\n",
       "      <td>1</td>\n",
       "      <td>0.0</td>\n",
       "      <td>0.0</td>\n",
       "      <td>0.0</td>\n",
       "      <td>0.0</td>\n",
       "      <td>1</td>\n",
       "      <td>0</td>\n",
       "    </tr>\n",
       "    <tr>\n",
       "      <th>16</th>\n",
       "      <td>800</td>\n",
       "      <td>1</td>\n",
       "      <td>0</td>\n",
       "      <td>0</td>\n",
       "      <td>0</td>\n",
       "      <td>0</td>\n",
       "      <td>0.0</td>\n",
       "      <td>1</td>\n",
       "      <td>0.0</td>\n",
       "      <td>0</td>\n",
       "      <td>0.0</td>\n",
       "      <td>0</td>\n",
       "      <td>0</td>\n",
       "      <td>0</td>\n",
       "      <td>0.0</td>\n",
       "      <td>0.0</td>\n",
       "      <td>0.0</td>\n",
       "      <td>0.0</td>\n",
       "      <td>0</td>\n",
       "      <td>1</td>\n",
       "    </tr>\n",
       "  </tbody>\n",
       "</table>\n",
       "</div>"
      ],
      "text/plain": [
       "    TltDose  TxFracs  Site_BREAST  Site_CNS  Site_ENDOCRINE  \\\n",
       "0      6000       30            0         1               0   \n",
       "1      7000       35            0         0               0   \n",
       "2      3000       10            0         0               0   \n",
       "3      4240       16            1         0               0   \n",
       "4      4500       25            0         0               0   \n",
       "5      2500        5            0         0               0   \n",
       "6      6000       30            0         0               0   \n",
       "7      7000       35            0         0               0   \n",
       "8      2000        5            0         0               0   \n",
       "9      2000        5            0         0               0   \n",
       "10      800        1            0         0               0   \n",
       "11     2000        5            0         0               1   \n",
       "12     2000        5            0         0               0   \n",
       "13     3500       20            0         0               0   \n",
       "14     5940       33            0         1               0   \n",
       "15     1200        6            0         0               0   \n",
       "16      800        1            0         0               0   \n",
       "\n",
       "    Site_ENT (HEAD & NECK)  Site_EYE  Site_GASTROINTESTINAL(GI)  \\\n",
       "0                        0       0.0                          0   \n",
       "1                        1       0.0                          0   \n",
       "2                        0       0.0                          0   \n",
       "3                        0       0.0                          0   \n",
       "4                        0       0.0                          0   \n",
       "5                        0       0.0                          1   \n",
       "6                        1       0.0                          0   \n",
       "7                        1       0.0                          0   \n",
       "8                        1       0.0                          0   \n",
       "9                        1       0.0                          0   \n",
       "10                       0       0.0                          0   \n",
       "11                       0       0.0                          0   \n",
       "12                       0       0.0                          0   \n",
       "13                       0       0.0                          0   \n",
       "14                       0       0.0                          0   \n",
       "15                       0       0.0                          0   \n",
       "16                       0       0.0                          1   \n",
       "\n",
       "    Site_GENITOURINARY(GU)  Site_GYNAE  Site_LEUKEMIA  Site_LUNG  \\\n",
       "0                      0.0           0            0.0          0   \n",
       "1                      0.0           0            0.0          0   \n",
       "2                      0.0           1            0.0          0   \n",
       "3                      0.0           0            0.0          0   \n",
       "4                      0.0           1            0.0          0   \n",
       "5                      0.0           0            0.0          0   \n",
       "6                      0.0           0            0.0          0   \n",
       "7                      0.0           0            0.0          0   \n",
       "8                      0.0           0            0.0          0   \n",
       "9                      0.0           0            0.0          0   \n",
       "10                     0.0           0            0.0          0   \n",
       "11                     0.0           0            0.0          0   \n",
       "12                     0.0           0            0.0          1   \n",
       "13                     0.0           0            0.0          0   \n",
       "14                     0.0           0            0.0          0   \n",
       "15                     0.0           0            0.0          0   \n",
       "16                     0.0           0            0.0          0   \n",
       "\n",
       "    Site_LYMPHOMA  Site_PAEDIATRIC  Site_SARCOMA  Site_SKIN  Site_UNKNOWN  \\\n",
       "0               0                0           0.0        0.0           0.0   \n",
       "1               0                0           0.0        0.0           0.0   \n",
       "2               0                0           0.0        0.0           0.0   \n",
       "3               0                0           0.0        0.0           0.0   \n",
       "4               0                0           0.0        0.0           0.0   \n",
       "5               0                0           0.0        0.0           0.0   \n",
       "6               0                0           0.0        0.0           0.0   \n",
       "7               0                0           0.0        0.0           0.0   \n",
       "8               0                0           0.0        0.0           0.0   \n",
       "9               0                0           0.0        0.0           0.0   \n",
       "10              0                0           0.0        0.0           0.0   \n",
       "11              0                0           0.0        0.0           0.0   \n",
       "12              0                0           0.0        0.0           0.0   \n",
       "13              1                0           0.0        0.0           0.0   \n",
       "14              0                0           0.0        0.0           0.0   \n",
       "15              0                1           0.0        0.0           0.0   \n",
       "16              0                0           0.0        0.0           0.0   \n",
       "\n",
       "    Categ_Emergency 1  Categ_Standard 3  Categ_Urgent 2  \n",
       "0                 0.0                 0               1  \n",
       "1                 0.0                 1               0  \n",
       "2                 0.0                 1               0  \n",
       "3                 0.0                 1               0  \n",
       "4                 0.0                 1               0  \n",
       "5                 0.0                 1               0  \n",
       "6                 0.0                 1               0  \n",
       "7                 0.0                 1               0  \n",
       "8                 0.0                 0               1  \n",
       "9                 0.0                 0               1  \n",
       "10                0.0                 1               0  \n",
       "11                0.0                 1               0  \n",
       "12                0.0                 0               1  \n",
       "13                0.0                 1               0  \n",
       "14                0.0                 1               0  \n",
       "15                0.0                 1               0  \n",
       "16                0.0                 0               1  "
      ]
     },
     "execution_count": 363,
     "metadata": {},
     "output_type": "execute_result"
    }
   ],
   "source": [
    "df_new = df_new.reindex(columns = df_new.columns | all_columns)\n",
    "df_new.fillna(0, inplace=True)\n",
    "df_new = df_new[model_features]"
   ]
  },
  {
   "cell_type": "code",
   "execution_count": 364,
   "metadata": {},
   "outputs": [],
   "source": [
    "\n",
    "X_new = df_new.values\n",
    "y_new_pred = grid_search.predict(X_new)\n",
    "y_new_days = []\n",
    "for i in y_new_pred:\n",
    "    if i == 0:\n",
    "        y_new_days.append(1)\n",
    "    if i == 1:\n",
    "        y_new_days.append(4)       \n",
    "    if i == 2:\n",
    "        y_new_days.append(9)\n",
    "df_ins['Contour'] = y_new_days"
   ]
  },
  {
   "cell_type": "markdown",
   "metadata": {},
   "source": [
    "### Planning"
   ]
  },
  {
   "cell_type": "code",
   "execution_count": 108,
   "metadata": {},
   "outputs": [
    {
     "name": "stderr",
     "output_type": "stream",
     "text": [
      "<ipython-input-108-0d0acc5a5d15>:1: SettingWithCopyWarning: \n",
      "A value is trying to be set on a copy of a slice from a DataFrame.\n",
      "Try using .loc[row_indexer,col_indexer] = value instead\n",
      "\n",
      "See the caveats in the documentation: https://pandas.pydata.org/pandas-docs/stable/user_guide/indexing.html#returning-a-view-versus-a-copy\n",
      "  df1920['PlanCompl_TxBook'] = df1920['FinalPlanCompleteDate']-df1920['TxApptCreatedDt']\n",
      "<ipython-input-108-0d0acc5a5d15>:2: SettingWithCopyWarning: \n",
      "A value is trying to be set on a copy of a slice from a DataFrame.\n",
      "Try using .loc[row_indexer,col_indexer] = value instead\n",
      "\n",
      "See the caveats in the documentation: https://pandas.pydata.org/pandas-docs/stable/user_guide/indexing.html#returning-a-view-versus-a-copy\n",
      "  df1920['PlanCompl_TxBook']=df1920['PlanCompl_TxBook'].dt.days\n",
      "<ipython-input-108-0d0acc5a5d15>:3: SettingWithCopyWarning: \n",
      "A value is trying to be set on a copy of a slice from a DataFrame.\n",
      "Try using .loc[row_indexer,col_indexer] = value instead\n",
      "\n",
      "See the caveats in the documentation: https://pandas.pydata.org/pandas-docs/stable/user_guide/indexing.html#returning-a-view-versus-a-copy\n",
      "  df1920['TxStart_PlanCompl'] = df1920['TxStartDt']-df1920['FinalPlanCompleteDate']\n",
      "<ipython-input-108-0d0acc5a5d15>:4: SettingWithCopyWarning: \n",
      "A value is trying to be set on a copy of a slice from a DataFrame.\n",
      "Try using .loc[row_indexer,col_indexer] = value instead\n",
      "\n",
      "See the caveats in the documentation: https://pandas.pydata.org/pandas-docs/stable/user_guide/indexing.html#returning-a-view-versus-a-copy\n",
      "  df1920['TxStart_PlanCompl']=df1920['TxStart_PlanCompl'].dt.days\n"
     ]
    }
   ],
   "source": [
    "df1920['PlanCompl_TxBook'] = df1920['FinalPlanCompleteDate']-df1920['TxApptCreatedDt']\n",
    "df1920['PlanCompl_TxBook']=df1920['PlanCompl_TxBook'].dt.days\n",
    "df1920['TxStart_PlanCompl'] = df1920['TxStartDt']-df1920['FinalPlanCompleteDate']\n",
    "df1920['TxStart_PlanCompl']=df1920['TxStart_PlanCompl'].dt.days\n",
    "#df_meet = df1920[df1920['WaitTime']<=14]\n"
   ]
  },
  {
   "cell_type": "code",
   "execution_count": 368,
   "metadata": {},
   "outputs": [],
   "source": [
    "df_meet['TxStart_PlanCompl'] = df_meet['TxStart_PlanCompl'].fillna(-1)\n",
    "df_meet['Planning'] = df_meet.apply(\n",
    "    lambda row: row['Tx-TxBook'] if row['TxStart_PlanCompl'] < 0 else row['PlanCompl_TxBook'],\n",
    "    axis=1\n",
    ")\n",
    "# if Tx appt is after plan complete, planning time = planComplete - TxBooked\n",
    "# if Tx appt if before final plan complete, planning time = Tx - TxBooked\n",
    "\n",
    "#df1920.dropna(subset=['Planning'], inplace=True)\n"
   ]
  },
  {
   "cell_type": "code",
   "execution_count": 369,
   "metadata": {},
   "outputs": [],
   "source": [
    "# remove outliers by planning time\n",
    "df_meet['z_score_contour']=stats.zscore(df_meet['Planning'])\n",
    "df_meet = df_meet.loc[df_meet['z_score_contour'].abs()<=3]\n"
   ]
  },
  {
   "cell_type": "code",
   "execution_count": 370,
   "metadata": {},
   "outputs": [
    {
     "data": {
      "text/plain": [
       "(1541, 92)"
      ]
     },
     "execution_count": 370,
     "metadata": {},
     "output_type": "execute_result"
    }
   ],
   "source": [
    "df_meet.shape"
   ]
  },
  {
   "cell_type": "code",
   "execution_count": 371,
   "metadata": {},
   "outputs": [],
   "source": [
    "target_y = \"Planning\"\n",
    "features = ['Sitegroup_y','Category_x','TltDose','TxFracs']\n",
    "df_clf2 = df_meet[features + [target_y]]\n",
    "df_clf2 = df_clf2[df_clf2['Sitegroup_y'].notnull()]\n",
    "df_clf2[\"Sitegroup_y\"] = df_clf2[\"Sitegroup_y\"].fillna(df_clf2[\"Sitegroup_y\"].mode())\n",
    "df_clf2[\"Category_x\"] = df_clf2[\"Category_x\"].fillna(df_clf2[\"Category_x\"].mode())\n",
    "df_clf2[\"TltDose\"] = df_clf2[\"TltDose\"].fillna(df_clf2[\"TltDose\"].mode())\n",
    "df_clf2[\"TxFracs\"] = df_clf2[\"TxFracs\"].fillna(df_clf2[\"TxFracs\"].mode())\n",
    "df_clf2[\"Planning\"] = df_clf2[\"Planning\"].fillna(df_clf2[\"Planning\"].mode())\n"
   ]
  },
  {
   "cell_type": "code",
   "execution_count": 372,
   "metadata": {},
   "outputs": [],
   "source": [
    "dummy = pd.get_dummies(df_clf2[[\"Sitegroup_y\",\"Category_x\"]], prefix=['Site','Categ']) #, drop_first=True)\n",
    "df_plan = pd.concat([df_clf2, dummy], axis=1)\n",
    "\n",
    "## drop the original categorical column\n",
    "df_plan = df_plan.drop(['Sitegroup_y','Category_x'], axis=1)"
   ]
  },
  {
   "cell_type": "code",
   "execution_count": 373,
   "metadata": {},
   "outputs": [
    {
     "name": "stdout",
     "output_type": "stream",
     "text": [
      "X_train shape: (1056, 20) | X_test shape: (453, 20)\n",
      "y_train mean: 3.15 | y_test mean: 3.26\n",
      "21 features: ['TltDose', 'TxFracs', 'Site_BREAST', 'Site_CNS', 'Site_ENDOCRINE', 'Site_ENT (HEAD & NECK)', 'Site_EYE', 'Site_GASTROINTESTINAL(GI)', 'Site_GENITOURINARY(GU)', 'Site_GYNAE', 'Site_LEUKEMIA', 'Site_LUNG', 'Site_LYMPHOMA', 'Site_PAEDIATRIC', 'Site_SARCOMA', 'Site_SKIN', 'Site_UNKNOWN', 'Categ_Emergency 1', 'Categ_Standard 3', 'Categ_Urgent 2']\n"
     ]
    }
   ],
   "source": [
    "# train-test split\n",
    "df_train, df_test = model_selection.train_test_split(df_plan, test_size=0.3)\n",
    "## print info\n",
    "print(\"X_train shape:\", df_train.drop(target_y,axis=1).shape, \"| X_test shape:\", df_test.drop(target_y,axis=1).shape)\n",
    "print(\"y_train mean:\", round(np.mean(df_train[target_y]),2), \"| y_test mean:\", round(np.mean(df_test[target_y]),2))\n",
    "print(df_train.shape[1], \"features:\", df_train.drop(target_y,axis=1).columns.to_list())\n",
    "df_test_copy = df_test"
   ]
  },
  {
   "cell_type": "code",
   "execution_count": 374,
   "metadata": {},
   "outputs": [
    {
     "data": {
      "image/png": "[encoded data removed]",
      "text/plain": [
       "<Figure size 648x360 with 1 Axes>"
      ]
     },
     "metadata": {
      "needs_background": "light"
     },
     "output_type": "display_data"
    }
   ],
   "source": [
    "plt.figure(figsize=[9,5])\n",
    "bins = range(0,30)\n",
    "\n",
    "y = df_plan[target_y]\n",
    "plt.hist(y, bins = bins, alpha=0.5, edgecolor='black', align='left')\n",
    "\n",
    "plt.xlabel('planning time')\n",
    "plt.ylabel('frequency')\n",
    "plt.title('Planning distribution')\n",
    "plt.xticks(fontsize=10)\n",
    "plt.yticks(fontsize=10)\n",
    "\n",
    "plt.show()"
   ]
  },
  {
   "cell_type": "code",
   "execution_count": 375,
   "metadata": {},
   "outputs": [
    {
     "data": {
      "text/plain": [
       "array([1., 2., 5.])"
      ]
     },
     "execution_count": 375,
     "metadata": {},
     "output_type": "execute_result"
    }
   ],
   "source": [
    "# quantiles\n",
    "np.quantile(df_plan[target_y], [0.25,0.5,0.75])"
   ]
  },
  {
   "cell_type": "code",
   "execution_count": 376,
   "metadata": {},
   "outputs": [],
   "source": [
    "# 0-1, class 0; 2-5, class 1, >5, class 2\n",
    "df_train.loc[df_train[target_y] <=1, 'PlanGroup'] = 0\n",
    "df_train.loc[(df_train[target_y] <=4)&(df_train[target_y]>=2), 'PlanGroup'] = 1\n",
    "df_train.loc[df_train[target_y] >=5, 'PlanGroup'] = 2\n",
    "df_train = df_train.drop(columns=[target_y])\n",
    "\n",
    "df_test.loc[df_test[target_y] <=1, 'PlanGroup'] = 0\n",
    "df_test.loc[(df_test[target_y] <=4)&(df_test[target_y]>=2), 'PlanGroup'] = 1\n",
    "df_test.loc[df_test[target_y] >=5, 'PlanGroup'] = 2\n",
    "df_test = df_test.drop(columns=[target_y])\n"
   ]
  },
  {
   "cell_type": "code",
   "execution_count": 377,
   "metadata": {},
   "outputs": [],
   "source": [
    "X_train = df_train.drop('PlanGroup', axis=1).values\n",
    "y_train = df_train['PlanGroup'].values\n",
    "\n",
    "X_test = df_test.drop('PlanGroup', axis=1).values\n",
    "y_test = df_test['PlanGroup'].values\n",
    "feature_names = df_train.drop('PlanGroup', axis=1).columns.tolist()"
   ]
  },
  {
   "cell_type": "code",
   "execution_count": 378,
   "metadata": {},
   "outputs": [
    {
     "name": "stdout",
     "output_type": "stream",
     "text": [
      "Accuracy: 0.46578366445916114\n"
     ]
    }
   ],
   "source": [
    "### simple Random Forest\n",
    "#Import Random Forest Model\n",
    "from sklearn.ensemble import RandomForestClassifier\n",
    "\n",
    "#Create a Gaussian Classifier\n",
    "clf_rf2 = RandomForestClassifier(n_estimators=100)\n",
    "\n",
    "#Train the model using the training sets y_pred=clf.predict(X_test)\n",
    "clf_rf2.fit(X_train,y_train)\n",
    "\n",
    "y_pred = clf_rf2.predict(X_test)\n",
    "\n",
    "#Import scikit-learn metrics module for accuracy calculation\n",
    "from sklearn import metrics\n",
    "# Model Accuracy, how often is the classifier correct?\n",
    "print(\"Accuracy:\", metrics.accuracy_score(y_test, y_pred))"
   ]
  },
  {
   "cell_type": "code",
   "execution_count": 379,
   "metadata": {},
   "outputs": [],
   "source": [
    "# Create the parameter grid based on the results of random search \n",
    "param_grid = {\n",
    "    'bootstrap': [True],\n",
    "    'max_depth': [10, 20, 40, 60],\n",
    "    'max_features': [4, 5, 6, 7, 8],\n",
    "    'min_samples_leaf': [4, 5, 6, 7, 8],\n",
    "    'min_samples_split': [5, 10, 12, 15],\n",
    "    'n_estimators': [100, 200, 300]\n",
    "}\n",
    "# Create a based model\n",
    "rf = RandomForestClassifier()\n",
    "# Instantiate the grid search model\n",
    "grid_search = GridSearchCV(estimator = rf, param_grid = param_grid, \n",
    "                          cv = 3, n_jobs = -1, verbose = 2)"
   ]
  },
  {
   "cell_type": "code",
   "execution_count": 380,
   "metadata": {},
   "outputs": [
    {
     "name": "stdout",
     "output_type": "stream",
     "text": [
      "Fitting 3 folds for each of 1200 candidates, totalling 3600 fits\n"
     ]
    },
    {
     "data": {
      "text/plain": [
       "GridSearchCV(cv=3, estimator=RandomForestClassifier(), n_jobs=-1,\n",
       "             param_grid={'bootstrap': [True], 'max_depth': [10, 20, 40, 60],\n",
       "                         'max_features': [4, 5, 6, 7, 8],\n",
       "                         'min_samples_leaf': [4, 5, 6, 7, 8],\n",
       "                         'min_samples_split': [5, 10, 12, 15],\n",
       "                         'n_estimators': [100, 200, 300]},\n",
       "             verbose=2)"
      ]
     },
     "execution_count": 380,
     "metadata": {},
     "output_type": "execute_result"
    }
   ],
   "source": [
    "# Fit the grid search to the data\n",
    "grid_search.fit(X_train, y_train)\n",
    "\n",
    "\n",
    "#best_grid = grid_search.best_estimator_"
   ]
  },
  {
   "cell_type": "code",
   "execution_count": 381,
   "metadata": {},
   "outputs": [
    {
     "data": {
      "text/plain": [
       "{'bootstrap': True,\n",
       " 'max_depth': 10,\n",
       " 'max_features': 4,\n",
       " 'min_samples_leaf': 8,\n",
       " 'min_samples_split': 5,\n",
       " 'n_estimators': 200}"
      ]
     },
     "execution_count": 381,
     "metadata": {},
     "output_type": "execute_result"
    }
   ],
   "source": [
    "grid_search.best_params_"
   ]
  },
  {
   "cell_type": "code",
   "execution_count": 382,
   "metadata": {},
   "outputs": [],
   "source": [
    "best_grid = grid_search.best_estimator_"
   ]
  },
  {
   "cell_type": "code",
   "execution_count": 383,
   "metadata": {},
   "outputs": [
    {
     "data": {
      "text/plain": [
       "0.4768211920529801"
      ]
     },
     "execution_count": 383,
     "metadata": {},
     "output_type": "execute_result"
    }
   ],
   "source": [
    "grid_search.score(X_test, y_test)"
   ]
  },
  {
   "cell_type": "code",
   "execution_count": 384,
   "metadata": {},
   "outputs": [
    {
     "name": "stdout",
     "output_type": "stream",
     "text": [
      "[[125  21  46]\n",
      " [ 56  24  54]\n",
      " [ 33  27  67]]\n",
      "              precision    recall  f1-score   support\n",
      "\n",
      "         0.0       0.58      0.65      0.62       192\n",
      "         1.0       0.33      0.18      0.23       134\n",
      "         2.0       0.40      0.53      0.46       127\n",
      "\n",
      "    accuracy                           0.48       453\n",
      "   macro avg       0.44      0.45      0.43       453\n",
      "weighted avg       0.46      0.48      0.46       453\n",
      "\n"
     ]
    }
   ],
   "source": [
    "y_rf_pred=grid_search.predict(X_test)\n",
    "cm_rf = confusion_matrix(y_test, y_rf_pred)\n",
    "print(cm_rf)\n",
    "print(classification_report(y_test, y_rf_pred))"
   ]
  },
  {
   "cell_type": "markdown",
   "metadata": {},
   "source": [
    "#### Planning rules"
   ]
  },
  {
   "cell_type": "code",
   "execution_count": 385,
   "metadata": {},
   "outputs": [
    {
     "name": "stdout",
     "output_type": "stream",
     "text": [
      "1.0\n",
      "4.0\n",
      "9.0\n"
     ]
    }
   ],
   "source": [
    "a = df_plan[df_plan['Planning']<=1]['Planning']\n",
    "print(np.percentile(a, 90))\n",
    "b = df_plan[(df_plan['Planning']<=4)&(df_plan['Planning']>=2)]['Planning']\n",
    "print(np.percentile(b, 90))\n",
    "c = df_plan[df_plan['Planning']>=6]['Planning']\n",
    "print(np.percentile(c, 75))"
   ]
  },
  {
   "cell_type": "markdown",
   "metadata": {},
   "source": [
    "#### rmse # days"
   ]
  },
  {
   "cell_type": "code",
   "execution_count": 386,
   "metadata": {},
   "outputs": [
    {
     "name": "stdout",
     "output_type": "stream",
     "text": [
      "5.024223881065017\n"
     ]
    }
   ],
   "source": [
    "y_pred_days = []\n",
    "for i in y_rf_pred:\n",
    "    if i == 0:\n",
    "        y_pred_days.append(1)\n",
    "    if i == 1:\n",
    "        y_pred_days.append(4)       \n",
    "    if i == 2:\n",
    "        y_pred_days.append(8)\n",
    "        \n",
    "y_true_days = df_test_copy[target_y].values\n",
    "from sklearn.metrics import mean_squared_error\n",
    "rmse = mean_squared_error(y_pred_days, y_true_days,squared=False)\n",
    "print(rmse)\n"
   ]
  },
  {
   "cell_type": "code",
   "execution_count": null,
   "metadata": {},
   "outputs": [],
   "source": [
    "#df_new = df_new.reindex(columns=df_new.columns | df_train.columns)\n",
    "#df_new.fillna(0, inplace=True)\n",
    "#df_new = df_new[bi_features]"
   ]
  },
  {
   "cell_type": "code",
   "execution_count": 129,
   "metadata": {},
   "outputs": [],
   "source": [
    "X_new = df_new.values\n",
    "y_new_pred = grid_search.predict(X_new)\n",
    "y_new_days = []\n",
    "for i in y_new_pred:\n",
    "    if i == 0:\n",
    "        y_new_days.append(1)\n",
    "    if i == 1:\n",
    "        y_new_days.append(4)       \n",
    "    if i == 2:\n",
    "        y_new_days.append(9)\n",
    "df_ins['Plan'] = y_new_days"
   ]
  },
  {
   "cell_type": "code",
   "execution_count": 132,
   "metadata": {},
   "outputs": [
    {
     "data": {
      "text/html": [
       "<div>\n",
       "<style scoped>\n",
       "    .dataframe tbody tr th:only-of-type {\n",
       "        vertical-align: middle;\n",
       "    }\n",
       "\n",
       "    .dataframe tbody tr th {\n",
       "        vertical-align: top;\n",
       "    }\n",
       "\n",
       "    .dataframe thead th {\n",
       "        text-align: right;\n",
       "    }\n",
       "</style>\n",
       "<table border=\"1\" class=\"dataframe\">\n",
       "  <thead>\n",
       "    <tr style=\"text-align: right;\">\n",
       "      <th></th>\n",
       "      <th>MRN</th>\n",
       "      <th>CreatedDay</th>\n",
       "      <th>SiteGroup</th>\n",
       "      <th>Sitegroup_y</th>\n",
       "      <th>Intent</th>\n",
       "      <th>Category</th>\n",
       "      <th>priority weight</th>\n",
       "      <th>CTApptDuration</th>\n",
       "      <th>CT</th>\n",
       "      <th>TltDose</th>\n",
       "      <th>TxFracs</th>\n",
       "      <th>TrtDurations</th>\n",
       "      <th>pretrtDays</th>\n",
       "      <th>LINACs</th>\n",
       "      <th>Contour</th>\n",
       "      <th>Plan</th>\n",
       "      <th>PretrtDays</th>\n",
       "    </tr>\n",
       "  </thead>\n",
       "  <tbody>\n",
       "    <tr>\n",
       "      <th>0</th>\n",
       "      <td>501606</td>\n",
       "      <td>0</td>\n",
       "      <td>CNS</td>\n",
       "      <td>CNS</td>\n",
       "      <td>Curative</td>\n",
       "      <td>Urgent 2</td>\n",
       "      <td>1.0</td>\n",
       "      <td>30</td>\n",
       "      <td>2, 3</td>\n",
       "      <td>6000</td>\n",
       "      <td>30</td>\n",
       "      <td>30</td>\n",
       "      <td>2.0</td>\n",
       "      <td>12, 16, 17</td>\n",
       "      <td>1</td>\n",
       "      <td>9</td>\n",
       "      <td>10</td>\n",
       "    </tr>\n",
       "    <tr>\n",
       "      <th>1</th>\n",
       "      <td>553742</td>\n",
       "      <td>0</td>\n",
       "      <td>Head &amp; Neck</td>\n",
       "      <td>ENT (HEAD &amp; NECK)</td>\n",
       "      <td>Curative</td>\n",
       "      <td>Standard 3</td>\n",
       "      <td>0.5</td>\n",
       "      <td>45</td>\n",
       "      <td>2, 3, 4</td>\n",
       "      <td>7000</td>\n",
       "      <td>35</td>\n",
       "      <td>15</td>\n",
       "      <td>3.0</td>\n",
       "      <td>4,1,3</td>\n",
       "      <td>4</td>\n",
       "      <td>9</td>\n",
       "      <td>13</td>\n",
       "    </tr>\n",
       "    <tr>\n",
       "      <th>2</th>\n",
       "      <td>876982</td>\n",
       "      <td>0</td>\n",
       "      <td>Gynae</td>\n",
       "      <td>GYNAE</td>\n",
       "      <td>Palliative</td>\n",
       "      <td>Standard 3</td>\n",
       "      <td>0.5</td>\n",
       "      <td>30</td>\n",
       "      <td>4</td>\n",
       "      <td>3000</td>\n",
       "      <td>10</td>\n",
       "      <td>15</td>\n",
       "      <td>1.0</td>\n",
       "      <td>9, 10, 15</td>\n",
       "      <td>1</td>\n",
       "      <td>4</td>\n",
       "      <td>5</td>\n",
       "    </tr>\n",
       "    <tr>\n",
       "      <th>3</th>\n",
       "      <td>2112215</td>\n",
       "      <td>0</td>\n",
       "      <td>Breast</td>\n",
       "      <td>BREAST</td>\n",
       "      <td>Adjuvant</td>\n",
       "      <td>Standard 3</td>\n",
       "      <td>0.5</td>\n",
       "      <td>30</td>\n",
       "      <td>2, 3</td>\n",
       "      <td>4240</td>\n",
       "      <td>16</td>\n",
       "      <td>15</td>\n",
       "      <td>NaN</td>\n",
       "      <td>5,7,8,11,6</td>\n",
       "      <td>4</td>\n",
       "      <td>9</td>\n",
       "      <td>13</td>\n",
       "    </tr>\n",
       "    <tr>\n",
       "      <th>4</th>\n",
       "      <td>2417776</td>\n",
       "      <td>0</td>\n",
       "      <td>Gynae</td>\n",
       "      <td>GYNAE</td>\n",
       "      <td>Adjuvant</td>\n",
       "      <td>Standard 3</td>\n",
       "      <td>0.5</td>\n",
       "      <td>15</td>\n",
       "      <td>2,4</td>\n",
       "      <td>4500</td>\n",
       "      <td>25</td>\n",
       "      <td>20</td>\n",
       "      <td>NaN</td>\n",
       "      <td>9,10,15</td>\n",
       "      <td>4</td>\n",
       "      <td>4</td>\n",
       "      <td>8</td>\n",
       "    </tr>\n",
       "  </tbody>\n",
       "</table>\n",
       "</div>"
      ],
      "text/plain": [
       "       MRN  CreatedDay    SiteGroup        Sitegroup_y      Intent  \\\n",
       "0   501606           0          CNS                CNS    Curative   \n",
       "1   553742           0  Head & Neck  ENT (HEAD & NECK)    Curative   \n",
       "2   876982           0        Gynae              GYNAE  Palliative   \n",
       "3  2112215           0       Breast             BREAST    Adjuvant   \n",
       "4  2417776           0        Gynae              GYNAE    Adjuvant   \n",
       "\n",
       "     Category  priority weight  CTApptDuration       CT  TltDose  TxFracs  \\\n",
       "0    Urgent 2              1.0              30     2, 3     6000       30   \n",
       "1  Standard 3              0.5              45  2, 3, 4     7000       35   \n",
       "2  Standard 3              0.5              30        4     3000       10   \n",
       "3  Standard 3              0.5              30     2, 3     4240       16   \n",
       "4  Standard 3              0.5              15      2,4     4500       25   \n",
       "\n",
       "   TrtDurations  pretrtDays      LINACs  Contour  Plan  PretrtDays  \n",
       "0            30         2.0  12, 16, 17        1     9          10  \n",
       "1            15         3.0       4,1,3        4     9          13  \n",
       "2            15         1.0   9, 10, 15        1     4           5  \n",
       "3            15         NaN  5,7,8,11,6        4     9          13  \n",
       "4            20         NaN     9,10,15        4     4           8  "
      ]
     },
     "execution_count": 132,
     "metadata": {},
     "output_type": "execute_result"
    }
   ],
   "source": [
    "df_ins['PretrtDays']=df_ins['Plan']+df_ins['Contour']\n",
    "df_ins.head()"
   ]
  },
  {
   "cell_type": "code",
   "execution_count": 133,
   "metadata": {},
   "outputs": [],
   "source": [
    "df_ins.to_excel(\"ins_20200109.xlsx\")\n"
   ]
  },
  {
   "cell_type": "code",
   "execution_count": 136,
   "metadata": {},
   "outputs": [
    {
     "data": {
      "text/html": [
       "<div>\n",
       "<style scoped>\n",
       "    .dataframe tbody tr th:only-of-type {\n",
       "        vertical-align: middle;\n",
       "    }\n",
       "\n",
       "    .dataframe tbody tr th {\n",
       "        vertical-align: top;\n",
       "    }\n",
       "\n",
       "    .dataframe thead th {\n",
       "        text-align: right;\n",
       "    }\n",
       "</style>\n",
       "<table border=\"1\" class=\"dataframe\">\n",
       "  <thead>\n",
       "    <tr style=\"text-align: right;\">\n",
       "      <th></th>\n",
       "      <th>SimLocation</th>\n",
       "      <th>TxUnit</th>\n",
       "    </tr>\n",
       "  </thead>\n",
       "  <tbody>\n",
       "    <tr>\n",
       "      <th>337</th>\n",
       "      <td>CTSim3</td>\n",
       "      <td>SV03</td>\n",
       "    </tr>\n",
       "    <tr>\n",
       "      <th>1000</th>\n",
       "      <td>CTSim3</td>\n",
       "      <td>SA04</td>\n",
       "    </tr>\n",
       "    <tr>\n",
       "      <th>1041</th>\n",
       "      <td>CTSim2</td>\n",
       "      <td>EV06</td>\n",
       "    </tr>\n",
       "    <tr>\n",
       "      <th>1257</th>\n",
       "      <td>CTSim2</td>\n",
       "      <td>NA09</td>\n",
       "    </tr>\n",
       "    <tr>\n",
       "      <th>1342</th>\n",
       "      <td>CTSim3</td>\n",
       "      <td>SV03</td>\n",
       "    </tr>\n",
       "    <tr>\n",
       "      <th>...</th>\n",
       "      <td>...</td>\n",
       "      <td>...</td>\n",
       "    </tr>\n",
       "    <tr>\n",
       "      <th>56674</th>\n",
       "      <td>CTSim4</td>\n",
       "      <td>EA08</td>\n",
       "    </tr>\n",
       "    <tr>\n",
       "      <th>57275</th>\n",
       "      <td>CTSim3</td>\n",
       "      <td>SA04</td>\n",
       "    </tr>\n",
       "    <tr>\n",
       "      <th>57558</th>\n",
       "      <td>CTSim4</td>\n",
       "      <td>NA12</td>\n",
       "    </tr>\n",
       "    <tr>\n",
       "      <th>57592</th>\n",
       "      <td>CTSim2</td>\n",
       "      <td>SV01</td>\n",
       "    </tr>\n",
       "    <tr>\n",
       "      <th>57614</th>\n",
       "      <td>CTSim2</td>\n",
       "      <td>NA12</td>\n",
       "    </tr>\n",
       "  </tbody>\n",
       "</table>\n",
       "<p>265 rows × 2 columns</p>\n",
       "</div>"
      ],
      "text/plain": [
       "      SimLocation TxUnit\n",
       "337        CTSim3   SV03\n",
       "1000       CTSim3   SA04\n",
       "1041       CTSim2   EV06\n",
       "1257       CTSim2   NA09\n",
       "1342       CTSim3   SV03\n",
       "...           ...    ...\n",
       "56674      CTSim4   EA08\n",
       "57275      CTSim3   SA04\n",
       "57558      CTSim4   NA12\n",
       "57592      CTSim2   SV01\n",
       "57614      CTSim2   NA12\n",
       "\n",
       "[265 rows x 2 columns]"
      ]
     },
     "execution_count": 136,
     "metadata": {},
     "output_type": "execute_result"
    }
   ],
   "source": [
    "df1920[df1920['Team']==1][['SimLocation','TxUnit']]"
   ]
  },
  {
   "cell_type": "code",
   "execution_count": null,
   "metadata": {},
   "outputs": [],
   "source": []
  }
 ],
 "metadata": {
  "kernelspec": {
   "display_name": "Python 3",
   "language": "python",
   "name": "python3"
  },
  "language_info": {
   "codemirror_mode": {
    "name": "ipython",
    "version": 3
   },
   "file_extension": ".py",
   "mimetype": "text/x-python",
   "name": "python",
   "nbconvert_exporter": "python",
   "pygments_lexer": "ipython3",
   "version": "3.8.3"
  }
 },
 "nbformat": 4,
 "nbformat_minor": 4
}
