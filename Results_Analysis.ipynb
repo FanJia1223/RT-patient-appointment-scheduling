{
 "cells": [
  {
   "cell_type": "code",
   "execution_count": 2,
   "metadata": {},
   "outputs": [],
   "source": [
    "import pandas as pd\n",
    "import matplotlib.pyplot as plt"
   ]
  },
  {
   "cell_type": "code",
   "execution_count": 2,
   "metadata": {},
   "outputs": [],
   "source": [
    "#df_base = pd.read_excel('record_base_ML.xlsx')\n",
    "df_real = pd.read_excel('ins_2018_2020_part2_QuantileRules.xlsx')"
   ]
  },
  {
   "cell_type": "code",
   "execution_count": 3,
   "metadata": {},
   "outputs": [],
   "source": [
    "#df_base[['MRN','Category','CreatedDate','WaitTime','CTUnit',\n",
    "     #    'LinacUnit','TxDuration','TxFracs']].to_excel('record_base.xlsx')"
   ]
  },
  {
   "cell_type": "code",
   "execution_count": 4,
   "metadata": {},
   "outputs": [
    {
     "data": {
      "text/plain": [
       "\"df_temp = df_real[(df_real['CreatedDate']>='2020-01-01')&(df_real['CreatedDate']<'2020-03-01')][['MRN','CreatedDate','TxFracs']]\\ndf_base = df_base[(df_base['CreatedDate']>='2020-01-01')&(df_base['CreatedDate']<'2020-03-01')]\\ndf_base = df_base.merge(df_temp, on=['MRN','CreatedDate'])\""
      ]
     },
     "execution_count": 4,
     "metadata": {},
     "output_type": "execute_result"
    }
   ],
   "source": [
    "'''df_temp = df_real[(df_real['CreatedDate']>='2020-01-01')&(df_real['CreatedDate']<'2020-03-01')][['MRN','CreatedDate','TxFracs']]\n",
    "df_base = df_base[(df_base['CreatedDate']>='2020-01-01')&(df_base['CreatedDate']<'2020-03-01')]\n",
    "df_base = df_base.merge(df_temp, on=['MRN','CreatedDate'])'''"
   ]
  },
  {
   "cell_type": "markdown",
   "metadata": {},
   "source": [
    "## Real case"
   ]
  },
  {
   "cell_type": "code",
   "execution_count": 61,
   "metadata": {},
   "outputs": [],
   "source": [
    "df_real = df_real[(df_real['Category_x']!='Emergency 1')&(df_real['Category_x']!='Planned Delay 3')]\n",
    "df_real_1 = df_real[(df_real['CreatedDate']>=pd.to_datetime('2019-12-01'))&\n",
    "                  (df_real['CreatedDate']<pd.to_datetime('2020-03-01'))]\n",
    "df_real_1 = df_real_1.sort_values(by=['CreatedDate'])"
   ]
  },
  {
   "cell_type": "code",
   "execution_count": 62,
   "metadata": {},
   "outputs": [
    {
     "data": {
      "text/plain": [
       "(1042, 32)"
      ]
     },
     "execution_count": 62,
     "metadata": {},
     "output_type": "execute_result"
    }
   ],
   "source": [
    "df_real_1.shape"
   ]
  },
  {
   "cell_type": "code",
   "execution_count": 63,
   "metadata": {},
   "outputs": [
    {
     "data": {
      "image/png": "[encoded data removed]",
      "text/plain": [
       "<Figure size 648x360 with 1 Axes>"
      ]
     },
     "metadata": {
      "needs_background": "light"
     },
     "output_type": "display_data"
    }
   ],
   "source": [
    "plt.figure(figsize=[9,5])\n",
    "bins = range(0,24)\n",
    "\n",
    "y = df_real_1['WaitTime(weekday)']\n",
    "plt.hist(y, bins = bins, alpha=0.5, edgecolor='black', align='left')\n",
    "\n",
    "plt.xlabel('wait time')\n",
    "plt.ylabel('frequency')\n",
    "plt.title('wait time distribution of real case')\n",
    "plt.xticks(fontsize=10)\n",
    "plt.yticks(fontsize=10)\n",
    "\n",
    "plt.show()"
   ]
  },
  {
   "cell_type": "code",
   "execution_count": 322,
   "metadata": {},
   "outputs": [
    {
     "data": {
      "text/plain": [
       "9.031669865642995"
      ]
     },
     "execution_count": 322,
     "metadata": {},
     "output_type": "execute_result"
    }
   ],
   "source": [
    "df_real_1['WaitTime(weekday)'].mean()\n"
   ]
  },
  {
   "cell_type": "code",
   "execution_count": 323,
   "metadata": {},
   "outputs": [
    {
     "data": {
      "text/plain": [
       "8.142460837270738"
      ]
     },
     "execution_count": 323,
     "metadata": {},
     "output_type": "execute_result"
    }
   ],
   "source": [
    "df_real_1['WaitTime(weekday)'].std()"
   ]
  },
  {
   "cell_type": "code",
   "execution_count": 324,
   "metadata": {},
   "outputs": [
    {
     "data": {
      "text/plain": [
       "0.10     1.0\n",
       "0.50     8.0\n",
       "0.75    12.0\n",
       "Name: WaitTime(weekday), dtype: float64"
      ]
     },
     "execution_count": 324,
     "metadata": {},
     "output_type": "execute_result"
    }
   ],
   "source": [
    "df_real_1['WaitTime(weekday)'].quantile([.1, .5, .75])"
   ]
  },
  {
   "cell_type": "code",
   "execution_count": 336,
   "metadata": {},
   "outputs": [
    {
     "data": {
      "text/plain": [
       "(372, 32)"
      ]
     },
     "execution_count": 336,
     "metadata": {},
     "output_type": "execute_result"
    }
   ],
   "source": [
    "df_real_1[df_real_1['WaitTime']>14].shape"
   ]
  },
  {
   "cell_type": "code",
   "execution_count": 326,
   "metadata": {},
   "outputs": [
    {
     "data": {
      "text/plain": [
       "3.5634328358208953"
      ]
     },
     "execution_count": 326,
     "metadata": {},
     "output_type": "execute_result"
    }
   ],
   "source": [
    "df_real_1[df_real_1['Category_x']=='Urgent 2']['WaitTime'].mean()"
   ]
  },
  {
   "cell_type": "code",
   "execution_count": 327,
   "metadata": {},
   "outputs": [
    {
     "name": "stderr",
     "output_type": "stream",
     "text": [
      "<ipython-input-327-ae57d5718e78>:1: UserWarning: Boolean Series key will be reindexed to match DataFrame index.\n",
      "  df_real_1[(df_real_1['Category_x']=='Urgent 2')&(df_real['Intent1']=='Palliative')]['WaitTime'].mean()\n"
     ]
    },
    {
     "data": {
      "text/plain": [
       "2.5305164319248825"
      ]
     },
     "execution_count": 327,
     "metadata": {},
     "output_type": "execute_result"
    }
   ],
   "source": [
    "df_real_1[(df_real_1['Category_x']=='Urgent 2')&(df_real['Intent1']=='Palliative')]['WaitTime'].mean()"
   ]
  },
  {
   "cell_type": "code",
   "execution_count": 328,
   "metadata": {},
   "outputs": [
    {
     "data": {
      "text/plain": [
       "3.9083094555873927"
      ]
     },
     "execution_count": 328,
     "metadata": {},
     "output_type": "execute_result"
    }
   ],
   "source": [
    "df_real_1[df_real_1['Intent1']=='Palliative']['WaitTime'].mean()"
   ]
  },
  {
   "cell_type": "code",
   "execution_count": 11,
   "metadata": {},
   "outputs": [
    {
     "data": {
      "text/plain": [
       "\"df_real_linac = df_real.groupby(['CreatedDate','TxUnit'])['TxApptDuration'].agg('sum').reset_index()\\ndf_real_linac['year'] = df_real_linac['CreatedDate'].dt.year\\ndf_real_linac['month'] = df_real_linac['CreatedDate'].dt.month\\ndf_real_linac['date']=df_real_linac['year'].astype(str) + df_real_linac['month'].astype(str).str.zfill(2)\\ndf_real_linac['Date'] = pd.to_datetime(df_real_linac['date'], format='%Y%m')\\n\\nutil_real = df_real_linac.groupby(['Date','TxUnit'])['TxApptDuration'].agg('sum').reset_index()\""
      ]
     },
     "execution_count": 11,
     "metadata": {},
     "output_type": "execute_result"
    }
   ],
   "source": [
    "#linac utilisations?\n",
    "'''df_real_linac = df_real.groupby(['CreatedDate','TxUnit'])['TxApptDuration'].agg('sum').reset_index()\n",
    "df_real_linac['year'] = df_real_linac['CreatedDate'].dt.year\n",
    "df_real_linac['month'] = df_real_linac['CreatedDate'].dt.month\n",
    "df_real_linac['date']=df_real_linac['year'].astype(str) + df_real_linac['month'].astype(str).str.zfill(2)\n",
    "df_real_linac['Date'] = pd.to_datetime(df_real_linac['date'], format='%Y%m')\n",
    "\n",
    "util_real = df_real_linac.groupby(['Date','TxUnit'])['TxApptDuration'].agg('sum').reset_index()'''"
   ]
  },
  {
   "cell_type": "code",
   "execution_count": 201,
   "metadata": {},
   "outputs": [
    {
     "data": {
      "text/html": [
       "<div>\n",
       "<style scoped>\n",
       "    .dataframe tbody tr th:only-of-type {\n",
       "        vertical-align: middle;\n",
       "    }\n",
       "\n",
       "    .dataframe tbody tr th {\n",
       "        vertical-align: top;\n",
       "    }\n",
       "\n",
       "    .dataframe thead th {\n",
       "        text-align: right;\n",
       "    }\n",
       "</style>\n",
       "<table border=\"1\" class=\"dataframe\">\n",
       "  <thead>\n",
       "    <tr style=\"text-align: right;\">\n",
       "      <th></th>\n",
       "      <th>Date</th>\n",
       "      <th>TxUnit</th>\n",
       "      <th>monthlyTotalHours</th>\n",
       "      <th>AvgUtil</th>\n",
       "      <th>real_util</th>\n",
       "    </tr>\n",
       "  </thead>\n",
       "  <tbody>\n",
       "    <tr>\n",
       "      <th>0</th>\n",
       "      <td>2020-01-01</td>\n",
       "      <td>EA05</td>\n",
       "      <td>208.416667</td>\n",
       "      <td>1.096930</td>\n",
       "      <td>1.002003</td>\n",
       "    </tr>\n",
       "    <tr>\n",
       "      <th>2</th>\n",
       "      <td>2020-01-01</td>\n",
       "      <td>EA07</td>\n",
       "      <td>129.833333</td>\n",
       "      <td>0.683333</td>\n",
       "      <td>0.624199</td>\n",
       "    </tr>\n",
       "    <tr>\n",
       "      <th>4</th>\n",
       "      <td>2020-01-01</td>\n",
       "      <td>EA08</td>\n",
       "      <td>128.166667</td>\n",
       "      <td>0.674561</td>\n",
       "      <td>0.616186</td>\n",
       "    </tr>\n",
       "    <tr>\n",
       "      <th>6</th>\n",
       "      <td>2020-01-01</td>\n",
       "      <td>EV06</td>\n",
       "      <td>241.666667</td>\n",
       "      <td>1.271930</td>\n",
       "      <td>1.161859</td>\n",
       "    </tr>\n",
       "    <tr>\n",
       "      <th>8</th>\n",
       "      <td>2020-01-01</td>\n",
       "      <td>NA09</td>\n",
       "      <td>141.500000</td>\n",
       "      <td>0.744737</td>\n",
       "      <td>0.680288</td>\n",
       "    </tr>\n",
       "    <tr>\n",
       "      <th>10</th>\n",
       "      <td>2020-01-01</td>\n",
       "      <td>NA10</td>\n",
       "      <td>194.750000</td>\n",
       "      <td>1.025000</td>\n",
       "      <td>0.936298</td>\n",
       "    </tr>\n",
       "    <tr>\n",
       "      <th>12</th>\n",
       "      <td>2020-01-01</td>\n",
       "      <td>NA11</td>\n",
       "      <td>171.083333</td>\n",
       "      <td>0.900439</td>\n",
       "      <td>0.822516</td>\n",
       "    </tr>\n",
       "    <tr>\n",
       "      <th>14</th>\n",
       "      <td>2020-01-01</td>\n",
       "      <td>NA12</td>\n",
       "      <td>254.166667</td>\n",
       "      <td>1.337719</td>\n",
       "      <td>1.221955</td>\n",
       "    </tr>\n",
       "    <tr>\n",
       "      <th>16</th>\n",
       "      <td>2020-01-01</td>\n",
       "      <td>SA04</td>\n",
       "      <td>125.750000</td>\n",
       "      <td>0.661842</td>\n",
       "      <td>0.604567</td>\n",
       "    </tr>\n",
       "    <tr>\n",
       "      <th>18</th>\n",
       "      <td>2020-01-01</td>\n",
       "      <td>SV01</td>\n",
       "      <td>72.916667</td>\n",
       "      <td>0.383772</td>\n",
       "      <td>0.350561</td>\n",
       "    </tr>\n",
       "    <tr>\n",
       "      <th>20</th>\n",
       "      <td>2020-01-01</td>\n",
       "      <td>SV02</td>\n",
       "      <td>58.333333</td>\n",
       "      <td>0.307018</td>\n",
       "      <td>0.280449</td>\n",
       "    </tr>\n",
       "    <tr>\n",
       "      <th>22</th>\n",
       "      <td>2020-01-01</td>\n",
       "      <td>SV03</td>\n",
       "      <td>125.500000</td>\n",
       "      <td>0.660526</td>\n",
       "      <td>0.603365</td>\n",
       "    </tr>\n",
       "    <tr>\n",
       "      <th>24</th>\n",
       "      <td>2020-01-01</td>\n",
       "      <td>WA15</td>\n",
       "      <td>204.750000</td>\n",
       "      <td>1.077632</td>\n",
       "      <td>0.984375</td>\n",
       "    </tr>\n",
       "    <tr>\n",
       "      <th>26</th>\n",
       "      <td>2020-01-01</td>\n",
       "      <td>WA17</td>\n",
       "      <td>201.416667</td>\n",
       "      <td>1.060088</td>\n",
       "      <td>0.968349</td>\n",
       "    </tr>\n",
       "    <tr>\n",
       "      <th>28</th>\n",
       "      <td>2020-01-01</td>\n",
       "      <td>WU14</td>\n",
       "      <td>4.500000</td>\n",
       "      <td>0.023684</td>\n",
       "      <td>0.021635</td>\n",
       "    </tr>\n",
       "    <tr>\n",
       "      <th>30</th>\n",
       "      <td>2020-01-01</td>\n",
       "      <td>WV16</td>\n",
       "      <td>121.166667</td>\n",
       "      <td>0.637719</td>\n",
       "      <td>0.582532</td>\n",
       "    </tr>\n",
       "    <tr>\n",
       "      <th>1</th>\n",
       "      <td>2020-02-01</td>\n",
       "      <td>EA05</td>\n",
       "      <td>162.666667</td>\n",
       "      <td>0.856140</td>\n",
       "      <td>0.782051</td>\n",
       "    </tr>\n",
       "    <tr>\n",
       "      <th>3</th>\n",
       "      <td>2020-02-01</td>\n",
       "      <td>EA07</td>\n",
       "      <td>117.083333</td>\n",
       "      <td>0.616228</td>\n",
       "      <td>0.562901</td>\n",
       "    </tr>\n",
       "    <tr>\n",
       "      <th>5</th>\n",
       "      <td>2020-02-01</td>\n",
       "      <td>EA08</td>\n",
       "      <td>153.416667</td>\n",
       "      <td>0.807456</td>\n",
       "      <td>0.737580</td>\n",
       "    </tr>\n",
       "    <tr>\n",
       "      <th>7</th>\n",
       "      <td>2020-02-01</td>\n",
       "      <td>EV06</td>\n",
       "      <td>162.666667</td>\n",
       "      <td>0.856140</td>\n",
       "      <td>0.782051</td>\n",
       "    </tr>\n",
       "    <tr>\n",
       "      <th>9</th>\n",
       "      <td>2020-02-01</td>\n",
       "      <td>NA09</td>\n",
       "      <td>94.916667</td>\n",
       "      <td>0.499561</td>\n",
       "      <td>0.456330</td>\n",
       "    </tr>\n",
       "    <tr>\n",
       "      <th>11</th>\n",
       "      <td>2020-02-01</td>\n",
       "      <td>NA10</td>\n",
       "      <td>159.833333</td>\n",
       "      <td>0.841228</td>\n",
       "      <td>0.768429</td>\n",
       "    </tr>\n",
       "    <tr>\n",
       "      <th>13</th>\n",
       "      <td>2020-02-01</td>\n",
       "      <td>NA11</td>\n",
       "      <td>180.250000</td>\n",
       "      <td>0.948684</td>\n",
       "      <td>0.866587</td>\n",
       "    </tr>\n",
       "    <tr>\n",
       "      <th>15</th>\n",
       "      <td>2020-02-01</td>\n",
       "      <td>NA12</td>\n",
       "      <td>264.500000</td>\n",
       "      <td>1.392105</td>\n",
       "      <td>1.271635</td>\n",
       "    </tr>\n",
       "    <tr>\n",
       "      <th>17</th>\n",
       "      <td>2020-02-01</td>\n",
       "      <td>SA04</td>\n",
       "      <td>96.166667</td>\n",
       "      <td>0.506140</td>\n",
       "      <td>0.462340</td>\n",
       "    </tr>\n",
       "    <tr>\n",
       "      <th>19</th>\n",
       "      <td>2020-02-01</td>\n",
       "      <td>SV01</td>\n",
       "      <td>61.666667</td>\n",
       "      <td>0.324561</td>\n",
       "      <td>0.296474</td>\n",
       "    </tr>\n",
       "    <tr>\n",
       "      <th>21</th>\n",
       "      <td>2020-02-01</td>\n",
       "      <td>SV02</td>\n",
       "      <td>63.833333</td>\n",
       "      <td>0.335965</td>\n",
       "      <td>0.306891</td>\n",
       "    </tr>\n",
       "    <tr>\n",
       "      <th>23</th>\n",
       "      <td>2020-02-01</td>\n",
       "      <td>SV03</td>\n",
       "      <td>108.333333</td>\n",
       "      <td>0.570175</td>\n",
       "      <td>0.520833</td>\n",
       "    </tr>\n",
       "    <tr>\n",
       "      <th>25</th>\n",
       "      <td>2020-02-01</td>\n",
       "      <td>WA15</td>\n",
       "      <td>148.083333</td>\n",
       "      <td>0.779386</td>\n",
       "      <td>0.711939</td>\n",
       "    </tr>\n",
       "    <tr>\n",
       "      <th>27</th>\n",
       "      <td>2020-02-01</td>\n",
       "      <td>WA17</td>\n",
       "      <td>223.000000</td>\n",
       "      <td>1.173684</td>\n",
       "      <td>1.072115</td>\n",
       "    </tr>\n",
       "    <tr>\n",
       "      <th>29</th>\n",
       "      <td>2020-02-01</td>\n",
       "      <td>WU14</td>\n",
       "      <td>1.500000</td>\n",
       "      <td>0.007895</td>\n",
       "      <td>0.007212</td>\n",
       "    </tr>\n",
       "    <tr>\n",
       "      <th>31</th>\n",
       "      <td>2020-02-01</td>\n",
       "      <td>WV16</td>\n",
       "      <td>112.916667</td>\n",
       "      <td>0.594298</td>\n",
       "      <td>0.542869</td>\n",
       "    </tr>\n",
       "  </tbody>\n",
       "</table>\n",
       "</div>"
      ],
      "text/plain": [
       "         Date TxUnit  monthlyTotalHours   AvgUtil  real_util\n",
       "0  2020-01-01   EA05         208.416667  1.096930   1.002003\n",
       "2  2020-01-01   EA07         129.833333  0.683333   0.624199\n",
       "4  2020-01-01   EA08         128.166667  0.674561   0.616186\n",
       "6  2020-01-01   EV06         241.666667  1.271930   1.161859\n",
       "8  2020-01-01   NA09         141.500000  0.744737   0.680288\n",
       "10 2020-01-01   NA10         194.750000  1.025000   0.936298\n",
       "12 2020-01-01   NA11         171.083333  0.900439   0.822516\n",
       "14 2020-01-01   NA12         254.166667  1.337719   1.221955\n",
       "16 2020-01-01   SA04         125.750000  0.661842   0.604567\n",
       "18 2020-01-01   SV01          72.916667  0.383772   0.350561\n",
       "20 2020-01-01   SV02          58.333333  0.307018   0.280449\n",
       "22 2020-01-01   SV03         125.500000  0.660526   0.603365\n",
       "24 2020-01-01   WA15         204.750000  1.077632   0.984375\n",
       "26 2020-01-01   WA17         201.416667  1.060088   0.968349\n",
       "28 2020-01-01   WU14           4.500000  0.023684   0.021635\n",
       "30 2020-01-01   WV16         121.166667  0.637719   0.582532\n",
       "1  2020-02-01   EA05         162.666667  0.856140   0.782051\n",
       "3  2020-02-01   EA07         117.083333  0.616228   0.562901\n",
       "5  2020-02-01   EA08         153.416667  0.807456   0.737580\n",
       "7  2020-02-01   EV06         162.666667  0.856140   0.782051\n",
       "9  2020-02-01   NA09          94.916667  0.499561   0.456330\n",
       "11 2020-02-01   NA10         159.833333  0.841228   0.768429\n",
       "13 2020-02-01   NA11         180.250000  0.948684   0.866587\n",
       "15 2020-02-01   NA12         264.500000  1.392105   1.271635\n",
       "17 2020-02-01   SA04          96.166667  0.506140   0.462340\n",
       "19 2020-02-01   SV01          61.666667  0.324561   0.296474\n",
       "21 2020-02-01   SV02          63.833333  0.335965   0.306891\n",
       "23 2020-02-01   SV03         108.333333  0.570175   0.520833\n",
       "25 2020-02-01   WA15         148.083333  0.779386   0.711939\n",
       "27 2020-02-01   WA17         223.000000  1.173684   1.072115\n",
       "29 2020-02-01   WU14           1.500000  0.007895   0.007212\n",
       "31 2020-02-01   WV16         112.916667  0.594298   0.542869"
      ]
     },
     "execution_count": 201,
     "metadata": {},
     "output_type": "execute_result"
    }
   ],
   "source": [
    "util_real = pd.read_excel('RealCase_LinacUtilization.xlsx')\n",
    "util_real=util_real[['Date','TxUnit','monthlyTotalHours','AvgUtil']]\n",
    "util_real['real_util'] = util_real['monthlyTotalHours']/(20*10)\n",
    "util_real.sort_values(by=['Date','TxUnit'])\n"
   ]
  },
  {
   "cell_type": "code",
   "execution_count": 199,
   "metadata": {},
   "outputs": [
    {
     "data": {
      "text/plain": [
       "TxUnit\n",
       "EA05    0.976535\n",
       "EA07    0.649781\n",
       "EA08    0.741009\n",
       "EV06    1.064035\n",
       "NA09    0.622149\n",
       "NA10    0.933114\n",
       "NA11    0.924561\n",
       "NA12    1.364912\n",
       "SA04    0.583991\n",
       "SV01    0.354167\n",
       "SV02    0.321491\n",
       "SV03    0.615351\n",
       "WA15    0.928509\n",
       "WA17    1.116886\n",
       "WU14    0.015789\n",
       "WV16    0.616009\n",
       "Name: AvgUtil, dtype: float64"
      ]
     },
     "execution_count": 199,
     "metadata": {},
     "output_type": "execute_result"
    }
   ],
   "source": [
    "util_recent = util_real[(util_real['Date']>='2020-01-01')&(util_real['Date']<'2020-03-01')]\n",
    "util_recent.groupby(['TxUnit'])['AvgUtil'].agg('mean')\n",
    "# from data"
   ]
  },
  {
   "cell_type": "markdown",
   "metadata": {
    "heading_collapsed": true
   },
   "source": [
    "## Real data - pandemic"
   ]
  },
  {
   "cell_type": "code",
   "execution_count": 329,
   "metadata": {
    "hidden": true
   },
   "outputs": [],
   "source": [
    "df_real_2 = df_real[(df_real['CreatedDate']>=pd.to_datetime('2020-03-01'))&\n",
    "                  (df_real['CreatedDate']<pd.to_datetime('2020-06-01'))]\n",
    "df_real_2 = df_real_2.sort_values(by=['CreatedDate'])"
   ]
  },
  {
   "cell_type": "code",
   "execution_count": 330,
   "metadata": {
    "hidden": true
   },
   "outputs": [
    {
     "data": {
      "image/png": "[encoded data removed]",
      "text/plain": [
       "<Figure size 648x360 with 1 Axes>"
      ]
     },
     "metadata": {
      "needs_background": "light"
     },
     "output_type": "display_data"
    }
   ],
   "source": [
    "plt.figure(figsize=[9,5])\n",
    "bins = range(0,24)\n",
    "\n",
    "y = df_real_2['WaitTime(weekday)']\n",
    "plt.hist(y, bins = bins, alpha=0.5, edgecolor='black', align='left')\n",
    "\n",
    "plt.xlabel('wait time')\n",
    "plt.ylabel('frequency')\n",
    "plt.title('wait time distribution of real case')\n",
    "plt.xticks(fontsize=10)\n",
    "plt.yticks(fontsize=10)\n",
    "\n",
    "plt.show()"
   ]
  },
  {
   "cell_type": "code",
   "execution_count": 338,
   "metadata": {
    "hidden": true
   },
   "outputs": [
    {
     "data": {
      "text/plain": [
       "(947, 32)"
      ]
     },
     "execution_count": 338,
     "metadata": {},
     "output_type": "execute_result"
    }
   ],
   "source": [
    "df_real_2.shape"
   ]
  },
  {
   "cell_type": "code",
   "execution_count": 339,
   "metadata": {
    "hidden": true
   },
   "outputs": [
    {
     "name": "stdout",
     "output_type": "stream",
     "text": [
      "mean:  9.182682154171067\n",
      "std:  8.611745015180034\n",
      "wait time quantiles:\n",
      " 0.10     1.0\n",
      "0.50     9.0\n",
      "0.75    12.0\n",
      "Name: WaitTime(weekday), dtype: float64\n",
      "number of exceed:  337\n",
      "urgent:  2.6018099547511313\n",
      "urgent & palliative:  2.299492385786802\n"
     ]
    }
   ],
   "source": [
    "print('mean: ', df_real_2['WaitTime(weekday)'].mean())\n",
    "print('std: ', df_real_2['WaitTime(weekday)'].std())\n",
    "print('wait time quantiles:\\n', df_real_2['WaitTime(weekday)'].quantile([.1, .5, .75]))\n",
    "print('number of exceed: ', len(df_real_2[df_real_2['WaitTime(weekday)']>10]))\n",
    "print('urgent: ', df_real_2[df_real_2['Category_x']=='Urgent 2']['WaitTime(weekday)'].mean())\n",
    "print('urgent & palliative: ', df_real_2[(df_real_2['Category_x']=='Urgent 2')&\n",
    "                                           (df_real_2['Intent1']=='Palliative')]['WaitTime(weekday)'].mean())"
   ]
  },
  {
   "cell_type": "markdown",
   "metadata": {
    "heading_collapsed": true
   },
   "source": [
    "## Base case"
   ]
  },
  {
   "cell_type": "code",
   "execution_count": 95,
   "metadata": {
    "hidden": true
   },
   "outputs": [
    {
     "data": {
      "image/png": "[encoded data removed]",
      "text/plain": [
       "<Figure size 648x360 with 1 Axes>"
      ]
     },
     "metadata": {
      "needs_background": "light"
     },
     "output_type": "display_data"
    }
   ],
   "source": [
    "#df_base = pd.read_excel('record_base.xlsx')\n",
    "#df_base = pd.read_excel('record_relaxU1.xlsx')\n",
    "plt.figure(figsize=[9,5])\n",
    "bins = range(0,24)\n",
    "\n",
    "y = df_base['WaitTime']\n",
    "plt.hist(y, bins = bins, alpha=0.5, edgecolor='black', align='left')\n",
    "\n",
    "plt.xlabel('wait time')\n",
    "plt.ylabel('frequency')\n",
    "plt.title('wait time distribution of test case')\n",
    "plt.xticks(fontsize=10)\n",
    "plt.yticks(fontsize=10)\n",
    "\n",
    "plt.show()"
   ]
  },
  {
   "cell_type": "code",
   "execution_count": 15,
   "metadata": {
    "hidden": true
   },
   "outputs": [
    {
     "data": {
      "text/plain": [
       "6.696476964769648"
      ]
     },
     "execution_count": 15,
     "metadata": {},
     "output_type": "execute_result"
    }
   ],
   "source": [
    "df_base['WaitTime'].mean()"
   ]
  },
  {
   "cell_type": "code",
   "execution_count": 16,
   "metadata": {
    "hidden": true
   },
   "outputs": [
    {
     "data": {
      "text/plain": [
       "3.301249884617918"
      ]
     },
     "execution_count": 16,
     "metadata": {},
     "output_type": "execute_result"
    }
   ],
   "source": [
    "df_base['WaitTime'].std()"
   ]
  },
  {
   "cell_type": "code",
   "execution_count": 17,
   "metadata": {
    "hidden": true
   },
   "outputs": [
    {
     "data": {
      "text/plain": [
       "0.10    2.0\n",
       "0.50    7.0\n",
       "0.75    9.0\n",
       "Name: WaitTime, dtype: float64"
      ]
     },
     "execution_count": 17,
     "metadata": {},
     "output_type": "execute_result"
    }
   ],
   "source": [
    "df_base['WaitTime'].quantile([.1, .5, .75])"
   ]
  },
  {
   "cell_type": "code",
   "execution_count": 18,
   "metadata": {
    "hidden": true
   },
   "outputs": [
    {
     "data": {
      "text/plain": [
       "(154, 9)"
      ]
     },
     "execution_count": 18,
     "metadata": {},
     "output_type": "execute_result"
    }
   ],
   "source": [
    "df_base[df_base['WaitTime']>=10].shape"
   ]
  },
  {
   "cell_type": "code",
   "execution_count": 99,
   "metadata": {
    "hidden": true
   },
   "outputs": [
    {
     "data": {
      "text/html": [
       "<div>\n",
       "<style scoped>\n",
       "    .dataframe tbody tr th:only-of-type {\n",
       "        vertical-align: middle;\n",
       "    }\n",
       "\n",
       "    .dataframe tbody tr th {\n",
       "        vertical-align: top;\n",
       "    }\n",
       "\n",
       "    .dataframe thead th {\n",
       "        text-align: right;\n",
       "    }\n",
       "</style>\n",
       "<table border=\"1\" class=\"dataframe\">\n",
       "  <thead>\n",
       "    <tr style=\"text-align: right;\">\n",
       "      <th></th>\n",
       "      <th>Unnamed: 0</th>\n",
       "      <th>MRN</th>\n",
       "      <th>Category</th>\n",
       "      <th>CreatedDate</th>\n",
       "      <th>WaitTime</th>\n",
       "      <th>CTUnit</th>\n",
       "      <th>LinacUnit</th>\n",
       "      <th>TxDuration</th>\n",
       "      <th>numFracs</th>\n",
       "      <th>totalHours</th>\n",
       "    </tr>\n",
       "  </thead>\n",
       "  <tbody>\n",
       "    <tr>\n",
       "      <th>0</th>\n",
       "      <td>0</td>\n",
       "      <td>907979</td>\n",
       "      <td>Urgent 2</td>\n",
       "      <td>2020-01-01</td>\n",
       "      <td>4.0</td>\n",
       "      <td>3</td>\n",
       "      <td>14</td>\n",
       "      <td>30</td>\n",
       "      <td>1</td>\n",
       "      <td>0.500000</td>\n",
       "    </tr>\n",
       "    <tr>\n",
       "      <th>1</th>\n",
       "      <td>0</td>\n",
       "      <td>376136</td>\n",
       "      <td>Standard 3</td>\n",
       "      <td>2020-01-02</td>\n",
       "      <td>9.0</td>\n",
       "      <td>3</td>\n",
       "      <td>6</td>\n",
       "      <td>70</td>\n",
       "      <td>16</td>\n",
       "      <td>16.166667</td>\n",
       "    </tr>\n",
       "    <tr>\n",
       "      <th>2</th>\n",
       "      <td>1</td>\n",
       "      <td>805061</td>\n",
       "      <td>Standard 3</td>\n",
       "      <td>2020-01-02</td>\n",
       "      <td>6.0</td>\n",
       "      <td>4</td>\n",
       "      <td>15</td>\n",
       "      <td>30</td>\n",
       "      <td>5</td>\n",
       "      <td>1.833333</td>\n",
       "    </tr>\n",
       "    <tr>\n",
       "      <th>3</th>\n",
       "      <td>2</td>\n",
       "      <td>1165551</td>\n",
       "      <td>Standard 3</td>\n",
       "      <td>2020-01-02</td>\n",
       "      <td>11.0</td>\n",
       "      <td>3, 4</td>\n",
       "      <td>1</td>\n",
       "      <td>30</td>\n",
       "      <td>17</td>\n",
       "      <td>5.833333</td>\n",
       "    </tr>\n",
       "    <tr>\n",
       "      <th>4</th>\n",
       "      <td>3</td>\n",
       "      <td>2098444</td>\n",
       "      <td>Standard 3</td>\n",
       "      <td>2020-01-02</td>\n",
       "      <td>11.0</td>\n",
       "      <td>3</td>\n",
       "      <td>14</td>\n",
       "      <td>45</td>\n",
       "      <td>25</td>\n",
       "      <td>14.750000</td>\n",
       "    </tr>\n",
       "  </tbody>\n",
       "</table>\n",
       "</div>"
      ],
      "text/plain": [
       "   Unnamed: 0      MRN    Category CreatedDate  WaitTime CTUnit  LinacUnit  \\\n",
       "0           0   907979    Urgent 2  2020-01-01       4.0      3         14   \n",
       "1           0   376136  Standard 3  2020-01-02       9.0      3          6   \n",
       "2           1   805061  Standard 3  2020-01-02       6.0      4         15   \n",
       "3           2  1165551  Standard 3  2020-01-02      11.0   3, 4          1   \n",
       "4           3  2098444  Standard 3  2020-01-02      11.0      3         14   \n",
       "\n",
       "   TxDuration  numFracs  totalHours  \n",
       "0          30         1    0.500000  \n",
       "1          70        16   16.166667  \n",
       "2          30         5    1.833333  \n",
       "3          30        17    5.833333  \n",
       "4          45        25   14.750000  "
      ]
     },
     "execution_count": 99,
     "metadata": {},
     "output_type": "execute_result"
    }
   ],
   "source": [
    "df_base.head()\n"
   ]
  },
  {
   "cell_type": "code",
   "execution_count": 97,
   "metadata": {
    "hidden": true
   },
   "outputs": [],
   "source": [
    "df_base['totalHours'] = (df_base['TxDuration']+(df_base['numFracs']-1)*(df_base['TxDuration']-10))/60"
   ]
  },
  {
   "cell_type": "code",
   "execution_count": 98,
   "metadata": {
    "hidden": true
   },
   "outputs": [
    {
     "data": {
      "text/html": [
       "<div>\n",
       "<style scoped>\n",
       "    .dataframe tbody tr th:only-of-type {\n",
       "        vertical-align: middle;\n",
       "    }\n",
       "\n",
       "    .dataframe tbody tr th {\n",
       "        vertical-align: top;\n",
       "    }\n",
       "\n",
       "    .dataframe thead th {\n",
       "        text-align: right;\n",
       "    }\n",
       "</style>\n",
       "<table border=\"1\" class=\"dataframe\">\n",
       "  <thead>\n",
       "    <tr style=\"text-align: right;\">\n",
       "      <th></th>\n",
       "      <th>Date</th>\n",
       "      <th>LinacUnit</th>\n",
       "      <th>totalHours</th>\n",
       "      <th>AvgUtil</th>\n",
       "    </tr>\n",
       "  </thead>\n",
       "  <tbody>\n",
       "    <tr>\n",
       "      <th>0</th>\n",
       "      <td>2020-01-01</td>\n",
       "      <td>1</td>\n",
       "      <td>52.500000</td>\n",
       "      <td>0.298295</td>\n",
       "    </tr>\n",
       "    <tr>\n",
       "      <th>16</th>\n",
       "      <td>2020-02-01</td>\n",
       "      <td>1</td>\n",
       "      <td>98.583333</td>\n",
       "      <td>0.560133</td>\n",
       "    </tr>\n",
       "    <tr>\n",
       "      <th>17</th>\n",
       "      <td>2020-02-01</td>\n",
       "      <td>2</td>\n",
       "      <td>59.416667</td>\n",
       "      <td>0.337595</td>\n",
       "    </tr>\n",
       "    <tr>\n",
       "      <th>1</th>\n",
       "      <td>2020-01-01</td>\n",
       "      <td>2</td>\n",
       "      <td>76.416667</td>\n",
       "      <td>0.434186</td>\n",
       "    </tr>\n",
       "    <tr>\n",
       "      <th>18</th>\n",
       "      <td>2020-02-01</td>\n",
       "      <td>3</td>\n",
       "      <td>66.833333</td>\n",
       "      <td>0.379735</td>\n",
       "    </tr>\n",
       "    <tr>\n",
       "      <th>2</th>\n",
       "      <td>2020-01-01</td>\n",
       "      <td>3</td>\n",
       "      <td>64.083333</td>\n",
       "      <td>0.364110</td>\n",
       "    </tr>\n",
       "    <tr>\n",
       "      <th>19</th>\n",
       "      <td>2020-02-01</td>\n",
       "      <td>4</td>\n",
       "      <td>80.750000</td>\n",
       "      <td>0.458807</td>\n",
       "    </tr>\n",
       "    <tr>\n",
       "      <th>3</th>\n",
       "      <td>2020-01-01</td>\n",
       "      <td>4</td>\n",
       "      <td>182.166667</td>\n",
       "      <td>1.035038</td>\n",
       "    </tr>\n",
       "    <tr>\n",
       "      <th>20</th>\n",
       "      <td>2020-02-01</td>\n",
       "      <td>5</td>\n",
       "      <td>22.000000</td>\n",
       "      <td>0.125000</td>\n",
       "    </tr>\n",
       "    <tr>\n",
       "      <th>4</th>\n",
       "      <td>2020-01-01</td>\n",
       "      <td>5</td>\n",
       "      <td>119.500000</td>\n",
       "      <td>0.678977</td>\n",
       "    </tr>\n",
       "    <tr>\n",
       "      <th>21</th>\n",
       "      <td>2020-02-01</td>\n",
       "      <td>6</td>\n",
       "      <td>44.083333</td>\n",
       "      <td>0.250473</td>\n",
       "    </tr>\n",
       "    <tr>\n",
       "      <th>5</th>\n",
       "      <td>2020-01-01</td>\n",
       "      <td>6</td>\n",
       "      <td>122.000000</td>\n",
       "      <td>0.693182</td>\n",
       "    </tr>\n",
       "    <tr>\n",
       "      <th>22</th>\n",
       "      <td>2020-02-01</td>\n",
       "      <td>7</td>\n",
       "      <td>172.750000</td>\n",
       "      <td>0.981534</td>\n",
       "    </tr>\n",
       "    <tr>\n",
       "      <th>6</th>\n",
       "      <td>2020-01-01</td>\n",
       "      <td>7</td>\n",
       "      <td>105.666667</td>\n",
       "      <td>0.600379</td>\n",
       "    </tr>\n",
       "    <tr>\n",
       "      <th>32</th>\n",
       "      <td>2020-03-01</td>\n",
       "      <td>7</td>\n",
       "      <td>1.833333</td>\n",
       "      <td>0.010417</td>\n",
       "    </tr>\n",
       "    <tr>\n",
       "      <th>7</th>\n",
       "      <td>2020-01-01</td>\n",
       "      <td>8</td>\n",
       "      <td>135.250000</td>\n",
       "      <td>0.768466</td>\n",
       "    </tr>\n",
       "    <tr>\n",
       "      <th>23</th>\n",
       "      <td>2020-02-01</td>\n",
       "      <td>8</td>\n",
       "      <td>137.166667</td>\n",
       "      <td>0.779356</td>\n",
       "    </tr>\n",
       "    <tr>\n",
       "      <th>8</th>\n",
       "      <td>2020-01-01</td>\n",
       "      <td>9</td>\n",
       "      <td>64.000000</td>\n",
       "      <td>0.363636</td>\n",
       "    </tr>\n",
       "    <tr>\n",
       "      <th>24</th>\n",
       "      <td>2020-02-01</td>\n",
       "      <td>9</td>\n",
       "      <td>55.416667</td>\n",
       "      <td>0.314867</td>\n",
       "    </tr>\n",
       "    <tr>\n",
       "      <th>9</th>\n",
       "      <td>2020-01-01</td>\n",
       "      <td>10</td>\n",
       "      <td>152.333333</td>\n",
       "      <td>0.865530</td>\n",
       "    </tr>\n",
       "    <tr>\n",
       "      <th>25</th>\n",
       "      <td>2020-02-01</td>\n",
       "      <td>10</td>\n",
       "      <td>82.833333</td>\n",
       "      <td>0.470644</td>\n",
       "    </tr>\n",
       "    <tr>\n",
       "      <th>10</th>\n",
       "      <td>2020-01-01</td>\n",
       "      <td>11</td>\n",
       "      <td>235.000000</td>\n",
       "      <td>1.335227</td>\n",
       "    </tr>\n",
       "    <tr>\n",
       "      <th>26</th>\n",
       "      <td>2020-02-01</td>\n",
       "      <td>11</td>\n",
       "      <td>92.833333</td>\n",
       "      <td>0.527462</td>\n",
       "    </tr>\n",
       "    <tr>\n",
       "      <th>11</th>\n",
       "      <td>2020-01-01</td>\n",
       "      <td>12</td>\n",
       "      <td>160.750000</td>\n",
       "      <td>0.913352</td>\n",
       "    </tr>\n",
       "    <tr>\n",
       "      <th>27</th>\n",
       "      <td>2020-02-01</td>\n",
       "      <td>12</td>\n",
       "      <td>53.416667</td>\n",
       "      <td>0.303504</td>\n",
       "    </tr>\n",
       "    <tr>\n",
       "      <th>12</th>\n",
       "      <td>2020-01-01</td>\n",
       "      <td>14</td>\n",
       "      <td>170.250000</td>\n",
       "      <td>0.967330</td>\n",
       "    </tr>\n",
       "    <tr>\n",
       "      <th>28</th>\n",
       "      <td>2020-02-01</td>\n",
       "      <td>14</td>\n",
       "      <td>217.833333</td>\n",
       "      <td>1.237689</td>\n",
       "    </tr>\n",
       "    <tr>\n",
       "      <th>13</th>\n",
       "      <td>2020-01-01</td>\n",
       "      <td>15</td>\n",
       "      <td>144.333333</td>\n",
       "      <td>0.820076</td>\n",
       "    </tr>\n",
       "    <tr>\n",
       "      <th>29</th>\n",
       "      <td>2020-02-01</td>\n",
       "      <td>15</td>\n",
       "      <td>120.333333</td>\n",
       "      <td>0.683712</td>\n",
       "    </tr>\n",
       "    <tr>\n",
       "      <th>30</th>\n",
       "      <td>2020-02-01</td>\n",
       "      <td>16</td>\n",
       "      <td>95.666667</td>\n",
       "      <td>0.543561</td>\n",
       "    </tr>\n",
       "    <tr>\n",
       "      <th>14</th>\n",
       "      <td>2020-01-01</td>\n",
       "      <td>16</td>\n",
       "      <td>172.833333</td>\n",
       "      <td>0.982008</td>\n",
       "    </tr>\n",
       "    <tr>\n",
       "      <th>15</th>\n",
       "      <td>2020-01-01</td>\n",
       "      <td>17</td>\n",
       "      <td>164.833333</td>\n",
       "      <td>0.936553</td>\n",
       "    </tr>\n",
       "    <tr>\n",
       "      <th>31</th>\n",
       "      <td>2020-02-01</td>\n",
       "      <td>17</td>\n",
       "      <td>166.916667</td>\n",
       "      <td>0.948390</td>\n",
       "    </tr>\n",
       "  </tbody>\n",
       "</table>\n",
       "</div>"
      ],
      "text/plain": [
       "         Date  LinacUnit  totalHours   AvgUtil\n",
       "0  2020-01-01          1   52.500000  0.298295\n",
       "16 2020-02-01          1   98.583333  0.560133\n",
       "17 2020-02-01          2   59.416667  0.337595\n",
       "1  2020-01-01          2   76.416667  0.434186\n",
       "18 2020-02-01          3   66.833333  0.379735\n",
       "2  2020-01-01          3   64.083333  0.364110\n",
       "19 2020-02-01          4   80.750000  0.458807\n",
       "3  2020-01-01          4  182.166667  1.035038\n",
       "20 2020-02-01          5   22.000000  0.125000\n",
       "4  2020-01-01          5  119.500000  0.678977\n",
       "21 2020-02-01          6   44.083333  0.250473\n",
       "5  2020-01-01          6  122.000000  0.693182\n",
       "22 2020-02-01          7  172.750000  0.981534\n",
       "6  2020-01-01          7  105.666667  0.600379\n",
       "32 2020-03-01          7    1.833333  0.010417\n",
       "7  2020-01-01          8  135.250000  0.768466\n",
       "23 2020-02-01          8  137.166667  0.779356\n",
       "8  2020-01-01          9   64.000000  0.363636\n",
       "24 2020-02-01          9   55.416667  0.314867\n",
       "9  2020-01-01         10  152.333333  0.865530\n",
       "25 2020-02-01         10   82.833333  0.470644\n",
       "10 2020-01-01         11  235.000000  1.335227\n",
       "26 2020-02-01         11   92.833333  0.527462\n",
       "11 2020-01-01         12  160.750000  0.913352\n",
       "27 2020-02-01         12   53.416667  0.303504\n",
       "12 2020-01-01         14  170.250000  0.967330\n",
       "28 2020-02-01         14  217.833333  1.237689\n",
       "13 2020-01-01         15  144.333333  0.820076\n",
       "29 2020-02-01         15  120.333333  0.683712\n",
       "30 2020-02-01         16   95.666667  0.543561\n",
       "14 2020-01-01         16  172.833333  0.982008\n",
       "15 2020-01-01         17  164.833333  0.936553\n",
       "31 2020-02-01         17  166.916667  0.948390"
      ]
     },
     "execution_count": 98,
     "metadata": {},
     "output_type": "execute_result"
    }
   ],
   "source": [
    "df_base_linac = df_base.groupby(['CreatedDate','LinacUnit'])['totalHours'].agg('sum').reset_index()\n",
    "df_base_linac['year'] = df_base_linac['CreatedDate'].dt.year\n",
    "df_base_linac['month'] = df_base_linac['CreatedDate'].dt.month\n",
    "df_base_linac['date']=df_base_linac['year'].astype(str) + df_base_linac['month'].astype(str).str.zfill(2)\n",
    "df_base_linac['Date'] = pd.to_datetime(df_base_linac['date'], format='%Y%m')\n",
    "\n",
    "util_base = df_base_linac.groupby(['Date','LinacUnit'])['totalHours'].agg('sum').reset_index()\n",
    "util_base['AvgUtil'] = util_base['totalHours']/(20*8.8)\n",
    "util_base.sort_values(by=['LinacUnit'])"
   ]
  },
  {
   "cell_type": "code",
   "execution_count": 57,
   "metadata": {
    "hidden": true
   },
   "outputs": [
    {
     "data": {
      "text/plain": [
       "LinacUnit\n",
       "1     0.336648\n",
       "2     0.290246\n",
       "3     0.285038\n",
       "4     0.576941\n",
       "5     0.325994\n",
       "6     0.397491\n",
       "7     0.429766\n",
       "8     0.629972\n",
       "9     0.267756\n",
       "10    0.516335\n",
       "11    0.766098\n",
       "12    0.480587\n",
       "14    0.917377\n",
       "15    0.586648\n",
       "16    0.620739\n",
       "17    0.750473\n",
       "Name: AvgUtil, dtype: float64"
      ]
     },
     "execution_count": 57,
     "metadata": {},
     "output_type": "execute_result"
    }
   ],
   "source": [
    "util_base.groupby(['LinacUnit'])['AvgUtil'].agg('mean')\n",
    "# monthly average utilisation per unit"
   ]
  },
  {
   "cell_type": "code",
   "execution_count": 145,
   "metadata": {
    "hidden": true
   },
   "outputs": [],
   "source": [
    "'''util_real[\"LinacUnit\"] = util_real['TxUnit'].replace({\"SV01\": 1, \n",
    "                                \"SV02\": 2,\n",
    "                                \"SV03\":3,\n",
    "                                \"SA04\":4,\n",
    "                                \"EA05\":5,\n",
    "                                \"EV06\":6,\n",
    "                                \"EA07\":7,\n",
    "                                \"EA08\":8,\n",
    "                                \"NA09\":9,\n",
    "                                \"NA10\":10,\n",
    "                                \"NA11\":11,\n",
    "                                \"NA12\":12,\n",
    "                                \"WU14\":14,\n",
    "                                \"WA15\":15,\n",
    "                                \"WV16\":16,\n",
    "                                \"WA17\":17 })'''"
   ]
  },
  {
   "cell_type": "code",
   "execution_count": 151,
   "metadata": {
    "hidden": true
   },
   "outputs": [
    {
     "data": {
      "text/html": [
       "<div>\n",
       "<style scoped>\n",
       "    .dataframe tbody tr th:only-of-type {\n",
       "        vertical-align: middle;\n",
       "    }\n",
       "\n",
       "    .dataframe tbody tr th {\n",
       "        vertical-align: top;\n",
       "    }\n",
       "\n",
       "    .dataframe thead th {\n",
       "        text-align: right;\n",
       "    }\n",
       "</style>\n",
       "<table border=\"1\" class=\"dataframe\">\n",
       "  <thead>\n",
       "    <tr style=\"text-align: right;\">\n",
       "      <th></th>\n",
       "      <th>Date</th>\n",
       "      <th>TxUnit</th>\n",
       "      <th>TxApptDuration</th>\n",
       "      <th>LinacUnit</th>\n",
       "    </tr>\n",
       "  </thead>\n",
       "  <tbody>\n",
       "    <tr>\n",
       "      <th>9</th>\n",
       "      <td>2020-01-01</td>\n",
       "      <td>SV01</td>\n",
       "      <td>190</td>\n",
       "      <td>1</td>\n",
       "    </tr>\n",
       "    <tr>\n",
       "      <th>10</th>\n",
       "      <td>2020-01-01</td>\n",
       "      <td>SV02</td>\n",
       "      <td>205</td>\n",
       "      <td>2</td>\n",
       "    </tr>\n",
       "    <tr>\n",
       "      <th>11</th>\n",
       "      <td>2020-01-01</td>\n",
       "      <td>SV03</td>\n",
       "      <td>595</td>\n",
       "      <td>3</td>\n",
       "    </tr>\n",
       "    <tr>\n",
       "      <th>8</th>\n",
       "      <td>2020-01-01</td>\n",
       "      <td>SA04</td>\n",
       "      <td>630</td>\n",
       "      <td>4</td>\n",
       "    </tr>\n",
       "    <tr>\n",
       "      <th>0</th>\n",
       "      <td>2020-01-01</td>\n",
       "      <td>EA05</td>\n",
       "      <td>985</td>\n",
       "      <td>5</td>\n",
       "    </tr>\n",
       "    <tr>\n",
       "      <th>3</th>\n",
       "      <td>2020-01-01</td>\n",
       "      <td>EV06</td>\n",
       "      <td>1400</td>\n",
       "      <td>6</td>\n",
       "    </tr>\n",
       "    <tr>\n",
       "      <th>1</th>\n",
       "      <td>2020-01-01</td>\n",
       "      <td>EA07</td>\n",
       "      <td>535</td>\n",
       "      <td>7</td>\n",
       "    </tr>\n",
       "    <tr>\n",
       "      <th>2</th>\n",
       "      <td>2020-01-01</td>\n",
       "      <td>EA08</td>\n",
       "      <td>880</td>\n",
       "      <td>8</td>\n",
       "    </tr>\n",
       "    <tr>\n",
       "      <th>4</th>\n",
       "      <td>2020-01-01</td>\n",
       "      <td>NA09</td>\n",
       "      <td>1075</td>\n",
       "      <td>9</td>\n",
       "    </tr>\n",
       "    <tr>\n",
       "      <th>5</th>\n",
       "      <td>2020-01-01</td>\n",
       "      <td>NA10</td>\n",
       "      <td>1320</td>\n",
       "      <td>10</td>\n",
       "    </tr>\n",
       "    <tr>\n",
       "      <th>6</th>\n",
       "      <td>2020-01-01</td>\n",
       "      <td>NA11</td>\n",
       "      <td>1005</td>\n",
       "      <td>11</td>\n",
       "    </tr>\n",
       "    <tr>\n",
       "      <th>7</th>\n",
       "      <td>2020-01-01</td>\n",
       "      <td>NA12</td>\n",
       "      <td>1635</td>\n",
       "      <td>12</td>\n",
       "    </tr>\n",
       "    <tr>\n",
       "      <th>0</th>\n",
       "      <td>2020-01-01</td>\n",
       "      <td>WU14</td>\n",
       "      <td>0</td>\n",
       "      <td>14</td>\n",
       "    </tr>\n",
       "    <tr>\n",
       "      <th>12</th>\n",
       "      <td>2020-01-01</td>\n",
       "      <td>WA15</td>\n",
       "      <td>1740</td>\n",
       "      <td>15</td>\n",
       "    </tr>\n",
       "    <tr>\n",
       "      <th>14</th>\n",
       "      <td>2020-01-01</td>\n",
       "      <td>WV16</td>\n",
       "      <td>685</td>\n",
       "      <td>16</td>\n",
       "    </tr>\n",
       "    <tr>\n",
       "      <th>13</th>\n",
       "      <td>2020-01-01</td>\n",
       "      <td>WA17</td>\n",
       "      <td>1105</td>\n",
       "      <td>17</td>\n",
       "    </tr>\n",
       "    <tr>\n",
       "      <th>24</th>\n",
       "      <td>2020-02-01</td>\n",
       "      <td>SV01</td>\n",
       "      <td>235</td>\n",
       "      <td>1</td>\n",
       "    </tr>\n",
       "    <tr>\n",
       "      <th>25</th>\n",
       "      <td>2020-02-01</td>\n",
       "      <td>SV02</td>\n",
       "      <td>260</td>\n",
       "      <td>2</td>\n",
       "    </tr>\n",
       "    <tr>\n",
       "      <th>26</th>\n",
       "      <td>2020-02-01</td>\n",
       "      <td>SV03</td>\n",
       "      <td>465</td>\n",
       "      <td>3</td>\n",
       "    </tr>\n",
       "    <tr>\n",
       "      <th>23</th>\n",
       "      <td>2020-02-01</td>\n",
       "      <td>SA04</td>\n",
       "      <td>655</td>\n",
       "      <td>4</td>\n",
       "    </tr>\n",
       "    <tr>\n",
       "      <th>15</th>\n",
       "      <td>2020-02-01</td>\n",
       "      <td>EA05</td>\n",
       "      <td>730</td>\n",
       "      <td>5</td>\n",
       "    </tr>\n",
       "    <tr>\n",
       "      <th>18</th>\n",
       "      <td>2020-02-01</td>\n",
       "      <td>EV06</td>\n",
       "      <td>945</td>\n",
       "      <td>6</td>\n",
       "    </tr>\n",
       "    <tr>\n",
       "      <th>16</th>\n",
       "      <td>2020-02-01</td>\n",
       "      <td>EA07</td>\n",
       "      <td>585</td>\n",
       "      <td>7</td>\n",
       "    </tr>\n",
       "    <tr>\n",
       "      <th>17</th>\n",
       "      <td>2020-02-01</td>\n",
       "      <td>EA08</td>\n",
       "      <td>1005</td>\n",
       "      <td>8</td>\n",
       "    </tr>\n",
       "    <tr>\n",
       "      <th>19</th>\n",
       "      <td>2020-02-01</td>\n",
       "      <td>NA09</td>\n",
       "      <td>280</td>\n",
       "      <td>9</td>\n",
       "    </tr>\n",
       "    <tr>\n",
       "      <th>20</th>\n",
       "      <td>2020-02-01</td>\n",
       "      <td>NA10</td>\n",
       "      <td>860</td>\n",
       "      <td>10</td>\n",
       "    </tr>\n",
       "    <tr>\n",
       "      <th>21</th>\n",
       "      <td>2020-02-01</td>\n",
       "      <td>NA11</td>\n",
       "      <td>985</td>\n",
       "      <td>11</td>\n",
       "    </tr>\n",
       "    <tr>\n",
       "      <th>22</th>\n",
       "      <td>2020-02-01</td>\n",
       "      <td>NA12</td>\n",
       "      <td>1590</td>\n",
       "      <td>12</td>\n",
       "    </tr>\n",
       "    <tr>\n",
       "      <th>29</th>\n",
       "      <td>2020-02-01</td>\n",
       "      <td>WU14</td>\n",
       "      <td>90</td>\n",
       "      <td>14</td>\n",
       "    </tr>\n",
       "    <tr>\n",
       "      <th>27</th>\n",
       "      <td>2020-02-01</td>\n",
       "      <td>WA15</td>\n",
       "      <td>450</td>\n",
       "      <td>15</td>\n",
       "    </tr>\n",
       "    <tr>\n",
       "      <th>30</th>\n",
       "      <td>2020-02-01</td>\n",
       "      <td>WV16</td>\n",
       "      <td>325</td>\n",
       "      <td>16</td>\n",
       "    </tr>\n",
       "    <tr>\n",
       "      <th>28</th>\n",
       "      <td>2020-02-01</td>\n",
       "      <td>WA17</td>\n",
       "      <td>1540</td>\n",
       "      <td>17</td>\n",
       "    </tr>\n",
       "  </tbody>\n",
       "</table>\n",
       "</div>"
      ],
      "text/plain": [
       "         Date TxUnit  TxApptDuration  LinacUnit\n",
       "9  2020-01-01   SV01             190          1\n",
       "10 2020-01-01   SV02             205          2\n",
       "11 2020-01-01   SV03             595          3\n",
       "8  2020-01-01   SA04             630          4\n",
       "0  2020-01-01   EA05             985          5\n",
       "3  2020-01-01   EV06            1400          6\n",
       "1  2020-01-01   EA07             535          7\n",
       "2  2020-01-01   EA08             880          8\n",
       "4  2020-01-01   NA09            1075          9\n",
       "5  2020-01-01   NA10            1320         10\n",
       "6  2020-01-01   NA11            1005         11\n",
       "7  2020-01-01   NA12            1635         12\n",
       "0  2020-01-01   WU14               0         14\n",
       "12 2020-01-01   WA15            1740         15\n",
       "14 2020-01-01   WV16             685         16\n",
       "13 2020-01-01   WA17            1105         17\n",
       "24 2020-02-01   SV01             235          1\n",
       "25 2020-02-01   SV02             260          2\n",
       "26 2020-02-01   SV03             465          3\n",
       "23 2020-02-01   SA04             655          4\n",
       "15 2020-02-01   EA05             730          5\n",
       "18 2020-02-01   EV06             945          6\n",
       "16 2020-02-01   EA07             585          7\n",
       "17 2020-02-01   EA08            1005          8\n",
       "19 2020-02-01   NA09             280          9\n",
       "20 2020-02-01   NA10             860         10\n",
       "21 2020-02-01   NA11             985         11\n",
       "22 2020-02-01   NA12            1590         12\n",
       "29 2020-02-01   WU14              90         14\n",
       "27 2020-02-01   WA15             450         15\n",
       "30 2020-02-01   WV16             325         16\n",
       "28 2020-02-01   WA17            1540         17"
      ]
     },
     "execution_count": 151,
     "metadata": {},
     "output_type": "execute_result"
    }
   ],
   "source": [
    "'''df_unit14 = pd.DataFrame([[pd.to_datetime(\"2020-01-01\"), \"WU14\", 0, 14]], \n",
    "                         columns=['Date',\"TxUnit\",\"TxApptDuration\",\"LinacUnit\"])\n",
    "util_real = util_real.append(df_unit14)\n",
    "util_real.sort_values(by=['Date','LinacUnit'], inplace=True)\n",
    "util_real'''"
   ]
  },
  {
   "cell_type": "code",
   "execution_count": 152,
   "metadata": {
    "hidden": true
   },
   "outputs": [],
   "source": [
    "'''util_compare = util_real.merge(util_base, on=['Date','LinacUnit'])\n",
    "util_compare = util_compare[['Date','TxUnit','TxApptDuration','TxDuration']]\n",
    "util_compare.groupby(['Date'])'''"
   ]
  },
  {
   "cell_type": "markdown",
   "metadata": {
    "heading_collapsed": true,
    "hidden": true
   },
   "source": [
    "### Base case _ 1"
   ]
  },
  {
   "cell_type": "code",
   "execution_count": 85,
   "metadata": {
    "hidden": true
   },
   "outputs": [
    {
     "data": {
      "text/html": [
       "<div>\n",
       "<style scoped>\n",
       "    .dataframe tbody tr th:only-of-type {\n",
       "        vertical-align: middle;\n",
       "    }\n",
       "\n",
       "    .dataframe tbody tr th {\n",
       "        vertical-align: top;\n",
       "    }\n",
       "\n",
       "    .dataframe thead th {\n",
       "        text-align: right;\n",
       "    }\n",
       "</style>\n",
       "<table border=\"1\" class=\"dataframe\">\n",
       "  <thead>\n",
       "    <tr style=\"text-align: right;\">\n",
       "      <th></th>\n",
       "      <th>Unnamed: 0</th>\n",
       "      <th>MRN</th>\n",
       "      <th>Category</th>\n",
       "      <th>Intent</th>\n",
       "      <th>CreatedDate</th>\n",
       "      <th>ModelWaitTime</th>\n",
       "      <th>CTUnit</th>\n",
       "      <th>LinacUnit</th>\n",
       "      <th>TxDuration</th>\n",
       "      <th>numFracs</th>\n",
       "    </tr>\n",
       "  </thead>\n",
       "  <tbody>\n",
       "    <tr>\n",
       "      <th>0</th>\n",
       "      <td>0</td>\n",
       "      <td>160063</td>\n",
       "      <td>Urgent 2</td>\n",
       "      <td>Palliative</td>\n",
       "      <td>2019-12-02</td>\n",
       "      <td>5.0</td>\n",
       "      <td>4</td>\n",
       "      <td>15</td>\n",
       "      <td>30</td>\n",
       "      <td>5</td>\n",
       "    </tr>\n",
       "    <tr>\n",
       "      <th>1</th>\n",
       "      <td>1</td>\n",
       "      <td>1303927</td>\n",
       "      <td>Standard 3</td>\n",
       "      <td>Radical</td>\n",
       "      <td>2019-12-02</td>\n",
       "      <td>7.0</td>\n",
       "      <td>3</td>\n",
       "      <td>6</td>\n",
       "      <td>45</td>\n",
       "      <td>25</td>\n",
       "    </tr>\n",
       "    <tr>\n",
       "      <th>2</th>\n",
       "      <td>2</td>\n",
       "      <td>4654854</td>\n",
       "      <td>Standard 3</td>\n",
       "      <td>Radical</td>\n",
       "      <td>2019-12-02</td>\n",
       "      <td>8.0</td>\n",
       "      <td>3</td>\n",
       "      <td>6</td>\n",
       "      <td>30</td>\n",
       "      <td>25</td>\n",
       "    </tr>\n",
       "    <tr>\n",
       "      <th>3</th>\n",
       "      <td>3</td>\n",
       "      <td>907979</td>\n",
       "      <td>Urgent 2</td>\n",
       "      <td>Palliative</td>\n",
       "      <td>2019-12-02</td>\n",
       "      <td>5.0</td>\n",
       "      <td>3</td>\n",
       "      <td>8</td>\n",
       "      <td>70</td>\n",
       "      <td>5</td>\n",
       "    </tr>\n",
       "    <tr>\n",
       "      <th>4</th>\n",
       "      <td>4</td>\n",
       "      <td>4653015</td>\n",
       "      <td>Standard 3</td>\n",
       "      <td>Radical</td>\n",
       "      <td>2019-12-02</td>\n",
       "      <td>10.0</td>\n",
       "      <td>2</td>\n",
       "      <td>16</td>\n",
       "      <td>30</td>\n",
       "      <td>28</td>\n",
       "    </tr>\n",
       "  </tbody>\n",
       "</table>\n",
       "</div>"
      ],
      "text/plain": [
       "   Unnamed: 0      MRN    Category      Intent CreatedDate  ModelWaitTime  \\\n",
       "0           0   160063    Urgent 2  Palliative  2019-12-02            5.0   \n",
       "1           1  1303927  Standard 3     Radical  2019-12-02            7.0   \n",
       "2           2  4654854  Standard 3     Radical  2019-12-02            8.0   \n",
       "3           3   907979    Urgent 2  Palliative  2019-12-02            5.0   \n",
       "4           4  4653015  Standard 3     Radical  2019-12-02           10.0   \n",
       "\n",
       "  CTUnit  LinacUnit  TxDuration  numFracs  \n",
       "0      4         15          30         5  \n",
       "1      3          6          45        25  \n",
       "2      3          6          30        25  \n",
       "3      3          8          70         5  \n",
       "4      2         16          30        28  "
      ]
     },
     "execution_count": 85,
     "metadata": {},
     "output_type": "execute_result"
    }
   ],
   "source": [
    "df_high = pd.read_excel('record_base_new_rules_since201912_90p.xlsx') # actually 80p\n",
    "df_high.head()"
   ]
  },
  {
   "cell_type": "code",
   "execution_count": 86,
   "metadata": {
    "hidden": true
   },
   "outputs": [
    {
     "data": {
      "image/png": "[encoded data removed]",
      "text/plain": [
       "<Figure size 648x360 with 1 Axes>"
      ]
     },
     "metadata": {
      "needs_background": "light"
     },
     "output_type": "display_data"
    }
   ],
   "source": [
    "plt.figure(figsize=[9,5])\n",
    "bins = range(0,24)\n",
    "\n",
    "y = df_high['ModelWaitTime']\n",
    "plt.hist(y, bins = bins, alpha=0.5, edgecolor='black', align='left')\n",
    "\n",
    "plt.xlabel('wait time')\n",
    "plt.ylabel('frequency')\n",
    "plt.title('wait time distribution of base case')\n",
    "plt.xticks(fontsize=10)\n",
    "plt.yticks(fontsize=10)\n",
    "\n",
    "plt.show()"
   ]
  },
  {
   "cell_type": "code",
   "execution_count": 87,
   "metadata": {
    "hidden": true
   },
   "outputs": [
    {
     "data": {
      "text/plain": [
       "6.302972195589645"
      ]
     },
     "execution_count": 87,
     "metadata": {},
     "output_type": "execute_result"
    }
   ],
   "source": [
    "df_high['ModelWaitTime'].mean()"
   ]
  },
  {
   "cell_type": "code",
   "execution_count": 88,
   "metadata": {
    "hidden": true
   },
   "outputs": [
    {
     "data": {
      "text/plain": [
       "3.2470658224126434"
      ]
     },
     "execution_count": 88,
     "metadata": {},
     "output_type": "execute_result"
    }
   ],
   "source": [
    "df_high['ModelWaitTime'].std()"
   ]
  },
  {
   "cell_type": "code",
   "execution_count": 89,
   "metadata": {
    "hidden": true
   },
   "outputs": [
    {
     "data": {
      "text/plain": [
       "0.10    3.0\n",
       "0.50    6.0\n",
       "0.75    8.0\n",
       "Name: ModelWaitTime, dtype: float64"
      ]
     },
     "execution_count": 89,
     "metadata": {},
     "output_type": "execute_result"
    }
   ],
   "source": [
    "df_high['ModelWaitTime'].quantile([.1, .5, .75])"
   ]
  },
  {
   "cell_type": "code",
   "execution_count": 90,
   "metadata": {
    "hidden": true
   },
   "outputs": [
    {
     "data": {
      "text/plain": [
       "(172, 10)"
      ]
     },
     "execution_count": 90,
     "metadata": {},
     "output_type": "execute_result"
    }
   ],
   "source": [
    "df_high[df_high['ModelWaitTime']>=10].shape"
   ]
  },
  {
   "cell_type": "code",
   "execution_count": 91,
   "metadata": {
    "hidden": true
   },
   "outputs": [
    {
     "data": {
      "text/plain": [
       "LinacUnit\n",
       "1     0.564198\n",
       "2     0.310185\n",
       "3     0.447377\n",
       "4     0.643981\n",
       "5     0.699691\n",
       "6     0.814198\n",
       "7     0.487963\n",
       "8     0.751080\n",
       "9     0.379938\n",
       "10    0.517901\n",
       "11    0.849228\n",
       "12    0.876235\n",
       "15    0.583951\n",
       "16    0.790895\n",
       "17    0.854475\n",
       "Name: AvgUtil, dtype: float64"
      ]
     },
     "execution_count": 91,
     "metadata": {},
     "output_type": "execute_result"
    }
   ],
   "source": [
    "df_high['totalHours'] = (df_high['TxDuration'] + (df_high['numFracs']-1)*(df_high['TxDuration']-10))/60\n",
    "df_high_linac = df_high.groupby(['CreatedDate','LinacUnit'])['totalHours'].agg('sum').reset_index()\n",
    "df_high_linac['year'] = df_high_linac['CreatedDate'].dt.year\n",
    "df_high_linac['month'] = df_high_linac['CreatedDate'].dt.month\n",
    "df_high_linac['date']=df_high_linac['year'].astype(str) + df_high_linac['month'].astype(str).str.zfill(2)\n",
    "df_high_linac['Date'] = pd.to_datetime(df_high_linac['date'], format='%Y%m')\n",
    "\n",
    "util_80 = df_high_linac.groupby(['Date','LinacUnit'])['totalHours'].agg('sum').reset_index()\n",
    "util_80['AvgUtil'] = (util_80['totalHours'])/(20*9)\n",
    "util_80.sort_values(by=['LinacUnit'])\n",
    "util_80.groupby(['LinacUnit'])['AvgUtil'].agg('mean')\n",
    "### for std 3 and urgent 2 patients"
   ]
  },
  {
   "cell_type": "code",
   "execution_count": 92,
   "metadata": {
    "hidden": true
   },
   "outputs": [
    {
     "data": {
      "text/plain": [
       "LinacUnit\n",
       "1     0.512778\n",
       "2     0.284167\n",
       "3     0.407639\n",
       "4     0.584583\n",
       "5     0.634722\n",
       "6     0.737778\n",
       "7     0.444167\n",
       "8     0.680972\n",
       "9     0.346944\n",
       "10    0.471111\n",
       "11    0.769306\n",
       "12    0.793611\n",
       "15    0.530556\n",
       "16    0.716806\n",
       "17    0.774028\n",
       "Name: AvgUtil, dtype: float64"
      ]
     },
     "execution_count": 92,
     "metadata": {},
     "output_type": "execute_result"
    }
   ],
   "source": [
    "util_80['AvgUtil'] = (util_80['totalHours']+1)/(20*10)\n",
    "util_80.sort_values(by=['LinacUnit'])\n",
    "util_80.groupby(['LinacUnit'])['AvgUtil'].agg('mean')"
   ]
  },
  {
   "cell_type": "code",
   "execution_count": null,
   "metadata": {
    "hidden": true
   },
   "outputs": [],
   "source": []
  },
  {
   "cell_type": "code",
   "execution_count": null,
   "metadata": {
    "hidden": true
   },
   "outputs": [],
   "source": []
  },
  {
   "cell_type": "code",
   "execution_count": 110,
   "metadata": {
    "hidden": true
   },
   "outputs": [
    {
     "data": {
      "image/png": "[encoded data removed]",
      "text/plain": [
       "<Figure size 648x360 with 1 Axes>"
      ]
     },
     "metadata": {
      "needs_background": "light"
     },
     "output_type": "display_data"
    }
   ],
   "source": [
    "\n",
    "plt.figure(figsize=[9,5])\n",
    "bins = range(0,24)\n",
    "\n",
    "y = df_real_h['WaitTime(weekday)']\n",
    "plt.hist(y, bins = bins, alpha=0.5, edgecolor='black', align='left')\n",
    "\n",
    "plt.xlabel('wait time')\n",
    "plt.ylabel('frequency')\n",
    "plt.title('wait time distribution of base case')\n",
    "plt.xticks(fontsize=10)\n",
    "plt.yticks(fontsize=10)\n",
    "\n",
    "plt.show()"
   ]
  },
  {
   "cell_type": "code",
   "execution_count": 53,
   "metadata": {
    "hidden": true
   },
   "outputs": [
    {
     "data": {
      "text/plain": [
       "6.696476964769648"
      ]
     },
     "execution_count": 53,
     "metadata": {},
     "output_type": "execute_result"
    }
   ],
   "source": [
    "df_preallo2['WaitTime'].mean()"
   ]
  },
  {
   "cell_type": "code",
   "execution_count": 54,
   "metadata": {
    "hidden": true
   },
   "outputs": [
    {
     "data": {
      "text/plain": [
       "0.10    2.0\n",
       "0.50    7.0\n",
       "0.75    9.0\n",
       "Name: WaitTime, dtype: float64"
      ]
     },
     "execution_count": 54,
     "metadata": {},
     "output_type": "execute_result"
    }
   ],
   "source": [
    "df_preallo2['WaitTime'].quantile([.1, .5, .75])"
   ]
  },
  {
   "cell_type": "code",
   "execution_count": 55,
   "metadata": {
    "hidden": true
   },
   "outputs": [
    {
     "data": {
      "text/plain": [
       "(154, 9)"
      ]
     },
     "execution_count": 55,
     "metadata": {},
     "output_type": "execute_result"
    }
   ],
   "source": [
    "df_preallo2[df_preallo2['WaitTime']>=10].shape"
   ]
  },
  {
   "cell_type": "markdown",
   "metadata": {},
   "source": [
    "## 2019-12 to 2020-02 80th percentile"
   ]
  },
  {
   "cell_type": "code",
   "execution_count": 82,
   "metadata": {},
   "outputs": [
    {
     "data": {
      "image/png": "[encoded data removed]",
      "text/plain": [
       "<Figure size 648x360 with 1 Axes>"
      ]
     },
     "metadata": {
      "needs_background": "light"
     },
     "output_type": "display_data"
    },
    {
     "name": "stdout",
     "output_type": "stream",
     "text": [
      "mean:  7.580043072505384\n",
      "std:  4.203799355479744\n",
      "wait time quantiles:\n",
      " 0.10     2.0\n",
      "0.50     8.0\n",
      "0.75    10.0\n",
      "Name: ModelWaitTime, dtype: float64\n",
      "number of exceed:  129\n",
      "urgent:  5.141666666666667\n",
      "urgent & palliative:  4.548951048951049\n",
      "objective value: 193\n",
      "total computational time: 300.99 s\n"
     ]
    }
   ],
   "source": [
    "# minimise sum of z[j]\n",
    "df_preallo2 = pd.read_excel('record_201912_202003_80p_weightedObj.xlsx')\n",
    "#df_preallo2 = df_preallo2[df_preallo2['CreatedDate']>='2019-12-01']\n",
    "#df_preallo2 = pd.read_excel('record_2021912_202003_80p_util.xlsx')\n",
    "plt.figure(figsize=[9,5])\n",
    "bins = range(0,24)\n",
    "\n",
    "y = df_preallo2['ModelWaitTime']\n",
    "plt.hist(y, bins = bins, alpha=0.5, edgecolor='black', align='left')\n",
    "\n",
    "plt.xlabel('wait time')\n",
    "plt.ylabel('frequency')\n",
    "plt.title('wait time distribution of patient z[j]')\n",
    "plt.xticks(fontsize=10)\n",
    "plt.yticks(fontsize=10)\n",
    "\n",
    "plt.show()\n",
    "\n",
    "print('mean: ', df_preallo2['ModelWaitTime'].mean())\n",
    "print('std: ', df_preallo2['ModelWaitTime'].std())\n",
    "print('wait time quantiles:\\n', df_preallo2['ModelWaitTime'].quantile([.1, .5, .75]))\n",
    "print('number of exceed: ', len(df_preallo2[df_preallo2['ModelWaitTime']>10]))\n",
    "print('urgent: ', df_preallo2[df_preallo2['Category']=='Urgent 2']['ModelWaitTime'].mean())\n",
    "print('urgent & palliative: ', df_preallo2[(df_preallo2['Category']=='Urgent 2')&\n",
    "                                           (df_preallo2['Intent']=='Palliative')]['ModelWaitTime'].mean())\n",
    "print('objective value: 193')\n",
    "print('total computational time: 300.99 s')"
   ]
  },
  {
   "cell_type": "code",
   "execution_count": 85,
   "metadata": {},
   "outputs": [
    {
     "data": {
      "image/png": "[encoded data removed]",
      "text/plain": [
       "<Figure size 648x360 with 1 Axes>"
      ]
     },
     "metadata": {
      "needs_background": "light"
     },
     "output_type": "display_data"
    },
    {
     "name": "stdout",
     "output_type": "stream",
     "text": [
      "mean:  6.357501794687725\n",
      "std:  3.153856891920834\n",
      "wait time quantiles:\n",
      " 0.10    2.0\n",
      "0.50    6.0\n",
      "0.75    9.0\n",
      "Name: ModelWaitTime, dtype: float64\n",
      "number of exceed:  80\n",
      "urgent:  3.0555555555555554\n",
      "urgent & palliative:  2.6013986013986012\n",
      "objective value: 205\n",
      "total computational time: 307.46 s\n"
     ]
    }
   ],
   "source": [
    "# min sum of (z[j]+O[j])\n",
    "df_preallo2 = pd.read_excel('record_201912_202003_80p_testing_addOj.xlsx')\n",
    "#df_preallo2 = df_preallo2[df_preallo2['CreatedDate']>='2019-12-01']\n",
    "#df_preallo2 = pd.read_excel('record_2021912_202003_80p_util.xlsx')\n",
    "plt.figure(figsize=[9,5])\n",
    "bins = range(0,24)\n",
    "\n",
    "y = df_preallo2['ModelWaitTime']\n",
    "plt.hist(y, bins = bins, alpha=0.5, edgecolor='black', align='left')\n",
    "\n",
    "plt.xlabel('wait time')\n",
    "plt.ylabel('frequency')\n",
    "plt.title('wait time distribution of patient z[j]+O[j]')\n",
    "plt.xticks(fontsize=10)\n",
    "plt.yticks(fontsize=10)\n",
    "\n",
    "plt.show()\n",
    "\n",
    "print('mean: ', df_preallo2['ModelWaitTime'].mean())\n",
    "print('std: ', df_preallo2['ModelWaitTime'].std())\n",
    "print('wait time quantiles:\\n', df_preallo2['ModelWaitTime'].quantile([.1, .5, .75]))\n",
    "print('number of exceed: ', len(df_preallo2[df_preallo2['ModelWaitTime']>10]))\n",
    "print('urgent: ', df_preallo2[df_preallo2['Category']=='Urgent 2']['ModelWaitTime'].mean())\n",
    "print('urgent & palliative: ', df_preallo2[(df_preallo2['Category']=='Urgent 2')&\n",
    "                                           (df_preallo2['Intent']=='Palliative')]['ModelWaitTime'].mean())\n",
    "print('objective value: 205')\n",
    "print('total computational time: 307.46 s')\n"
   ]
  },
  {
   "cell_type": "code",
   "execution_count": 86,
   "metadata": {},
   "outputs": [
    {
     "data": {
      "image/png": "[encoded data removed]",
      "text/plain": [
       "<Figure size 648x360 with 1 Axes>"
      ]
     },
     "metadata": {
      "needs_background": "light"
     },
     "output_type": "display_data"
    },
    {
     "name": "stdout",
     "output_type": "stream",
     "text": [
      "mean:  6.39124192390524\n",
      "std:  3.1622518928926584\n",
      "wait time quantiles:\n",
      " 0.10    2.0\n",
      "0.50    6.0\n",
      "0.75    9.0\n",
      "Name: ModelWaitTime, dtype: float64\n",
      "number of exceed:  80\n",
      "urgent:  3.047222222222222\n",
      "urgent & palliative:  2.5839160839160837\n",
      "objective value: 205\n",
      "total computational time: 307.43 s\n"
     ]
    }
   ],
   "source": [
    "# min sum of ( 0.6z[j]+0.4*O[j] )\n",
    "df_preallo2 = pd.read_excel('record_201912_202003_80p_testing_weightedObj.xlsx')\n",
    "#df_preallo2 = df_preallo2[df_preallo2['CreatedDate']>='2019-12-01']\n",
    "#df_preallo2 = pd.read_excel('record_2021912_202003_80p_util.xlsx')\n",
    "plt.figure(figsize=[9,5])\n",
    "bins = range(0,24)\n",
    "\n",
    "y = df_preallo2['ModelWaitTime']\n",
    "plt.hist(y, bins = bins, alpha=0.5, edgecolor='black', align='left')\n",
    "\n",
    "plt.xlabel('wait time')\n",
    "plt.ylabel('frequency')\n",
    "plt.title('wait time distribution of patient 0.6z[j]+0.4*O[j]')\n",
    "plt.xticks(fontsize=10)\n",
    "plt.yticks(fontsize=10)\n",
    "\n",
    "plt.show()\n",
    "\n",
    "print('mean: ', df_preallo2['ModelWaitTime'].mean())\n",
    "print('std: ', df_preallo2['ModelWaitTime'].std())\n",
    "print('wait time quantiles:\\n', df_preallo2['ModelWaitTime'].quantile([.1, .5, .75]))\n",
    "print('number of exceed: ', len(df_preallo2[df_preallo2['ModelWaitTime']>10]))\n",
    "print('urgent: ', df_preallo2[df_preallo2['Category']=='Urgent 2']['ModelWaitTime'].mean())\n",
    "print('urgent & palliative: ', df_preallo2[(df_preallo2['Category']=='Urgent 2')&\n",
    "                                           (df_preallo2['Intent']=='Palliative')]['ModelWaitTime'].mean())\n",
    "print('objective value: 205')\n",
    "print('total computational time: 307.43 s')\n"
   ]
  },
  {
   "cell_type": "code",
   "execution_count": 83,
   "metadata": {},
   "outputs": [
    {
     "data": {
      "image/png": "[encoded data removed]",
      "text/plain": [
       "<Figure size 648x360 with 1 Axes>"
      ]
     },
     "metadata": {
      "needs_background": "light"
     },
     "output_type": "display_data"
    },
    {
     "name": "stdout",
     "output_type": "stream",
     "text": [
      "mean:  6.78391959798995\n",
      "std:  3.162273093831028\n",
      "wait time quantiles:\n",
      " 0.10     2.0\n",
      "0.50     7.0\n",
      "0.75    10.0\n",
      "Name: ModelWaitTime, dtype: float64\n",
      "number of exceed:  82\n",
      "urgent:  3.186111111111111\n",
      "urgent & palliative:  2.762237762237762\n",
      "objective value: 234\n",
      "total computational time: 561.5 s\n"
     ]
    }
   ],
   "source": [
    "# min sum of z[j] first and add new constr\n",
    "df_preallo2 = pd.read_excel('record_201912_202003_80p_2Phases.xlsx')\n",
    "#df_preallo2 = df_preallo2[df_preallo2['CreatedDate']>='2019-12-01']\n",
    "#df_preallo2 = pd.read_excel('record_2021912_202003_80p_util.xlsx')\n",
    "plt.figure(figsize=[9,5])\n",
    "bins = range(0,24)\n",
    "\n",
    "y = df_preallo2['ModelWaitTime']\n",
    "plt.hist(y, bins = bins, alpha=0.5, edgecolor='black', align='left')\n",
    "\n",
    "plt.xlabel('wait time')\n",
    "plt.ylabel('frequency')\n",
    "plt.title('wait time distribution of model_2phases')\n",
    "plt.xticks(fontsize=10)\n",
    "plt.yticks(fontsize=10)\n",
    "\n",
    "plt.show()\n",
    "\n",
    "print('mean: ', df_preallo2['ModelWaitTime'].mean())\n",
    "print('std: ', df_preallo2['ModelWaitTime'].std())\n",
    "print('wait time quantiles:\\n', df_preallo2['ModelWaitTime'].quantile([.1, .5, .75]))\n",
    "print('number of exceed: ', len(df_preallo2[df_preallo2['ModelWaitTime']>10]))\n",
    "print('urgent: ', df_preallo2[df_preallo2['Category']=='Urgent 2']['ModelWaitTime'].mean())\n",
    "print('urgent & palliative: ', df_preallo2[(df_preallo2['Category']=='Urgent 2')&\n",
    "                                           (df_preallo2['Intent']=='Palliative')]['ModelWaitTime'].mean())\n",
    "print('objective value: 234')\n",
    "print('total computational time: 561.5 s') #2019-11 to 2020-02\n"
   ]
  },
  {
   "cell_type": "code",
   "execution_count": 94,
   "metadata": {},
   "outputs": [
    {
     "data": {
      "image/png": "[encoded data removed]",
      "text/plain": [
       "<Figure size 648x360 with 1 Axes>"
      ]
     },
     "metadata": {
      "needs_background": "light"
     },
     "output_type": "display_data"
    },
    {
     "name": "stdout",
     "output_type": "stream",
     "text": [
      "mean:  6.254318618042227\n",
      "std:  3.0499532391525426\n",
      "wait time quantiles:\n",
      " 0.10    2.0\n",
      "0.50    6.0\n",
      "0.75    9.0\n",
      "Name: ModelWaitTime, dtype: float64\n",
      "number of exceed:  41\n",
      "urgent:  2.9738805970149254\n",
      "urgent & palliative:  2.5305164319248825\n",
      "objective value of sum z: 172\n",
      "total computational time: 425.5 s\n"
     ]
    }
   ],
   "source": [
    "# min sum of z[j] first and add new constr\n",
    "df_preallo2 = pd.read_excel('record_201912_202003_80p_2Phases_2.xlsx') # 19-12 to 20-02\n",
    "#df_preallo2 = df_preallo2[df_preallo2['CreatedDate']>='2019-12-01']\n",
    "#df_preallo2 = pd.read_excel('record_2021912_202003_80p_util.xlsx')\n",
    "plt.figure(figsize=[9,5])\n",
    "bins = range(0,24)\n",
    "\n",
    "y = df_preallo2['ModelWaitTime']\n",
    "plt.hist(y, bins = bins, alpha=0.5, edgecolor='black', align='left')\n",
    "\n",
    "plt.xlabel('wait time')\n",
    "plt.ylabel('frequency')\n",
    "plt.title('wait time distribution of model_2phases')\n",
    "plt.xticks(fontsize=10)\n",
    "plt.yticks(fontsize=10)\n",
    "\n",
    "plt.show()\n",
    "\n",
    "print('mean: ', df_preallo2['ModelWaitTime'].mean())\n",
    "print('std: ', df_preallo2['ModelWaitTime'].std())\n",
    "print('wait time quantiles:\\n', df_preallo2['ModelWaitTime'].quantile([.1, .5, .75]))\n",
    "print('number of exceed: ', len(df_preallo2[df_preallo2['ModelWaitTime']>10]))\n",
    "print('urgent: ', df_preallo2[df_preallo2['Category']=='Urgent 2']['ModelWaitTime'].mean())\n",
    "print('urgent & palliative: ', df_preallo2[(df_preallo2['Category']=='Urgent 2')&\n",
    "                                           (df_preallo2['Intent']=='Palliative')]['ModelWaitTime'].mean())\n",
    "print('objective value of sum z: 172')\n",
    "print('total computational time: 425.5 s') #2019-11 to 2020-02"
   ]
  },
  {
   "cell_type": "code",
   "execution_count": 90,
   "metadata": {},
   "outputs": [
    {
     "data": {
      "image/png": "[encoded data removed]",
      "text/plain": [
       "<Figure size 648x360 with 1 Axes>"
      ]
     },
     "metadata": {
      "needs_background": "light"
     },
     "output_type": "display_data"
    },
    {
     "name": "stdout",
     "output_type": "stream",
     "text": [
      "mean:  8.271593090211132\n",
      "std:  3.47076982597374\n",
      "wait time quantiles:\n",
      " 0.10     5.0\n",
      "0.50     7.0\n",
      "0.75    10.0\n",
      "Name: ModelWaitTime, dtype: float64\n",
      "number of exceed:  222\n",
      "urgent:  5.164179104477612\n",
      "urgent & palliative:  4.71830985915493\n",
      "objective value of sum z: 554\n",
      "total computational time: 469.1 s\n"
     ]
    }
   ],
   "source": [
    "# min sum of z[j] first and add new constr\n",
    "df_preallo2 = pd.read_excel('record_201912_202003_80p_2Phases_90p.xlsx') # 19-12 to 20-02\n",
    "#df_preallo2 = df_preallo2[df_preallo2['CreatedDate']>='2019-12-01']\n",
    "#df_preallo2 = pd.read_excel('record_2021912_202003_80p_util.xlsx')\n",
    "plt.figure(figsize=[9,5])\n",
    "bins = range(0,24)\n",
    "\n",
    "y = df_preallo2['ModelWaitTime']\n",
    "plt.hist(y, bins = bins, alpha=0.5, edgecolor='black', align='left')\n",
    "\n",
    "plt.xlabel('wait time')\n",
    "plt.ylabel('frequency')\n",
    "plt.title('wait time distribution of model_2phases_90p')\n",
    "plt.xticks(fontsize=10)\n",
    "plt.yticks(fontsize=10)\n",
    "\n",
    "plt.show()\n",
    "\n",
    "print('mean: ', df_preallo2['ModelWaitTime'].mean())\n",
    "print('std: ', df_preallo2['ModelWaitTime'].std())\n",
    "print('wait time quantiles:\\n', df_preallo2['ModelWaitTime'].quantile([.1, .5, .75]))\n",
    "print('number of exceed: ', len(df_preallo2[df_preallo2['ModelWaitTime']>10]))\n",
    "print('urgent: ', df_preallo2[df_preallo2['Category']=='Urgent 2']['ModelWaitTime'].mean())\n",
    "print('urgent & palliative: ', df_preallo2[(df_preallo2['Category']=='Urgent 2')&\n",
    "                                           (df_preallo2['Intent']=='Palliative')]['ModelWaitTime'].mean())\n",
    "print('objective value of sum z: 554')\n",
    "print('total computational time: 469.1 s') #2019-11 to 2020-02"
   ]
  },
  {
   "cell_type": "code",
   "execution_count": 4,
   "metadata": {},
   "outputs": [
    {
     "data": {
      "image/png": "[encoded data removed]",
      "text/plain": [
       "<Figure size 648x360 with 1 Axes>"
      ]
     },
     "metadata": {
      "needs_background": "light"
     },
     "output_type": "display_data"
    },
    {
     "name": "stdout",
     "output_type": "stream",
     "text": [
      "mean:  8.820537428023032\n",
      "std:  6.4359282492452925\n",
      "wait time quantiles:\n",
      " 0.10     2.0\n",
      "0.50    10.0\n",
      "0.75    10.0\n",
      "Name: ModelWaitTime, dtype: float64\n",
      "number of exceed:  147\n",
      "urgent:  6.604477611940299\n",
      "urgent & palliative:  5.71830985915493\n",
      "objective value of sum z: 163\n",
      "total computational time: 846 s\n"
     ]
    }
   ],
   "source": [
    "# min sum of z[j] first and add new constr\n",
    "df_preallo2 = pd.read_excel('record_201912_202003_80p_Batching_2phases_longer_time.xlsx') # 19-12 to 20-02\n",
    "#df_preallo2 = df_preallo2[df_preallo2['CreatedDate']>='2019-12-01']\n",
    "#df_preallo2 = pd.read_excel('record_2021912_202003_80p_util.xlsx')\n",
    "plt.figure(figsize=[9,5])\n",
    "bins = range(0,24)\n",
    "\n",
    "y = df_preallo2['ModelWaitTime']\n",
    "plt.hist(y, bins = bins, alpha=0.5, edgecolor='black', align='left')\n",
    "\n",
    "plt.xlabel('wait time')\n",
    "plt.ylabel('frequency')\n",
    "plt.title('wait time distribution of model one week batch')\n",
    "plt.xticks(fontsize=10)\n",
    "plt.yticks(fontsize=10)\n",
    "\n",
    "plt.show()\n",
    "\n",
    "print('mean: ', df_preallo2['ModelWaitTime'].mean())\n",
    "print('std: ', df_preallo2['ModelWaitTime'].std())\n",
    "print('wait time quantiles:\\n', df_preallo2['ModelWaitTime'].quantile([.1, .5, .75]))\n",
    "print('number of exceed: ', len(df_preallo2[df_preallo2['ModelWaitTime']>10]))\n",
    "print('urgent: ', df_preallo2[df_preallo2['Category']=='Urgent 2']['ModelWaitTime'].mean())\n",
    "print('urgent & palliative: ', df_preallo2[(df_preallo2['Category']=='Urgent 2')&\n",
    "                                           (df_preallo2['Intent']=='Palliative')]['ModelWaitTime'].mean())\n",
    "print('objective value of sum z: 163')\n",
    "print('total computational time: 846 s') #2019-11 to 2020-02"
   ]
  },
  {
   "cell_type": "code",
   "execution_count": 97,
   "metadata": {},
   "outputs": [
    {
     "data": {
      "image/png": "[encoded data removed]",
      "text/plain": [
       "<Figure size 648x360 with 1 Axes>"
      ]
     },
     "metadata": {
      "needs_background": "light"
     },
     "output_type": "display_data"
    },
    {
     "name": "stdout",
     "output_type": "stream",
     "text": [
      "mean:  7.619961612284069\n",
      "std:  4.24416928375716\n",
      "wait time quantiles:\n",
      " 0.10     2.0\n",
      "0.50    10.0\n",
      "0.75    10.0\n",
      "Name: ModelWaitTime, dtype: float64\n",
      "number of exceed:  133\n",
      "urgent:  3.0970149253731343\n",
      "urgent & palliative:  2.6901408450704225\n",
      "objective value of sum z: 163\n",
      "total computational time: 846 s\n"
     ]
    }
   ],
   "source": [
    "# min sum of z[j] first and add new constr\n",
    "df_preallo2 = pd.read_excel('record_201912_202003_80p_batching_z_add_O.xlsx') # 19-12 to 20-02\n",
    "#df_preallo2 = df_preallo2[df_preallo2['CreatedDate']>='2019-12-01']\n",
    "#df_preallo2 = pd.read_excel('record_2021912_202003_80p_util.xlsx')\n",
    "plt.figure(figsize=[9,5])\n",
    "bins = range(0,24)\n",
    "\n",
    "y = df_preallo2['ModelWaitTime']\n",
    "plt.hist(y, bins = bins, alpha=0.5, edgecolor='black', align='left')\n",
    "\n",
    "plt.xlabel('wait time')\n",
    "plt.ylabel('frequency')\n",
    "plt.title('wait time distribution of model one week batch')\n",
    "plt.xticks(fontsize=10)\n",
    "plt.yticks(fontsize=10)\n",
    "\n",
    "plt.show()\n",
    "\n",
    "print('mean: ', df_preallo2['ModelWaitTime'].mean())\n",
    "print('std: ', df_preallo2['ModelWaitTime'].std())\n",
    "print('wait time quantiles:\\n', df_preallo2['ModelWaitTime'].quantile([.1, .5, .75]))\n",
    "print('number of exceed: ', len(df_preallo2[df_preallo2['ModelWaitTime']>10]))\n",
    "print('urgent: ', df_preallo2[df_preallo2['Category']=='Urgent 2']['ModelWaitTime'].mean())\n",
    "print('urgent & palliative: ', df_preallo2[(df_preallo2['Category']=='Urgent 2')&\n",
    "                                           (df_preallo2['Intent']=='Palliative')]['ModelWaitTime'].mean())\n",
    "print('objective value of sum z: 163')\n",
    "print('total computational time: 846 s') #2019-11 to 2020-02"
   ]
  },
  {
   "cell_type": "code",
   "execution_count": 29,
   "metadata": {},
   "outputs": [
    {
     "data": {
      "text/plain": [
       "0.9068650793650794"
      ]
     },
     "execution_count": 29,
     "metadata": {},
     "output_type": "execute_result"
    }
   ],
   "source": [
    "#df_hours= pd.read_excel('record_201912_202003_80p_Batching_3d_singleobj.xlsx')\n",
    "df_hours = pd.read_excel('record_2019_2020_80p_heuristics_MIP_addp.xlsx')\n",
    "util_cal = df_hours.groupby(['LinacUnit','endDate'])['hours'].agg('sum').reset_index()\n",
    "\n",
    "util_cal['year'] = df_hours['CreatedDate'].dt.year\n",
    "util_cal['month'] = df_hours['CreatedDate'].dt.month\n",
    "util_cal['date']= util_cal['year'].astype(str) + util_cal['month'].astype(str).str.zfill(2)\n",
    "util_cal['Date'] = pd.to_datetime(util_cal['date'], format='%Y%m')\n",
    "\n",
    "hours = util_cal.groupby(['LinacUnit'])['hours'].agg('sum').reset_index()\n",
    "hours['util']=hours['hours']/(20*10*3)\n",
    "hours['util'].mean()\n"
   ]
  },
  {
   "cell_type": "code",
   "execution_count": 15,
   "metadata": {},
   "outputs": [
    {
     "data": {
      "text/plain": [
       "0.5858940972222223"
      ]
     },
     "execution_count": 15,
     "metadata": {},
     "output_type": "execute_result"
    }
   ],
   "source": [
    "df_mins = pd.read_excel('util_202003_202006_80p_Batching.xlsx')\n",
    "\n",
    "df_mins['MonthlyAvg'] = df_mins['totalMinutes']/(3*60)\n",
    "df_mins['AvgUtil'] = df_mins['MonthlyAvg']/(20*10)\n",
    "df_mins['AvgUtil'].mean()"
   ]
  },
  {
   "cell_type": "code",
   "execution_count": 448,
   "metadata": {},
   "outputs": [
    {
     "data": {
      "image/png": "[encoded data removed]",
      "text/plain": [
       "<Figure size 648x360 with 1 Axes>"
      ]
     },
     "metadata": {
      "needs_background": "light"
     },
     "output_type": "display_data"
    }
   ],
   "source": [
    "df_preallo2 = pd.read_excel('record_2021912_202003_80p_util.xlsx')\n",
    "plt.figure(figsize=[9,5])\n",
    "bins = range(0,24)\n",
    "\n",
    "y = df_preallo2['ModelWaitTime']\n",
    "plt.hist(y, bins = bins, alpha=0.5, edgecolor='black', align='left')\n",
    "\n",
    "plt.xlabel('wait time')\n",
    "plt.ylabel('frequency')\n",
    "plt.title('wait time distribution of base case')\n",
    "plt.xticks(fontsize=10)\n",
    "plt.yticks(fontsize=10)\n",
    "\n",
    "plt.show()"
   ]
  },
  {
   "cell_type": "code",
   "execution_count": 430,
   "metadata": {},
   "outputs": [
    {
     "name": "stdout",
     "output_type": "stream",
     "text": [
      "mean:  5.575815738963532\n",
      "std:  2.9233747024515453\n",
      "wait time quantiles:\n",
      " 0.10    2.0\n",
      "0.50    5.0\n",
      "0.75    8.0\n",
      "Name: ModelWaitTime, dtype: float64\n",
      "number of exceed:  54\n",
      "urgent:  2.675373134328358\n",
      "urgent & palliative:  2.1455399061032865\n"
     ]
    }
   ],
   "source": [
    "print('mean: ', df_preallo2['ModelWaitTime'].mean())\n",
    "print('std: ', df_preallo2['ModelWaitTime'].std())\n",
    "print('wait time quantiles:\\n', df_preallo2['ModelWaitTime'].quantile([.1, .5, .75]))\n",
    "print('number of exceed: ', len(df_preallo2[df_preallo2['ModelWaitTime']>10]))\n",
    "print('urgent: ', df_preallo2[df_preallo2['Category']=='Urgent 2']['ModelWaitTime'].mean())\n",
    "print('urgent & palliative: ', df_preallo2[(df_preallo2['Category']=='Urgent 2')&\n",
    "                                           (df_preallo2['Intent']=='Palliative')]['ModelWaitTime'].mean())"
   ]
  },
  {
   "cell_type": "code",
   "execution_count": 431,
   "metadata": {},
   "outputs": [
    {
     "data": {
      "text/plain": [
       "LinacUnit\n",
       "1     0.454792\n",
       "2     0.245000\n",
       "3     0.492500\n",
       "4     0.433958\n",
       "5     0.545417\n",
       "6     0.528750\n",
       "7     0.797083\n",
       "8     0.589792\n",
       "9     0.372917\n",
       "10    0.445833\n",
       "11    1.181458\n",
       "12    1.072292\n",
       "15    0.672917\n",
       "16    0.750208\n",
       "17    0.807083\n",
       "Name: AvgUtil, dtype: float64"
      ]
     },
     "execution_count": 431,
     "metadata": {},
     "output_type": "execute_result"
    }
   ],
   "source": [
    "df_preallo2['totalHours'] = df_preallo2['TxDuration']*df_preallo2['numFracIn3Months']/60\n",
    "df_base_linac = df_preallo2.groupby(['CreatedDate','LinacUnit'])['totalHours'].agg('sum').reset_index()\n",
    "df_base_linac['year'] = df_preallo2['CreatedDate'].dt.year\n",
    "df_base_linac['month'] = df_preallo2['CreatedDate'].dt.month\n",
    "df_base_linac['date']= df_base_linac['year'].astype(str) + df_base_linac['month'].astype(str).str.zfill(2)\n",
    "df_base_linac['Date'] = pd.to_datetime(df_base_linac['date'], format='%Y%m')\n",
    "\n",
    "util_base = df_base_linac.groupby(['Date','LinacUnit'])['totalHours'].agg('sum').reset_index()\n",
    "util_base['AvgUtil'] = util_base['totalHours']/(20*10)\n",
    "util_base.sort_values(by=['LinacUnit'])\n",
    "util_2m = util_base[(util_base['Date']<'2020-03-01')&(util_base['Date']>'2019-12-01')]\n",
    "util_2m.groupby(['LinacUnit'])['AvgUtil'].agg('mean')"
   ]
  },
  {
   "cell_type": "code",
   "execution_count": 432,
   "metadata": {},
   "outputs": [
    {
     "data": {
      "text/plain": [
       "0.888013888888889"
      ]
     },
     "execution_count": 432,
     "metadata": {},
     "output_type": "execute_result"
    }
   ],
   "source": [
    "util_cal = df_preallo2.groupby(['LinacUnit','BookApptDate'])['hours'].agg('sum').reset_index()\n",
    "\n",
    "util_cal['year'] = df_preallo2['CreatedDate'].dt.year\n",
    "util_cal['month'] = df_preallo2['CreatedDate'].dt.month\n",
    "util_cal['date']= util_cal['year'].astype(str) + util_cal['month'].astype(str).str.zfill(2)\n",
    "util_cal['Date'] = pd.to_datetime(util_cal['date'], format='%Y%m')\n",
    "\n",
    "hours = util_cal.groupby(['LinacUnit'])['hours'].agg('sum').reset_index()\n",
    "hours['util']=hours['hours']/(20*10*2)\n",
    "hours['util'].mean()"
   ]
  },
  {
   "cell_type": "code",
   "execution_count": 249,
   "metadata": {},
   "outputs": [],
   "source": [
    "df_mins = pd.read_excel('util_201912_202002_80p.xlsx')\n",
    "\n",
    "df_mins['MonthlyAvg'] = df_mins['totalMinutes']/(3*60)\n",
    "df_mins['AvgUtil'] = df_mins['MonthlyAvg']/(20*10)\n",
    "df_mins"
   ]
  },
  {
   "cell_type": "markdown",
   "metadata": {},
   "source": [
    "## 2019-12 to 2020-02 90th percentile"
   ]
  },
  {
   "cell_type": "code",
   "execution_count": 411,
   "metadata": {},
   "outputs": [
    {
     "data": {
      "image/png": "[encoded data removed]",
      "text/plain": [
       "<Figure size 648x360 with 1 Axes>"
      ]
     },
     "metadata": {
      "needs_background": "light"
     },
     "output_type": "display_data"
    }
   ],
   "source": [
    "#df_preallo2 = pd.read_excel('record_201902_202002_80p.xlsx')\n",
    "df_90p = pd.read_excel('record_2021912_202003_90p_util.xlsx')\n",
    "plt.figure(figsize=[9,5])\n",
    "bins = range(0,24)\n",
    "\n",
    "y = df_90p['ModelWaitTime']\n",
    "plt.hist(y, bins = bins, alpha=0.5, edgecolor='black', align='left')\n",
    "\n",
    "plt.xlabel('wait time')\n",
    "plt.ylabel('frequency')\n",
    "plt.title('wait time distribution of base case')\n",
    "plt.xticks(fontsize=10)\n",
    "plt.yticks(fontsize=10)\n",
    "\n",
    "plt.show()"
   ]
  },
  {
   "cell_type": "code",
   "execution_count": 412,
   "metadata": {},
   "outputs": [
    {
     "name": "stdout",
     "output_type": "stream",
     "text": [
      "mean:  8.764875239923224\n",
      "std:  4.01095934224355\n",
      "wait time quantiles:\n",
      " 0.10     5.0\n",
      "0.50     8.0\n",
      "0.75    11.0\n",
      "Name: ModelWaitTime, dtype: float64\n",
      "number of exceed:  280\n",
      "urgent:  5.130597014925373\n",
      "urgent & palliative:  4.652582159624413\n"
     ]
    }
   ],
   "source": [
    "print('mean: ', df_90p['ModelWaitTime'].mean())\n",
    "print('std: ', df_90p['ModelWaitTime'].std())\n",
    "print('wait time quantiles:\\n', df_90p['ModelWaitTime'].quantile([.1, .5, .75]))\n",
    "print('number of exceed: ', len(df_90p[df_90p['ModelWaitTime']>10]))\n",
    "print('urgent: ', df_90p[df_90p['Category']=='Urgent 2']['ModelWaitTime'].mean())\n",
    "print('urgent & palliative: ', df_90p[(df_90p['Category']=='Urgent 2')&\n",
    "                                    (df_90p['Intent']=='Palliative')]['ModelWaitTime'].mean())"
   ]
  },
  {
   "cell_type": "code",
   "execution_count": 377,
   "metadata": {},
   "outputs": [
    {
     "data": {
      "text/plain": [
       "LinacUnit\n",
       "1     0.776250\n",
       "2     0.382500\n",
       "3     0.683958\n",
       "4     0.617083\n",
       "5     0.932917\n",
       "6     1.012708\n",
       "7     0.892500\n",
       "8     1.067083\n",
       "9     0.248125\n",
       "10    0.791875\n",
       "11    1.178333\n",
       "12    1.281875\n",
       "15    0.843125\n",
       "16    1.230208\n",
       "17    1.271667\n",
       "Name: AvgUtil, dtype: float64"
      ]
     },
     "execution_count": 377,
     "metadata": {},
     "output_type": "execute_result"
    }
   ],
   "source": [
    "df_90p['totalHours'] = df_90p['TxDuration']*df_90p['numFracsin3Months']/60\n",
    "df_base_linac = df_90p.groupby(['CreatedDate','LinacUnit'])['totalHours'].agg('sum').reset_index()\n",
    "df_base_linac['year'] = df_90p['CreatedDate'].dt.year\n",
    "df_base_linac['month'] = df_90p['CreatedDate'].dt.month\n",
    "df_base_linac['date']= df_base_linac['year'].astype(str) + df_base_linac['month'].astype(str).str.zfill(2)\n",
    "df_base_linac['Date'] = pd.to_datetime(df_base_linac['date'], format='%Y%m')\n",
    "\n",
    "util_base = df_base_linac.groupby(['Date','LinacUnit'])['totalHours'].agg('sum').reset_index()\n",
    "util_base['AvgUtil'] = util_base['totalHours']/(20*10)\n",
    "util_base.sort_values(by=['LinacUnit'])\n",
    "util_2m = util_base[util_base['Date']<'2020-03-01']\n",
    "util_2m.groupby(['LinacUnit'])['AvgUtil'].agg('mean')"
   ]
  },
  {
   "cell_type": "code",
   "execution_count": 416,
   "metadata": {},
   "outputs": [],
   "source": [
    "util_cal = df_90p.groupby(['LinacUnit','BookApptDate'])['hours'].agg('sum').reset_index()\n",
    "\n",
    "util_cal['year'] = df_90p['CreatedDate'].dt.year\n",
    "util_cal['month'] = df_90p['CreatedDate'].dt.month\n",
    "util_cal['date']= util_cal['year'].astype(str) + util_cal['month'].astype(str).str.zfill(2)\n",
    "util_cal['Date'] = pd.to_datetime(util_cal['date'], format='%Y%m')"
   ]
  },
  {
   "cell_type": "code",
   "execution_count": 434,
   "metadata": {},
   "outputs": [
    {
     "data": {
      "text/plain": [
       "0.888013888888889"
      ]
     },
     "execution_count": 434,
     "metadata": {},
     "output_type": "execute_result"
    }
   ],
   "source": [
    "hours = util_cal.groupby(['LinacUnit'])['hours'].agg('sum').reset_index()\n",
    "hours['util']=hours['hours']/(20*10*2)\n",
    "hours['util'].mean()"
   ]
  },
  {
   "cell_type": "code",
   "execution_count": 260,
   "metadata": {},
   "outputs": [
    {
     "data": {
      "text/html": [
       "<div>\n",
       "<style scoped>\n",
       "    .dataframe tbody tr th:only-of-type {\n",
       "        vertical-align: middle;\n",
       "    }\n",
       "\n",
       "    .dataframe tbody tr th {\n",
       "        vertical-align: top;\n",
       "    }\n",
       "\n",
       "    .dataframe thead th {\n",
       "        text-align: right;\n",
       "    }\n",
       "</style>\n",
       "<table border=\"1\" class=\"dataframe\">\n",
       "  <thead>\n",
       "    <tr style=\"text-align: right;\">\n",
       "      <th></th>\n",
       "      <th>Unit</th>\n",
       "      <th>totalMinutes</th>\n",
       "      <th>MonthlyAvg</th>\n",
       "      <th>AvgUtil</th>\n",
       "    </tr>\n",
       "  </thead>\n",
       "  <tbody>\n",
       "    <tr>\n",
       "      <th>0</th>\n",
       "      <td>1</td>\n",
       "      <td>41840</td>\n",
       "      <td>232.444444</td>\n",
       "      <td>1.162222</td>\n",
       "    </tr>\n",
       "    <tr>\n",
       "      <th>1</th>\n",
       "      <td>2</td>\n",
       "      <td>10215</td>\n",
       "      <td>56.750000</td>\n",
       "      <td>0.283750</td>\n",
       "    </tr>\n",
       "    <tr>\n",
       "      <th>2</th>\n",
       "      <td>3</td>\n",
       "      <td>27670</td>\n",
       "      <td>153.722222</td>\n",
       "      <td>0.768611</td>\n",
       "    </tr>\n",
       "    <tr>\n",
       "      <th>3</th>\n",
       "      <td>4</td>\n",
       "      <td>28500</td>\n",
       "      <td>158.333333</td>\n",
       "      <td>0.791667</td>\n",
       "    </tr>\n",
       "    <tr>\n",
       "      <th>4</th>\n",
       "      <td>5</td>\n",
       "      <td>27460</td>\n",
       "      <td>152.555556</td>\n",
       "      <td>0.762778</td>\n",
       "    </tr>\n",
       "    <tr>\n",
       "      <th>5</th>\n",
       "      <td>6</td>\n",
       "      <td>23015</td>\n",
       "      <td>127.861111</td>\n",
       "      <td>0.639306</td>\n",
       "    </tr>\n",
       "    <tr>\n",
       "      <th>6</th>\n",
       "      <td>7</td>\n",
       "      <td>24065</td>\n",
       "      <td>133.694444</td>\n",
       "      <td>0.668472</td>\n",
       "    </tr>\n",
       "    <tr>\n",
       "      <th>7</th>\n",
       "      <td>8</td>\n",
       "      <td>27355</td>\n",
       "      <td>151.972222</td>\n",
       "      <td>0.759861</td>\n",
       "    </tr>\n",
       "    <tr>\n",
       "      <th>8</th>\n",
       "      <td>9</td>\n",
       "      <td>10900</td>\n",
       "      <td>60.555556</td>\n",
       "      <td>0.302778</td>\n",
       "    </tr>\n",
       "    <tr>\n",
       "      <th>9</th>\n",
       "      <td>10</td>\n",
       "      <td>17935</td>\n",
       "      <td>99.638889</td>\n",
       "      <td>0.498194</td>\n",
       "    </tr>\n",
       "    <tr>\n",
       "      <th>10</th>\n",
       "      <td>11</td>\n",
       "      <td>32795</td>\n",
       "      <td>182.194444</td>\n",
       "      <td>0.910972</td>\n",
       "    </tr>\n",
       "    <tr>\n",
       "      <th>11</th>\n",
       "      <td>12</td>\n",
       "      <td>59355</td>\n",
       "      <td>329.750000</td>\n",
       "      <td>1.648750</td>\n",
       "    </tr>\n",
       "    <tr>\n",
       "      <th>12</th>\n",
       "      <td>14</td>\n",
       "      <td>0</td>\n",
       "      <td>0.000000</td>\n",
       "      <td>0.000000</td>\n",
       "    </tr>\n",
       "    <tr>\n",
       "      <th>13</th>\n",
       "      <td>15</td>\n",
       "      <td>44685</td>\n",
       "      <td>248.250000</td>\n",
       "      <td>1.241250</td>\n",
       "    </tr>\n",
       "    <tr>\n",
       "      <th>14</th>\n",
       "      <td>16</td>\n",
       "      <td>56555</td>\n",
       "      <td>314.194444</td>\n",
       "      <td>1.570972</td>\n",
       "    </tr>\n",
       "    <tr>\n",
       "      <th>15</th>\n",
       "      <td>17</td>\n",
       "      <td>47750</td>\n",
       "      <td>265.277778</td>\n",
       "      <td>1.326389</td>\n",
       "    </tr>\n",
       "  </tbody>\n",
       "</table>\n",
       "</div>"
      ],
      "text/plain": [
       "    Unit  totalMinutes  MonthlyAvg   AvgUtil\n",
       "0      1         41840  232.444444  1.162222\n",
       "1      2         10215   56.750000  0.283750\n",
       "2      3         27670  153.722222  0.768611\n",
       "3      4         28500  158.333333  0.791667\n",
       "4      5         27460  152.555556  0.762778\n",
       "5      6         23015  127.861111  0.639306\n",
       "6      7         24065  133.694444  0.668472\n",
       "7      8         27355  151.972222  0.759861\n",
       "8      9         10900   60.555556  0.302778\n",
       "9     10         17935   99.638889  0.498194\n",
       "10    11         32795  182.194444  0.910972\n",
       "11    12         59355  329.750000  1.648750\n",
       "12    14             0    0.000000  0.000000\n",
       "13    15         44685  248.250000  1.241250\n",
       "14    16         56555  314.194444  1.570972\n",
       "15    17         47750  265.277778  1.326389"
      ]
     },
     "execution_count": 260,
     "metadata": {},
     "output_type": "execute_result"
    }
   ],
   "source": [
    "df_mins = pd.read_excel('util_201912_202002_90p.xlsx')\n",
    "\n",
    "df_mins['MonthlyAvg'] = df_mins['totalMinutes']/(3*60)\n",
    "df_mins['AvgUtil'] = df_mins['MonthlyAvg']/(20*10)\n",
    "df_mins"
   ]
  },
  {
   "cell_type": "markdown",
   "metadata": {},
   "source": [
    "## 2020-03 to 2020-05 80th percentile"
   ]
  },
  {
   "cell_type": "code",
   "execution_count": 435,
   "metadata": {},
   "outputs": [
    {
     "data": {
      "image/png": "[encoded data removed]",
      "text/plain": [
       "<Figure size 648x360 with 1 Axes>"
      ]
     },
     "metadata": {
      "needs_background": "light"
     },
     "output_type": "display_data"
    }
   ],
   "source": [
    "df_preallo2 = pd.read_excel('record_202003_202006_80p_util.xlsx')\n",
    "plt.figure(figsize=[9,5])\n",
    "bins = range(0,24)\n",
    "\n",
    "y = df_preallo2['ModelWaitTime']\n",
    "plt.hist(y, bins = bins, alpha=0.5, edgecolor='black', align='left')\n",
    "\n",
    "plt.xlabel('wait time')\n",
    "plt.ylabel('frequency')\n",
    "plt.title('wait time distribution of base case')\n",
    "plt.xticks(fontsize=10)\n",
    "plt.yticks(fontsize=10)\n",
    "\n",
    "plt.show()"
   ]
  },
  {
   "cell_type": "code",
   "execution_count": 436,
   "metadata": {},
   "outputs": [
    {
     "name": "stdout",
     "output_type": "stream",
     "text": [
      "mean:  5.604012671594509\n",
      "std:  2.8997529879215187\n",
      "wait time quantiles:\n",
      " 0.10    2.0\n",
      "0.50    5.0\n",
      "0.75    8.0\n",
      "Name: ModelWaitTime, dtype: float64\n",
      "number of exceed:  47\n",
      "urgent:  2.411764705882353\n",
      "urgent & palliative:  2.1624365482233503\n"
     ]
    }
   ],
   "source": [
    "print('mean: ', df_preallo2['ModelWaitTime'].mean())\n",
    "print('std: ', df_preallo2['ModelWaitTime'].std())\n",
    "print('wait time quantiles:\\n', df_preallo2['ModelWaitTime'].quantile([.1, .5, .75]))\n",
    "print('number of exceed: ', len(df_preallo2[df_preallo2['ModelWaitTime']>10]))\n",
    "print('urgent: ', df_preallo2[df_preallo2['Category']=='Urgent 2']['ModelWaitTime'].mean())\n",
    "print('urgent & palliative: ', df_preallo2[(df_preallo2['Category']=='Urgent 2')&\n",
    "                                           (df_preallo2['Intent']=='Palliative')]['ModelWaitTime'].mean())"
   ]
  },
  {
   "cell_type": "code",
   "execution_count": 438,
   "metadata": {},
   "outputs": [],
   "source": [
    "util_cal = df_preallo2.groupby(['LinacUnit','BookApptDate'])['hours'].agg('sum').reset_index()\n",
    "\n",
    "util_cal['year'] = df_preallo2['CreatedDate'].dt.year\n",
    "util_cal['month'] = df_preallo2['CreatedDate'].dt.month\n",
    "util_cal['date']= util_cal['year'].astype(str) + util_cal['month'].astype(str).str.zfill(2)\n",
    "util_cal['Date'] = pd.to_datetime(util_cal['date'], format='%Y%m')"
   ]
  },
  {
   "cell_type": "code",
   "execution_count": 439,
   "metadata": {},
   "outputs": [
    {
     "data": {
      "text/plain": [
       "0.720625"
      ]
     },
     "execution_count": 439,
     "metadata": {},
     "output_type": "execute_result"
    }
   ],
   "source": [
    "hours = util_cal.groupby(['LinacUnit'])['hours'].agg('sum').reset_index()\n",
    "hours['util']=hours['hours']/(20*10*2)\n",
    "hours['util'].mean()"
   ]
  },
  {
   "cell_type": "code",
   "execution_count": 437,
   "metadata": {},
   "outputs": [
    {
     "data": {
      "text/html": [
       "<div>\n",
       "<style scoped>\n",
       "    .dataframe tbody tr th:only-of-type {\n",
       "        vertical-align: middle;\n",
       "    }\n",
       "\n",
       "    .dataframe tbody tr th {\n",
       "        vertical-align: top;\n",
       "    }\n",
       "\n",
       "    .dataframe thead th {\n",
       "        text-align: right;\n",
       "    }\n",
       "</style>\n",
       "<table border=\"1\" class=\"dataframe\">\n",
       "  <thead>\n",
       "    <tr style=\"text-align: right;\">\n",
       "      <th></th>\n",
       "      <th>Unit</th>\n",
       "      <th>totalMinutes</th>\n",
       "      <th>MonthlyAvg</th>\n",
       "      <th>AvgUtil</th>\n",
       "    </tr>\n",
       "  </thead>\n",
       "  <tbody>\n",
       "    <tr>\n",
       "      <th>0</th>\n",
       "      <td>1</td>\n",
       "      <td>30370</td>\n",
       "      <td>168.722222</td>\n",
       "      <td>0.843611</td>\n",
       "    </tr>\n",
       "    <tr>\n",
       "      <th>1</th>\n",
       "      <td>2</td>\n",
       "      <td>4675</td>\n",
       "      <td>25.972222</td>\n",
       "      <td>0.129861</td>\n",
       "    </tr>\n",
       "    <tr>\n",
       "      <th>2</th>\n",
       "      <td>3</td>\n",
       "      <td>26480</td>\n",
       "      <td>147.111111</td>\n",
       "      <td>0.735556</td>\n",
       "    </tr>\n",
       "    <tr>\n",
       "      <th>3</th>\n",
       "      <td>4</td>\n",
       "      <td>25350</td>\n",
       "      <td>140.833333</td>\n",
       "      <td>0.704167</td>\n",
       "    </tr>\n",
       "    <tr>\n",
       "      <th>4</th>\n",
       "      <td>5</td>\n",
       "      <td>13295</td>\n",
       "      <td>73.861111</td>\n",
       "      <td>0.369306</td>\n",
       "    </tr>\n",
       "    <tr>\n",
       "      <th>5</th>\n",
       "      <td>6</td>\n",
       "      <td>10390</td>\n",
       "      <td>57.722222</td>\n",
       "      <td>0.288611</td>\n",
       "    </tr>\n",
       "    <tr>\n",
       "      <th>6</th>\n",
       "      <td>7</td>\n",
       "      <td>23745</td>\n",
       "      <td>131.916667</td>\n",
       "      <td>0.659583</td>\n",
       "    </tr>\n",
       "    <tr>\n",
       "      <th>7</th>\n",
       "      <td>8</td>\n",
       "      <td>24925</td>\n",
       "      <td>138.472222</td>\n",
       "      <td>0.692361</td>\n",
       "    </tr>\n",
       "    <tr>\n",
       "      <th>8</th>\n",
       "      <td>9</td>\n",
       "      <td>6545</td>\n",
       "      <td>36.361111</td>\n",
       "      <td>0.181806</td>\n",
       "    </tr>\n",
       "    <tr>\n",
       "      <th>9</th>\n",
       "      <td>10</td>\n",
       "      <td>24700</td>\n",
       "      <td>137.222222</td>\n",
       "      <td>0.686111</td>\n",
       "    </tr>\n",
       "    <tr>\n",
       "      <th>10</th>\n",
       "      <td>11</td>\n",
       "      <td>38305</td>\n",
       "      <td>212.805556</td>\n",
       "      <td>1.064028</td>\n",
       "    </tr>\n",
       "    <tr>\n",
       "      <th>11</th>\n",
       "      <td>12</td>\n",
       "      <td>40995</td>\n",
       "      <td>227.750000</td>\n",
       "      <td>1.138750</td>\n",
       "    </tr>\n",
       "    <tr>\n",
       "      <th>12</th>\n",
       "      <td>14</td>\n",
       "      <td>0</td>\n",
       "      <td>0.000000</td>\n",
       "      <td>0.000000</td>\n",
       "    </tr>\n",
       "    <tr>\n",
       "      <th>13</th>\n",
       "      <td>15</td>\n",
       "      <td>32705</td>\n",
       "      <td>181.694444</td>\n",
       "      <td>0.908472</td>\n",
       "    </tr>\n",
       "    <tr>\n",
       "      <th>14</th>\n",
       "      <td>16</td>\n",
       "      <td>38305</td>\n",
       "      <td>212.805556</td>\n",
       "      <td>1.064028</td>\n",
       "    </tr>\n",
       "    <tr>\n",
       "      <th>15</th>\n",
       "      <td>17</td>\n",
       "      <td>48140</td>\n",
       "      <td>267.444444</td>\n",
       "      <td>1.337222</td>\n",
       "    </tr>\n",
       "  </tbody>\n",
       "</table>\n",
       "</div>"
      ],
      "text/plain": [
       "    Unit  totalMinutes  MonthlyAvg   AvgUtil\n",
       "0      1         30370  168.722222  0.843611\n",
       "1      2          4675   25.972222  0.129861\n",
       "2      3         26480  147.111111  0.735556\n",
       "3      4         25350  140.833333  0.704167\n",
       "4      5         13295   73.861111  0.369306\n",
       "5      6         10390   57.722222  0.288611\n",
       "6      7         23745  131.916667  0.659583\n",
       "7      8         24925  138.472222  0.692361\n",
       "8      9          6545   36.361111  0.181806\n",
       "9     10         24700  137.222222  0.686111\n",
       "10    11         38305  212.805556  1.064028\n",
       "11    12         40995  227.750000  1.138750\n",
       "12    14             0    0.000000  0.000000\n",
       "13    15         32705  181.694444  0.908472\n",
       "14    16         38305  212.805556  1.064028\n",
       "15    17         48140  267.444444  1.337222"
      ]
     },
     "execution_count": 437,
     "metadata": {},
     "output_type": "execute_result"
    }
   ],
   "source": [
    "df_mins = pd.read_excel('util_202003_202006_80p.xlsx')\n",
    "\n",
    "df_mins['MonthlyAvg'] = df_mins['totalMinutes']/(3*60)\n",
    "df_mins['AvgUtil'] = df_mins['MonthlyAvg']/(20*10)\n",
    "df_mins"
   ]
  },
  {
   "cell_type": "code",
   "execution_count": null,
   "metadata": {},
   "outputs": [],
   "source": []
  },
  {
   "cell_type": "markdown",
   "metadata": {},
   "source": [
    "## 2020-03 to 2020-05 90th percentile"
   ]
  },
  {
   "cell_type": "code",
   "execution_count": 440,
   "metadata": {},
   "outputs": [
    {
     "data": {
      "image/png": "[encoded data removed]",
      "text/plain": [
       "<Figure size 648x360 with 1 Axes>"
      ]
     },
     "metadata": {
      "needs_background": "light"
     },
     "output_type": "display_data"
    }
   ],
   "source": [
    "df_preallo2 = pd.read_excel('record_202003_202006_90p_util.xlsx')\n",
    "plt.figure(figsize=[9,5])\n",
    "bins = range(0,24)\n",
    "\n",
    "y = df_preallo2['ModelWaitTime']\n",
    "plt.hist(y, bins = bins, alpha=0.5, edgecolor='black', align='left')\n",
    "\n",
    "plt.xlabel('wait time')\n",
    "plt.ylabel('frequency')\n",
    "plt.title('wait time distribution of base case')\n",
    "plt.xticks(fontsize=10)\n",
    "plt.yticks(fontsize=10)\n",
    "\n",
    "plt.show()"
   ]
  },
  {
   "cell_type": "code",
   "execution_count": 441,
   "metadata": {},
   "outputs": [
    {
     "data": {
      "text/plain": [
       "(947, 15)"
      ]
     },
     "execution_count": 441,
     "metadata": {},
     "output_type": "execute_result"
    }
   ],
   "source": [
    "df_preallo2.shape"
   ]
  },
  {
   "cell_type": "code",
   "execution_count": 442,
   "metadata": {},
   "outputs": [
    {
     "name": "stdout",
     "output_type": "stream",
     "text": [
      "mean:  8.883843717001056\n",
      "std:  4.049015594203573\n",
      "wait time quantiles:\n",
      " 0.10     5.0\n",
      "0.50     8.0\n",
      "0.75    11.0\n",
      "Name: ModelWaitTime, dtype: float64\n",
      "number of exceed:  267\n",
      "urgent:  4.950226244343892\n",
      "urgent & palliative:  4.715736040609137\n"
     ]
    }
   ],
   "source": [
    "print('mean: ', df_preallo2['ModelWaitTime'].mean())\n",
    "print('std: ', df_preallo2['ModelWaitTime'].std())\n",
    "print('wait time quantiles:\\n', df_preallo2['ModelWaitTime'].quantile([.1, .5, .75]))\n",
    "print('number of exceed: ', len(df_preallo2[df_preallo2['ModelWaitTime']>10]))\n",
    "print('urgent: ', df_preallo2[df_preallo2['Category']=='Urgent 2']['ModelWaitTime'].mean())\n",
    "print('urgent & palliative: ', df_preallo2[(df_preallo2['Category']=='Urgent 2')&\n",
    "                                           (df_preallo2['Intent']=='Palliative')]['ModelWaitTime'].mean())"
   ]
  },
  {
   "cell_type": "code",
   "execution_count": 443,
   "metadata": {},
   "outputs": [],
   "source": [
    "util_cal = df_preallo2.groupby(['LinacUnit','BookApptDate'])['hours'].agg('sum').reset_index()\n",
    "\n",
    "util_cal['year'] = df_preallo2['CreatedDate'].dt.year\n",
    "util_cal['month'] = df_preallo2['CreatedDate'].dt.month\n",
    "util_cal['date']= util_cal['year'].astype(str) + util_cal['month'].astype(str).str.zfill(2)\n",
    "util_cal['Date'] = pd.to_datetime(util_cal['date'], format='%Y%m')"
   ]
  },
  {
   "cell_type": "code",
   "execution_count": 444,
   "metadata": {},
   "outputs": [
    {
     "data": {
      "text/plain": [
       "0.6709444444444445"
      ]
     },
     "execution_count": 444,
     "metadata": {},
     "output_type": "execute_result"
    }
   ],
   "source": [
    "hours = util_cal.groupby(['LinacUnit'])['hours'].agg('sum').reset_index()\n",
    "hours['util']=hours['hours']/(20*10*2)\n",
    "hours['util'].mean()"
   ]
  },
  {
   "cell_type": "code",
   "execution_count": 266,
   "metadata": {},
   "outputs": [
    {
     "data": {
      "text/html": [
       "<div>\n",
       "<style scoped>\n",
       "    .dataframe tbody tr th:only-of-type {\n",
       "        vertical-align: middle;\n",
       "    }\n",
       "\n",
       "    .dataframe tbody tr th {\n",
       "        vertical-align: top;\n",
       "    }\n",
       "\n",
       "    .dataframe thead th {\n",
       "        text-align: right;\n",
       "    }\n",
       "</style>\n",
       "<table border=\"1\" class=\"dataframe\">\n",
       "  <thead>\n",
       "    <tr style=\"text-align: right;\">\n",
       "      <th></th>\n",
       "      <th>Unit</th>\n",
       "      <th>totalMinutes</th>\n",
       "      <th>MonthlyAvg</th>\n",
       "      <th>AvgUtil</th>\n",
       "    </tr>\n",
       "  </thead>\n",
       "  <tbody>\n",
       "    <tr>\n",
       "      <th>0</th>\n",
       "      <td>1</td>\n",
       "      <td>26230</td>\n",
       "      <td>145.722222</td>\n",
       "      <td>0.728611</td>\n",
       "    </tr>\n",
       "    <tr>\n",
       "      <th>1</th>\n",
       "      <td>2</td>\n",
       "      <td>2955</td>\n",
       "      <td>16.416667</td>\n",
       "      <td>0.082083</td>\n",
       "    </tr>\n",
       "    <tr>\n",
       "      <th>2</th>\n",
       "      <td>3</td>\n",
       "      <td>21845</td>\n",
       "      <td>121.361111</td>\n",
       "      <td>0.606806</td>\n",
       "    </tr>\n",
       "    <tr>\n",
       "      <th>3</th>\n",
       "      <td>4</td>\n",
       "      <td>31980</td>\n",
       "      <td>177.666667</td>\n",
       "      <td>0.888333</td>\n",
       "    </tr>\n",
       "    <tr>\n",
       "      <th>4</th>\n",
       "      <td>5</td>\n",
       "      <td>14225</td>\n",
       "      <td>79.027778</td>\n",
       "      <td>0.395139</td>\n",
       "    </tr>\n",
       "    <tr>\n",
       "      <th>5</th>\n",
       "      <td>6</td>\n",
       "      <td>14280</td>\n",
       "      <td>79.333333</td>\n",
       "      <td>0.396667</td>\n",
       "    </tr>\n",
       "    <tr>\n",
       "      <th>6</th>\n",
       "      <td>7</td>\n",
       "      <td>26820</td>\n",
       "      <td>149.000000</td>\n",
       "      <td>0.745000</td>\n",
       "    </tr>\n",
       "    <tr>\n",
       "      <th>7</th>\n",
       "      <td>8</td>\n",
       "      <td>23620</td>\n",
       "      <td>131.222222</td>\n",
       "      <td>0.656111</td>\n",
       "    </tr>\n",
       "    <tr>\n",
       "      <th>8</th>\n",
       "      <td>9</td>\n",
       "      <td>3785</td>\n",
       "      <td>21.027778</td>\n",
       "      <td>0.105139</td>\n",
       "    </tr>\n",
       "    <tr>\n",
       "      <th>9</th>\n",
       "      <td>10</td>\n",
       "      <td>29060</td>\n",
       "      <td>161.444444</td>\n",
       "      <td>0.807222</td>\n",
       "    </tr>\n",
       "    <tr>\n",
       "      <th>10</th>\n",
       "      <td>11</td>\n",
       "      <td>25980</td>\n",
       "      <td>144.333333</td>\n",
       "      <td>0.721667</td>\n",
       "    </tr>\n",
       "    <tr>\n",
       "      <th>11</th>\n",
       "      <td>12</td>\n",
       "      <td>37625</td>\n",
       "      <td>209.027778</td>\n",
       "      <td>1.045139</td>\n",
       "    </tr>\n",
       "    <tr>\n",
       "      <th>12</th>\n",
       "      <td>14</td>\n",
       "      <td>0</td>\n",
       "      <td>0.000000</td>\n",
       "      <td>0.000000</td>\n",
       "    </tr>\n",
       "    <tr>\n",
       "      <th>13</th>\n",
       "      <td>15</td>\n",
       "      <td>31580</td>\n",
       "      <td>175.444444</td>\n",
       "      <td>0.877222</td>\n",
       "    </tr>\n",
       "    <tr>\n",
       "      <th>14</th>\n",
       "      <td>16</td>\n",
       "      <td>44770</td>\n",
       "      <td>248.722222</td>\n",
       "      <td>1.243611</td>\n",
       "    </tr>\n",
       "    <tr>\n",
       "      <th>15</th>\n",
       "      <td>17</td>\n",
       "      <td>56900</td>\n",
       "      <td>316.111111</td>\n",
       "      <td>1.580556</td>\n",
       "    </tr>\n",
       "  </tbody>\n",
       "</table>\n",
       "</div>"
      ],
      "text/plain": [
       "    Unit  totalMinutes  MonthlyAvg   AvgUtil\n",
       "0      1         26230  145.722222  0.728611\n",
       "1      2          2955   16.416667  0.082083\n",
       "2      3         21845  121.361111  0.606806\n",
       "3      4         31980  177.666667  0.888333\n",
       "4      5         14225   79.027778  0.395139\n",
       "5      6         14280   79.333333  0.396667\n",
       "6      7         26820  149.000000  0.745000\n",
       "7      8         23620  131.222222  0.656111\n",
       "8      9          3785   21.027778  0.105139\n",
       "9     10         29060  161.444444  0.807222\n",
       "10    11         25980  144.333333  0.721667\n",
       "11    12         37625  209.027778  1.045139\n",
       "12    14             0    0.000000  0.000000\n",
       "13    15         31580  175.444444  0.877222\n",
       "14    16         44770  248.722222  1.243611\n",
       "15    17         56900  316.111111  1.580556"
      ]
     },
     "execution_count": 266,
     "metadata": {},
     "output_type": "execute_result"
    }
   ],
   "source": [
    "df_mins = pd.read_excel('util_202003_202006_90p.xlsx')\n",
    "\n",
    "df_mins['MonthlyAvg'] = df_mins['totalMinutes']/(3*60)\n",
    "df_mins['AvgUtil'] = df_mins['MonthlyAvg']/(20*10)\n",
    "df_mins"
   ]
  },
  {
   "cell_type": "code",
   "execution_count": 445,
   "metadata": {},
   "outputs": [
    {
     "data": {
      "text/plain": [
       "range(1, 6)"
      ]
     },
     "execution_count": 445,
     "metadata": {},
     "output_type": "execute_result"
    }
   ],
   "source": []
  },
  {
   "cell_type": "code",
   "execution_count": 3,
   "metadata": {},
   "outputs": [
    {
     "data": {
      "image/png": "[encoded data removed]",
      "text/plain": [
       "<Figure size 648x360 with 1 Axes>"
      ]
     },
     "metadata": {
      "needs_background": "light"
     },
     "output_type": "display_data"
    },
    {
     "name": "stdout",
     "output_type": "stream",
     "text": [
      "mean:  7.189519023689878\n",
      "std:  3.74817647020907\n",
      "wait time quantiles:\n",
      " 0.10    2.0\n",
      "0.50    7.0\n",
      "0.75    9.0\n",
      "Name: ModelWaitTime, dtype: float64\n",
      "number of exceed:  180\n",
      "urgent:  3.786111111111111\n",
      "urgent & palliative:  3.304195804195804\n",
      "objective value: 193\n",
      "total computational time: 300.99 s\n"
     ]
    }
   ],
   "source": [
    "# heuristic model\n",
    "df_preallo2 = pd.read_excel('record_2019_2020_80p_heuristics_corrected.xlsx')\n",
    "#df_preallo2 = df_preallo2[df_preallo2['CreatedDate']>='2019-12-01']\n",
    "#df_preallo2 = pd.read_excel('record_2021912_202003_80p_util.xlsx')\n",
    "plt.figure(figsize=[9,5])\n",
    "bins = range(0,24)\n",
    "\n",
    "y = df_preallo2['ModelWaitTime']\n",
    "plt.hist(y, bins = bins, alpha=0.5, edgecolor='black', align='left')\n",
    "\n",
    "plt.xlabel('wait time')\n",
    "plt.ylabel('frequency')\n",
    "plt.title('wait time distribution of patient z[j]')\n",
    "plt.xticks(fontsize=10)\n",
    "plt.yticks(fontsize=10)\n",
    "\n",
    "plt.show()\n",
    "\n",
    "print('mean: ', df_preallo2['ModelWaitTime'].mean())\n",
    "print('std: ', df_preallo2['ModelWaitTime'].std())\n",
    "print('wait time quantiles:\\n', df_preallo2['ModelWaitTime'].quantile([.1, .5, .75]))\n",
    "print('number of exceed: ', len(df_preallo2[df_preallo2['ModelWaitTime']>10]))\n",
    "print('urgent: ', df_preallo2[df_preallo2['Category']=='Urgent 2']['ModelWaitTime'].mean())\n",
    "print('urgent & palliative: ', df_preallo2[(df_preallo2['Category']=='Urgent 2')&\n",
    "                                           (df_preallo2['Intent']=='Palliative')]['ModelWaitTime'].mean())\n",
    "print('objective value: 193')\n",
    "print('total computational time: 300.99 s')"
   ]
  },
  {
   "cell_type": "code",
   "execution_count": null,
   "metadata": {},
   "outputs": [],
   "source": []
  }
 ],
 "metadata": {
  "kernelspec": {
   "display_name": "Python 3",
   "language": "python",
   "name": "python3"
  },
  "language_info": {
   "codemirror_mode": {
    "name": "ipython",
    "version": 3
   },
   "file_extension": ".py",
   "mimetype": "text/x-python",
   "name": "python",
   "nbconvert_exporter": "python",
   "pygments_lexer": "ipython3",
   "version": "3.8.3"
  }
 },
 "nbformat": 4,
 "nbformat_minor": 4
}
