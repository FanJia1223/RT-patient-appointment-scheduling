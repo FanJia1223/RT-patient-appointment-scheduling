{
 "cells": [
  {
   "cell_type": "code",
   "execution_count": 94,
   "metadata": {},
   "outputs": [],
   "source": [
    "import pandas as pd\n",
    "import datetime\n",
    "from datetime import timedelta\n",
    "from datetime import datetime\n",
    "import matplotlib.pyplot as plt\n",
    "import numpy as np\n",
    "from scipy import stats\n",
    "from sklearn.metrics import mean_squared_error"
   ]
  },
  {
   "cell_type": "code",
   "execution_count": 95,
   "metadata": {},
   "outputs": [
    {
     "data": {
      "text/html": [
       "<div>\n",
       "<style scoped>\n",
       "    .dataframe tbody tr th:only-of-type {\n",
       "        vertical-align: middle;\n",
       "    }\n",
       "\n",
       "    .dataframe tbody tr th {\n",
       "        vertical-align: top;\n",
       "    }\n",
       "\n",
       "    .dataframe thead th {\n",
       "        text-align: right;\n",
       "    }\n",
       "</style>\n",
       "<table border=\"1\" class=\"dataframe\">\n",
       "  <thead>\n",
       "    <tr style=\"text-align: right;\">\n",
       "      <th></th>\n",
       "      <th>Unnamed: 0</th>\n",
       "      <th>MRN</th>\n",
       "      <th>CreatedDate</th>\n",
       "      <th>SiteGroup</th>\n",
       "      <th>Sitegroup_y</th>\n",
       "      <th>Category_x</th>\n",
       "      <th>SimApptDt</th>\n",
       "      <th>GTV/CTVPromtDate</th>\n",
       "      <th>GTV/CTVCompleteDate</th>\n",
       "      <th>ReviewDatePlaner</th>\n",
       "      <th>...</th>\n",
       "      <th>ContourDur+1</th>\n",
       "      <th>earliest plan finish or tx starrt</th>\n",
       "      <th>TestPlanDur</th>\n",
       "      <th>Tx-Contour</th>\n",
       "      <th>PlanDur+1</th>\n",
       "      <th>ProgressReviewWait</th>\n",
       "      <th>PlannerReviewWait</th>\n",
       "      <th>Unnamed: 21</th>\n",
       "      <th>TltDose</th>\n",
       "      <th>TxFracs</th>\n",
       "    </tr>\n",
       "  </thead>\n",
       "  <tbody>\n",
       "    <tr>\n",
       "      <th>0</th>\n",
       "      <td>0</td>\n",
       "      <td>7287</td>\n",
       "      <td>2019-02-20</td>\n",
       "      <td>GENITOURINARY(GU)</td>\n",
       "      <td>GENITOURINARY(GU)</td>\n",
       "      <td>Urgent 2</td>\n",
       "      <td>2019-2-20</td>\n",
       "      <td>2019-02-20</td>\n",
       "      <td>2019-02-20</td>\n",
       "      <td>NaT</td>\n",
       "      <td>...</td>\n",
       "      <td>1.0</td>\n",
       "      <td>2019-02-20 00:00:00</td>\n",
       "      <td>1.0</td>\n",
       "      <td>2.0</td>\n",
       "      <td>1.0</td>\n",
       "      <td>NaN</td>\n",
       "      <td>NaN</td>\n",
       "      <td>NaN</td>\n",
       "      <td>1600.0</td>\n",
       "      <td>2.0</td>\n",
       "    </tr>\n",
       "    <tr>\n",
       "      <th>1</th>\n",
       "      <td>1</td>\n",
       "      <td>7287</td>\n",
       "      <td>2019-05-29</td>\n",
       "      <td>GENITOURINARY(GU)</td>\n",
       "      <td>GENITOURINARY(GU)</td>\n",
       "      <td>Standard 3</td>\n",
       "      <td>2019-6-5</td>\n",
       "      <td>2019-06-05</td>\n",
       "      <td>2019-06-05</td>\n",
       "      <td>NaT</td>\n",
       "      <td>...</td>\n",
       "      <td>1.0</td>\n",
       "      <td>2019-06-05 00:00:00</td>\n",
       "      <td>1.0</td>\n",
       "      <td>1.0</td>\n",
       "      <td>1.0</td>\n",
       "      <td>NaN</td>\n",
       "      <td>NaN</td>\n",
       "      <td>NaN</td>\n",
       "      <td>2400.0</td>\n",
       "      <td>3.0</td>\n",
       "    </tr>\n",
       "    <tr>\n",
       "      <th>2</th>\n",
       "      <td>2</td>\n",
       "      <td>7287</td>\n",
       "      <td>2019-07-31</td>\n",
       "      <td>GENITOURINARY(GU)</td>\n",
       "      <td>GENITOURINARY(GU)</td>\n",
       "      <td>Urgent 2</td>\n",
       "      <td>2019-7-31</td>\n",
       "      <td>NaT</td>\n",
       "      <td>NaT</td>\n",
       "      <td>NaT</td>\n",
       "      <td>...</td>\n",
       "      <td>NaN</td>\n",
       "      <td>NaN</td>\n",
       "      <td>NaN</td>\n",
       "      <td>NaN</td>\n",
       "      <td>NaN</td>\n",
       "      <td>NaN</td>\n",
       "      <td>NaN</td>\n",
       "      <td>NaN</td>\n",
       "      <td>2500.0</td>\n",
       "      <td>10.0</td>\n",
       "    </tr>\n",
       "    <tr>\n",
       "      <th>3</th>\n",
       "      <td>3</td>\n",
       "      <td>7287</td>\n",
       "      <td>2019-08-28</td>\n",
       "      <td>GENITOURINARY(GU)</td>\n",
       "      <td>GENITOURINARY(GU)</td>\n",
       "      <td>Urgent 2</td>\n",
       "      <td>2019-8-28</td>\n",
       "      <td>NaT</td>\n",
       "      <td>NaT</td>\n",
       "      <td>NaT</td>\n",
       "      <td>...</td>\n",
       "      <td>NaN</td>\n",
       "      <td>NaN</td>\n",
       "      <td>0.0</td>\n",
       "      <td>NaN</td>\n",
       "      <td>NaN</td>\n",
       "      <td>NaN</td>\n",
       "      <td>NaN</td>\n",
       "      <td>NaN</td>\n",
       "      <td>1600.0</td>\n",
       "      <td>2.0</td>\n",
       "    </tr>\n",
       "    <tr>\n",
       "      <th>4</th>\n",
       "      <td>4</td>\n",
       "      <td>10287</td>\n",
       "      <td>2019-04-17</td>\n",
       "      <td>BREAST</td>\n",
       "      <td>BREAST</td>\n",
       "      <td>Standard 3</td>\n",
       "      <td>2019-4-30</td>\n",
       "      <td>2019-05-01</td>\n",
       "      <td>2019-05-01</td>\n",
       "      <td>2019-05-07</td>\n",
       "      <td>...</td>\n",
       "      <td>1.0</td>\n",
       "      <td>2019-05-07 00:00:00</td>\n",
       "      <td>5.0</td>\n",
       "      <td>9.0</td>\n",
       "      <td>1.0</td>\n",
       "      <td>4.0</td>\n",
       "      <td>5.0</td>\n",
       "      <td>5.0</td>\n",
       "      <td>4240.0</td>\n",
       "      <td>16.0</td>\n",
       "    </tr>\n",
       "  </tbody>\n",
       "</table>\n",
       "<p>5 rows × 26 columns</p>\n",
       "</div>"
      ],
      "text/plain": [
       "   Unnamed: 0    MRN CreatedDate          SiteGroup        Sitegroup_y  \\\n",
       "0           0   7287  2019-02-20  GENITOURINARY(GU)  GENITOURINARY(GU)   \n",
       "1           1   7287  2019-05-29  GENITOURINARY(GU)  GENITOURINARY(GU)   \n",
       "2           2   7287  2019-07-31  GENITOURINARY(GU)  GENITOURINARY(GU)   \n",
       "3           3   7287  2019-08-28  GENITOURINARY(GU)  GENITOURINARY(GU)   \n",
       "4           4  10287  2019-04-17             BREAST             BREAST   \n",
       "\n",
       "   Category_x  SimApptDt GTV/CTVPromtDate GTV/CTVCompleteDate  \\\n",
       "0    Urgent 2  2019-2-20       2019-02-20          2019-02-20   \n",
       "1  Standard 3   2019-6-5       2019-06-05          2019-06-05   \n",
       "2    Urgent 2  2019-7-31              NaT                 NaT   \n",
       "3    Urgent 2  2019-8-28              NaT                 NaT   \n",
       "4  Standard 3  2019-4-30       2019-05-01          2019-05-01   \n",
       "\n",
       "  ReviewDatePlaner  ... ContourDur+1 earliest plan finish or tx starrt  \\\n",
       "0              NaT  ...          1.0               2019-02-20 00:00:00   \n",
       "1              NaT  ...          1.0               2019-06-05 00:00:00   \n",
       "2              NaT  ...          NaN                               NaN   \n",
       "3              NaT  ...          NaN                               NaN   \n",
       "4       2019-05-07  ...          1.0               2019-05-07 00:00:00   \n",
       "\n",
       "  TestPlanDur Tx-Contour PlanDur+1  ProgressReviewWait  PlannerReviewWait  \\\n",
       "0         1.0        2.0       1.0                 NaN                NaN   \n",
       "1         1.0        1.0       1.0                 NaN                NaN   \n",
       "2         NaN        NaN       NaN                 NaN                NaN   \n",
       "3         0.0        NaN       NaN                 NaN                NaN   \n",
       "4         5.0        9.0       1.0                 4.0                5.0   \n",
       "\n",
       "  Unnamed: 21  TltDose  TxFracs  \n",
       "0         NaN   1600.0      2.0  \n",
       "1         NaN   2400.0      3.0  \n",
       "2         NaN   2500.0     10.0  \n",
       "3         NaN   1600.0      2.0  \n",
       "4         5.0   4240.0     16.0  \n",
       "\n",
       "[5 rows x 26 columns]"
      ]
     },
     "execution_count": 95,
     "metadata": {},
     "output_type": "execute_result"
    }
   ],
   "source": [
    "# read in master file\n",
    "df_orig=pd.read_excel(\"ContouringAndPlanningTimeEst.xlsx\")\n",
    "# exclude planned delays\n",
    "df_orig=df_orig[df_orig['Category_x']!='Planned Delay 3']\n",
    "df_orig.head()\n"
   ]
  },
  {
   "cell_type": "code",
   "execution_count": 96,
   "metadata": {},
   "outputs": [
    {
     "data": {
      "text/plain": [
       "(8169, 26)"
      ]
     },
     "execution_count": 96,
     "metadata": {},
     "output_type": "execute_result"
    }
   ],
   "source": [
    "df_orig.shape\n"
   ]
  },
  {
   "cell_type": "code",
   "execution_count": 97,
   "metadata": {},
   "outputs": [
    {
     "data": {
      "text/plain": [
       "array(['Urgent 2', 'Standard 3', 'Emergency 1'], dtype=object)"
      ]
     },
     "execution_count": 97,
     "metadata": {},
     "output_type": "execute_result"
    }
   ],
   "source": [
    "df_orig['Category_x'].unique()\n"
   ]
  },
  {
   "cell_type": "code",
   "execution_count": 99,
   "metadata": {},
   "outputs": [],
   "source": [
    "df_orig['PlanDur'] = df_orig[\"TestPlanDur\"] - 1"
   ]
  },
  {
   "cell_type": "markdown",
   "metadata": {},
   "source": [
    "## Pre-treatment steps time analysis"
   ]
  },
  {
   "cell_type": "code",
   "execution_count": 179,
   "metadata": {},
   "outputs": [
    {
     "data": {
      "image/png": "[encoded data removed]",
      "text/plain": [
       "<Figure size 648x360 with 1 Axes>"
      ]
     },
     "metadata": {
      "needs_background": "light"
     },
     "output_type": "display_data"
    }
   ],
   "source": [
    "plt.figure(figsize=[9,5])\n",
    "bins = range(0,10)\n",
    "\n",
    "y = df_orig[\"PlanDur\"]\n",
    "plt.hist(y, bins = bins, alpha=0.5, edgecolor='black', align='left')\n",
    "\n",
    "plt.xlabel('planning time')\n",
    "plt.ylabel('frequency')\n",
    "plt.title('Planning distribution')\n",
    "plt.xticks(fontsize=10)\n",
    "plt.yticks(fontsize=10)\n",
    "\n",
    "plt.show()"
   ]
  },
  {
   "cell_type": "markdown",
   "metadata": {
    "heading_collapsed": true
   },
   "source": [
    "### Wait time > 14 days:"
   ]
  },
  {
   "cell_type": "code",
   "execution_count": 101,
   "metadata": {
    "hidden": true
   },
   "outputs": [
    {
     "data": {
      "text/plain": [
       "(2881, 27)"
      ]
     },
     "execution_count": 101,
     "metadata": {},
     "output_type": "execute_result"
    }
   ],
   "source": [
    "df_exceed=df_orig[df_orig['WaitTime']>14]\n",
    "df_exceed.shape"
   ]
  },
  {
   "cell_type": "code",
   "execution_count": 102,
   "metadata": {
    "hidden": true
   },
   "outputs": [
    {
     "data": {
      "image/png": "[encoded data removed]",
      "text/plain": [
       "<Figure size 648x360 with 1 Axes>"
      ]
     },
     "metadata": {
      "needs_background": "light"
     },
     "output_type": "display_data"
    }
   ],
   "source": [
    "plt.figure(figsize=[9,5])\n",
    "bins = range(0,21)\n",
    "\n",
    "x = df_orig[df_orig['PlanDur']<20]['PlanDur']\n",
    "y = df_exceed[df_exceed['PlanDur']<20]['PlanDur']\n",
    "plt.hist(x, bins = bins, alpha=0.5, edgecolor='black', label='all', align='left')\n",
    "plt.hist(y, bins = bins, alpha=0.5, edgecolor='black', label='exceed', align='left')\n",
    "\n",
    "\n",
    "plt.legend(loc='upper right')\n",
    "\n",
    "plt.xlabel('time')\n",
    "plt.ylabel('Number of treatments')\n",
    "plt.title('FinalPlanComplete-TxBook')\n",
    "plt.xticks(fontsize=10)\n",
    "plt.yticks(fontsize=10)\n",
    "\n",
    "plt.show()"
   ]
  },
  {
   "cell_type": "markdown",
   "metadata": {
    "heading_collapsed": true,
    "hidden": true
   },
   "source": [
    "#### Contouring wait time seems to be negligible:"
   ]
  },
  {
   "cell_type": "code",
   "execution_count": 9,
   "metadata": {
    "hidden": true,
    "scrolled": true
   },
   "outputs": [
    {
     "ename": "NameError",
     "evalue": "name 'preTxDur' is not defined",
     "output_type": "error",
     "traceback": [
      "\u001b[0;31m---------------------------------------------------------------------------\u001b[0m",
      "\u001b[0;31mNameError\u001b[0m                                 Traceback (most recent call last)",
      "\u001b[0;32m<ipython-input-9-6bb1f4eed4d7>\u001b[0m in \u001b[0;36m<module>\u001b[0;34m\u001b[0m\n\u001b[0;32m----> 1\u001b[0;31m \u001b[0mpreTxDur\u001b[0m\u001b[0;34m[\u001b[0m\u001b[0mpreTxDur\u001b[0m\u001b[0;34m[\u001b[0m\u001b[0;34m'ContourWait'\u001b[0m\u001b[0;34m]\u001b[0m\u001b[0;34m.\u001b[0m\u001b[0mdt\u001b[0m\u001b[0;34m.\u001b[0m\u001b[0mdays\u001b[0m\u001b[0;34m>\u001b[0m\u001b[0;36m1\u001b[0m\u001b[0;34m]\u001b[0m\u001b[0;34m.\u001b[0m\u001b[0mgroupby\u001b[0m\u001b[0;34m(\u001b[0m\u001b[0;34m'SiteGroup'\u001b[0m\u001b[0;34m)\u001b[0m\u001b[0;34m.\u001b[0m\u001b[0mcount\u001b[0m\u001b[0;34m(\u001b[0m\u001b[0;34m)\u001b[0m\u001b[0;34m\u001b[0m\u001b[0;34m\u001b[0m\u001b[0m\n\u001b[0m",
      "\u001b[0;31mNameError\u001b[0m: name 'preTxDur' is not defined"
     ]
    }
   ],
   "source": [
    "preTxDur[preTxDur['ContourWait'].dt.days>1].groupby('SiteGroup').count()"
   ]
  },
  {
   "cell_type": "code",
   "execution_count": null,
   "metadata": {
    "hidden": true
   },
   "outputs": [],
   "source": [
    "df_exceed.columns"
   ]
  },
  {
   "cell_type": "code",
   "execution_count": null,
   "metadata": {
    "hidden": true
   },
   "outputs": [],
   "source": [
    "df_exceed['ContourWait']=df_exceed['ContourWait'].dt.days\n",
    "y = df_exceed[(df_exceed['ContourWait']>=-20)&(df_exceed['ContourWait']<=15)].ContourWait\n",
    "plt.hist(y, bins = bins, alpha=0.5, edgecolor='black', label='exceed', align='left')\n",
    "\n",
    "plt.legend(loc='upper right')\n",
    "\n",
    "plt.xlabel('time')\n",
    "plt.ylabel('Number of treatments')\n",
    "plt.title('Wait time for Contour after CT appt')\n",
    "plt.xticks(fontsize=10)\n",
    "plt.yticks(fontsize=10)\n",
    "\n",
    "plt.show()"
   ]
  },
  {
   "cell_type": "markdown",
   "metadata": {},
   "source": [
    "### Planning Time:"
   ]
  },
  {
   "cell_type": "code",
   "execution_count": 180,
   "metadata": {},
   "outputs": [
    {
     "data": {
      "text/html": [
       "<div>\n",
       "<style scoped>\n",
       "    .dataframe tbody tr th:only-of-type {\n",
       "        vertical-align: middle;\n",
       "    }\n",
       "\n",
       "    .dataframe tbody tr th {\n",
       "        vertical-align: top;\n",
       "    }\n",
       "\n",
       "    .dataframe thead th {\n",
       "        text-align: right;\n",
       "    }\n",
       "</style>\n",
       "<table border=\"1\" class=\"dataframe\">\n",
       "  <thead>\n",
       "    <tr style=\"text-align: right;\">\n",
       "      <th></th>\n",
       "      <th>Unnamed: 0</th>\n",
       "      <th>MRN</th>\n",
       "      <th>CreatedDate</th>\n",
       "      <th>SiteGroup</th>\n",
       "      <th>Sitegroup_y</th>\n",
       "      <th>Category_x</th>\n",
       "      <th>SimApptDt</th>\n",
       "      <th>GTV/CTVPromtDate</th>\n",
       "      <th>GTV/CTVCompleteDate</th>\n",
       "      <th>ReviewDatePlaner</th>\n",
       "      <th>...</th>\n",
       "      <th>TestPlanDur</th>\n",
       "      <th>Tx-Contour</th>\n",
       "      <th>PlanDur+1</th>\n",
       "      <th>ProgressReviewWait</th>\n",
       "      <th>PlannerReviewWait</th>\n",
       "      <th>Unnamed: 21</th>\n",
       "      <th>TltDose</th>\n",
       "      <th>TxFracs</th>\n",
       "      <th>PlanDur</th>\n",
       "      <th>z_score_contour</th>\n",
       "    </tr>\n",
       "  </thead>\n",
       "  <tbody>\n",
       "  </tbody>\n",
       "</table>\n",
       "<p>0 rows × 28 columns</p>\n",
       "</div>"
      ],
      "text/plain": [
       "Empty DataFrame\n",
       "Columns: [Unnamed: 0, MRN, CreatedDate, SiteGroup, Sitegroup_y, Category_x, SimApptDt, GTV/CTVPromtDate, GTV/CTVCompleteDate, ReviewDatePlaner, FinalPlanPromtDate, FinalPlanCompleteDate, PlanProgressReviewDate, TxStartDt, Intent, WaitTime, ContourDur+1, earliest plan finish or tx starrt, TestPlanDur, Tx-Contour, PlanDur+1, ProgressReviewWait, PlannerReviewWait, Unnamed: 21, TltDose, TxFracs, PlanDur, z_score_contour]\n",
       "Index: []\n",
       "\n",
       "[0 rows x 28 columns]"
      ]
     },
     "execution_count": 180,
     "metadata": {},
     "output_type": "execute_result"
    }
   ],
   "source": [
    "# remove outliers by contouring time\n",
    "df_orig['z_score_contour']=stats.zscore(df_orig['PlanDur'])\n",
    "df_orig.loc[df_orig['z_score_contour'].abs()<=3]"
   ]
  },
  {
   "cell_type": "code",
   "execution_count": 181,
   "metadata": {},
   "outputs": [
    {
     "data": {
      "image/png": "[encoded data removed]",
      "text/plain": [
       "<Figure size 648x360 with 1 Axes>"
      ]
     },
     "metadata": {
      "needs_background": "light"
     },
     "output_type": "display_data"
    }
   ],
   "source": [
    "plt.figure(figsize=[9,5])\n",
    "bins = range(0,15)\n",
    "\n",
    "x = df_orig[(df_orig['PlanDur']>=-20)&(df_orig['PlanDur']<=20)]['PlanDur']\n",
    "y = df_exceed[(df_exceed['PlanDur']>=-20)&(df_exceed['PlanDur']<=20)]['PlanDur']\n",
    "plt.hist(x, bins = bins, alpha=0.5, edgecolor='black', label='all', align='left')\n",
    "plt.hist(y, bins = bins, alpha=0.5, edgecolor='black', label='exceed', align='left')\n",
    "\n",
    "\n",
    "plt.legend(loc='upper right')\n",
    "\n",
    "plt.xlabel('time')\n",
    "plt.ylabel('Number of treatments')\n",
    "plt.title('Plan Durations')\n",
    "plt.xticks(fontsize=10)\n",
    "plt.yticks(fontsize=10)\n",
    "\n",
    "plt.show()"
   ]
  },
  {
   "cell_type": "markdown",
   "metadata": {
    "heading_collapsed": true
   },
   "source": [
    "#### Yearly Planning trends"
   ]
  },
  {
   "cell_type": "code",
   "execution_count": null,
   "metadata": {
    "hidden": true
   },
   "outputs": [],
   "source": [
    "df['Sitegroup_y'].unique()"
   ]
  },
  {
   "cell_type": "code",
   "execution_count": null,
   "metadata": {
    "hidden": true
   },
   "outputs": [],
   "source": [
    "# breast, \n",
    "breast_contour = {}\n",
    "years_month_list =[]\n",
    "df_breast = df[df['Sitegroup_y']=='BREAST']\n",
    "for y in range(2010, 2021): #2010-2020\n",
    "    df_y = df_breast[df_breast['CreatedDate'].dt.year == y]\n",
    "    \n",
    "    for m in range(1,13):\n",
    "        month_avg = df_y[df_y['CreatedDate'].dt.month == m]['PlanDur2'].mean()\n",
    "        years_month_list.append(month_avg)\n",
    "    #breast_contour[y] = month_list\n",
    "    \n",
    "\n",
    "x = range(1,133)\n",
    "y = years_month_list\n",
    "plt.plot(x,y)\n",
    "plt.xticks(np.arange(1, 133, step=12), labels=range(2010,2021))\n",
    "plt.title(\"Contouring durations for Breast patients\");"
   ]
  },
  {
   "cell_type": "code",
   "execution_count": null,
   "metadata": {
    "hidden": true
   },
   "outputs": [],
   "source": [
    "def remove_outliers(data, m=1):\n",
    "    return data[abs(data - np.mean(data)) < m * np.std(data)]\n"
   ]
  },
  {
   "cell_type": "code",
   "execution_count": null,
   "metadata": {
    "hidden": true
   },
   "outputs": [],
   "source": [
    "def ContourDur_trend(sitegroup):\n",
    "    site_contour = {}\n",
    "    years_month_list =[] # ContourComplete - Sim\n",
    "    years_month_list_2 =[] # ContourDur = ContourComplete - ContourPromt\n",
    "    years_month_list_3 =[] # TxApptBook - Sim\n",
    "    df_site = preTxDur[preTxDur['Sitegroup_y']==sitegroup]\n",
    "\n",
    "    for y in range(2015, 2021): #2015-2020\n",
    "        df_y = df_site[df_site['CreatedDate'].dt.year == y]\n",
    "        month_list=[]\n",
    "        for m in range(1,13):\n",
    "            #remove outliers in each month\n",
    "            monthly_data = df_y[df_y['CreatedDate'].dt.month == m]['PlanDur']\n",
    "            month_avg = remove_outliers(monthly_data).mean()\n",
    "            monthly_data_2 = df_y[df_y['CreatedDate'].dt.month == m]['PlanDur2']\n",
    "            month_avg_2 = remove_outliers(monthly_data_2).mean()\n",
    "            #monthly_data_3 = df_y[df_y['CreatedDate'].dt.month == m]['TxApptBook-Sim']\n",
    "            #month_avg_3 = remove_outliers(monthly_data_3).mean()\n",
    "        \n",
    "        \n",
    "            years_month_list.append(month_avg)\n",
    "            years_month_list_2.append(month_avg_2)\n",
    "            #years_month_list_3.append(month_avg_3)\n",
    "        \n",
    "            month_list.append(month_avg)\n",
    "            site_contour[y] = month_list\n",
    "            #print(site_contour[2018])\n",
    "\n",
    "    x = range(1,73)\n",
    "    y = years_month_list\n",
    "    y2 = years_month_list_2\n",
    "    #y3 = years_month_list_3\n",
    "    plt.plot(x,y,label='PlanDur')\n",
    "    plt.plot(x,y2,label='FinalPlanCompl-TxBook')\n",
    "    #plt.plot(x,y3,label='TxApptBook-Sim')\n",
    "    plt.legend()\n",
    "    plt.xticks(np.arange(1, 73, step=12), labels=range(2015,2021))\n",
    "    plt.title(\"Mean contouring durations for patients \" + sitegroup)\n",
    "    plt.show();\n",
    "    "
   ]
  },
  {
   "cell_type": "code",
   "execution_count": null,
   "metadata": {
    "hidden": true
   },
   "outputs": [],
   "source": [
    "df['Sitegroup_y'].unique()"
   ]
  },
  {
   "cell_type": "code",
   "execution_count": null,
   "metadata": {
    "hidden": true,
    "scrolled": false
   },
   "outputs": [],
   "source": [
    "for s in df['Sitegroup_y'].unique():\n",
    "    if s is not np.nan:\n",
    "        print(s)\n",
    "        ContourDur_trend(s)\n",
    "    "
   ]
  },
  {
   "cell_type": "markdown",
   "metadata": {},
   "source": [
    "### Planning time estimation model"
   ]
  },
  {
   "cell_type": "code",
   "execution_count": 231,
   "metadata": {},
   "outputs": [
    {
     "data": {
      "text/plain": [
       "(5288, 28)"
      ]
     },
     "execution_count": 231,
     "metadata": {},
     "output_type": "execute_result"
    }
   ],
   "source": [
    "# use patients meeting the 14 day wait time to estimate normal planning time\n",
    "df_meet=df_orig[df_orig['WaitTime']<=14]\n",
    "df_meet.shape"
   ]
  },
  {
   "cell_type": "code",
   "execution_count": 232,
   "metadata": {},
   "outputs": [
    {
     "data": {
      "text/plain": [
       "148064"
      ]
     },
     "execution_count": 232,
     "metadata": {},
     "output_type": "execute_result"
    }
   ],
   "source": [
    "df19 = df_meet[pd.to_datetime(df_meet['CreatedDate']).dt.year>=2019]\n",
    "df19.size"
   ]
  },
  {
   "cell_type": "markdown",
   "metadata": {},
   "source": [
    "### EDA"
   ]
  },
  {
   "cell_type": "code",
   "execution_count": 233,
   "metadata": {},
   "outputs": [
    {
     "data": {
      "text/html": [
       "<div>\n",
       "<style scoped>\n",
       "    .dataframe tbody tr th:only-of-type {\n",
       "        vertical-align: middle;\n",
       "    }\n",
       "\n",
       "    .dataframe tbody tr th {\n",
       "        vertical-align: top;\n",
       "    }\n",
       "\n",
       "    .dataframe thead th {\n",
       "        text-align: right;\n",
       "    }\n",
       "</style>\n",
       "<table border=\"1\" class=\"dataframe\">\n",
       "  <thead>\n",
       "    <tr style=\"text-align: right;\">\n",
       "      <th></th>\n",
       "      <th>MRN</th>\n",
       "      <th>SiteGroup</th>\n",
       "      <th>Category_x</th>\n",
       "      <th>TltDose</th>\n",
       "      <th>TxFracs</th>\n",
       "      <th>PlanDur</th>\n",
       "    </tr>\n",
       "  </thead>\n",
       "  <tbody>\n",
       "    <tr>\n",
       "      <th>0</th>\n",
       "      <td>7287</td>\n",
       "      <td>GENITOURINARY(GU)</td>\n",
       "      <td>Urgent 2</td>\n",
       "      <td>1600.0</td>\n",
       "      <td>2.0</td>\n",
       "      <td>0.0</td>\n",
       "    </tr>\n",
       "    <tr>\n",
       "      <th>1</th>\n",
       "      <td>7287</td>\n",
       "      <td>GENITOURINARY(GU)</td>\n",
       "      <td>Standard 3</td>\n",
       "      <td>2400.0</td>\n",
       "      <td>3.0</td>\n",
       "      <td>0.0</td>\n",
       "    </tr>\n",
       "    <tr>\n",
       "      <th>4</th>\n",
       "      <td>10287</td>\n",
       "      <td>BREAST</td>\n",
       "      <td>Standard 3</td>\n",
       "      <td>4240.0</td>\n",
       "      <td>16.0</td>\n",
       "      <td>4.0</td>\n",
       "    </tr>\n",
       "    <tr>\n",
       "      <th>6</th>\n",
       "      <td>12169</td>\n",
       "      <td>GYNAE</td>\n",
       "      <td>Standard 3</td>\n",
       "      <td>2500.0</td>\n",
       "      <td>10.0</td>\n",
       "      <td>4.0</td>\n",
       "    </tr>\n",
       "    <tr>\n",
       "      <th>7</th>\n",
       "      <td>15820</td>\n",
       "      <td>BREAST</td>\n",
       "      <td>Standard 3</td>\n",
       "      <td>4240.0</td>\n",
       "      <td>16.0</td>\n",
       "      <td>1.0</td>\n",
       "    </tr>\n",
       "  </tbody>\n",
       "</table>\n",
       "</div>"
      ],
      "text/plain": [
       "     MRN          SiteGroup  Category_x  TltDose  TxFracs  PlanDur\n",
       "0   7287  GENITOURINARY(GU)    Urgent 2   1600.0      2.0      0.0\n",
       "1   7287  GENITOURINARY(GU)  Standard 3   2400.0      3.0      0.0\n",
       "4  10287             BREAST  Standard 3   4240.0     16.0      4.0\n",
       "6  12169              GYNAE  Standard 3   2500.0     10.0      4.0\n",
       "7  15820             BREAST  Standard 3   4240.0     16.0      1.0"
      ]
     },
     "execution_count": 233,
     "metadata": {},
     "output_type": "execute_result"
    }
   ],
   "source": [
    "features = ['SiteGroup','Category_x','TltDose','TxFracs']\n",
    "dtf = df_orig[['MRN'] + features + ['PlanDur']]\n",
    "               #      'ContourDur','TimeBtw_Sim_ContourCompl']] # y - target\n",
    "dtf=dtf[(dtf['PlanDur']<=25)&(dtf['PlanDur']>=0)]\n",
    "dtf.head()\n"
   ]
  },
  {
   "cell_type": "code",
   "execution_count": 234,
   "metadata": {},
   "outputs": [
    {
     "data": {
      "text/html": [
       "<div>\n",
       "<style scoped>\n",
       "    .dataframe tbody tr th:only-of-type {\n",
       "        vertical-align: middle;\n",
       "    }\n",
       "\n",
       "    .dataframe tbody tr th {\n",
       "        vertical-align: top;\n",
       "    }\n",
       "\n",
       "    .dataframe thead th {\n",
       "        text-align: right;\n",
       "    }\n",
       "</style>\n",
       "<table border=\"1\" class=\"dataframe\">\n",
       "  <thead>\n",
       "    <tr style=\"text-align: right;\">\n",
       "      <th></th>\n",
       "      <th>SiteGroup</th>\n",
       "      <th>Category_x</th>\n",
       "      <th>TltDose</th>\n",
       "      <th>TxFracs</th>\n",
       "      <th>PlanDur</th>\n",
       "    </tr>\n",
       "  </thead>\n",
       "  <tbody>\n",
       "    <tr>\n",
       "      <th>0</th>\n",
       "      <td>GENITOURINARY(GU)</td>\n",
       "      <td>Urgent 2</td>\n",
       "      <td>1600.0</td>\n",
       "      <td>2.0</td>\n",
       "      <td>0.0</td>\n",
       "    </tr>\n",
       "    <tr>\n",
       "      <th>1</th>\n",
       "      <td>GENITOURINARY(GU)</td>\n",
       "      <td>Standard 3</td>\n",
       "      <td>2400.0</td>\n",
       "      <td>3.0</td>\n",
       "      <td>0.0</td>\n",
       "    </tr>\n",
       "    <tr>\n",
       "      <th>4</th>\n",
       "      <td>BREAST</td>\n",
       "      <td>Standard 3</td>\n",
       "      <td>4240.0</td>\n",
       "      <td>16.0</td>\n",
       "      <td>4.0</td>\n",
       "    </tr>\n",
       "    <tr>\n",
       "      <th>6</th>\n",
       "      <td>GYNAE</td>\n",
       "      <td>Standard 3</td>\n",
       "      <td>2500.0</td>\n",
       "      <td>10.0</td>\n",
       "      <td>4.0</td>\n",
       "    </tr>\n",
       "    <tr>\n",
       "      <th>7</th>\n",
       "      <td>BREAST</td>\n",
       "      <td>Standard 3</td>\n",
       "      <td>4240.0</td>\n",
       "      <td>16.0</td>\n",
       "      <td>1.0</td>\n",
       "    </tr>\n",
       "  </tbody>\n",
       "</table>\n",
       "</div>"
      ],
      "text/plain": [
       "           SiteGroup  Category_x  TltDose  TxFracs  PlanDur\n",
       "0  GENITOURINARY(GU)    Urgent 2   1600.0      2.0      0.0\n",
       "1  GENITOURINARY(GU)  Standard 3   2400.0      3.0      0.0\n",
       "4             BREAST  Standard 3   4240.0     16.0      4.0\n",
       "6              GYNAE  Standard 3   2500.0     10.0      4.0\n",
       "7             BREAST  Standard 3   4240.0     16.0      1.0"
      ]
     },
     "execution_count": 234,
     "metadata": {},
     "output_type": "execute_result"
    }
   ],
   "source": [
    "target_y=\"PlanDur\"\n",
    "dtf = df_orig[features + [target_y]]\n",
    "               #      'ContourDur','TimeBtw_Sim_ContourCompl']] # y - target\n",
    "dtf=dtf[(dtf[target_y]<=30)&(dtf[target_y]>=0)]\n",
    "dtf.head()\n"
   ]
  },
  {
   "cell_type": "code",
   "execution_count": 235,
   "metadata": {},
   "outputs": [],
   "source": [
    "## for plotting\n",
    "import matplotlib.pyplot as plt\n",
    "import seaborn as sns\n",
    "## for statistical tests\n",
    "import scipy\n",
    "import statsmodels.formula.api as smf\n",
    "import statsmodels.api as sm\n",
    "## for machine learning\n",
    "from sklearn import model_selection, preprocessing, feature_selection, ensemble, linear_model, metrics, decomposition\n",
    "## for explainer\n",
    "#from lime import lime_tabular"
   ]
  },
  {
   "cell_type": "code",
   "execution_count": 236,
   "metadata": {},
   "outputs": [],
   "source": [
    "'''\n",
    "Recognize whether a column is numerical or categorical.\n",
    ":parameter\n",
    "    :param dtf: dataframe - input data\n",
    "    :param col: str - name of the column to analyze\n",
    "    :param max_cat: num - max number of unique values to recognize a column as categorical\n",
    ":return\n",
    "    \"cat\" if the column is categorical or \"num\" otherwise\n",
    "'''\n",
    "# want to know how many categorical and numerical variables there are and the proportion of missing data.\n",
    "def utils_recognize_type(dtf, col, max_cat=20):\n",
    "    if (dtf[col].dtype == \"O\") | (dtf[col].nunique() < max_cat):\n",
    "        return \"cat\"\n",
    "    else:\n",
    "        return \"num\""
   ]
  },
  {
   "cell_type": "code",
   "execution_count": 237,
   "metadata": {},
   "outputs": [
    {
     "data": {
      "image/png": "[encoded data removed]",
      "text/plain": [
       "<Figure size 432x288 with 1 Axes>"
      ]
     },
     "metadata": {
      "needs_background": "light"
     },
     "output_type": "display_data"
    },
    {
     "name": "stdout",
     "output_type": "stream",
     "text": [
      "\u001b[1;37;40m Categerocial  \u001b[1;30;41m Numeric  \u001b[1;30;47m NaN \n"
     ]
    }
   ],
   "source": [
    "dic_cols = {col:utils_recognize_type(dtf, col, max_cat=20) for col in dtf.columns}\n",
    "heatmap = dtf.isnull()\n",
    "for k,v in dic_cols.items():\n",
    " if v == \"num\":\n",
    "   heatmap[k] = heatmap[k].apply(lambda x: 0.5 if x is False else 1)\n",
    " else:\n",
    "   heatmap[k] = heatmap[k].apply(lambda x: 0 if x is False else 1)\n",
    "sns.heatmap(heatmap, cbar=False).set_title('Dataset Overview')\n",
    "plt.show()\n",
    "print(\"\\033[1;37;40m Categerocial \", \"\\033[1;30;41m Numeric \", \"\\033[1;30;47m NaN \")"
   ]
  },
  {
   "cell_type": "code",
   "execution_count": 238,
   "metadata": {},
   "outputs": [],
   "source": [
    "# dtf = dtf.set_index(\"Id\")\n",
    "dtf = dtf.rename(columns={target_y:\"Y\"})"
   ]
  },
  {
   "cell_type": "markdown",
   "metadata": {
    "heading_collapsed": true
   },
   "source": [
    "#### Visualisation\n",
    "#### univariate distributions"
   ]
  },
  {
   "cell_type": "code",
   "execution_count": 190,
   "metadata": {
    "hidden": true
   },
   "outputs": [
    {
     "name": "stderr",
     "output_type": "stream",
     "text": [
      "/Users/fanjia/opt/anaconda3/lib/python3.8/site-packages/pandas/core/series.py:679: RuntimeWarning: divide by zero encountered in log\n",
      "  result = getattr(ufunc, method)(*inputs, **kwargs)\n"
     ]
    },
    {
     "data": {
      "image/png": "[encoded data removed]",
      "text/plain": [
       "<Figure size 432x288 with 2 Axes>"
      ]
     },
     "metadata": {
      "needs_background": "light"
     },
     "output_type": "display_data"
    }
   ],
   "source": [
    "#A histogram is perfect to give a rough sense of the density of the underlying distribution of a single numerical data. \n",
    "#box plot to graphically depict data groups through their quartiles.\n",
    "\n",
    "x = \"Y\"\n",
    "fig, ax = plt.subplots(nrows=1, ncols=2,  sharex=False, sharey=False)\n",
    "fig.suptitle(x, fontsize=20)\n",
    "### distribution\n",
    "ax[0].title.set_text('distribution')\n",
    "variable = dtf[x].fillna(dtf[x].mean())\n",
    "breaks = np.quantile(variable, q=np.linspace(0, 1, 11))\n",
    "variable = variable[ (variable > breaks[0]) & (variable < \n",
    "                    breaks[10]) ]\n",
    "sns.distplot(variable, hist=True, kde=True, kde_kws={\"shade\": True}, ax=ax[0])\n",
    "des = dtf[x].describe()\n",
    "ax[0].axvline(des[\"25%\"], ls='--')\n",
    "ax[0].axvline(des[\"mean\"], ls='--')\n",
    "ax[0].axvline(des[\"75%\"], ls='--')\n",
    "ax[0].grid(True)\n",
    "des = round(des, 2).apply(lambda x: str(x))\n",
    "box = '\\n'.join((\"min: \"+des[\"min\"], \"25%: \"+des[\"25%\"], \"mean: \"+des[\"mean\"], \"75%: \"+des[\"75%\"], \"max: \"+des[\"max\"]))\n",
    "ax[0].text(0.95, 0.95, box, transform=ax[0].transAxes, fontsize=10, va='top', ha=\"right\", bbox=dict(boxstyle='round', facecolor='white', alpha=1))\n",
    "\n",
    "### boxplot \n",
    "ax[1].title.set_text('outliers (log scale)')\n",
    "tmp_dtf = pd.DataFrame(dtf[x])\n",
    "tmp_dtf[x] = np.log(tmp_dtf[x])\n",
    "tmp_dtf.boxplot(column=x, ax=ax[1])\n",
    "plt.show()"
   ]
  },
  {
   "cell_type": "code",
   "execution_count": 191,
   "metadata": {
    "hidden": true
   },
   "outputs": [
    {
     "data": {
      "image/png": "[encoded data removed]",
      "text/plain": [
       "<Figure size 432x288 with 2 Axes>"
      ]
     },
     "metadata": {
      "needs_background": "light"
     },
     "output_type": "display_data"
    }
   ],
   "source": [
    "x = \"Y\"\n",
    "fig, ax = plt.subplots(nrows=1, ncols=2,  sharex=False, sharey=False)\n",
    "fig.suptitle(x, fontsize=20)\n",
    "### distribution\n",
    "ax[0].title.set_text('distribution')\n",
    "variable = dtf[x].fillna(dtf[x].median()) # median\n",
    "breaks = np.quantile(variable, q=np.linspace(0, 1, 11))\n",
    "variable = variable[ (variable > breaks[0]) & (variable < breaks[10]) ]\n",
    "sns.distplot(variable, hist=True, kde=True, kde_kws={\"shade\": True}, ax=ax[0])\n",
    "des = dtf[x].describe()\n",
    "ax[0].axvline(des[\"25%\"], ls='--')\n",
    "ax[0].axvline(des[\"mean\"], ls='--')\n",
    "ax[0].axvline(des[\"75%\"], ls='--')\n",
    "ax[0].grid(True)\n",
    "des = round(des, 2).apply(lambda x: str(x))\n",
    "box = '\\n'.join((\"min: \"+des[\"min\"], \"25%: \"+des[\"25%\"], \"mean: \"+des[\"mean\"], \"75%: \"+des[\"75%\"], \"max: \"+des[\"max\"]))\n",
    "ax[0].text(0.95, 0.95, box, transform=ax[0].transAxes, fontsize=10, va='top', ha=\"right\", bbox=dict(boxstyle='round', facecolor='white', alpha=1))\n",
    "\n",
    "### boxplot \n",
    "ax[1].title.set_text('outliers (normal scale)')\n",
    "#tmp_dtf = pd.DataFrame(dtf[x])\n",
    "#tmp_dtf[x] = np.log(tmp_dtf[x])\n",
    "#tmp_dtf.boxplot(column=x, ax=ax[1])\n",
    "dtf.boxplot(column=x, ax=ax[1])\n",
    "plt.show()"
   ]
  },
  {
   "cell_type": "code",
   "execution_count": 192,
   "metadata": {
    "hidden": true
   },
   "outputs": [
    {
     "data": {
      "image/png": "[encoded data removed]",
      "text/plain": [
       "<Figure size 432x288 with 1 Axes>"
      ]
     },
     "metadata": {
      "needs_background": "light"
     },
     "output_type": "display_data"
    }
   ],
   "source": [
    "# Moreover, A bar plot is appropriate to understand labels frequency for a single categorical variable. \n",
    "x = \"SiteGroup\"\n",
    "ax = dtf[x].value_counts().sort_values().plot(kind=\"barh\")\n",
    "totals= []\n",
    "for i in ax.patches:\n",
    "    totals.append(i.get_width())\n",
    "total = sum(totals)\n",
    "for i in ax.patches:\n",
    "     ax.text(i.get_width()+.3, i.get_y()+.20, \n",
    "     str(round((i.get_width()/total)*100, 2))+'%', \n",
    "     fontsize=10, color='black')\n",
    "ax.grid(axis=\"x\")\n",
    "plt.suptitle(x+' frequency', fontsize=20)\n",
    "plt.show()"
   ]
  },
  {
   "cell_type": "code",
   "execution_count": 193,
   "metadata": {
    "hidden": true
   },
   "outputs": [
    {
     "data": {
      "image/png": "[encoded data removed]",
      "text/plain": [
       "<Figure size 432x288 with 1 Axes>"
      ]
     },
     "metadata": {
      "needs_background": "light"
     },
     "output_type": "display_data"
    }
   ],
   "source": [
    "x = \"Category_x\"\n",
    "ax = dtf[x].value_counts().sort_values().plot(kind=\"barh\")\n",
    "totals= []\n",
    "for i in ax.patches:\n",
    "    totals.append(i.get_width())\n",
    "total = sum(totals)\n",
    "for i in ax.patches:\n",
    "     ax.text(i.get_width()+.3, i.get_y()+.20, \n",
    "     str(round((i.get_width()/total)*100, 2))+'%', \n",
    "     fontsize=10, color='black')\n",
    "ax.grid(axis=\"x\")\n",
    "plt.suptitle(x+' frequency', fontsize=20)\n",
    "plt.show()"
   ]
  },
  {
   "cell_type": "markdown",
   "metadata": {},
   "source": [
    "#### bivariate distribution to understand if SiteGroup has predictive power to predict Y. This would be the case of categorical (Sitegroup_y) vs numerical (Y)"
   ]
  },
  {
   "cell_type": "code",
   "execution_count": 239,
   "metadata": {},
   "outputs": [
    {
     "data": {
      "text/plain": [
       "array(['GENITOURINARY(GU)', 'BREAST', 'GYNAE', 'Oligomets', 'SARCOMA',\n",
       "       'ENT (HEAD & NECK)', 'LUNG', 'CNS', 'GI LOWER', 'GI UPPER', 'SKIN',\n",
       "       'LYMPHOMA', 'EYE', 'ENDOCRINE', 'Unknown', 'PAEDIATRIC'],\n",
       "      dtype=object)"
      ]
     },
     "execution_count": 239,
     "metadata": {},
     "output_type": "execute_result"
    }
   ],
   "source": [
    "#dtf.dropna(subset=['Sitegroup_y'], inplace=True)\n",
    "dtf['SiteGroup'].unique()"
   ]
  },
  {
   "cell_type": "code",
   "execution_count": 240,
   "metadata": {},
   "outputs": [],
   "source": [
    "dtf = dtf.loc[dtf['SiteGroup'].isin(['LUNG', 'GENITOURINARY(GU)', 'GASTROINTESTINAL(GI)', 'BREAST',\n",
    "                                   'GYNAE', 'LYMPHOMA', 'ENT (HEAD & NECK)', 'CNS', 'SARCOMA', 'SKIN',\n",
    "                                   'ENDOCRINE', 'LEUKEMIA', 'EYE', 'UNKNOWN'])]\n"
   ]
  },
  {
   "cell_type": "code",
   "execution_count": 241,
   "metadata": {},
   "outputs": [
    {
     "data": {
      "text/html": [
       "<div>\n",
       "<style scoped>\n",
       "    .dataframe tbody tr th:only-of-type {\n",
       "        vertical-align: middle;\n",
       "    }\n",
       "\n",
       "    .dataframe tbody tr th {\n",
       "        vertical-align: top;\n",
       "    }\n",
       "\n",
       "    .dataframe thead th {\n",
       "        text-align: right;\n",
       "    }\n",
       "</style>\n",
       "<table border=\"1\" class=\"dataframe\">\n",
       "  <thead>\n",
       "    <tr style=\"text-align: right;\">\n",
       "      <th></th>\n",
       "      <th>SiteGroup</th>\n",
       "      <th>Category_x</th>\n",
       "      <th>TltDose</th>\n",
       "      <th>TxFracs</th>\n",
       "      <th>Y</th>\n",
       "    </tr>\n",
       "  </thead>\n",
       "  <tbody>\n",
       "    <tr>\n",
       "      <th>0</th>\n",
       "      <td>GENITOURINARY(GU)</td>\n",
       "      <td>Urgent 2</td>\n",
       "      <td>1600.0</td>\n",
       "      <td>2.0</td>\n",
       "      <td>0.0</td>\n",
       "    </tr>\n",
       "    <tr>\n",
       "      <th>1</th>\n",
       "      <td>GENITOURINARY(GU)</td>\n",
       "      <td>Standard 3</td>\n",
       "      <td>2400.0</td>\n",
       "      <td>3.0</td>\n",
       "      <td>0.0</td>\n",
       "    </tr>\n",
       "    <tr>\n",
       "      <th>4</th>\n",
       "      <td>BREAST</td>\n",
       "      <td>Standard 3</td>\n",
       "      <td>4240.0</td>\n",
       "      <td>16.0</td>\n",
       "      <td>4.0</td>\n",
       "    </tr>\n",
       "    <tr>\n",
       "      <th>6</th>\n",
       "      <td>GYNAE</td>\n",
       "      <td>Standard 3</td>\n",
       "      <td>2500.0</td>\n",
       "      <td>10.0</td>\n",
       "      <td>4.0</td>\n",
       "    </tr>\n",
       "    <tr>\n",
       "      <th>7</th>\n",
       "      <td>BREAST</td>\n",
       "      <td>Standard 3</td>\n",
       "      <td>4240.0</td>\n",
       "      <td>16.0</td>\n",
       "      <td>1.0</td>\n",
       "    </tr>\n",
       "  </tbody>\n",
       "</table>\n",
       "</div>"
      ],
      "text/plain": [
       "           SiteGroup  Category_x  TltDose  TxFracs    Y\n",
       "0  GENITOURINARY(GU)    Urgent 2   1600.0      2.0  0.0\n",
       "1  GENITOURINARY(GU)  Standard 3   2400.0      3.0  0.0\n",
       "4             BREAST  Standard 3   4240.0     16.0  4.0\n",
       "6              GYNAE  Standard 3   2500.0     10.0  4.0\n",
       "7             BREAST  Standard 3   4240.0     16.0  1.0"
      ]
     },
     "execution_count": 241,
     "metadata": {},
     "output_type": "execute_result"
    }
   ],
   "source": [
    "dtf.head()\n"
   ]
  },
  {
   "cell_type": "code",
   "execution_count": 197,
   "metadata": {},
   "outputs": [
    {
     "name": "stderr",
     "output_type": "stream",
     "text": [
      "/Users/fanjia/opt/anaconda3/lib/python3.8/site-packages/seaborn/categorical.py:3717: UserWarning: catplot is a figure-level function and does not accept target axes. You may wish to try boxplot\n",
      "  warnings.warn(msg, UserWarning)\n"
     ]
    },
    {
     "data": {
      "image/png": "[encoded data removed]",
      "text/plain": [
       "<Figure size 432x288 with 3 Axes>"
      ]
     },
     "metadata": {
      "needs_background": "light"
     },
     "output_type": "display_data"
    },
    {
     "data": {
      "image/png": "[encoded data removed]",
      "text/plain": [
       "<Figure size 360x360 with 1 Axes>"
      ]
     },
     "metadata": {
      "needs_background": "light"
     },
     "output_type": "display_data"
    }
   ],
   "source": [
    "cat, num = \"SiteGroup\", \"Y\"\n",
    "fig, ax = plt.subplots(nrows=1, ncols=3,  sharex=False, sharey=False)\n",
    "#fig.suptitle(x+\"   vs   \"+y, fontsize=20)\n",
    "            \n",
    "### distribution\n",
    "ax[0].title.set_text('density')\n",
    "for i in dtf[cat].unique():\n",
    "    sns.distplot(dtf[dtf[cat]==i][num], hist=False, label=i, ax=ax[0])\n",
    "ax[0].grid(True)\n",
    "\n",
    "\n",
    "### stacked\n",
    "ax[1].title.set_text('bins')\n",
    "breaks = np.quantile(dtf[num], q=np.linspace(0,1,11))\n",
    "tmp = dtf.groupby([cat, pd.cut(dtf[num], breaks, duplicates='drop')]).size().unstack().T\n",
    "tmp = tmp[dtf[cat].unique()]\n",
    "tmp[\"tot\"] = tmp.sum(axis=1)\n",
    "for col in tmp.drop(\"tot\", axis=1).columns:\n",
    "     tmp[col] = tmp[col] / tmp[\"tot\"]\n",
    "tmp.drop(\"tot\", axis=1).plot(kind='bar', stacked=True, ax=ax[1], legend=False, grid=True)\n",
    "\n",
    "### boxplot   \n",
    "ax[2].title.set_text('outliers')\n",
    "sns.catplot(x=cat, y=num, data=dtf, kind=\"box\", ax=ax[2])\n",
    "ax[2].grid(True)\n",
    "\n",
    "plt.show()"
   ]
  },
  {
   "cell_type": "code",
   "execution_count": 198,
   "metadata": {},
   "outputs": [
    {
     "data": {
      "text/plain": [
       "30590"
      ]
     },
     "execution_count": 198,
     "metadata": {},
     "output_type": "execute_result"
    }
   ],
   "source": [
    "dtf = dtf[dtf['Category_x'].notnull()]\n",
    "dtf.size"
   ]
  },
  {
   "cell_type": "code",
   "execution_count": 199,
   "metadata": {},
   "outputs": [
    {
     "name": "stderr",
     "output_type": "stream",
     "text": [
      "/Users/fanjia/opt/anaconda3/lib/python3.8/site-packages/seaborn/distributions.py:369: UserWarning: Default bandwidth for data is 0; skipping density estimation.\n",
      "  warnings.warn(msg, UserWarning)\n",
      "/Users/fanjia/opt/anaconda3/lib/python3.8/site-packages/seaborn/categorical.py:3717: UserWarning: catplot is a figure-level function and does not accept target axes. You may wish to try boxplot\n",
      "  warnings.warn(msg, UserWarning)\n"
     ]
    },
    {
     "data": {
      "image/png": "[encoded data removed]",
      "text/plain": [
       "<Figure size 432x288 with 3 Axes>"
      ]
     },
     "metadata": {
      "needs_background": "light"
     },
     "output_type": "display_data"
    },
    {
     "data": {
      "image/png": "[encoded data removed]",
      "text/plain": [
       "<Figure size 360x360 with 1 Axes>"
      ]
     },
     "metadata": {
      "needs_background": "light"
     },
     "output_type": "display_data"
    }
   ],
   "source": [
    "cat, num = \"Category_x\", \"Y\"\n",
    "fig, ax = plt.subplots(nrows=1, ncols=3,  sharex=False, sharey=False)\n",
    "#fig.suptitle(x+\"   vs   \"+y, fontsize=20)\n",
    "            \n",
    "### distribution\n",
    "ax[0].title.set_text('density')\n",
    "for i in dtf[cat].unique():\n",
    "    sns.distplot(dtf[dtf[cat]==i][num], hist=False, label=i, ax=ax[0])\n",
    "ax[0].grid(True)\n",
    "\n",
    "\n",
    "### stacked\n",
    "ax[1].title.set_text('bins')\n",
    "breaks = np.quantile(dtf[num], q=np.linspace(0,1,11))\n",
    "tmp = dtf.groupby([cat, pd.cut(dtf[num], breaks, duplicates='drop')]).size().unstack().T\n",
    "tmp = tmp[dtf[cat].unique()]\n",
    "tmp[\"tot\"] = tmp.sum(axis=1)\n",
    "for col in tmp.drop(\"tot\", axis=1).columns:\n",
    "     tmp[col] = tmp[col] / tmp[\"tot\"]\n",
    "tmp.drop(\"tot\", axis=1).plot(kind='bar', stacked=True, ax=ax[1], legend=False, grid=True)\n",
    "\n",
    "### boxplot   \n",
    "ax[2].title.set_text('outliers')\n",
    "sns.catplot(x=cat, y=num, data=dtf, kind=\"box\", ax=ax[2])\n",
    "ax[2].grid(True)\n",
    "\n",
    "plt.show()"
   ]
  },
  {
   "cell_type": "markdown",
   "metadata": {
    "heading_collapsed": true
   },
   "source": [
    "#### ANOVA tests for features"
   ]
  },
  {
   "cell_type": "code",
   "execution_count": 123,
   "metadata": {
    "hidden": true
   },
   "outputs": [
    {
     "name": "stdout",
     "output_type": "stream",
     "text": [
      "Anova F: the variables are Correlated (p-value: 0.0)\n"
     ]
    }
   ],
   "source": [
    "cat, num = \"SiteGroup\", \"Y\"\n",
    "model = smf.ols(num+' ~ '+cat, data=dtf).fit()\n",
    "table = sm.stats.anova_lm(model)\n",
    "p = table[\"PR(>F)\"][0]\n",
    "coeff, p = None, round(p, 3)\n",
    "conclusion = \"Correlated\" if p < 0.05 else \"Non-Correlated\"\n",
    "print(\"Anova F: the variables are\", conclusion, \"(p-value: \"+str(p)+\")\")"
   ]
  },
  {
   "cell_type": "code",
   "execution_count": 124,
   "metadata": {
    "hidden": true
   },
   "outputs": [
    {
     "name": "stdout",
     "output_type": "stream",
     "text": [
      "Anova F: the variables are Correlated (p-value: 0.0)\n"
     ]
    }
   ],
   "source": [
    "cat, num = \"Category_x\", \"Y\"\n",
    "model = smf.ols(num+' ~ '+cat, data=dtf).fit()\n",
    "table = sm.stats.anova_lm(model)\n",
    "p = table[\"PR(>F)\"][0]\n",
    "coeff, p = None, round(p, 3)\n",
    "conclusion = \"Correlated\" if p < 0.05 else \"Non-Correlated\"\n",
    "print(\"Anova F: the variables are\", conclusion, \"(p-value: \"+str(p)+\")\")"
   ]
  },
  {
   "cell_type": "code",
   "execution_count": 125,
   "metadata": {
    "hidden": true
   },
   "outputs": [
    {
     "data": {
      "image/png": "[encoded data removed]",
      "text/plain": [
       "<Figure size 576x360 with 2 Axes>"
      ]
     },
     "metadata": {
      "needs_background": "light"
     },
     "output_type": "display_data"
    },
    {
     "data": {
      "image/png": "[encoded data removed]",
      "text/plain": [
       "<Figure size 432x432 with 3 Axes>"
      ]
     },
     "metadata": {
      "needs_background": "light"
     },
     "output_type": "display_data"
    }
   ],
   "source": [
    "# behavior of the target variable with respect to TltDose \n",
    "# This is a case of numerical (TltDose) vs numerical (Y)\n",
    "x, y = \"TltDose\", \"Y\"\n",
    "figsize=[8,5]\n",
    "### bin plot\n",
    "### group GrLivArea values into bins and compare the mean value (and median) of Y in each bin, \n",
    "### if the curve isn’t flat then the variable is predictive because the bins have different patterns\n",
    "dtf_noNan = dtf[dtf[x].notnull()]\n",
    "breaks = np.quantile(dtf_noNan[x], q=np.linspace(0, 1, 11))\n",
    "groups = dtf_noNan.groupby([pd.cut(dtf_noNan[x], bins=breaks, \n",
    "           duplicates='drop')])[y].agg(['mean','median','size'])\n",
    "fig, ax = plt.subplots(figsize=figsize)\n",
    "fig.suptitle(x+\"   vs   \"+y, fontsize=20)\n",
    "groups[[\"mean\", \"median\"]].plot(kind=\"line\", ax=ax)\n",
    "groups[\"size\"].plot(kind=\"bar\", ax=ax, rot=45, secondary_y=True,\n",
    "                    color=\"grey\", alpha=0.3, grid=True)\n",
    "ax.set(ylabel=y)\n",
    "ax.right_ax.set_ylabel(\"Observazions in each bin\")\n",
    "plt.show()\n",
    "\n",
    "### scatter plot\n",
    "### distributions of the two variables on the sides\n",
    "sns.jointplot(x=x, y=y, data=dtf, dropna=True, kind='reg', \n",
    "              height=int((figsize[0]+figsize[1])/2) )\n",
    "plt.show()"
   ]
  },
  {
   "cell_type": "code",
   "execution_count": 126,
   "metadata": {
    "hidden": true
   },
   "outputs": [
    {
     "name": "stdout",
     "output_type": "stream",
     "text": [
      "Pearson Correlation: 0.423 Significant (p-value: 0.0)\n"
     ]
    }
   ],
   "source": [
    "### test the correlation between these 2 variables. \n",
    "### Since they are both numerical, I’d test the Pearson’s Correlation Coefficient:\n",
    "x, y = \"TltDose\", \"Y\"\n",
    "dtf_noNan = dtf[dtf[x].notnull()]\n",
    "coeff, p = scipy.stats.pearsonr(dtf_noNan[x], dtf_noNan[y])\n",
    "coeff, p = round(coeff, 3), round(p, 3)\n",
    "conclusion = \"Significant\" if p < 0.05 else \"Non-Significant\"\n",
    "print(\"Pearson Correlation:\", coeff, conclusion, \"(p-value: \"+str(p)+\")\")\n"
   ]
  },
  {
   "cell_type": "code",
   "execution_count": 127,
   "metadata": {
    "hidden": true
   },
   "outputs": [
    {
     "data": {
      "image/png": "[encoded data removed]",
      "text/plain": [
       "<Figure size 576x360 with 2 Axes>"
      ]
     },
     "metadata": {
      "needs_background": "light"
     },
     "output_type": "display_data"
    },
    {
     "data": {
      "image/png": "[encoded data removed]",
      "text/plain": [
       "<Figure size 432x432 with 3 Axes>"
      ]
     },
     "metadata": {
      "needs_background": "light"
     },
     "output_type": "display_data"
    }
   ],
   "source": [
    "x, y = \"TxFracs\", \"Y\"\n",
    "figsize=[8,5]\n",
    "### bin plot\n",
    "### group GrLivArea values into bins and compare the mean value (and median) of Y in each bin, \n",
    "### if the curve isn’t flat then the variable is predictive because the bins have different patterns\n",
    "dtf_noNan = dtf[dtf[x].notnull()]\n",
    "breaks = np.quantile(dtf_noNan[x], q=np.linspace(0, 1, 11))\n",
    "groups = dtf_noNan.groupby([pd.cut(dtf_noNan[x], bins=breaks, \n",
    "           duplicates='drop')])[y].agg(['mean','median','size'])\n",
    "fig, ax = plt.subplots(figsize=figsize)\n",
    "fig.suptitle(x+\"   vs   \"+y, fontsize=20)\n",
    "groups[[\"mean\", \"median\"]].plot(kind=\"line\", ax=ax)\n",
    "groups[\"size\"].plot(kind=\"bar\", ax=ax, rot=45, secondary_y=True,\n",
    "                    color=\"grey\", alpha=0.3, grid=True)\n",
    "ax.set(ylabel=y)\n",
    "ax.right_ax.set_ylabel(\"Observazions in each bin\")\n",
    "plt.show()\n",
    "\n",
    "### scatter plot\n",
    "### distributions of the two variables on the sides\n",
    "sns.jointplot(x=x, y=y, data=dtf, dropna=True, kind='reg', \n",
    "              height=int((figsize[0]+figsize[1])/2) )\n",
    "plt.show()\n"
   ]
  },
  {
   "cell_type": "code",
   "execution_count": 128,
   "metadata": {
    "hidden": true
   },
   "outputs": [
    {
     "name": "stdout",
     "output_type": "stream",
     "text": [
      "Pearson Correlation: 0.366 Significant (p-value: 0.0)\n"
     ]
    }
   ],
   "source": [
    "x, y = \"TxFracs\", \"Y\"\n",
    "dtf_noNan = dtf[dtf[x].notnull()]\n",
    "coeff, p = scipy.stats.pearsonr(dtf_noNan[x], dtf_noNan[y])\n",
    "coeff, p = round(coeff, 3), round(p, 3)\n",
    "conclusion = \"Significant\" if p < 0.05 else \"Non-Significant\"\n",
    "print(\"Pearson Correlation:\", coeff, conclusion, \"(p-value: \"+str(p)+\")\")"
   ]
  },
  {
   "cell_type": "code",
   "execution_count": 129,
   "metadata": {
    "hidden": true
   },
   "outputs": [],
   "source": [
    "dtf['product']=dtf['TltDose']*dtf['TxFracs']\n",
    "dtf['ratio']=dtf['TltDose']/dtf['TxFracs']"
   ]
  },
  {
   "cell_type": "code",
   "execution_count": 130,
   "metadata": {
    "hidden": true
   },
   "outputs": [
    {
     "name": "stdout",
     "output_type": "stream",
     "text": [
      "Pearson Correlation: -0.112 Significant (p-value: 0.0)\n"
     ]
    }
   ],
   "source": [
    "x, y = \"ratio\", \"Y\"\n",
    "dtf_noNan = dtf[dtf[x].notnull()]\n",
    "coeff, p = scipy.stats.pearsonr(dtf_noNan[x], dtf_noNan[y])\n",
    "coeff, p = round(coeff, 3), round(p, 3)\n",
    "conclusion = \"Significant\" if p < 0.05 else \"Non-Significant\"\n",
    "print(\"Pearson Correlation:\", coeff, conclusion, \"(p-value: \"+str(p)+\")\")"
   ]
  },
  {
   "cell_type": "code",
   "execution_count": 131,
   "metadata": {
    "hidden": true
   },
   "outputs": [
    {
     "name": "stdout",
     "output_type": "stream",
     "text": [
      "Pearson Correlation: 0.335 Significant (p-value: 0.0)\n"
     ]
    }
   ],
   "source": [
    "x, y = \"product\", \"Y\"\n",
    "dtf_noNan = dtf[dtf[x].notnull()]\n",
    "coeff, p = scipy.stats.pearsonr(dtf_noNan[x], dtf_noNan[y])\n",
    "coeff, p = round(coeff, 3), round(p, 3)\n",
    "conclusion = \"Significant\" if p < 0.05 else \"Non-Significant\"\n",
    "print(\"Pearson Correlation:\", coeff, conclusion, \"(p-value: \"+str(p)+\")\")"
   ]
  },
  {
   "cell_type": "markdown",
   "metadata": {},
   "source": [
    "#### Feature Engineering"
   ]
  },
  {
   "cell_type": "code",
   "execution_count": 132,
   "metadata": {},
   "outputs": [],
   "source": [
    "#sns.catplot(x=\"Sitegroup_y\", y=\"Y\", data=dtf, kind=\"box\")"
   ]
  },
  {
   "cell_type": "code",
   "execution_count": 133,
   "metadata": {},
   "outputs": [],
   "source": [
    "#dtf.size"
   ]
  },
  {
   "cell_type": "markdown",
   "metadata": {},
   "source": [
    "### Model"
   ]
  },
  {
   "cell_type": "code",
   "execution_count": 242,
   "metadata": {},
   "outputs": [
    {
     "data": {
      "text/plain": [
       "array(['Urgent 2', 'Standard 3', 'Emergency 1'], dtype=object)"
      ]
     },
     "execution_count": 242,
     "metadata": {},
     "output_type": "execute_result"
    }
   ],
   "source": [
    "dtf['Category_x'].unique()\n",
    "#dtf=dtf[dtf['Category_x']!='Planned Delay 3']\n",
    "#dtf=dtf[dtf['Category_x']!='planned Delay 3']"
   ]
  },
  {
   "cell_type": "code",
   "execution_count": 243,
   "metadata": {},
   "outputs": [
    {
     "data": {
      "text/html": [
       "<div>\n",
       "<style scoped>\n",
       "    .dataframe tbody tr th:only-of-type {\n",
       "        vertical-align: middle;\n",
       "    }\n",
       "\n",
       "    .dataframe tbody tr th {\n",
       "        vertical-align: top;\n",
       "    }\n",
       "\n",
       "    .dataframe thead th {\n",
       "        text-align: right;\n",
       "    }\n",
       "</style>\n",
       "<table border=\"1\" class=\"dataframe\">\n",
       "  <thead>\n",
       "    <tr style=\"text-align: right;\">\n",
       "      <th></th>\n",
       "      <th>SiteGroup</th>\n",
       "      <th>Category_x</th>\n",
       "      <th>TltDose</th>\n",
       "      <th>TxFracs</th>\n",
       "      <th>Y</th>\n",
       "    </tr>\n",
       "  </thead>\n",
       "  <tbody>\n",
       "    <tr>\n",
       "      <th>0</th>\n",
       "      <td>GENITOURINARY(GU)</td>\n",
       "      <td>Urgent 2</td>\n",
       "      <td>1600.0</td>\n",
       "      <td>2.0</td>\n",
       "      <td>0.0</td>\n",
       "    </tr>\n",
       "    <tr>\n",
       "      <th>1</th>\n",
       "      <td>GENITOURINARY(GU)</td>\n",
       "      <td>Standard 3</td>\n",
       "      <td>2400.0</td>\n",
       "      <td>3.0</td>\n",
       "      <td>0.0</td>\n",
       "    </tr>\n",
       "    <tr>\n",
       "      <th>4</th>\n",
       "      <td>BREAST</td>\n",
       "      <td>Standard 3</td>\n",
       "      <td>4240.0</td>\n",
       "      <td>16.0</td>\n",
       "      <td>4.0</td>\n",
       "    </tr>\n",
       "    <tr>\n",
       "      <th>6</th>\n",
       "      <td>GYNAE</td>\n",
       "      <td>Standard 3</td>\n",
       "      <td>2500.0</td>\n",
       "      <td>10.0</td>\n",
       "      <td>4.0</td>\n",
       "    </tr>\n",
       "    <tr>\n",
       "      <th>7</th>\n",
       "      <td>BREAST</td>\n",
       "      <td>Standard 3</td>\n",
       "      <td>4240.0</td>\n",
       "      <td>16.0</td>\n",
       "      <td>1.0</td>\n",
       "    </tr>\n",
       "  </tbody>\n",
       "</table>\n",
       "</div>"
      ],
      "text/plain": [
       "           SiteGroup  Category_x  TltDose  TxFracs    Y\n",
       "0  GENITOURINARY(GU)    Urgent 2   1600.0      2.0  0.0\n",
       "1  GENITOURINARY(GU)  Standard 3   2400.0      3.0  0.0\n",
       "4             BREAST  Standard 3   4240.0     16.0  4.0\n",
       "6              GYNAE  Standard 3   2500.0     10.0  4.0\n",
       "7             BREAST  Standard 3   4240.0     16.0  1.0"
      ]
     },
     "execution_count": 243,
     "metadata": {},
     "output_type": "execute_result"
    }
   ],
   "source": [
    "dtf.head()"
   ]
  },
  {
   "cell_type": "code",
   "execution_count": 203,
   "metadata": {},
   "outputs": [
    {
     "data": {
      "text/plain": [
       "\"x=dtf['ratio']\\ny=dtf['Y']\\nplt.scatter(x,y)\""
      ]
     },
     "execution_count": 203,
     "metadata": {},
     "output_type": "execute_result"
    }
   ],
   "source": [
    "'''x=dtf['ratio']\n",
    "y=dtf['Y']\n",
    "plt.scatter(x,y)'''"
   ]
  },
  {
   "cell_type": "code",
   "execution_count": 245,
   "metadata": {},
   "outputs": [
    {
     "data": {
      "text/plain": [
       "Index(['SiteGroup', 'Category_x', 'TltDose', 'TxFracs', 'Y'], dtype='object')"
      ]
     },
     "execution_count": 245,
     "metadata": {},
     "output_type": "execute_result"
    }
   ],
   "source": [
    "dtf.columns"
   ]
  },
  {
   "cell_type": "code",
   "execution_count": 204,
   "metadata": {},
   "outputs": [
    {
     "name": "stdout",
     "output_type": "stream",
     "text": [
      "X_train shape: (4282, 4) | X_test shape: (1836, 4)\n",
      "y_train mean: 2.8 | y_test mean: 2.8\n",
      "5 features: ['SiteGroup', 'Category_x', 'TltDose', 'TxFracs']\n"
     ]
    }
   ],
   "source": [
    "# train test split\n",
    "## split data\n",
    "dtf_train, dtf_test = model_selection.train_test_split(dtf, \n",
    "                      test_size=0.3)\n",
    "## print info\n",
    "print(\"X_train shape:\", dtf_train.drop(\"Y\",axis=1).shape, \"| X_test shape:\", dtf_test.drop(\"Y\",axis=1).shape)\n",
    "print(\"y_train mean:\", round(np.mean(dtf_train[\"Y\"]),2), \"| y_test mean:\", round(np.mean(dtf_test[\"Y\"]),2))\n",
    "print(dtf_train.shape[1], \"features:\", dtf_train.drop(\"Y\",axis=1).columns.to_list())\n"
   ]
  },
  {
   "cell_type": "markdown",
   "metadata": {},
   "source": [
    "#### Pre-processing"
   ]
  },
  {
   "cell_type": "code",
   "execution_count": 207,
   "metadata": {},
   "outputs": [
    {
     "name": "stderr",
     "output_type": "stream",
     "text": [
      "<ipython-input-207-0bfd0d3722ee>:2: SettingWithCopyWarning: \n",
      "A value is trying to be set on a copy of a slice from a DataFrame.\n",
      "Try using .loc[row_indexer,col_indexer] = value instead\n",
      "\n",
      "See the caveats in the documentation: https://pandas.pydata.org/pandas-docs/stable/user_guide/indexing.html#returning-a-view-versus-a-copy\n",
      "  dtf_train[\"SiteGroup\"] = dtf_train[\"SiteGroup\"].fillna(dtf_train[\"SiteGroup\"].mode()[0])\n",
      "<ipython-input-207-0bfd0d3722ee>:3: SettingWithCopyWarning: \n",
      "A value is trying to be set on a copy of a slice from a DataFrame.\n",
      "Try using .loc[row_indexer,col_indexer] = value instead\n",
      "\n",
      "See the caveats in the documentation: https://pandas.pydata.org/pandas-docs/stable/user_guide/indexing.html#returning-a-view-versus-a-copy\n",
      "  dtf_train[\"TltDose\"] = dtf_train[\"TltDose\"].fillna(dtf_train[\"TltDose\"].median())\n",
      "<ipython-input-207-0bfd0d3722ee>:4: SettingWithCopyWarning: \n",
      "A value is trying to be set on a copy of a slice from a DataFrame.\n",
      "Try using .loc[row_indexer,col_indexer] = value instead\n",
      "\n",
      "See the caveats in the documentation: https://pandas.pydata.org/pandas-docs/stable/user_guide/indexing.html#returning-a-view-versus-a-copy\n",
      "  dtf_train[\"TxFracs\"] = dtf_train[\"TxFracs\"].fillna(dtf_train[\"TxFracs\"].median())\n",
      "<ipython-input-207-0bfd0d3722ee>:8: SettingWithCopyWarning: \n",
      "A value is trying to be set on a copy of a slice from a DataFrame.\n",
      "Try using .loc[row_indexer,col_indexer] = value instead\n",
      "\n",
      "See the caveats in the documentation: https://pandas.pydata.org/pandas-docs/stable/user_guide/indexing.html#returning-a-view-versus-a-copy\n",
      "  dtf_test[\"SiteGroup\"] = dtf_test[\"SiteGroup\"].fillna(dtf_test[\"SiteGroup\"].mode()[0])\n",
      "<ipython-input-207-0bfd0d3722ee>:9: SettingWithCopyWarning: \n",
      "A value is trying to be set on a copy of a slice from a DataFrame.\n",
      "Try using .loc[row_indexer,col_indexer] = value instead\n",
      "\n",
      "See the caveats in the documentation: https://pandas.pydata.org/pandas-docs/stable/user_guide/indexing.html#returning-a-view-versus-a-copy\n",
      "  dtf_test[\"TltDose\"] = dtf_test[\"TltDose\"].fillna(dtf_test[\"TltDose\"].median())\n",
      "<ipython-input-207-0bfd0d3722ee>:10: SettingWithCopyWarning: \n",
      "A value is trying to be set on a copy of a slice from a DataFrame.\n",
      "Try using .loc[row_indexer,col_indexer] = value instead\n",
      "\n",
      "See the caveats in the documentation: https://pandas.pydata.org/pandas-docs/stable/user_guide/indexing.html#returning-a-view-versus-a-copy\n",
      "  dtf_test[\"TxFracs\"] = dtf_test[\"TxFracs\"].fillna(dtf_test[\"TxFracs\"].median())\n"
     ]
    }
   ],
   "source": [
    "# fill na \n",
    "dtf_train[\"SiteGroup\"] = dtf_train[\"SiteGroup\"].fillna(dtf_train[\"SiteGroup\"].mode()[0])\n",
    "dtf_train[\"TltDose\"] = dtf_train[\"TltDose\"].fillna(dtf_train[\"TltDose\"].median())\n",
    "dtf_train[\"TxFracs\"] = dtf_train[\"TxFracs\"].fillna(dtf_train[\"TxFracs\"].median())\n",
    "#dtf_train[\"product\"] = dtf_train[\"product\"].fillna(dtf_train[\"product\"].median())\n",
    "#dtf_train[\"ratio\"] = dtf_train[\"ratio\"].fillna(dtf_train[\"ratio\"].median())\n",
    "\n",
    "dtf_test[\"SiteGroup\"] = dtf_test[\"SiteGroup\"].fillna(dtf_test[\"SiteGroup\"].mode()[0])\n",
    "dtf_test[\"TltDose\"] = dtf_test[\"TltDose\"].fillna(dtf_test[\"TltDose\"].median())\n",
    "dtf_test[\"TxFracs\"] = dtf_test[\"TxFracs\"].fillna(dtf_test[\"TxFracs\"].median())\n",
    "#dtf_test[\"product\"] = dtf_test[\"product\"].fillna(dtf_test[\"product\"].median())\n",
    "#dtf_test[\"ratio\"] = dtf_test[\"ratio\"].fillna(dtf_test[\"ratio\"].median())\n"
   ]
  },
  {
   "cell_type": "code",
   "execution_count": 208,
   "metadata": {},
   "outputs": [
    {
     "name": "stdout",
     "output_type": "stream",
     "text": [
      "              SiteGroup\n",
      "1108                CNS\n",
      "2605                CNS\n",
      "4373           LYMPHOMA\n",
      "7156  ENT (HEAD & NECK)\n",
      "8105  GENITOURINARY(GU)\n"
     ]
    }
   ],
   "source": [
    "#from sklearn.preprocessing import OneHotEncoder\n",
    "## create dummy\n",
    "dummy = pd.get_dummies(dtf_train[[\"SiteGroup\",\"Category_x\"]], \n",
    "                       prefix=['Site','Categ']) #, drop_first=True)\n",
    "dtf_train= pd.concat([dtf_train, dummy], axis=1)\n",
    "print( dtf_train.filter(like=\"SiteGroup\",axis=1).head() )\n",
    "## drop the original categorical column\n",
    "dtf_train = dtf_train.drop(['SiteGroup','Category_x'], axis=1)\n"
   ]
  },
  {
   "cell_type": "code",
   "execution_count": 140,
   "metadata": {},
   "outputs": [
    {
     "data": {
      "text/plain": [
       "'\\n## scale X - test\\nscalerXtest = preprocessing.RobustScaler(quantile_range=(25.0, 75.0))\\nX = scalerXtest.fit_transform(dtf_test.drop(\"Y\", axis=1))\\ndtf_scaled_test= pd.DataFrame(X, columns=dtf_test.drop(\"Y\", axis=1).columns, index=dtf_test.index)\\n\\n## scale Y - test\\nscalerYtest = preprocessing.RobustScaler(quantile_range=(25.0, 75.0))\\ndtf_scaled_test[y] = scalerYtest.fit_transform(dtf_test[y].values.reshape(-1,1))\\n'"
      ]
     },
     "execution_count": 140,
     "metadata": {},
     "output_type": "execute_result"
    }
   ],
   "source": [
    "'''\n",
    "## scale X - test\n",
    "scalerXtest = preprocessing.RobustScaler(quantile_range=(25.0, 75.0))\n",
    "X = scalerXtest.fit_transform(dtf_test.drop(\"Y\", axis=1))\n",
    "dtf_scaled_test= pd.DataFrame(X, columns=dtf_test.drop(\"Y\", axis=1).columns, index=dtf_test.index)\n",
    "\n",
    "## scale Y - test\n",
    "scalerYtest = preprocessing.RobustScaler(quantile_range=(25.0, 75.0))\n",
    "dtf_scaled_test[y] = scalerYtest.fit_transform(dtf_test[y].values.reshape(-1,1))\n",
    "'''"
   ]
  },
  {
   "cell_type": "code",
   "execution_count": 209,
   "metadata": {},
   "outputs": [
    {
     "data": {
      "text/plain": [
       "Text(0.5, 1.0, 'pearson correlation')"
      ]
     },
     "execution_count": 209,
     "metadata": {},
     "output_type": "execute_result"
    },
    {
     "data": {
      "image/png": "[encoded data removed]",
      "text/plain": [
       "<Figure size 432x288 with 2 Axes>"
      ]
     },
     "metadata": {
      "needs_background": "light"
     },
     "output_type": "display_data"
    }
   ],
   "source": [
    "corr_matrix = dtf_train.corr(method=\"pearson\")\n",
    "sns.heatmap(corr_matrix, vmin=-1., vmax=1., annot=True, fmt='.2f', cmap=\"YlGnBu\", cbar=True, linewidths=0.5)\n",
    "plt.title(\"pearson correlation\")\n"
   ]
  },
  {
   "cell_type": "markdown",
   "metadata": {},
   "source": [
    "#### Feature importance"
   ]
  },
  {
   "cell_type": "code",
   "execution_count": 210,
   "metadata": {},
   "outputs": [
    {
     "data": {
      "text/plain": [
       "<matplotlib.axes._subplots.AxesSubplot at 0x7f93786815b0>"
      ]
     },
     "execution_count": 210,
     "metadata": {},
     "output_type": "execute_result"
    },
    {
     "data": {
      "image/png": "[encoded data removed]",
      "text/plain": [
       "<Figure size 432x288 with 1 Axes>"
      ]
     },
     "metadata": {
      "needs_background": "light"
     },
     "output_type": "display_data"
    }
   ],
   "source": [
    "X = dtf_train.drop(\"Y\", axis=1).values\n",
    "y = dtf_train[\"Y\"].values\n",
    "feature_names = dtf_train.drop(\"Y\", axis=1).columns\n",
    "## p-value\n",
    "selector = feature_selection.SelectKBest(score_func=feature_selection.f_regression, k=10).fit(X,y)\n",
    "pvalue_selected_features = feature_names[selector.get_support()]\n",
    "\n",
    "## regularization\n",
    "selector = feature_selection.SelectFromModel(estimator= \n",
    "              linear_model.Ridge(alpha=1.0, fit_intercept=True), \n",
    "                                 max_features=10).fit(X,y)\n",
    "regularization_selected_features = feature_names[selector.get_support()]\n",
    " \n",
    "## plot\n",
    "dtf_features = pd.DataFrame({\"features\":feature_names})\n",
    "dtf_features[\"p_value\"] = dtf_features[\"features\"].apply(lambda x: \"p_value\" if x in pvalue_selected_features else \"\")\n",
    "dtf_features[\"num1\"] = dtf_features[\"features\"].apply(lambda x: 1 if x in pvalue_selected_features else 0)\n",
    "dtf_features[\"regularization\"] = dtf_features[\"features\"].apply(lambda x: \"regularization\" if x in regularization_selected_features else \"\")\n",
    "dtf_features[\"num2\"] = dtf_features[\"features\"].apply(lambda x: 1 if x in regularization_selected_features else 0)\n",
    "dtf_features[\"method\"] = dtf_features[[\"p_value\",\"regularization\"]].apply(lambda x: (x[0]+\" \"+x[1]).strip(), axis=1)\n",
    "dtf_features[\"selection\"] = dtf_features[\"num1\"] + dtf_features[\"num2\"]\n",
    "dtf_features[\"method\"] = dtf_features[\"method\"].apply(lambda x: \"both\" if len(x.split()) == 2 else x)\n",
    "sns.barplot(y=\"features\", x=\"selection\", hue=\"method\", data=dtf_features.sort_values(\"selection\", ascending=False), dodge=False)"
   ]
  },
  {
   "cell_type": "code",
   "execution_count": 211,
   "metadata": {
    "scrolled": false
   },
   "outputs": [
    {
     "data": {
      "image/png": "[encoded data removed]",
      "text/plain": [
       "<Figure size 432x288 with 2 Axes>"
      ]
     },
     "metadata": {
      "needs_background": "light"
     },
     "output_type": "display_data"
    }
   ],
   "source": [
    "X = dtf_train.drop(\"Y\", axis=1).values\n",
    "y = dtf_train[\"Y\"].values\n",
    "feature_names = dtf_train.drop(\"Y\", axis=1).columns.tolist()\n",
    "## call model\n",
    "model = ensemble.GradientBoostingRegressor()\n",
    "## Importance\n",
    "model.fit(X,y)\n",
    "importances = model.feature_importances_\n",
    "## Put in a pandas dtf\n",
    "dtf_importances = pd.DataFrame({\"IMPORTANCE\":importances, \n",
    "            \"VARIABLE\":feature_names}).sort_values(\"IMPORTANCE\", \n",
    "            ascending=False)\n",
    "dtf_importances['cumsum'] =  dtf_importances['IMPORTANCE'].cumsum(axis=0)\n",
    "dtf_importances = dtf_importances.set_index(\"VARIABLE\")\n",
    "    \n",
    "## Plot\n",
    "fig, ax = plt.subplots(nrows=1, ncols=2, sharex=False, sharey=False)\n",
    "fig.suptitle(\"Features Importance\", fontsize=20)\n",
    "ax[0].title.set_text('variables')\n",
    "dtf_importances[[\"IMPORTANCE\"]].sort_values(by=\"IMPORTANCE\").plot(\n",
    "                kind=\"barh\", legend=False, ax=ax[0]).grid(axis=\"x\")\n",
    "ax[0].set(ylabel=\"\")\n",
    "ax[1].title.set_text('cumulative')\n",
    "dtf_importances[[\"cumsum\"]].plot(kind=\"line\", linewidth=4, \n",
    "                                 legend=False, ax=ax[1])\n",
    "ax[1].set(xlabel=\"\", xticks=np.arange(len(dtf_importances)), \n",
    "          xticklabels=dtf_importances.index)\n",
    "plt.xticks(rotation=70)\n",
    "plt.grid(axis='both')\n",
    "plt.show()\n"
   ]
  },
  {
   "cell_type": "markdown",
   "metadata": {},
   "source": [
    "#### Using some features"
   ]
  },
  {
   "cell_type": "code",
   "execution_count": 212,
   "metadata": {},
   "outputs": [
    {
     "ename": "KeyError",
     "evalue": "\"['Site_GASTROINTESTINAL(GI)'] not in index\"",
     "output_type": "error",
     "traceback": [
      "\u001b[0;31m---------------------------------------------------------------------------\u001b[0m",
      "\u001b[0;31mKeyError\u001b[0m                                  Traceback (most recent call last)",
      "\u001b[0;32m<ipython-input-212-5e866ca9d45d>\u001b[0m in \u001b[0;36m<module>\u001b[0;34m\u001b[0m\n\u001b[1;32m      1\u001b[0m X_names = ['TxFracs', 'Site_GASTROINTESTINAL(GI)', 'TltDose', 'Site_BREAST','Categ_Standard 3','Site_CNS','Site_GYNAE',\n\u001b[1;32m      2\u001b[0m           'Site_ENT (HEAD & NECK)','Site_SKIN']\n\u001b[0;32m----> 3\u001b[0;31m \u001b[0mX_train\u001b[0m \u001b[0;34m=\u001b[0m \u001b[0mdtf_train\u001b[0m\u001b[0;34m[\u001b[0m\u001b[0mX_names\u001b[0m\u001b[0;34m]\u001b[0m\u001b[0;34m.\u001b[0m\u001b[0mvalues\u001b[0m\u001b[0;34m\u001b[0m\u001b[0;34m\u001b[0m\u001b[0m\n\u001b[0m\u001b[1;32m      4\u001b[0m \u001b[0my_train\u001b[0m \u001b[0;34m=\u001b[0m \u001b[0mdtf_train\u001b[0m\u001b[0;34m[\u001b[0m\u001b[0;34m\"Y\"\u001b[0m\u001b[0;34m]\u001b[0m\u001b[0;34m.\u001b[0m\u001b[0mvalues\u001b[0m\u001b[0;34m\u001b[0m\u001b[0;34m\u001b[0m\u001b[0m\n\u001b[1;32m      5\u001b[0m \u001b[0mX_test\u001b[0m \u001b[0;34m=\u001b[0m \u001b[0mdtf_test\u001b[0m\u001b[0;34m[\u001b[0m\u001b[0mX_names\u001b[0m\u001b[0;34m]\u001b[0m\u001b[0;34m.\u001b[0m\u001b[0mvalues\u001b[0m\u001b[0;34m\u001b[0m\u001b[0;34m\u001b[0m\u001b[0m\n",
      "\u001b[0;32m~/opt/anaconda3/lib/python3.8/site-packages/pandas/core/frame.py\u001b[0m in \u001b[0;36m__getitem__\u001b[0;34m(self, key)\u001b[0m\n\u001b[1;32m   2804\u001b[0m             \u001b[0;32mif\u001b[0m \u001b[0mis_iterator\u001b[0m\u001b[0;34m(\u001b[0m\u001b[0mkey\u001b[0m\u001b[0;34m)\u001b[0m\u001b[0;34m:\u001b[0m\u001b[0;34m\u001b[0m\u001b[0;34m\u001b[0m\u001b[0m\n\u001b[1;32m   2805\u001b[0m                 \u001b[0mkey\u001b[0m \u001b[0;34m=\u001b[0m \u001b[0mlist\u001b[0m\u001b[0;34m(\u001b[0m\u001b[0mkey\u001b[0m\u001b[0;34m)\u001b[0m\u001b[0;34m\u001b[0m\u001b[0;34m\u001b[0m\u001b[0m\n\u001b[0;32m-> 2806\u001b[0;31m             \u001b[0mindexer\u001b[0m \u001b[0;34m=\u001b[0m \u001b[0mself\u001b[0m\u001b[0;34m.\u001b[0m\u001b[0mloc\u001b[0m\u001b[0;34m.\u001b[0m\u001b[0m_get_listlike_indexer\u001b[0m\u001b[0;34m(\u001b[0m\u001b[0mkey\u001b[0m\u001b[0;34m,\u001b[0m \u001b[0maxis\u001b[0m\u001b[0;34m=\u001b[0m\u001b[0;36m1\u001b[0m\u001b[0;34m,\u001b[0m \u001b[0mraise_missing\u001b[0m\u001b[0;34m=\u001b[0m\u001b[0;32mTrue\u001b[0m\u001b[0;34m)\u001b[0m\u001b[0;34m[\u001b[0m\u001b[0;36m1\u001b[0m\u001b[0;34m]\u001b[0m\u001b[0;34m\u001b[0m\u001b[0;34m\u001b[0m\u001b[0m\n\u001b[0m\u001b[1;32m   2807\u001b[0m \u001b[0;34m\u001b[0m\u001b[0m\n\u001b[1;32m   2808\u001b[0m         \u001b[0;31m# take() does not accept boolean indexers\u001b[0m\u001b[0;34m\u001b[0m\u001b[0;34m\u001b[0m\u001b[0;34m\u001b[0m\u001b[0m\n",
      "\u001b[0;32m~/opt/anaconda3/lib/python3.8/site-packages/pandas/core/indexing.py\u001b[0m in \u001b[0;36m_get_listlike_indexer\u001b[0;34m(self, key, axis, raise_missing)\u001b[0m\n\u001b[1;32m   1550\u001b[0m             \u001b[0mkeyarr\u001b[0m\u001b[0;34m,\u001b[0m \u001b[0mindexer\u001b[0m\u001b[0;34m,\u001b[0m \u001b[0mnew_indexer\u001b[0m \u001b[0;34m=\u001b[0m \u001b[0max\u001b[0m\u001b[0;34m.\u001b[0m\u001b[0m_reindex_non_unique\u001b[0m\u001b[0;34m(\u001b[0m\u001b[0mkeyarr\u001b[0m\u001b[0;34m)\u001b[0m\u001b[0;34m\u001b[0m\u001b[0;34m\u001b[0m\u001b[0m\n\u001b[1;32m   1551\u001b[0m \u001b[0;34m\u001b[0m\u001b[0m\n\u001b[0;32m-> 1552\u001b[0;31m         self._validate_read_indexer(\n\u001b[0m\u001b[1;32m   1553\u001b[0m             \u001b[0mkeyarr\u001b[0m\u001b[0;34m,\u001b[0m \u001b[0mindexer\u001b[0m\u001b[0;34m,\u001b[0m \u001b[0mo\u001b[0m\u001b[0;34m.\u001b[0m\u001b[0m_get_axis_number\u001b[0m\u001b[0;34m(\u001b[0m\u001b[0maxis\u001b[0m\u001b[0;34m)\u001b[0m\u001b[0;34m,\u001b[0m \u001b[0mraise_missing\u001b[0m\u001b[0;34m=\u001b[0m\u001b[0mraise_missing\u001b[0m\u001b[0;34m\u001b[0m\u001b[0;34m\u001b[0m\u001b[0m\n\u001b[1;32m   1554\u001b[0m         )\n",
      "\u001b[0;32m~/opt/anaconda3/lib/python3.8/site-packages/pandas/core/indexing.py\u001b[0m in \u001b[0;36m_validate_read_indexer\u001b[0;34m(self, key, indexer, axis, raise_missing)\u001b[0m\n\u001b[1;32m   1644\u001b[0m             \u001b[0;32mif\u001b[0m \u001b[0;32mnot\u001b[0m \u001b[0;34m(\u001b[0m\u001b[0mself\u001b[0m\u001b[0;34m.\u001b[0m\u001b[0mname\u001b[0m \u001b[0;34m==\u001b[0m \u001b[0;34m\"loc\"\u001b[0m \u001b[0;32mand\u001b[0m \u001b[0;32mnot\u001b[0m \u001b[0mraise_missing\u001b[0m\u001b[0;34m)\u001b[0m\u001b[0;34m:\u001b[0m\u001b[0;34m\u001b[0m\u001b[0;34m\u001b[0m\u001b[0m\n\u001b[1;32m   1645\u001b[0m                 \u001b[0mnot_found\u001b[0m \u001b[0;34m=\u001b[0m \u001b[0mlist\u001b[0m\u001b[0;34m(\u001b[0m\u001b[0mset\u001b[0m\u001b[0;34m(\u001b[0m\u001b[0mkey\u001b[0m\u001b[0;34m)\u001b[0m \u001b[0;34m-\u001b[0m \u001b[0mset\u001b[0m\u001b[0;34m(\u001b[0m\u001b[0max\u001b[0m\u001b[0;34m)\u001b[0m\u001b[0;34m)\u001b[0m\u001b[0;34m\u001b[0m\u001b[0;34m\u001b[0m\u001b[0m\n\u001b[0;32m-> 1646\u001b[0;31m                 \u001b[0;32mraise\u001b[0m \u001b[0mKeyError\u001b[0m\u001b[0;34m(\u001b[0m\u001b[0;34mf\"{not_found} not in index\"\u001b[0m\u001b[0;34m)\u001b[0m\u001b[0;34m\u001b[0m\u001b[0;34m\u001b[0m\u001b[0m\n\u001b[0m\u001b[1;32m   1647\u001b[0m \u001b[0;34m\u001b[0m\u001b[0m\n\u001b[1;32m   1648\u001b[0m             \u001b[0;31m# we skip the warning on Categorical/Interval\u001b[0m\u001b[0;34m\u001b[0m\u001b[0;34m\u001b[0m\u001b[0;34m\u001b[0m\u001b[0m\n",
      "\u001b[0;31mKeyError\u001b[0m: \"['Site_GASTROINTESTINAL(GI)'] not in index\""
     ]
    }
   ],
   "source": [
    "X_names = ['TxFracs', 'Site_GASTROINTESTINAL(GI)', 'TltDose', 'Site_BREAST','Categ_Standard 3','Site_CNS','Site_GYNAE',\n",
    "          'Site_ENT (HEAD & NECK)','Site_SKIN']\n",
    "X_train = dtf_train[X_names].values\n",
    "y_train = dtf_train[\"Y\"].values\n",
    "X_test = dtf_test[X_names].values\n",
    "y_test = dtf_test[\"Y\"].values\n"
   ]
  },
  {
   "cell_type": "markdown",
   "metadata": {},
   "source": [
    "#### regression models"
   ]
  },
  {
   "cell_type": "code",
   "execution_count": 213,
   "metadata": {},
   "outputs": [
    {
     "data": {
      "text/plain": [
       "Index(['SiteGroup', 'Category_x', 'TltDose', 'TxFracs', 'Y'], dtype='object')"
      ]
     },
     "execution_count": 213,
     "metadata": {},
     "output_type": "execute_result"
    }
   ],
   "source": [
    "#dtf=dtf_orig\n",
    "dtf.columns"
   ]
  },
  {
   "cell_type": "code",
   "execution_count": 214,
   "metadata": {},
   "outputs": [],
   "source": [
    "dtf=dtf[['SiteGroup','TltDose','TxFracs','Category_x','Y']]\n",
    "#dtf['ratio'] = dtf['TltDose']/dtf['TxFracs']\n",
    "dtf['PlanDur']=dtf['Y']\n",
    "dtf=dtf.drop(columns = ['PlanDur'])\n",
    "\n",
    "# fill na \n",
    "dtf[\"SiteGroup\"] = dtf[\"SiteGroup\"].fillna(dtf[\"SiteGroup\"].mode()[0])\n",
    "dtf[\"TltDose\"] = dtf[\"TltDose\"].fillna(dtf[\"TltDose\"].median())\n",
    "dtf[\"TxFracs\"] = dtf[\"TxFracs\"].fillna(dtf[\"TxFracs\"].median())\n",
    "#dtf[\"product\"] = dtf[\"product\"].fillna(dtf[\"product\"].median())\n",
    "#dtf[\"ratio\"] = dtf[\"ratio\"].fillna(dtf[\"ratio\"].median())\n"
   ]
  },
  {
   "cell_type": "code",
   "execution_count": 215,
   "metadata": {},
   "outputs": [
    {
     "data": {
      "text/html": [
       "<div>\n",
       "<style scoped>\n",
       "    .dataframe tbody tr th:only-of-type {\n",
       "        vertical-align: middle;\n",
       "    }\n",
       "\n",
       "    .dataframe tbody tr th {\n",
       "        vertical-align: top;\n",
       "    }\n",
       "\n",
       "    .dataframe thead th {\n",
       "        text-align: right;\n",
       "    }\n",
       "</style>\n",
       "<table border=\"1\" class=\"dataframe\">\n",
       "  <thead>\n",
       "    <tr style=\"text-align: right;\">\n",
       "      <th></th>\n",
       "      <th>SiteGroup</th>\n",
       "      <th>TltDose</th>\n",
       "      <th>TxFracs</th>\n",
       "      <th>Category_x</th>\n",
       "      <th>Y</th>\n",
       "    </tr>\n",
       "  </thead>\n",
       "  <tbody>\n",
       "    <tr>\n",
       "      <th>0</th>\n",
       "      <td>GENITOURINARY(GU)</td>\n",
       "      <td>1600.0</td>\n",
       "      <td>2.0</td>\n",
       "      <td>Urgent 2</td>\n",
       "      <td>0.0</td>\n",
       "    </tr>\n",
       "    <tr>\n",
       "      <th>1</th>\n",
       "      <td>GENITOURINARY(GU)</td>\n",
       "      <td>2400.0</td>\n",
       "      <td>3.0</td>\n",
       "      <td>Standard 3</td>\n",
       "      <td>0.0</td>\n",
       "    </tr>\n",
       "    <tr>\n",
       "      <th>4</th>\n",
       "      <td>BREAST</td>\n",
       "      <td>4240.0</td>\n",
       "      <td>16.0</td>\n",
       "      <td>Standard 3</td>\n",
       "      <td>4.0</td>\n",
       "    </tr>\n",
       "    <tr>\n",
       "      <th>6</th>\n",
       "      <td>GYNAE</td>\n",
       "      <td>2500.0</td>\n",
       "      <td>10.0</td>\n",
       "      <td>Standard 3</td>\n",
       "      <td>4.0</td>\n",
       "    </tr>\n",
       "    <tr>\n",
       "      <th>7</th>\n",
       "      <td>BREAST</td>\n",
       "      <td>4240.0</td>\n",
       "      <td>16.0</td>\n",
       "      <td>Standard 3</td>\n",
       "      <td>1.0</td>\n",
       "    </tr>\n",
       "  </tbody>\n",
       "</table>\n",
       "</div>"
      ],
      "text/plain": [
       "           SiteGroup  TltDose  TxFracs  Category_x    Y\n",
       "0  GENITOURINARY(GU)   1600.0      2.0    Urgent 2  0.0\n",
       "1  GENITOURINARY(GU)   2400.0      3.0  Standard 3  0.0\n",
       "4             BREAST   4240.0     16.0  Standard 3  4.0\n",
       "6              GYNAE   2500.0     10.0  Standard 3  4.0\n",
       "7             BREAST   4240.0     16.0  Standard 3  1.0"
      ]
     },
     "execution_count": 215,
     "metadata": {},
     "output_type": "execute_result"
    }
   ],
   "source": [
    "dtf.head()"
   ]
  },
  {
   "cell_type": "code",
   "execution_count": 216,
   "metadata": {},
   "outputs": [],
   "source": [
    "# one hot encoding\n",
    "dummy = pd.get_dummies(dtf[[\"SiteGroup\",\"Category_x\"]], prefix=['Site','Categ']) #, drop_first=True)\n",
    "df_plan = pd.concat([dtf, dummy], axis=1)\n",
    "#print( df_clf.filter(like=\"Sitegroup_y\",axis=1).head() )\n",
    "\n",
    "## drop the original categorical column\n",
    "df_plan = df_plan.drop(['SiteGroup','Category_x'], axis=1)"
   ]
  },
  {
   "cell_type": "code",
   "execution_count": 217,
   "metadata": {},
   "outputs": [
    {
     "data": {
      "text/plain": [
       "Index(['TltDose', 'TxFracs', 'Y', 'Site_BREAST', 'Site_CNS', 'Site_ENDOCRINE',\n",
       "       'Site_ENT (HEAD & NECK)', 'Site_EYE', 'Site_GENITOURINARY(GU)',\n",
       "       'Site_GYNAE', 'Site_LUNG', 'Site_LYMPHOMA', 'Site_SARCOMA', 'Site_SKIN',\n",
       "       'Categ_Emergency 1', 'Categ_Standard 3', 'Categ_Urgent 2'],\n",
       "      dtype='object')"
      ]
     },
     "execution_count": 217,
     "metadata": {},
     "output_type": "execute_result"
    }
   ],
   "source": [
    "df_plan.columns"
   ]
  },
  {
   "cell_type": "code",
   "execution_count": 218,
   "metadata": {},
   "outputs": [
    {
     "name": "stdout",
     "output_type": "stream",
     "text": [
      "X_train shape: (4282, 16) | X_test shape: (1836, 16)\n",
      "y_train mean: 2.8 | y_test mean: 2.82\n",
      "17 features: ['TltDose', 'TxFracs', 'Site_BREAST', 'Site_CNS', 'Site_ENDOCRINE', 'Site_ENT (HEAD & NECK)', 'Site_EYE', 'Site_GENITOURINARY(GU)', 'Site_GYNAE', 'Site_LUNG', 'Site_LYMPHOMA', 'Site_SARCOMA', 'Site_SKIN', 'Categ_Emergency 1', 'Categ_Standard 3', 'Categ_Urgent 2']\n"
     ]
    }
   ],
   "source": [
    "# train-test split\n",
    "df_train, df_test = model_selection.train_test_split(df_plan, \n",
    "                                                     test_size=0.3)\n",
    "## print info\n",
    "print(\"X_train shape:\", df_train.drop('Y',axis=1).shape, \"| X_test shape:\", df_test.drop('Y',axis=1).shape)\n",
    "print(\"y_train mean:\", round(np.mean(df_train['Y']),2), \"| y_test mean:\", round(np.mean(df_test['Y']),2))\n",
    "print(df_train.shape[1], \"features:\", df_train.drop('Y',axis=1).columns.to_list())\n",
    "\n",
    "X_train = df_train.drop('Y', axis=1).values\n",
    "y_train = df_train['Y'].values\n",
    "\n",
    "X_test = df_test.drop('Y', axis=1).values\n",
    "y_test = df_test['Y'].values"
   ]
  },
  {
   "cell_type": "markdown",
   "metadata": {},
   "source": [
    "#### Linear regression"
   ]
  },
  {
   "cell_type": "code",
   "execution_count": 219,
   "metadata": {},
   "outputs": [
    {
     "data": {
      "image/png": "[encoded data removed]",
      "text/plain": [
       "<Figure size 432x288 with 1 Axes>"
      ]
     },
     "metadata": {
      "needs_background": "light"
     },
     "output_type": "display_data"
    }
   ],
   "source": [
    "#simple linear regression and use it as a baseline\n",
    "## call model\n",
    "model = linear_model.LinearRegression()\n",
    "## K fold validation\n",
    "scores = []\n",
    "cv = model_selection.KFold(n_splits=5, shuffle=True)\n",
    "fig = plt.figure()\n",
    "i = 1\n",
    "for train, test in cv.split(X_train, y_train):\n",
    "    prediction = model.fit(X_train[train],\n",
    "                 y_train[train]).predict(X_train[test])\n",
    "    true = y_train[test]\n",
    "    score = metrics.r2_score(true, prediction)\n",
    "    scores.append(score)\n",
    "    plt.scatter(prediction, true, lw=2, alpha=0.3, \n",
    "                label='Fold %d (R2 = %0.2f)' % (i,score))\n",
    "    i = i+1\n",
    "    \n",
    "### plotting predicted values against the actual Y\n",
    "### Ideally, points should be all close to a diagonal line where predicted = actual\n",
    "plt.plot([min(y_train),max(y_train)], [min(y_train),max(y_train)], \n",
    "         linestyle='--', lw=2, color='black')\n",
    "plt.xlabel('Predicted')\n",
    "plt.ylabel('True')\n",
    "plt.title('K-Fold Validation')\n",
    "plt.legend()\n",
    "plt.show()\n",
    "### The first metric I normally use is the R squared, which indicates\n",
    "### the proportion of the variance in the dependent variable that is predictable from the independent variable"
   ]
  },
  {
   "cell_type": "code",
   "execution_count": 220,
   "metadata": {},
   "outputs": [
    {
     "name": "stdout",
     "output_type": "stream",
     "text": [
      "2.123931647536221\n"
     ]
    }
   ],
   "source": [
    "lrmodel = linear_model.LinearRegression()\n",
    "lrmodel.fit(X_train, y_train)\n",
    "y_test_pred = lrmodel.predict(X_test)\n",
    "rmse = mean_squared_error(y_test_pred, y_test,squared=False)\n",
    "print(rmse)"
   ]
  },
  {
   "cell_type": "markdown",
   "metadata": {},
   "source": [
    "#### Gradient Boost regression"
   ]
  },
  {
   "cell_type": "code",
   "execution_count": 221,
   "metadata": {},
   "outputs": [
    {
     "data": {
      "image/png": "[encoded data removed]",
      "text/plain": [
       "<Figure size 432x288 with 1 Axes>"
      ]
     },
     "metadata": {
      "needs_background": "light"
     },
     "output_type": "display_data"
    }
   ],
   "source": [
    "## call model\n",
    "from sklearn.ensemble import GradientBoostingRegressor\n",
    "model = GradientBoostingRegressor(random_state=0)\n",
    "## K fold validation\n",
    "scores = []\n",
    "rmse_list = []\n",
    "cv = model_selection.KFold(n_splits=5, shuffle=True)\n",
    "fig = plt.figure()\n",
    "i = 1\n",
    "for train, test in cv.split(X_train, y_train):\n",
    "    prediction = model.fit(X_train[train],\n",
    "                 y_train[train]).predict(X_train[test])\n",
    "    true = y_train[test]\n",
    "    #score = metrics.r2_score(true, prediction)\n",
    "    #scores.append(score)\n",
    "    rmse = mean_squared_error(true, prediction, squared=False)\n",
    "    rmse_list.append(rmse)\n",
    "    plt.scatter(prediction, true, lw=2, alpha=0.3, \n",
    "                label='Fold %d (rmse = %0.2f)' % (i, rmse))\n",
    "    i = i+1\n",
    "    \n",
    "### plotting predicted values against the actual Y\n",
    "### Ideally, points should be all close to a diagonal line where predicted = actual\n",
    "plt.plot([min(y_train),max(y_train)], [min(y_train),max(y_train)], \n",
    "         linestyle='--', lw=2, color='black')\n",
    "plt.xlabel('Predicted')\n",
    "plt.ylabel('True')\n",
    "plt.title('K-Fold Validation')\n",
    "plt.legend()\n",
    "plt.show()"
   ]
  },
  {
   "cell_type": "code",
   "execution_count": 222,
   "metadata": {},
   "outputs": [
    {
     "name": "stdout",
     "output_type": "stream",
     "text": [
      "2.0064002035945387\n"
     ]
    }
   ],
   "source": [
    "GBmodel = GradientBoostingRegressor(random_state=0)\n",
    "GBmodel.fit(X_train, y_train)\n",
    "y_test_pred = GBmodel.predict(X_test)\n",
    "rmse = mean_squared_error(y_test_pred, y_test,squared=False)\n",
    "print(rmse)"
   ]
  },
  {
   "cell_type": "markdown",
   "metadata": {},
   "source": [
    "#### Ridge regression"
   ]
  },
  {
   "cell_type": "code",
   "execution_count": 223,
   "metadata": {},
   "outputs": [
    {
     "data": {
      "image/png": "[encoded data removed]",
      "text/plain": [
       "<Figure size 432x288 with 1 Axes>"
      ]
     },
     "metadata": {
      "needs_background": "light"
     },
     "output_type": "display_data"
    }
   ],
   "source": [
    "model=linear_model.Ridge()\n",
    "model.fit(X_train,y_train)\n",
    "y_predict = model.predict(X_train)\n",
    "\n",
    "## K fold validation\n",
    "scores = []\n",
    "cv = model_selection.KFold(n_splits=5, shuffle=True)\n",
    "fig = plt.figure()\n",
    "i = 1\n",
    "for train, test in cv.split(X_train, y_train):\n",
    "    prediction = model.fit(X_train[train],\n",
    "                 y_train[train]).predict(X_train[test])\n",
    "    true = y_train[test]\n",
    "    score = metrics.r2_score(true, prediction)\n",
    "    scores.append(score)\n",
    "    plt.scatter(prediction, true, lw=2, alpha=0.3, \n",
    "                label='Fold %d (R2 = %0.2f)' % (i,score))\n",
    "    i = i+1\n",
    "    \n",
    "### plotting predicted values against the actual Y\n",
    "### Ideally, points should be all close to a diagonal line where predicted = actual\n",
    "plt.plot([min(y_train),max(y_train)], [min(y_train),max(y_train)], \n",
    "         linestyle='--', lw=2, color='black')\n",
    "plt.xlabel('Predicted')\n",
    "plt.ylabel('True')\n",
    "plt.title('K-Fold Validation')\n",
    "plt.legend()\n",
    "plt.show()"
   ]
  },
  {
   "cell_type": "code",
   "execution_count": 224,
   "metadata": {},
   "outputs": [
    {
     "name": "stdout",
     "output_type": "stream",
     "text": [
      "2.123887230034924\n"
     ]
    }
   ],
   "source": [
    "rrmodel = linear_model.Ridge()\n",
    "rrmodel.fit(X_train, y_train)\n",
    "y_test_pred = rrmodel.predict(X_test)\n",
    "rmse = mean_squared_error(y_test_pred, y_test,squared=False)\n",
    "print(rmse)"
   ]
  },
  {
   "cell_type": "markdown",
   "metadata": {},
   "source": [
    "#### KNN regressor"
   ]
  },
  {
   "cell_type": "code",
   "execution_count": 225,
   "metadata": {},
   "outputs": [
    {
     "data": {
      "image/png": "[encoded data removed]",
      "text/plain": [
       "<Figure size 432x288 with 1 Axes>"
      ]
     },
     "metadata": {
      "needs_background": "light"
     },
     "output_type": "display_data"
    }
   ],
   "source": [
    "from sklearn import neighbors\n",
    "from sklearn.model_selection import cross_val_score\n",
    "from numpy import mean\n",
    "from numpy import std\n",
    "\n",
    "n_neighbors=5\n",
    "knn = neighbors.KNeighborsRegressor(n_neighbors,weights='uniform')\n",
    "knn.fit(X_train,y_train)\n",
    "\n",
    "## K fold validation\n",
    "scores = []\n",
    "cv = model_selection.KFold(n_splits=5, shuffle=True, random_state=1)\n",
    "fig = plt.figure()\n",
    "i = 1\n",
    "for train, test in cv.split(X_train, y_train):\n",
    "    prediction = knn.fit(X_train[train],\n",
    "                 y_train[train]).predict(X_train[test])\n",
    "    true = y_train[test]\n",
    "    score = metrics.r2_score(true, prediction)\n",
    "    #score = cross_val_score(model, X, y, scoring='accuracy', cv=cv, n_jobs=-1)\n",
    "    scores.append(score)\n",
    "    plt.scatter(prediction, true, lw=2, alpha=0.3, \n",
    "                label='Fold %d (R2 = %0.2f)' % (i,score))\n",
    "    i = i+1\n",
    "    \n",
    "### plotting predicted values against the actual Y\n",
    "### Ideally, points should be all close to a diagonal line where predicted = actual\n",
    "plt.plot([min(y_train),max(y_train)], [min(y_train),max(y_train)], \n",
    "         linestyle='--', lw=2, color='black')\n",
    "plt.xlabel('Predicted')\n",
    "plt.ylabel('True')\n",
    "plt.title('K-Fold Validation')\n",
    "plt.legend()\n",
    "plt.show()\n"
   ]
  },
  {
   "cell_type": "code",
   "execution_count": 226,
   "metadata": {},
   "outputs": [
    {
     "name": "stdout",
     "output_type": "stream",
     "text": [
      "2.1916955563592095\n"
     ]
    }
   ],
   "source": [
    "knnmodel = neighbors.KNeighborsRegressor(n_neighbors,weights='uniform')\n",
    "knnmodel.fit(X_train, y_train)\n",
    "y_test_pred = knnmodel.predict(X_test)\n",
    "rmse = mean_squared_error(y_test_pred, y_test,squared=False)\n",
    "print(rmse)"
   ]
  },
  {
   "cell_type": "markdown",
   "metadata": {},
   "source": [
    "#### SVM regression"
   ]
  },
  {
   "cell_type": "code",
   "execution_count": 227,
   "metadata": {},
   "outputs": [
    {
     "data": {
      "image/png": "[encoded data removed]",
      "text/plain": [
       "<Figure size 432x288 with 1 Axes>"
      ]
     },
     "metadata": {
      "needs_background": "light"
     },
     "output_type": "display_data"
    }
   ],
   "source": [
    "from sklearn import svm\n",
    "svm_reg=svm.SVR()\n",
    "svm_reg.fit(X_train,y_train)\n",
    "y_predict = svm_reg.predict(X_train)\n",
    "\n",
    "## K fold validation\n",
    "scores = []\n",
    "cv = model_selection.KFold(n_splits=5, shuffle=True)\n",
    "fig = plt.figure()\n",
    "i = 1\n",
    "for train, test in cv.split(X_train, y_train):\n",
    "    prediction = svm_reg.fit(X_train[train],\n",
    "                 y_train[train]).predict(X_train[test])\n",
    "    true = y_train[test]\n",
    "    score = metrics.r2_score(true, prediction)\n",
    "    scores.append(score)\n",
    "    plt.scatter(prediction, true, lw=2, alpha=0.3, \n",
    "                label='Fold %d (R2 = %0.2f)' % (i,score))\n",
    "    i = i+1\n",
    "    \n",
    "### plotting predicted values against the actual Y\n",
    "### Ideally, points should be all close to a diagonal line where predicted = actual\n",
    "plt.plot([min(y_train),max(y_train)], [min(y_train),max(y_train)], \n",
    "         linestyle='--', lw=2, color='black')\n",
    "plt.xlabel('Predicted')\n",
    "plt.ylabel('True')\n",
    "plt.title('K-Fold Validation')\n",
    "plt.legend()\n",
    "plt.show()"
   ]
  },
  {
   "cell_type": "code",
   "execution_count": 228,
   "metadata": {},
   "outputs": [
    {
     "name": "stdout",
     "output_type": "stream",
     "text": [
      "2.194073933619522\n"
     ]
    }
   ],
   "source": [
    "y_test_pred = svm_reg.predict(X_test)\n",
    "rmse = mean_squared_error(y_test_pred, y_test,squared=False)\n",
    "print(rmse)"
   ]
  },
  {
   "cell_type": "markdown",
   "metadata": {},
   "source": [
    "#### decision tree regression"
   ]
  },
  {
   "cell_type": "code",
   "execution_count": 229,
   "metadata": {},
   "outputs": [
    {
     "data": {
      "image/png": "[encoded data removed]",
      "text/plain": [
       "<Figure size 432x288 with 1 Axes>"
      ]
     },
     "metadata": {
      "needs_background": "light"
     },
     "output_type": "display_data"
    }
   ],
   "source": [
    "from sklearn import tree\n",
    "dec = tree.DecisionTreeRegressor(max_depth=1)\n",
    "dec.fit(X_train,y_train)\n",
    "y_predict = dec.predict(X_train)\n",
    "\n",
    "## K fold validation\n",
    "scores = []\n",
    "cv = model_selection.KFold(n_splits=5, shuffle=True)\n",
    "fig = plt.figure()\n",
    "i = 1\n",
    "for train, test in cv.split(X_train, y_train):\n",
    "    prediction = dec.fit(X_train[train],\n",
    "                 y_train[train]).predict(X_train[test])\n",
    "    true = y_train[test]\n",
    "    score = metrics.r2_score(true, prediction)\n",
    "    scores.append(score)\n",
    "    plt.scatter(prediction, true, lw=2, alpha=0.3, \n",
    "                label='Fold %d (R2 = %0.2f)' % (i,score))\n",
    "    i = i+1\n",
    "    \n",
    "### plotting predicted values against the actual Y\n",
    "### Ideally, points should be all close to a diagonal line where predicted = actual\n",
    "plt.plot([min(y_train),max(y_train)], [min(y_train),max(y_train)], \n",
    "         linestyle='--', lw=2, color='black')\n",
    "plt.xlabel('Predicted')\n",
    "plt.ylabel('True')\n",
    "plt.title('K-Fold Validation')\n",
    "plt.legend()\n",
    "plt.show()"
   ]
  },
  {
   "cell_type": "code",
   "execution_count": 230,
   "metadata": {},
   "outputs": [
    {
     "name": "stdout",
     "output_type": "stream",
     "text": [
      "2.15740165635904\n"
     ]
    }
   ],
   "source": [
    "y_test_pred = dec.predict(X_test)\n",
    "rmse = mean_squared_error(y_test_pred, y_test,squared=False)\n",
    "print(rmse)"
   ]
  },
  {
   "cell_type": "markdown",
   "metadata": {
    "heading_collapsed": true
   },
   "source": [
    "### Classification"
   ]
  },
  {
   "cell_type": "code",
   "execution_count": null,
   "metadata": {
    "hidden": true
   },
   "outputs": [],
   "source": [
    "target_y = \"PlanDur2\"\n"
   ]
  },
  {
   "cell_type": "code",
   "execution_count": null,
   "metadata": {
    "hidden": true
   },
   "outputs": [],
   "source": [
    "# use more recent data\n",
    "df_19Oct=df_meet[(pd.to_datetime(df_meet['CreatedDate']).dt.date>=pd.to_datetime(\"2019-1-01\")) \n",
    "                &(pd.to_datetime(df_meet['CreatedDate']).dt.year<2020)]\n",
    "print(df_19Oct.shape)\n",
    "\n",
    "plt.figure(figsize=[9,5])\n",
    "bins = range(0,30)\n",
    "\n",
    "y = df_19Oct[target_y]\n",
    "plt.hist(y, bins = bins, alpha=0.5, edgecolor='black', align='left')\n",
    "\n",
    "plt.xlabel('days')\n",
    "plt.ylabel('frequency')\n",
    "plt.title('PlanDur distribution')\n",
    "plt.xticks(fontsize=10)\n",
    "plt.yticks(fontsize=10)\n",
    "\n",
    "plt.show()"
   ]
  },
  {
   "cell_type": "code",
   "execution_count": null,
   "metadata": {
    "hidden": true
   },
   "outputs": [],
   "source": [
    "y = df_19Oct[df_19Oct['Category_x']=='Standard 3'][target_y]\n",
    "\n",
    "plt.hist(y, bins = bins, alpha=0.5, edgecolor='black', align='left')\n",
    "\n",
    "plt.xlabel('days')\n",
    "plt.ylabel('frequency')\n",
    "plt.title('PlanDur distribution')\n",
    "plt.xticks(fontsize=10)\n",
    "plt.yticks(fontsize=10)\n",
    "\n",
    "plt.show()"
   ]
  },
  {
   "cell_type": "code",
   "execution_count": null,
   "metadata": {
    "hidden": true
   },
   "outputs": [],
   "source": [
    "y = df_19Oct[df_19Oct['Category_x']=='Urgent 2'][target_y]\n",
    "\n",
    "plt.hist(y, bins = bins, alpha=0.5, edgecolor='black', align='left')\n",
    "\n",
    "plt.xlabel('days')\n",
    "plt.ylabel('frequency')\n",
    "plt.title('PlanDur distribution')\n",
    "plt.xticks(fontsize=10)\n",
    "plt.yticks(fontsize=10)\n",
    "\n",
    "plt.show()"
   ]
  },
  {
   "cell_type": "code",
   "execution_count": null,
   "metadata": {
    "hidden": true
   },
   "outputs": [],
   "source": [
    "y = df_19Oct[df_19Oct['Category_x']=='Emergency 1'][target_y]\n",
    "\n",
    "plt.hist(y, bins = bins, alpha=0.5, edgecolor='black', align='left')\n",
    "\n",
    "plt.xlabel('days')\n",
    "plt.ylabel('frequency')\n",
    "plt.title('PlanDur distribution')\n",
    "plt.xticks(fontsize=10)\n",
    "plt.yticks(fontsize=10)\n",
    "\n",
    "plt.show()"
   ]
  },
  {
   "cell_type": "code",
   "execution_count": null,
   "metadata": {
    "hidden": true
   },
   "outputs": [],
   "source": [
    "df_19Oct.head()\n"
   ]
  },
  {
   "cell_type": "code",
   "execution_count": null,
   "metadata": {
    "hidden": true
   },
   "outputs": [],
   "source": [
    "df_19Oct['ratio']=df_19Oct['TltDose']/df_19Oct['TxFracs']\n",
    "#features.append('ratio')\n"
   ]
  },
  {
   "cell_type": "code",
   "execution_count": null,
   "metadata": {
    "hidden": true
   },
   "outputs": [],
   "source": [
    "features"
   ]
  },
  {
   "cell_type": "code",
   "execution_count": null,
   "metadata": {
    "hidden": true
   },
   "outputs": [],
   "source": [
    "df_clf = df_19Oct[features + [target_y]]\n",
    "               #      'ContourDur','TimeBtw_Sim_ContourCompl']] # y - target\n",
    "#df_clf=dtf[(dtf[target_y]<=30)&(dtf[target_y]>=0)]\n",
    "df_clf.head()\n"
   ]
  },
  {
   "cell_type": "code",
   "execution_count": null,
   "metadata": {
    "hidden": true
   },
   "outputs": [],
   "source": [
    "df_clf.shape\n"
   ]
  },
  {
   "cell_type": "code",
   "execution_count": null,
   "metadata": {
    "hidden": true
   },
   "outputs": [],
   "source": [
    "df_clf = df_clf[df_clf['Sitegroup_y'].notnull()]\n",
    "df_clf['Sitegroup_y'].unique()\n"
   ]
  },
  {
   "cell_type": "code",
   "execution_count": null,
   "metadata": {
    "hidden": true
   },
   "outputs": [],
   "source": [
    "# Remove outliers in FinalPlanCompl-TxBook\n",
    "y = df_clf[target_y]\n",
    "removed_outliers = y.between(y.quantile(.05), y.quantile(.95))\n",
    "index_names = df_clf[~removed_outliers].index \n",
    "df_clf_norm = df_clf.drop(index_names)\n",
    "\n",
    "print(str(len(df_clf_norm.index)) + \"/\" + str(y.size) + \" data points remain.\") \n",
    "\n",
    "plt.figure(figsize=[9,5])\n",
    "bins = range(0,25)\n",
    "\n",
    "y = df_clf_norm[target_y]\n",
    "plt.hist(y, bins = bins, alpha=0.5, edgecolor='black', align='left')\n",
    "\n",
    "plt.xlabel('planning duration')\n",
    "plt.ylabel('frequency')\n",
    "plt.title('Contour Duration distribution')\n",
    "plt.xticks(fontsize=10)\n",
    "plt.yticks(fontsize=10)\n",
    "\n",
    "plt.show()"
   ]
  },
  {
   "cell_type": "code",
   "execution_count": null,
   "metadata": {
    "hidden": true
   },
   "outputs": [],
   "source": [
    "plt.figure(figsize=[9,5])\n",
    "bins = range(0,30)\n",
    "\n",
    "y = df_clf[target_y]\n",
    "plt.hist(y, bins = bins, alpha=0.5, edgecolor='black', align='left')\n",
    "\n",
    "plt.xlabel('planning duration')\n",
    "plt.ylabel('frequency')\n",
    "plt.title('Planning Duration distribution')\n",
    "plt.xticks(fontsize=10)\n",
    "plt.yticks(fontsize=10)\n",
    "\n",
    "plt.show()\n"
   ]
  },
  {
   "cell_type": "code",
   "execution_count": null,
   "metadata": {
    "hidden": true
   },
   "outputs": [],
   "source": [
    "# fill na\n",
    "df_clf[\"Sitegroup_y\"] = df_clf[\"Sitegroup_y\"].fillna(df_clf[\"Sitegroup_y\"].mode())\n",
    "df_clf[\"Category_x\"] = df_clf[\"Category_x\"].fillna(df_clf[\"Category_x\"].mode())\n",
    "df_clf[\"TltDose\"] = df_clf[\"TltDose\"].fillna(df_clf[\"TltDose\"].median())\n",
    "df_clf[\"TxFracs\"] = df_clf[\"TxFracs\"].fillna(df_clf[\"TxFracs\"].median())\n",
    "#df_clf[target_y] = df_clf[target_y].fillna(df_clf[target_y].median())\n"
   ]
  },
  {
   "cell_type": "code",
   "execution_count": null,
   "metadata": {
    "hidden": true
   },
   "outputs": [],
   "source": [
    "df_clf[target_y].isna().sum()\n",
    "df_clf = df_clf[df_clf[target_y].notnull()]\n",
    "print(df_clf.shape)"
   ]
  },
  {
   "cell_type": "code",
   "execution_count": null,
   "metadata": {
    "hidden": true
   },
   "outputs": [],
   "source": [
    "df_test = df_clf[df_clf[\"Sitegroup_y\"].notnull()]\n",
    "df_test = df_test[df_test[\"Category_x\"].notnull()]\n",
    "df_test = df_test[df_test[\"TltDose\"].notnull()]\n",
    "df_test = df_test[df_test[\"TxFracs\"].notnull()]\n",
    "df_test.shape\n",
    "df_clf=df_test"
   ]
  },
  {
   "cell_type": "code",
   "execution_count": null,
   "metadata": {
    "hidden": true
   },
   "outputs": [],
   "source": [
    "df_clf.isnull().sum()"
   ]
  },
  {
   "cell_type": "code",
   "execution_count": null,
   "metadata": {
    "hidden": true
   },
   "outputs": [],
   "source": [
    "# reorganise the classes\n",
    "# 0-1, class 0; 2-5, class 1, >5, class 2\n",
    "'''df_clf.loc[df_clf[target_y] <=1, 'WaitTimeGroup'] = 0\n",
    "df_clf.loc[(df_clf[target_y] <=4)&(df_clf[target_y]>=2), 'WaitTimeGroup'] = 1\n",
    "df_clf.loc[df_clf[target_y]>=5, 'WaitTimeGroup'] = 2\n",
    "df_clf = df_clf.drop(columns=[target_y])\n",
    "'''"
   ]
  },
  {
   "cell_type": "code",
   "execution_count": null,
   "metadata": {
    "hidden": true
   },
   "outputs": [],
   "source": [
    "df_clf.head()"
   ]
  },
  {
   "cell_type": "code",
   "execution_count": null,
   "metadata": {
    "hidden": true
   },
   "outputs": [],
   "source": [
    "# train-test split\n",
    "#df_train, df_test = model_selection.train_test_split(df_clf, test_size=0.3)\n",
    "## print info\n",
    "#print(\"X_train shape:\", df_train.drop('WaitTimeGroup',axis=1).shape, \"| X_test shape:\", df_test.drop('WaitTimeGroup',axis=1).shape)\n",
    "#print(\"y_train mean:\", round(np.mean(df_train['WaitTimeGroup']),2), \"| y_test mean:\", round(np.mean(df_test['WaitTimeGroup']),2))\n",
    "#print(df_train.shape[1], \"features:\", df_train.drop('WaitTimeGroup',axis=1).columns.to_list())"
   ]
  },
  {
   "cell_type": "code",
   "execution_count": null,
   "metadata": {
    "hidden": true
   },
   "outputs": [],
   "source": [
    "#plt.hist(df_train['TltDose']);\n"
   ]
  },
  {
   "cell_type": "markdown",
   "metadata": {
    "heading_collapsed": true
   },
   "source": [
    "### Trying simple mean method ... Not good"
   ]
  },
  {
   "cell_type": "code",
   "execution_count": null,
   "metadata": {
    "hidden": true
   },
   "outputs": [],
   "source": [
    "df_mean = dtf\n",
    "df_mean.head()"
   ]
  },
  {
   "cell_type": "code",
   "execution_count": null,
   "metadata": {
    "hidden": true
   },
   "outputs": [],
   "source": [
    "df_mean['SiteGroup'].unique()"
   ]
  },
  {
   "cell_type": "code",
   "execution_count": null,
   "metadata": {
    "hidden": true
   },
   "outputs": [],
   "source": [
    "# train-test split\n",
    "df_train, df_test = model_selection.train_test_split(df_mean, test_size=0.3)\n",
    "## print info\n",
    "print(\"X_train shape:\", df_train.shape, \"| X_test shape:\", df_test.shape)\n",
    "print(\"y_train mean:\", round(np.mean(df_train['Y']),2), \"| y_test mean:\", round(np.mean(df_test['Y']),2))\n",
    "print(df_train.shape[1], \"features:\", df_train.drop('Y',axis=1).columns.to_list())"
   ]
  },
  {
   "cell_type": "code",
   "execution_count": null,
   "metadata": {
    "hidden": true
   },
   "outputs": [],
   "source": [
    "df_train.head()"
   ]
  },
  {
   "cell_type": "code",
   "execution_count": null,
   "metadata": {
    "hidden": true
   },
   "outputs": [],
   "source": [
    "df_test.head()"
   ]
  },
  {
   "cell_type": "code",
   "execution_count": null,
   "metadata": {
    "hidden": true
   },
   "outputs": [],
   "source": [
    "mean_train = df_train.groupby(by=['SiteGroup','Category_x'])['Y'].median().reset_index()\n",
    "#mean_train = mean_train[['Sitegroup_y','Category_x',]]\n",
    "mean_train.head()"
   ]
  },
  {
   "cell_type": "code",
   "execution_count": null,
   "metadata": {
    "hidden": true
   },
   "outputs": [],
   "source": [
    "#from collections import defaultdict\n",
    "#dict_train = defaultdict(dict)\n",
    "dict_train = mean_train.set_index(['SiteGroup','Category_x']).to_dict()\n",
    "#dict_train"
   ]
  },
  {
   "cell_type": "code",
   "execution_count": null,
   "metadata": {
    "hidden": true
   },
   "outputs": [],
   "source": [
    "dict_train['Y']"
   ]
  },
  {
   "cell_type": "code",
   "execution_count": null,
   "metadata": {
    "hidden": true
   },
   "outputs": [],
   "source": [
    "dict_train['Y'].update({(\"PAEDIATRIC\",\"Urgent\"):0})"
   ]
  },
  {
   "cell_type": "code",
   "execution_count": null,
   "metadata": {
    "hidden": true,
    "scrolled": false
   },
   "outputs": [],
   "source": [
    "new_list=[]\n",
    "for index, row in df_test.iterrows():\n",
    "    #print(row['Sitegroup_y'],row['Category_x'])\n",
    "    value = dict_train['Y'][(row['SiteGroup'],row['Category_x'])]\n",
    "    new_list.append(int(value))\n",
    "#new_list   "
   ]
  },
  {
   "cell_type": "code",
   "execution_count": null,
   "metadata": {
    "hidden": true
   },
   "outputs": [],
   "source": [
    "df_test['pred']=new_list\n",
    "df_test.head()"
   ]
  },
  {
   "cell_type": "code",
   "execution_count": null,
   "metadata": {
    "hidden": true
   },
   "outputs": [],
   "source": [
    "# accuracy?\n",
    "from sklearn.metrics import accuracy_score\n",
    "#dtree_model.score(df_test[target_y], df_test['pred'])\n",
    "accuracy_score(df_test['Y'], df_test['pred'])"
   ]
  },
  {
   "cell_type": "markdown",
   "metadata": {
    "heading_collapsed": true
   },
   "source": [
    "### dummy"
   ]
  },
  {
   "cell_type": "code",
   "execution_count": null,
   "metadata": {
    "hidden": true
   },
   "outputs": [],
   "source": [
    "## create dummy BEFORE train-test-split\n",
    "dummy = pd.get_dummies(df_clf[[\"Sitegroup_y\",\"Category_x\"]], prefix=['Site','Categ']) #, drop_first=True)\n",
    "dummy.columns\n"
   ]
  },
  {
   "cell_type": "code",
   "execution_count": null,
   "metadata": {
    "hidden": true
   },
   "outputs": [],
   "source": [
    "df_ml = pd.concat([df_clf, dummy], axis=1)\n",
    "#print( df_clf.filter(like=\"Sitegroup_y\",axis=1).head() )\n",
    "\n",
    "## drop the original categorical column\n",
    "df_ml = df_ml.drop(['Sitegroup_y','Category_x'], axis=1)\n",
    "df_ml.head()\n"
   ]
  },
  {
   "cell_type": "code",
   "execution_count": null,
   "metadata": {
    "hidden": true
   },
   "outputs": [],
   "source": [
    "# train-test split\n",
    "#df_train, df_test = model_selection.train_test_split(df_clf, test_size=0.3)\n",
    "## print info\n",
    "#print(\"X_train shape:\", df_train.drop(\"WaitTimeGroup\",axis=1).shape, \"| X_test shape:\", df_test.drop(\"WaitTimeGroup\",axis=1).shape)\n",
    "#print(\"y_train mean:\", round(np.mean(df_train[\"WaitTimeGroup\"]),2), \"| y_test mean:\", round(np.mean(df_test[\"WaitTimeGroup\"]),2))\n",
    "#print(df_train.shape[1], \"features:\", df_train.drop(\"WaitTimeGroup\",axis=1).columns.to_list())"
   ]
  },
  {
   "cell_type": "markdown",
   "metadata": {
    "heading_collapsed": true,
    "hidden": true
   },
   "source": [
    "#### Feature selection"
   ]
  },
  {
   "cell_type": "code",
   "execution_count": null,
   "metadata": {
    "hidden": true
   },
   "outputs": [],
   "source": [
    "dic_cols = {col:utils_recognize_type(df_ml, col, max_cat=20) for col in df_ml.columns}\n",
    "heatmap = df_ml.isnull()\n",
    "for k,v in dic_cols.items():\n",
    " if v == \"num\":\n",
    "   heatmap[k] = heatmap[k].apply(lambda x: 0.5 if x is False else 1)\n",
    " else:\n",
    "   heatmap[k] = heatmap[k].apply(lambda x: 0 if x is False else 1)\n",
    "sns.heatmap(heatmap, cbar=False).set_title('Dataset Overview')\n",
    "plt.show()\n",
    "print(\"\\033[1;37;40m Categerocial \", \"\\033[1;30;41m Numeric \", \"\\033[1;30;47m NaN \")"
   ]
  },
  {
   "cell_type": "code",
   "execution_count": null,
   "metadata": {
    "hidden": true
   },
   "outputs": [],
   "source": [
    "### random forest to select features\n",
    "Y='PlanDur2'\n",
    "X_train = df_train.drop(Y, axis=1).values\n",
    "y_train = df_train[Y].values\n",
    "\n",
    "X_test = df_test.drop(Y, axis=1).values\n",
    "y_test = df_test[Y].values\n",
    "feature_names = df_train.drop(Y, axis=1).columns.tolist()\n",
    "## Importance\n",
    "model = ensemble.RandomForestClassifier(n_estimators=100,\n",
    "                      criterion=\"entropy\", random_state=0)\n",
    "model.fit(X_train,y_train)\n",
    "importances = model.feature_importances_\n",
    "## Put in a pandas dtf\n",
    "dtf_importances = pd.DataFrame({\"IMPORTANCE\":importances, \n",
    "            \"VARIABLE\":feature_names}).sort_values(\"IMPORTANCE\", \n",
    "            ascending=False)\n",
    "dtf_importances['cumsum'] = dtf_importances['IMPORTANCE'].cumsum(axis=0)\n",
    "dtf_importances = dtf_importances.set_index(\"VARIABLE\")\n",
    "    \n",
    "## Plot\n",
    "fig, ax = plt.subplots(nrows=1, ncols=2, sharex=False, sharey=False, figsize=(20, 10))\n",
    "fig.suptitle(\"Features Importance\", fontsize=20)\n",
    "ax[0].title.set_text('variables')\n",
    "dtf_importances[[\"IMPORTANCE\"]].sort_values(by=\"IMPORTANCE\").plot(\n",
    "                kind=\"barh\", legend=False, ax=ax[0]).grid(axis=\"x\")\n",
    "ax[0].set(ylabel=\"\")\n",
    "ax[1].title.set_text('cumulative')\n",
    "dtf_importances[[\"cumsum\"]].plot(kind=\"line\", linewidth=4, \n",
    "                                 legend=False, ax=ax[1])\n",
    "ax[1].set(xlabel=\"\", xticks=np.arange(len(dtf_importances)), \n",
    "          xticklabels=dtf_importances.index)\n",
    "plt.xticks(rotation=70)\n",
    "plt.grid(axis='both')\n",
    "plt.show()"
   ]
  },
  {
   "cell_type": "code",
   "execution_count": null,
   "metadata": {
    "hidden": true
   },
   "outputs": [],
   "source": [
    "plt.figure(figsize=[9,5])\n",
    "bins = range(0,30)\n",
    "\n",
    "y = df_train[Y]\n",
    "plt.hist(y, bins = bins, alpha=0.5, edgecolor='black', align='left')\n",
    "\n",
    "plt.xlabel(Y)\n",
    "plt.ylabel('frequency')\n",
    "plt.title('Planning distribution')\n",
    "plt.xticks(fontsize=10)\n",
    "plt.yticks(fontsize=10)\n",
    "\n",
    "plt.show()\n"
   ]
  },
  {
   "cell_type": "code",
   "execution_count": null,
   "metadata": {
    "hidden": true
   },
   "outputs": [],
   "source": [
    "'''### SMOTE to over sample the training data\n",
    "from imblearn.over_sampling import SMOTE\n",
    "from collections import Counter\n",
    "from matplotlib import pyplot\n",
    "\n",
    "oversample = SMOTE()\n",
    "X, y = oversample.fit_resample(X_train, y_train)\n",
    "# summarize distribution\n",
    "counter = Counter(y)\n",
    "for k,v in counter.items():\n",
    "    per = v / len(y) * 100\n",
    "    print('Class=%d, n=%d (%.3f%%)' % (k, v, per))\n",
    "# plot the distribution\n",
    "pyplot.bar(counter.keys(), counter.values())\n",
    "pyplot.show()'''"
   ]
  },
  {
   "cell_type": "code",
   "execution_count": null,
   "metadata": {
    "hidden": true
   },
   "outputs": [],
   "source": [
    "X_train.shape\n"
   ]
  },
  {
   "cell_type": "code",
   "execution_count": null,
   "metadata": {
    "hidden": true
   },
   "outputs": [],
   "source": [
    "y_train.shape"
   ]
  },
  {
   "cell_type": "code",
   "execution_count": null,
   "metadata": {
    "hidden": true
   },
   "outputs": [],
   "source": [
    "'''\n",
    "# use some features\n",
    "X_names = ['TxFracs', 'TltDose', 'Categ_Standard 3','Categ_Urgent 2','Site_CNS', 'Site_GASTROINTESTINAL(GI)',\n",
    "           'Site_BREAST','Site_ENT (HEAD & NECK)','Site_GENITOURINARY(GU)','Site_SARCOMA','Site_LUNG','Site_GYNAE']\n",
    "X_train = df_train[X_names].values\n",
    "y_train = df_train[\"ContourGroup\"].values\n",
    "X_test = df_test[X_names].values\n",
    "y_test = df_test[\"ContourGroup\"].values\n",
    "'''"
   ]
  },
  {
   "cell_type": "markdown",
   "metadata": {},
   "source": [
    "### Regression model"
   ]
  },
  {
   "cell_type": "code",
   "execution_count": null,
   "metadata": {},
   "outputs": [],
   "source": [
    "import numpy as np\n",
    "import matplotlib.pyplot as plt\n",
    "import pandas as pd\n",
    "import seaborn as sns\n",
    "from scipy.stats import spearmanr\n",
    "from statsmodels.graphics.gofplots import qqplot\n",
    "plt.style.use('bmh')\n",
    "from scipy.stats import norm\n",
    "from sklearn.preprocessing import StandardScaler\n",
    "from scipy import stats\n",
    "from sklearn.decomposition import PCA\n",
    "import statsmodels.formula.api as sm\n",
    "from statsmodels.regression.quantile_regression import QuantReg\n",
    "from sklearn.metrics import mean_squared_error, r2_score\n",
    "from sklearn.model_selection import KFold, train_test_split\n",
    "from sklearn.ensemble import GradientBoostingRegressor\n",
    "import warnings\n",
    "warnings.filterwarnings('ignore')\n",
    "pd.set_option('display.float_format', lambda x: '{:.3f}'.format(x)) #Limiting floats output to 3 decimal points"
   ]
  },
  {
   "cell_type": "code",
   "execution_count": null,
   "metadata": {},
   "outputs": [],
   "source": [
    "### Train-test split for regression model\n",
    "df_train, df_test = model_selection.train_test_split(df_plan, test_size=0.3)\n",
    "# print info\n",
    "print(\"X_train shape:\", df_train.drop(\"Y\",axis=1).shape, \"| X_test shape:\", df_test.drop(\"Y\",axis=1).shape)\n",
    "print(\"y_train mean:\", round(np.mean(df_train[\"Y\"]),2), \"| y_test mean:\", round(np.mean(df_test[\"Y\"]),2))\n",
    "print(df_train.shape[1], \"features:\", df_train.drop(\"Y\",axis=1).columns.to_list())"
   ]
  },
  {
   "cell_type": "code",
   "execution_count": null,
   "metadata": {},
   "outputs": [],
   "source": [
    "Y='Y'\n",
    "X_train = df_train.drop(Y, axis=1).values\n",
    "y_train = df_train[Y].values\n",
    "\n",
    "X_test = df_test.drop(Y, axis=1).values\n",
    "y_test = df_test[Y].values\n",
    "feature_names = df_train.drop(Y, axis=1).columns.tolist()"
   ]
  },
  {
   "cell_type": "code",
   "execution_count": null,
   "metadata": {},
   "outputs": [],
   "source": [
    "# Standardise data\n",
    "sc_X = StandardScaler()\n",
    "X_train = sc_X.fit_transform(X_train)\n",
    "X_test = sc_X.transform(X_test)\n",
    "sc_Y = StandardScaler()\n",
    "y_trainS = sc_Y.fit_transform(y_train.reshape(-1,1))\n",
    "y_testS = sc_Y.transform(y_test.reshape(-1,1))"
   ]
  },
  {
   "cell_type": "code",
   "execution_count": null,
   "metadata": {},
   "outputs": [],
   "source": [
    "print(\"mean = \" + str(np.mean(X_train[:,4])))\n",
    "print(\"std = \" + str(np.std(X_train[:,4])))"
   ]
  },
  {
   "cell_type": "code",
   "execution_count": null,
   "metadata": {},
   "outputs": [],
   "source": [
    "df_train.columns"
   ]
  },
  {
   "cell_type": "code",
   "execution_count": null,
   "metadata": {},
   "outputs": [],
   "source": [
    "df_train.shape"
   ]
  },
  {
   "cell_type": "code",
   "execution_count": null,
   "metadata": {},
   "outputs": [],
   "source": [
    "X_train.shape"
   ]
  },
  {
   "cell_type": "code",
   "execution_count": null,
   "metadata": {},
   "outputs": [],
   "source": [
    "pca = PCA(n_components = 5)\n",
    "principalComponents = pca.fit_transform(X_train)\n",
    "principalComponentsTest = pca.transform(X_test)\n",
    "principalDf = pd.DataFrame(data = principalComponents\n",
    "             , columns = ['something1','something2','something3','something4','something5'])\n",
    "principalDftest = pd.DataFrame(data = principalComponentsTest\n",
    "             , columns = [['something1','something2','something3','something4','something5']])\n",
    "\n",
    "# 'Dose', 'Fracs','BREAST','CNS','ENDO','HN','EYE','GI','GU','GYNAE','LEUK','LUNG',\n",
    "#                         'LYM','PAED','SARC','SKIN','Emergency','Standard','Urgent'"
   ]
  },
  {
   "cell_type": "code",
   "execution_count": null,
   "metadata": {},
   "outputs": [],
   "source": [
    "principalDf['PlanDur'] = y_trainS"
   ]
  },
  {
   "cell_type": "code",
   "execution_count": null,
   "metadata": {},
   "outputs": [],
   "source": [
    "principalDf.shape"
   ]
  },
  {
   "cell_type": "markdown",
   "metadata": {
    "heading_collapsed": true
   },
   "source": [
    "#### Quantile regression"
   ]
  },
  {
   "cell_type": "code",
   "execution_count": null,
   "metadata": {
    "hidden": true
   },
   "outputs": [],
   "source": [
    "mod = sm.quantreg('PlanDur ~ something1 + something2 + something3 + something4 + something5'\n",
    "                  , principalDf)\n",
    "res = mod.fit(q=.5)\n",
    "print(res.summary())"
   ]
  },
  {
   "cell_type": "code",
   "execution_count": null,
   "metadata": {
    "hidden": true
   },
   "outputs": [],
   "source": [
    "# evaluation\n",
    "pred = res.predict(principalDftest) # make the predictions by the model\n",
    "y_pred = sc_Y.inverse_transform(pred)"
   ]
  },
  {
   "cell_type": "code",
   "execution_count": null,
   "metadata": {
    "hidden": true
   },
   "outputs": [],
   "source": []
  },
  {
   "cell_type": "markdown",
   "metadata": {
    "heading_collapsed": true
   },
   "source": [
    "#### Gradient Boosting Regression (median)"
   ]
  },
  {
   "cell_type": "code",
   "execution_count": null,
   "metadata": {
    "hidden": true
   },
   "outputs": [],
   "source": [
    "sc_X = StandardScaler()\n",
    "X_train = sc_X.fit_transform(X_train)\n",
    "X_test = sc_X.transform(X_test)"
   ]
  },
  {
   "cell_type": "code",
   "execution_count": null,
   "metadata": {
    "hidden": true
   },
   "outputs": [],
   "source": [
    "GBRmedian = GradientBoostingRegressor(loss='quantile', alpha=0.5,\n",
    "                                n_estimators=250, max_depth=5,\n",
    "                                learning_rate=.1, min_samples_leaf=10,\n",
    "                                min_samples_split=20)\n",
    "GBRmedian.fit(X_train, y_train);"
   ]
  },
  {
   "cell_type": "code",
   "execution_count": null,
   "metadata": {
    "hidden": true
   },
   "outputs": [],
   "source": [
    "# Make the prediction on the Testing sample\n",
    "y_pred = GBRmedian.predict(X_test)\n",
    "y_pred_train = GBRmedian.predict(X_train)"
   ]
  },
  {
   "cell_type": "code",
   "execution_count": null,
   "metadata": {
    "hidden": true
   },
   "outputs": [],
   "source": [
    "print('Model Accuracy on Training sample:')\n",
    "print('RMSLE       = %f' % (mean_squared_error(y_train, y_pred_train)))\n",
    "print('r-squared   = %f' % (r2_score(y_train, y_pred_train)))"
   ]
  },
  {
   "cell_type": "code",
   "execution_count": null,
   "metadata": {
    "hidden": true
   },
   "outputs": [],
   "source": [
    "\n",
    "import seaborn as sns\n",
    "sns.boxplot(x=y_test)"
   ]
  },
  {
   "cell_type": "code",
   "execution_count": null,
   "metadata": {
    "hidden": true
   },
   "outputs": [],
   "source": [
    "# Plot the y_test and the prediction (y_pred)\n",
    "fig = plt.figure(figsize=(15, 5))\n",
    "plt.plot(np.arange(0,len(y_test),1), y_test, 'b.', markersize=10, label='Actual')\n",
    "plt.plot(np.arange(0,len(y_test),1), y_pred, 'r-', label='Prediction', alpha = 0.5)\n",
    "plt.xlabel('Obs')\n",
    "plt.ylabel('PlanDur')\n",
    "#plt.ylim(-10, 20)\n",
    "plt.legend(loc='upper right');"
   ]
  },
  {
   "cell_type": "code",
   "execution_count": null,
   "metadata": {
    "hidden": true
   },
   "outputs": [],
   "source": [
    "DFyy = pd.DataFrame({'y_test':y_test,'y_pred': y_pred})\n",
    "DFyy.sort_values(by=['y_test'],inplace=True)\n",
    "plt.plot(np.arange(0,len(DFyy),1), DFyy['y_pred'])\n",
    "plt.plot(np.arange(0,len(DFyy),1), DFyy['y_test'], alpha=0.5)\n",
    "#plt.ylim(0,500000)\n",
    "plt.ylabel('Red= y_test,  Blue = y_pred')\n",
    "plt.xlabel('Index ')\n",
    "plt.title('Predicted vs. Real');\n",
    "print('Observations sorted by y_test values, i.e. higher index => higher SalePrice value');"
   ]
  },
  {
   "cell_type": "code",
   "execution_count": null,
   "metadata": {
    "hidden": true
   },
   "outputs": [],
   "source": [
    "plt.scatter(y_test, y_pred)\n",
    "plt.ylim(-1, 30)\n",
    "plt.xlim(-1, 30)\n",
    "plt.plot(y_test, y_test, \"r\")\n",
    "plt.xlabel('y_actual')\n",
    "plt.ylabel('y_predicted');"
   ]
  },
  {
   "cell_type": "markdown",
   "metadata": {},
   "source": [
    "### Classification models"
   ]
  },
  {
   "cell_type": "code",
   "execution_count": null,
   "metadata": {},
   "outputs": [],
   "source": [
    "Y=target_y\n",
    "plt.figure(figsize=[9,5])\n",
    "bins = range(0,30)\n",
    "\n",
    "y = df_ml[Y]\n",
    "plt.hist(y, bins = bins, alpha=0.5, edgecolor='black', align='left')\n",
    "\n",
    "plt.xlabel(Y)\n",
    "plt.ylabel('frequency')\n",
    "plt.title('Planning distribution')\n",
    "plt.xticks(fontsize=10)\n",
    "plt.yticks(fontsize=10)\n",
    "\n",
    "plt.show()"
   ]
  },
  {
   "cell_type": "code",
   "execution_count": null,
   "metadata": {},
   "outputs": [],
   "source": [
    "# quantiles\n",
    "np.quantile(df_ml[target_y], [0.25,0.5,0.75])\n"
   ]
  },
  {
   "cell_type": "code",
   "execution_count": null,
   "metadata": {},
   "outputs": [],
   "source": [
    "# reorganise the classes\n",
    "# 0-1, class 0; 2-5, class 1, >5, class 2\n",
    "df_ml.loc[df_ml[target_y] <=1, 'Group'] = 0\n",
    "df_ml.loc[(df_ml[target_y] <=3)&(df_ml[target_y]>=2), 'Group'] = 1\n",
    "df_ml.loc[(df_ml[target_y] <=6)&(df_ml[target_y]>=4), 'Group'] = 2\n",
    "df_ml.loc[df_ml[target_y] >= 7, 'Group']=3\n",
    "\n",
    "df_ml = df_ml.drop(columns=[target_y])\n"
   ]
  },
  {
   "cell_type": "code",
   "execution_count": null,
   "metadata": {},
   "outputs": [],
   "source": [
    "# train-test split\n",
    "Y=\"Group\"\n",
    "df_train, df_test = model_selection.train_test_split(df_ml, test_size=0.3)\n",
    "## print info\n",
    "print(\"X_train shape:\", df_train.drop(Y,axis=1).shape, \"| X_test shape:\", df_test.drop(Y,axis=1).shape)\n",
    "print(\"y_train mean:\", round(np.mean(df_train[Y]),2), \"| y_test mean:\", round(np.mean(df_test[Y]),2))\n",
    "print(df_train.shape[1], \"features:\", df_train.drop(Y,axis=1).columns.to_list())\n"
   ]
  },
  {
   "cell_type": "markdown",
   "metadata": {},
   "source": [
    "#### Decision Tree"
   ]
  },
  {
   "cell_type": "code",
   "execution_count": null,
   "metadata": {},
   "outputs": [],
   "source": [
    "#Y='WaitTimeGroup'\n",
    "X_train = df_train.drop(Y, axis=1).values\n",
    "y_train = df_train[Y].values\n",
    "\n",
    "X_test = df_test.drop(Y, axis=1).values\n",
    "y_test = df_test[Y].values\n",
    "feature_names = df_train.drop(Y, axis=1).columns.tolist()\n"
   ]
  },
  {
   "cell_type": "code",
   "execution_count": null,
   "metadata": {},
   "outputs": [],
   "source": [
    "sc_X = StandardScaler()\n",
    "X_train = sc_X.fit_transform(X_train)\n",
    "X_test = sc_X.transform(X_test)"
   ]
  },
  {
   "cell_type": "code",
   "execution_count": null,
   "metadata": {},
   "outputs": [],
   "source": [
    "df_train['Group'].hist()"
   ]
  },
  {
   "cell_type": "code",
   "execution_count": null,
   "metadata": {},
   "outputs": [],
   "source": [
    "from sklearn import tree\n",
    "from sklearn.tree import DecisionTreeClassifier\n",
    "from sklearn.model_selection import GridSearchCV\n",
    "#mdl_dt = tree.DecisionTreeClassifier(max_depth=6)\n",
    "#mdl_dt = mdl_dt.fit(X, y)\n",
    "\n",
    "param_grid = {'max_depth': np.arange(3, 20),\n",
    "              'max_features': np.arange(1,20),\n",
    "              'min_samples_split': np.arange(2,10)\n",
    "             }\n",
    "GS = GridSearchCV(DecisionTreeClassifier(random_state=1, class_weight='balanced'), param_grid) #class_weight={1:1/360, 2:1/130, 3:1/130}),\n",
    "GS.fit(X_train, y_train)\n",
    "GS.best_params_\n"
   ]
  },
  {
   "cell_type": "code",
   "execution_count": null,
   "metadata": {},
   "outputs": [],
   "source": [
    "from sklearn.metrics import confusion_matrix, classification_report\n",
    "dtree_model = DecisionTreeClassifier(max_depth=GS.best_params_['max_depth'], \n",
    "                                     max_features=GS.best_params_['max_features'],\n",
    "                                    min_samples_split=GS.best_params_['min_samples_split'],\n",
    "                                    class_weight='balanced').fit(X_train, y_train)\n",
    "y_test_pred = dtree_model.predict(X_test)\n",
    "y_pred = sc_Y.inverse_transform(y_test_pred)\n",
    "  \n",
    "# creating a confusion matrix\n",
    "cm = confusion_matrix(y_test, y_test_pred)\n"
   ]
  },
  {
   "cell_type": "code",
   "execution_count": null,
   "metadata": {},
   "outputs": [],
   "source": [
    "print(cm)\n",
    "print(classification_report(y_test, y_test_pred))\n"
   ]
  },
  {
   "cell_type": "code",
   "execution_count": null,
   "metadata": {},
   "outputs": [],
   "source": [
    "dtree_model.score(X_train, y_train) # m\n",
    "ean accuracy"
   ]
  },
  {
   "cell_type": "code",
   "execution_count": null,
   "metadata": {},
   "outputs": [],
   "source": [
    "dtree_model.score(X_test, y_test)\n",
    "# accuracy_score(y_test, y_test_pred)\n"
   ]
  },
  {
   "cell_type": "code",
   "execution_count": null,
   "metadata": {},
   "outputs": [],
   "source": [
    "y_test"
   ]
  },
  {
   "cell_type": "code",
   "execution_count": null,
   "metadata": {},
   "outputs": [],
   "source": [
    "y_test_pred"
   ]
  },
  {
   "cell_type": "code",
   "execution_count": null,
   "metadata": {},
   "outputs": [],
   "source": []
  },
  {
   "cell_type": "code",
   "execution_count": null,
   "metadata": {},
   "outputs": [],
   "source": [
    "instance = pd.read_excel(\"instance_20200109.xlsx\", sheet_name='Sheet2')\n",
    "instance.head()"
   ]
  },
  {
   "cell_type": "code",
   "execution_count": null,
   "metadata": {},
   "outputs": [],
   "source": [
    "ins = instance[['Dosage','Fracs','Sitegroup_y','Category']]"
   ]
  },
  {
   "cell_type": "code",
   "execution_count": null,
   "metadata": {},
   "outputs": [],
   "source": [
    "## create dummy\n",
    "dummy = pd.get_dummies(ins[[\"Sitegroup_y\",\"Category\"]], prefix=['Site','Categ']) #, drop_first=True)\n",
    "dummy.columns"
   ]
  },
  {
   "cell_type": "code",
   "execution_count": null,
   "metadata": {},
   "outputs": [],
   "source": [
    "ins = pd.concat([ins, dummy], axis=1)\n",
    "#print( df_clf.filter(like=\"Sitegroup_y\",axis=1).head() )\n",
    "\n",
    "## drop the original categorical column\n",
    "ins = ins.drop(['Sitegroup_y','Category'], axis=1)\n",
    "ins.head()"
   ]
  },
  {
   "cell_type": "code",
   "execution_count": null,
   "metadata": {},
   "outputs": [],
   "source": [
    "df_test.head()"
   ]
  },
  {
   "cell_type": "code",
   "execution_count": null,
   "metadata": {},
   "outputs": [],
   "source": [
    "ins['Planning']=dtree_model.predict(ins)"
   ]
  },
  {
   "cell_type": "markdown",
   "metadata": {
    "heading_collapsed": true
   },
   "source": [
    "#### other classifiers"
   ]
  },
  {
   "cell_type": "code",
   "execution_count": null,
   "metadata": {
    "hidden": true
   },
   "outputs": [],
   "source": [
    "'''\n",
    "# training a linear SVM classifier\n",
    "from sklearn.svm import SVC\n",
    "svm_model_linear = SVC(kernel = 'linear', C = 1).fit(X_train, y_train)\n",
    "svm_predictions = svm_model_linear.predict(X_test)\n",
    "  \n",
    "# model accuracy for X_test  \n",
    "accuracy = svm_model_linear.score(X_test, y_test)\n",
    "  \n",
    "# creating a confusion matrix\n",
    "cm = confusion_matrix(y_test, svm_predictions)\n",
    "\n",
    "print(accuracy)\n",
    "print(cm)\n",
    "print(classification_report(y_test, svm_predictions))\n",
    "'''"
   ]
  },
  {
   "cell_type": "code",
   "execution_count": null,
   "metadata": {
    "hidden": true
   },
   "outputs": [],
   "source": [
    "'''# training a KNN classifier\n",
    "from sklearn.neighbors import KNeighborsClassifier\n",
    "knn = KNeighborsClassifier(n_neighbors = 7).fit(X_train, y_train)\n",
    "  \n",
    "# accuracy on X_test\n",
    "accuracy = knn.score(X_train, y_train)\n",
    "print(\"Training accuracy:\" , accuracy)\n",
    "  \n",
    "# creating a confusion matrix\n",
    "knn_predictions = knn.predict(X_test) \n",
    "cm = confusion_matrix(y_test, knn_predictions)'''"
   ]
  },
  {
   "cell_type": "code",
   "execution_count": null,
   "metadata": {
    "hidden": true
   },
   "outputs": [],
   "source": [
    "'''test_score = knn.score(X_test, y_test)\n",
    "print(\"testing accuracy:\" , test_score)'''"
   ]
  },
  {
   "cell_type": "code",
   "execution_count": null,
   "metadata": {
    "hidden": true
   },
   "outputs": [],
   "source": [
    "'''print(cm)\n",
    "print(classification_report(y_test, knn_predictions))'''"
   ]
  },
  {
   "cell_type": "code",
   "execution_count": null,
   "metadata": {
    "hidden": true
   },
   "outputs": [],
   "source": [
    "'''# training a Naive Bayes classifier\n",
    "from sklearn.naive_bayes import GaussianNB\n",
    "gnb = GaussianNB().fit(X_train, y_train)\n",
    "gnb_predictions = gnb.predict(X_test)\n",
    "  \n",
    "# accuracy on X_test\n",
    "accuracy = gnb.score(X_test, y_test)\n",
    "print(accuracy)\n",
    "  \n",
    "# creating a confusion matrix\n",
    "cm = confusion_matrix(y_test, gnb_predictions)'''"
   ]
  },
  {
   "cell_type": "markdown",
   "metadata": {},
   "source": [
    "#### random forest"
   ]
  },
  {
   "cell_type": "code",
   "execution_count": null,
   "metadata": {},
   "outputs": [],
   "source": [
    "### Random Forest\n",
    "#Import Random Forest Model\n",
    "from sklearn.ensemble import RandomForestClassifier\n",
    "\n",
    "#Create a Gaussian Classifier\n",
    "clf_rf = RandomForestClassifier(n_estimators=100)\n",
    "\n",
    "#Train the model using the training sets y_pred=clf.predict(X_test)\n",
    "clf_rf.fit(X_train,y_train)\n",
    "\n",
    "y_pred = clf_rf.predict(X_test)\n",
    "\n",
    "#Import scikit-learn metrics module for accuracy calculation\n",
    "from sklearn import metrics\n",
    "# Model Accuracy, how often is the classifier correct?\n",
    "print(\"Accuracy:\", metrics.accuracy_score(y_test, y_pred))"
   ]
  },
  {
   "cell_type": "code",
   "execution_count": null,
   "metadata": {},
   "outputs": [],
   "source": [
    "param_grid = {'max_depth': np.arange(3, 10),\n",
    "              'max_features': np.arange(3,10)\n",
    "              #'min_samples_split': np.arange(2,10)\n",
    "                  }\n",
    "GS = GridSearchCV(DecisionTreeClassifier(random_state=1), param_grid) #class_weight={1:1/360, 2:1/130, 3:1/130}),\n",
    "GS.fit(X_train, y_train)\n",
    "GS.best_params_"
   ]
  },
  {
   "cell_type": "code",
   "execution_count": null,
   "metadata": {},
   "outputs": [],
   "source": [
    "from sklearn.model_selection import RandomizedSearchCV\n",
    "# Number of trees in random forest\n",
    "n_estimators = [int(x) for x in np.linspace(start = 200, stop = 2000, num = 10)]\n",
    "# Number of features to consider at every split\n",
    "max_features = ['auto', 'sqrt']\n",
    "# Maximum number of levels in tree\n",
    "max_depth = [int(x) for x in np.linspace(10, 110, num = 11)]\n",
    "max_depth.append(None)\n",
    "# Minimum number of samples required to split a node\n",
    "min_samples_split = [2, 5, 10]\n",
    "# Minimum number of samples required at each leaf node\n",
    "min_samples_leaf = [1, 2, 4]\n",
    "# Method of selecting samples for training each tree\n",
    "bootstrap = [True, False]\n",
    "# Create the random grid\n",
    "random_grid = {'n_estimators': n_estimators,\n",
    "               'max_features': max_features,\n",
    "               'max_depth': max_depth,\n",
    "               'min_samples_split': min_samples_split,\n",
    "               'min_samples_leaf': min_samples_leaf,\n",
    "               'bootstrap': bootstrap}"
   ]
  },
  {
   "cell_type": "code",
   "execution_count": null,
   "metadata": {},
   "outputs": [],
   "source": [
    "# Use the random grid to search for best hyperparameters\n",
    "# First create the base model to tune\n",
    "rf = RandomForestClassifier()\n",
    "# Random search of parameters, using 3 fold cross validation, \n",
    "# search across 100 different combinations, and use all available cores\n",
    "rf_random = RandomizedSearchCV(estimator = rf, param_distributions = random_grid, n_iter = 100, cv = 3, verbose=2, random_state=42, n_jobs = -1)\n",
    "# Fit the random search model\n",
    "rf_random.fit(X_train, y_train)"
   ]
  },
  {
   "cell_type": "code",
   "execution_count": null,
   "metadata": {},
   "outputs": [],
   "source": [
    "# evaluate random search\n",
    "def evaluate(model, test_features, test_labels):\n",
    "    predictions = model.predict(test_features)\n",
    "    errors = abs(predictions - test_labels)\n",
    "    mape = 100 * np.mean(errors / test_labels)\n",
    "    accuracy = 100 - mape\n",
    "    print('Model Performance')\n",
    "    print('Average Error: {:0.4f} degrees.'.format(np.mean(errors)))\n",
    "    print('Accuracy = {:0.2f}%.'.format(accuracy))\n",
    "    \n",
    "    return accuracy\n",
    "\n",
    "base_model = RandomForestClassifier(n_estimators = 10, random_state = 42)\n",
    "base_model.fit(X_train, y_train)\n",
    "base_accuracy = evaluate(base_model, X_test, y_test)\n",
    "\n",
    "'''Model Performance\n",
    "Average Error: 3.9199 degrees.\n",
    "Accuracy = 93.36%.'''\n",
    "\n"
   ]
  },
  {
   "cell_type": "code",
   "execution_count": null,
   "metadata": {},
   "outputs": [],
   "source": [
    "base_model.score(X_test, y_test)"
   ]
  },
  {
   "cell_type": "code",
   "execution_count": null,
   "metadata": {},
   "outputs": [],
   "source": [
    "rf_random.best_estimator_"
   ]
  },
  {
   "cell_type": "code",
   "execution_count": null,
   "metadata": {},
   "outputs": [],
   "source": [
    "best_random = rf_random.best_estimator_\n",
    "random_accuracy = evaluate(best_random, X_test, y_test)\n",
    "\n",
    "print('Improvement of {:0.2f}%.'.format( 100 * (random_accuracy - base_accuracy) / base_accuracy))"
   ]
  },
  {
   "cell_type": "code",
   "execution_count": null,
   "metadata": {},
   "outputs": [],
   "source": [
    "rf_random.score(X_test, y_test)"
   ]
  },
  {
   "cell_type": "code",
   "execution_count": null,
   "metadata": {},
   "outputs": [],
   "source": [
    "# Create the parameter grid based on the results of random search \n",
    "param_grid = {\n",
    "    'bootstrap': [True],\n",
    "    'max_depth': [60, 80, 100],\n",
    "    'max_features': [2, 3],\n",
    "    'min_samples_leaf': [3, 4, 5],\n",
    "    'min_samples_split': [10, 12, 15],\n",
    "    'n_estimators': [100, 200, 300]\n",
    "}\n",
    "# Create a based model\n",
    "rf = RandomForestClassifier()\n",
    "# Instantiate the grid search model\n",
    "grid_search = GridSearchCV(estimator = rf, param_grid = param_grid, \n",
    "                          cv = 3, n_jobs = -1, verbose = 2)"
   ]
  },
  {
   "cell_type": "code",
   "execution_count": null,
   "metadata": {},
   "outputs": [],
   "source": [
    "# Fit the grid search to the data\n",
    "grid_search.fit(X_train, y_train)\n",
    "grid_search.best_params_\n",
    "\n",
    "best_grid = grid_search.best_estimator_\n",
    "grid_accuracy = evaluate(best_grid, X_test, y_test)\n",
    "\n",
    "print('Improvement of {:0.2f}%.'.format( 100 * (grid_accuracy - base_accuracy) / base_accuracy))\n"
   ]
  },
  {
   "cell_type": "code",
   "execution_count": null,
   "metadata": {},
   "outputs": [],
   "source": [
    "grid_search.best_params_"
   ]
  },
  {
   "cell_type": "code",
   "execution_count": null,
   "metadata": {},
   "outputs": [],
   "source": [
    "grid_search.score(X_test, y_test)"
   ]
  },
  {
   "cell_type": "code",
   "execution_count": null,
   "metadata": {},
   "outputs": [],
   "source": [
    "y_rf_pred=grid_search.predict(X_test)\n",
    "cm_rf = confusion_matrix(y_test, y_rf_pred)"
   ]
  },
  {
   "cell_type": "code",
   "execution_count": null,
   "metadata": {},
   "outputs": [],
   "source": [
    "print(cm_rf)\n",
    "print(classification_report(y_test, y_rf_pred))"
   ]
  },
  {
   "cell_type": "markdown",
   "metadata": {
    "heading_collapsed": true
   },
   "source": [
    "#### Planning wait"
   ]
  },
  {
   "cell_type": "code",
   "execution_count": null,
   "metadata": {
    "hidden": true
   },
   "outputs": [],
   "source": [
    "preTxDur.columns"
   ]
  },
  {
   "cell_type": "code",
   "execution_count": null,
   "metadata": {
    "hidden": true
   },
   "outputs": [],
   "source": [
    "#remove outliers\n",
    "preTxDur[preTxDur['Tx-TxBook']>-20]['Tx-TxBook'].hist()"
   ]
  },
  {
   "cell_type": "code",
   "execution_count": null,
   "metadata": {
    "hidden": true
   },
   "outputs": [],
   "source": [
    "plt.figure(figsize=[9,5])\n",
    "bins = range(0,10)\n",
    "\n",
    "x = preTxDur[preTxDur['PlanningWait']>-20].PlanningWait\n",
    "y = df_exceed[df_exceed['PlanningWait']>-20].PlanningWait\n",
    "plt.hist(x, bins = bins, alpha=0.5, edgecolor='black', label='all', align='left')\n",
    "plt.hist(y, bins = bins, alpha=0.5, edgecolor='black', label='exceed', align='left')\n",
    "\n",
    "\n",
    "plt.legend(loc='upper right')\n",
    "\n",
    "plt.xlabel('time')\n",
    "plt.ylabel('Number of treatments')\n",
    "plt.title('Planning wait time frm contouring')\n",
    "plt.xticks(fontsize=10)\n",
    "plt.yticks(fontsize=10)\n",
    "\n",
    "plt.show()"
   ]
  },
  {
   "cell_type": "markdown",
   "metadata": {},
   "source": [
    "#### Seems the treatments are often pre-booked"
   ]
  },
  {
   "cell_type": "code",
   "execution_count": null,
   "metadata": {},
   "outputs": [],
   "source": [
    "preTxDur[(preTxDur['WT Tx Frm Created']>-20)&(preTxDur['WT Tx Frm Created']<50)]['WT Tx Frm Created'].hist()\n"
   ]
  },
  {
   "cell_type": "code",
   "execution_count": null,
   "metadata": {},
   "outputs": [],
   "source": []
  }
 ],
 "metadata": {
  "kernelspec": {
   "display_name": "Python 3",
   "language": "python",
   "name": "python3"
  },
  "language_info": {
   "codemirror_mode": {
    "name": "ipython",
    "version": 3
   },
   "file_extension": ".py",
   "mimetype": "text/x-python",
   "name": "python",
   "nbconvert_exporter": "python",
   "pygments_lexer": "ipython3",
   "version": "3.8.3"
  }
 },
 "nbformat": 4,
 "nbformat_minor": 4
}
